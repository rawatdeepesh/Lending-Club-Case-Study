{
 "cells": [
  {
   "cell_type": "code",
   "execution_count": 479,
   "id": "34b0f0df",
   "metadata": {},
   "outputs": [],
   "source": [
    "# import the libararies needed for the case study\n",
    "import pandas as pd # pandas library helps in data analysis and manipulation\n",
    "import numpy as np # numpy library provides functions for mathematical operations and large, multi-dimensional arrays and matrices\n",
    "import seaborn as sns # library for data visualization more advanced than matplotlib\n",
    "import warnings # library shows warning messages\n",
    "warnings.simplefilter(\"ignore\") # to ignore any warning messages during the execution of the code\n",
    "import matplotlib.pyplot as plt # library for data visualization\n"
   ]
  },
  {
   "cell_type": "markdown",
   "id": "6e22d7ca",
   "metadata": {},
   "source": [
    "# understand the data"
   ]
  },
  {
   "cell_type": "code",
   "execution_count": 480,
   "id": "15a9d002",
   "metadata": {},
   "outputs": [],
   "source": [
    "# create a dataframe from the csv file\n",
    "\n",
    "df = pd.read_csv('loan.csv')"
   ]
  },
  {
   "cell_type": "code",
   "execution_count": 481,
   "id": "9d92ea94",
   "metadata": {},
   "outputs": [
    {
     "data": {
      "text/html": [
       "<div>\n",
       "<style scoped>\n",
       "    .dataframe tbody tr th:only-of-type {\n",
       "        vertical-align: middle;\n",
       "    }\n",
       "\n",
       "    .dataframe tbody tr th {\n",
       "        vertical-align: top;\n",
       "    }\n",
       "\n",
       "    .dataframe thead th {\n",
       "        text-align: right;\n",
       "    }\n",
       "</style>\n",
       "<table border=\"1\" class=\"dataframe\">\n",
       "  <thead>\n",
       "    <tr style=\"text-align: right;\">\n",
       "      <th></th>\n",
       "      <th>id</th>\n",
       "      <th>member_id</th>\n",
       "      <th>loan_amnt</th>\n",
       "      <th>funded_amnt</th>\n",
       "      <th>funded_amnt_inv</th>\n",
       "      <th>term</th>\n",
       "      <th>int_rate</th>\n",
       "      <th>installment</th>\n",
       "      <th>grade</th>\n",
       "      <th>sub_grade</th>\n",
       "      <th>...</th>\n",
       "      <th>num_tl_90g_dpd_24m</th>\n",
       "      <th>num_tl_op_past_12m</th>\n",
       "      <th>pct_tl_nvr_dlq</th>\n",
       "      <th>percent_bc_gt_75</th>\n",
       "      <th>pub_rec_bankruptcies</th>\n",
       "      <th>tax_liens</th>\n",
       "      <th>tot_hi_cred_lim</th>\n",
       "      <th>total_bal_ex_mort</th>\n",
       "      <th>total_bc_limit</th>\n",
       "      <th>total_il_high_credit_limit</th>\n",
       "    </tr>\n",
       "  </thead>\n",
       "  <tbody>\n",
       "    <tr>\n",
       "      <th>0</th>\n",
       "      <td>1077501</td>\n",
       "      <td>1296599</td>\n",
       "      <td>5000</td>\n",
       "      <td>5000</td>\n",
       "      <td>4975.0</td>\n",
       "      <td>36 months</td>\n",
       "      <td>10.65%</td>\n",
       "      <td>162.87</td>\n",
       "      <td>B</td>\n",
       "      <td>B2</td>\n",
       "      <td>...</td>\n",
       "      <td>NaN</td>\n",
       "      <td>NaN</td>\n",
       "      <td>NaN</td>\n",
       "      <td>NaN</td>\n",
       "      <td>0.0</td>\n",
       "      <td>0.0</td>\n",
       "      <td>NaN</td>\n",
       "      <td>NaN</td>\n",
       "      <td>NaN</td>\n",
       "      <td>NaN</td>\n",
       "    </tr>\n",
       "    <tr>\n",
       "      <th>1</th>\n",
       "      <td>1077430</td>\n",
       "      <td>1314167</td>\n",
       "      <td>2500</td>\n",
       "      <td>2500</td>\n",
       "      <td>2500.0</td>\n",
       "      <td>60 months</td>\n",
       "      <td>15.27%</td>\n",
       "      <td>59.83</td>\n",
       "      <td>C</td>\n",
       "      <td>C4</td>\n",
       "      <td>...</td>\n",
       "      <td>NaN</td>\n",
       "      <td>NaN</td>\n",
       "      <td>NaN</td>\n",
       "      <td>NaN</td>\n",
       "      <td>0.0</td>\n",
       "      <td>0.0</td>\n",
       "      <td>NaN</td>\n",
       "      <td>NaN</td>\n",
       "      <td>NaN</td>\n",
       "      <td>NaN</td>\n",
       "    </tr>\n",
       "    <tr>\n",
       "      <th>2</th>\n",
       "      <td>1077175</td>\n",
       "      <td>1313524</td>\n",
       "      <td>2400</td>\n",
       "      <td>2400</td>\n",
       "      <td>2400.0</td>\n",
       "      <td>36 months</td>\n",
       "      <td>15.96%</td>\n",
       "      <td>84.33</td>\n",
       "      <td>C</td>\n",
       "      <td>C5</td>\n",
       "      <td>...</td>\n",
       "      <td>NaN</td>\n",
       "      <td>NaN</td>\n",
       "      <td>NaN</td>\n",
       "      <td>NaN</td>\n",
       "      <td>0.0</td>\n",
       "      <td>0.0</td>\n",
       "      <td>NaN</td>\n",
       "      <td>NaN</td>\n",
       "      <td>NaN</td>\n",
       "      <td>NaN</td>\n",
       "    </tr>\n",
       "    <tr>\n",
       "      <th>3</th>\n",
       "      <td>1076863</td>\n",
       "      <td>1277178</td>\n",
       "      <td>10000</td>\n",
       "      <td>10000</td>\n",
       "      <td>10000.0</td>\n",
       "      <td>36 months</td>\n",
       "      <td>13.49%</td>\n",
       "      <td>339.31</td>\n",
       "      <td>C</td>\n",
       "      <td>C1</td>\n",
       "      <td>...</td>\n",
       "      <td>NaN</td>\n",
       "      <td>NaN</td>\n",
       "      <td>NaN</td>\n",
       "      <td>NaN</td>\n",
       "      <td>0.0</td>\n",
       "      <td>0.0</td>\n",
       "      <td>NaN</td>\n",
       "      <td>NaN</td>\n",
       "      <td>NaN</td>\n",
       "      <td>NaN</td>\n",
       "    </tr>\n",
       "    <tr>\n",
       "      <th>4</th>\n",
       "      <td>1075358</td>\n",
       "      <td>1311748</td>\n",
       "      <td>3000</td>\n",
       "      <td>3000</td>\n",
       "      <td>3000.0</td>\n",
       "      <td>60 months</td>\n",
       "      <td>12.69%</td>\n",
       "      <td>67.79</td>\n",
       "      <td>B</td>\n",
       "      <td>B5</td>\n",
       "      <td>...</td>\n",
       "      <td>NaN</td>\n",
       "      <td>NaN</td>\n",
       "      <td>NaN</td>\n",
       "      <td>NaN</td>\n",
       "      <td>0.0</td>\n",
       "      <td>0.0</td>\n",
       "      <td>NaN</td>\n",
       "      <td>NaN</td>\n",
       "      <td>NaN</td>\n",
       "      <td>NaN</td>\n",
       "    </tr>\n",
       "  </tbody>\n",
       "</table>\n",
       "<p>5 rows × 111 columns</p>\n",
       "</div>"
      ],
      "text/plain": [
       "        id  member_id  loan_amnt  funded_amnt  funded_amnt_inv        term  \\\n",
       "0  1077501    1296599       5000         5000           4975.0   36 months   \n",
       "1  1077430    1314167       2500         2500           2500.0   60 months   \n",
       "2  1077175    1313524       2400         2400           2400.0   36 months   \n",
       "3  1076863    1277178      10000        10000          10000.0   36 months   \n",
       "4  1075358    1311748       3000         3000           3000.0   60 months   \n",
       "\n",
       "  int_rate  installment grade sub_grade  ... num_tl_90g_dpd_24m  \\\n",
       "0   10.65%       162.87     B        B2  ...                NaN   \n",
       "1   15.27%        59.83     C        C4  ...                NaN   \n",
       "2   15.96%        84.33     C        C5  ...                NaN   \n",
       "3   13.49%       339.31     C        C1  ...                NaN   \n",
       "4   12.69%        67.79     B        B5  ...                NaN   \n",
       "\n",
       "  num_tl_op_past_12m pct_tl_nvr_dlq  percent_bc_gt_75 pub_rec_bankruptcies  \\\n",
       "0                NaN            NaN               NaN                  0.0   \n",
       "1                NaN            NaN               NaN                  0.0   \n",
       "2                NaN            NaN               NaN                  0.0   \n",
       "3                NaN            NaN               NaN                  0.0   \n",
       "4                NaN            NaN               NaN                  0.0   \n",
       "\n",
       "  tax_liens tot_hi_cred_lim total_bal_ex_mort total_bc_limit  \\\n",
       "0       0.0             NaN               NaN            NaN   \n",
       "1       0.0             NaN               NaN            NaN   \n",
       "2       0.0             NaN               NaN            NaN   \n",
       "3       0.0             NaN               NaN            NaN   \n",
       "4       0.0             NaN               NaN            NaN   \n",
       "\n",
       "  total_il_high_credit_limit  \n",
       "0                        NaN  \n",
       "1                        NaN  \n",
       "2                        NaN  \n",
       "3                        NaN  \n",
       "4                        NaN  \n",
       "\n",
       "[5 rows x 111 columns]"
      ]
     },
     "execution_count": 481,
     "metadata": {},
     "output_type": "execute_result"
    }
   ],
   "source": [
    "# check the top 5 rows of the dataframe\n",
    "df.head()"
   ]
  },
  {
   "cell_type": "code",
   "execution_count": 482,
   "id": "877a1680",
   "metadata": {},
   "outputs": [
    {
     "data": {
      "text/plain": [
       "4408587"
      ]
     },
     "execution_count": 482,
     "metadata": {},
     "output_type": "execute_result"
    }
   ],
   "source": [
    "# check the dataframe size\n",
    "\n",
    "df.size"
   ]
  },
  {
   "cell_type": "code",
   "execution_count": 483,
   "id": "4098d58a",
   "metadata": {},
   "outputs": [
    {
     "data": {
      "text/plain": [
       "(39717, 111)"
      ]
     },
     "execution_count": 483,
     "metadata": {},
     "output_type": "execute_result"
    }
   ],
   "source": [
    "# check the dataframe shape - no or rows and columns\n",
    "\n",
    "df.shape"
   ]
  },
  {
   "cell_type": "code",
   "execution_count": 362,
   "id": "c710ef83",
   "metadata": {},
   "outputs": [
    {
     "data": {
      "text/plain": [
       "id                              int64\n",
       "member_id                       int64\n",
       "loan_amnt                       int64\n",
       "funded_amnt                     int64\n",
       "funded_amnt_inv               float64\n",
       "                               ...   \n",
       "tax_liens                     float64\n",
       "tot_hi_cred_lim               float64\n",
       "total_bal_ex_mort             float64\n",
       "total_bc_limit                float64\n",
       "total_il_high_credit_limit    float64\n",
       "Length: 111, dtype: object"
      ]
     },
     "execution_count": 362,
     "metadata": {},
     "output_type": "execute_result"
    }
   ],
   "source": [
    "# check the dataframe column datatypes\n",
    "\n",
    "df.dtypes"
   ]
  },
  {
   "cell_type": "code",
   "execution_count": 484,
   "id": "8eb4f835",
   "metadata": {},
   "outputs": [
    {
     "name": "stdout",
     "output_type": "stream",
     "text": [
      "<class 'pandas.core.frame.DataFrame'>\n",
      "RangeIndex: 39717 entries, 0 to 39716\n",
      "Columns: 111 entries, id to total_il_high_credit_limit\n",
      "dtypes: float64(74), int64(13), object(24)\n",
      "memory usage: 33.6+ MB\n"
     ]
    }
   ],
   "source": [
    "# check the dataframe information like no of columns, count of column datatypes,size of the dataframe\n",
    "\n",
    "df.info()"
   ]
  },
  {
   "cell_type": "markdown",
   "id": "f3dc7d99",
   "metadata": {},
   "source": [
    "# Understanding the columns"
   ]
  },
  {
   "cell_type": "code",
   "execution_count": 485,
   "id": "cda59eb0",
   "metadata": {},
   "outputs": [
    {
     "name": "stdout",
     "output_type": "stream",
     "text": [
      "id 39717\n",
      "member_id 39717\n",
      "loan_amnt 885\n",
      "funded_amnt 1041\n",
      "funded_amnt_inv 8205\n",
      "term 2\n",
      "int_rate 371\n",
      "installment 15383\n",
      "grade 7\n",
      "sub_grade 35\n",
      "emp_title 28820\n",
      "emp_length 11\n",
      "home_ownership 5\n",
      "annual_inc 5318\n",
      "verification_status 3\n",
      "issue_d 55\n",
      "loan_status 3\n",
      "pymnt_plan 1\n",
      "url 39717\n",
      "desc 26527\n",
      "purpose 14\n",
      "title 19615\n",
      "zip_code 823\n",
      "addr_state 50\n",
      "dti 2868\n",
      "delinq_2yrs 11\n",
      "earliest_cr_line 526\n",
      "inq_last_6mths 9\n",
      "mths_since_last_delinq 95\n",
      "mths_since_last_record 111\n",
      "open_acc 40\n",
      "pub_rec 5\n",
      "revol_bal 21711\n",
      "revol_util 1089\n",
      "total_acc 82\n",
      "initial_list_status 1\n",
      "out_prncp 1137\n",
      "out_prncp_inv 1138\n",
      "total_pymnt 37850\n",
      "total_pymnt_inv 37518\n",
      "total_rec_prncp 7976\n",
      "total_rec_int 35148\n",
      "total_rec_late_fee 1356\n",
      "recoveries 4040\n",
      "collection_recovery_fee 2616\n",
      "last_pymnt_d 101\n",
      "last_pymnt_amnt 34930\n",
      "next_pymnt_d 2\n",
      "last_credit_pull_d 106\n",
      "collections_12_mths_ex_med 1\n",
      "mths_since_last_major_derog 0\n",
      "policy_code 1\n",
      "application_type 1\n",
      "annual_inc_joint 0\n",
      "dti_joint 0\n",
      "verification_status_joint 0\n",
      "acc_now_delinq 1\n",
      "tot_coll_amt 0\n",
      "tot_cur_bal 0\n",
      "open_acc_6m 0\n",
      "open_il_6m 0\n",
      "open_il_12m 0\n",
      "open_il_24m 0\n",
      "mths_since_rcnt_il 0\n",
      "total_bal_il 0\n",
      "il_util 0\n",
      "open_rv_12m 0\n",
      "open_rv_24m 0\n",
      "max_bal_bc 0\n",
      "all_util 0\n",
      "total_rev_hi_lim 0\n",
      "inq_fi 0\n",
      "total_cu_tl 0\n",
      "inq_last_12m 0\n",
      "acc_open_past_24mths 0\n",
      "avg_cur_bal 0\n",
      "bc_open_to_buy 0\n",
      "bc_util 0\n",
      "chargeoff_within_12_mths 1\n",
      "delinq_amnt 1\n",
      "mo_sin_old_il_acct 0\n",
      "mo_sin_old_rev_tl_op 0\n",
      "mo_sin_rcnt_rev_tl_op 0\n",
      "mo_sin_rcnt_tl 0\n",
      "mort_acc 0\n",
      "mths_since_recent_bc 0\n",
      "mths_since_recent_bc_dlq 0\n",
      "mths_since_recent_inq 0\n",
      "mths_since_recent_revol_delinq 0\n",
      "num_accts_ever_120_pd 0\n",
      "num_actv_bc_tl 0\n",
      "num_actv_rev_tl 0\n",
      "num_bc_sats 0\n",
      "num_bc_tl 0\n",
      "num_il_tl 0\n",
      "num_op_rev_tl 0\n",
      "num_rev_accts 0\n",
      "num_rev_tl_bal_gt_0 0\n",
      "num_sats 0\n",
      "num_tl_120dpd_2m 0\n",
      "num_tl_30dpd 0\n",
      "num_tl_90g_dpd_24m 0\n",
      "num_tl_op_past_12m 0\n",
      "pct_tl_nvr_dlq 0\n",
      "percent_bc_gt_75 0\n",
      "pub_rec_bankruptcies 3\n",
      "tax_liens 1\n",
      "tot_hi_cred_lim 0\n",
      "total_bal_ex_mort 0\n",
      "total_bc_limit 0\n",
      "total_il_high_credit_limit 0\n"
     ]
    }
   ],
   "source": [
    "# no of unique values in the dataframe\n",
    "for i in df.columns:\n",
    "    print(i,df[i].nunique())\n"
   ]
  },
  {
   "cell_type": "code",
   "execution_count": 486,
   "id": "5f8ff684",
   "metadata": {},
   "outputs": [
    {
     "name": "stdout",
     "output_type": "stream",
     "text": [
      "id 0\n",
      "member_id 0\n",
      "loan_amnt 0\n",
      "funded_amnt 0\n",
      "funded_amnt_inv 0\n",
      "term 0\n",
      "int_rate 0\n",
      "installment 0\n",
      "grade 0\n",
      "sub_grade 0\n",
      "emp_title 2459\n",
      "emp_length 1075\n",
      "home_ownership 0\n",
      "annual_inc 0\n",
      "verification_status 0\n",
      "issue_d 0\n",
      "loan_status 0\n",
      "pymnt_plan 0\n",
      "url 0\n",
      "desc 12940\n",
      "purpose 0\n",
      "title 11\n",
      "zip_code 0\n",
      "addr_state 0\n",
      "dti 0\n",
      "delinq_2yrs 0\n",
      "earliest_cr_line 0\n",
      "inq_last_6mths 0\n",
      "mths_since_last_delinq 25682\n",
      "mths_since_last_record 36931\n",
      "open_acc 0\n",
      "pub_rec 0\n",
      "revol_bal 0\n",
      "revol_util 50\n",
      "total_acc 0\n",
      "initial_list_status 0\n",
      "out_prncp 0\n",
      "out_prncp_inv 0\n",
      "total_pymnt 0\n",
      "total_pymnt_inv 0\n",
      "total_rec_prncp 0\n",
      "total_rec_int 0\n",
      "total_rec_late_fee 0\n",
      "recoveries 0\n",
      "collection_recovery_fee 0\n",
      "last_pymnt_d 71\n",
      "last_pymnt_amnt 0\n",
      "next_pymnt_d 38577\n",
      "last_credit_pull_d 2\n",
      "collections_12_mths_ex_med 56\n",
      "mths_since_last_major_derog 39717\n",
      "policy_code 0\n",
      "application_type 0\n",
      "annual_inc_joint 39717\n",
      "dti_joint 39717\n",
      "verification_status_joint 39717\n",
      "acc_now_delinq 0\n",
      "tot_coll_amt 39717\n",
      "tot_cur_bal 39717\n",
      "open_acc_6m 39717\n",
      "open_il_6m 39717\n",
      "open_il_12m 39717\n",
      "open_il_24m 39717\n",
      "mths_since_rcnt_il 39717\n",
      "total_bal_il 39717\n",
      "il_util 39717\n",
      "open_rv_12m 39717\n",
      "open_rv_24m 39717\n",
      "max_bal_bc 39717\n",
      "all_util 39717\n",
      "total_rev_hi_lim 39717\n",
      "inq_fi 39717\n",
      "total_cu_tl 39717\n",
      "inq_last_12m 39717\n",
      "acc_open_past_24mths 39717\n",
      "avg_cur_bal 39717\n",
      "bc_open_to_buy 39717\n",
      "bc_util 39717\n",
      "chargeoff_within_12_mths 56\n",
      "delinq_amnt 0\n",
      "mo_sin_old_il_acct 39717\n",
      "mo_sin_old_rev_tl_op 39717\n",
      "mo_sin_rcnt_rev_tl_op 39717\n",
      "mo_sin_rcnt_tl 39717\n",
      "mort_acc 39717\n",
      "mths_since_recent_bc 39717\n",
      "mths_since_recent_bc_dlq 39717\n",
      "mths_since_recent_inq 39717\n",
      "mths_since_recent_revol_delinq 39717\n",
      "num_accts_ever_120_pd 39717\n",
      "num_actv_bc_tl 39717\n",
      "num_actv_rev_tl 39717\n",
      "num_bc_sats 39717\n",
      "num_bc_tl 39717\n",
      "num_il_tl 39717\n",
      "num_op_rev_tl 39717\n",
      "num_rev_accts 39717\n",
      "num_rev_tl_bal_gt_0 39717\n",
      "num_sats 39717\n",
      "num_tl_120dpd_2m 39717\n",
      "num_tl_30dpd 39717\n",
      "num_tl_90g_dpd_24m 39717\n",
      "num_tl_op_past_12m 39717\n",
      "pct_tl_nvr_dlq 39717\n",
      "percent_bc_gt_75 39717\n",
      "pub_rec_bankruptcies 697\n",
      "tax_liens 39\n",
      "tot_hi_cred_lim 39717\n",
      "total_bal_ex_mort 39717\n",
      "total_bc_limit 39717\n",
      "total_il_high_credit_limit 39717\n"
     ]
    }
   ],
   "source": [
    "# no of null values in the dataframe\n",
    "for i in df.columns:\n",
    "    print(i,df[i].isnull().sum())"
   ]
  },
  {
   "cell_type": "markdown",
   "id": "31a4ff15",
   "metadata": {},
   "source": [
    "# Cleaning up the data"
   ]
  },
  {
   "cell_type": "code",
   "execution_count": 487,
   "id": "ed85c13c",
   "metadata": {
    "scrolled": false
   },
   "outputs": [
    {
     "name": "stdout",
     "output_type": "stream",
     "text": [
      "mths_since_last_major_derog\n",
      "annual_inc_joint\n",
      "dti_joint\n",
      "verification_status_joint\n",
      "tot_coll_amt\n",
      "tot_cur_bal\n",
      "open_acc_6m\n",
      "open_il_6m\n",
      "open_il_12m\n",
      "open_il_24m\n",
      "mths_since_rcnt_il\n",
      "total_bal_il\n",
      "il_util\n",
      "open_rv_12m\n",
      "open_rv_24m\n",
      "max_bal_bc\n",
      "all_util\n",
      "total_rev_hi_lim\n",
      "inq_fi\n",
      "total_cu_tl\n",
      "inq_last_12m\n",
      "acc_open_past_24mths\n",
      "avg_cur_bal\n",
      "bc_open_to_buy\n",
      "bc_util\n",
      "mo_sin_old_il_acct\n",
      "mo_sin_old_rev_tl_op\n",
      "mo_sin_rcnt_rev_tl_op\n",
      "mo_sin_rcnt_tl\n",
      "mort_acc\n",
      "mths_since_recent_bc\n",
      "mths_since_recent_bc_dlq\n",
      "mths_since_recent_inq\n",
      "mths_since_recent_revol_delinq\n",
      "num_accts_ever_120_pd\n",
      "num_actv_bc_tl\n",
      "num_actv_rev_tl\n",
      "num_bc_sats\n",
      "num_bc_tl\n",
      "num_il_tl\n",
      "num_op_rev_tl\n",
      "num_rev_accts\n",
      "num_rev_tl_bal_gt_0\n",
      "num_sats\n",
      "num_tl_120dpd_2m\n",
      "num_tl_30dpd\n",
      "num_tl_90g_dpd_24m\n",
      "num_tl_op_past_12m\n",
      "pct_tl_nvr_dlq\n",
      "percent_bc_gt_75\n",
      "tot_hi_cred_lim\n",
      "total_bal_ex_mort\n",
      "total_bc_limit\n",
      "total_il_high_credit_limit\n",
      "['mths_since_last_major_derog', 'annual_inc_joint', 'dti_joint', 'verification_status_joint', 'tot_coll_amt', 'tot_cur_bal', 'open_acc_6m', 'open_il_6m', 'open_il_12m', 'open_il_24m', 'mths_since_rcnt_il', 'total_bal_il', 'il_util', 'open_rv_12m', 'open_rv_24m', 'max_bal_bc', 'all_util', 'total_rev_hi_lim', 'inq_fi', 'total_cu_tl', 'inq_last_12m', 'acc_open_past_24mths', 'avg_cur_bal', 'bc_open_to_buy', 'bc_util', 'mo_sin_old_il_acct', 'mo_sin_old_rev_tl_op', 'mo_sin_rcnt_rev_tl_op', 'mo_sin_rcnt_tl', 'mort_acc', 'mths_since_recent_bc', 'mths_since_recent_bc_dlq', 'mths_since_recent_inq', 'mths_since_recent_revol_delinq', 'num_accts_ever_120_pd', 'num_actv_bc_tl', 'num_actv_rev_tl', 'num_bc_sats', 'num_bc_tl', 'num_il_tl', 'num_op_rev_tl', 'num_rev_accts', 'num_rev_tl_bal_gt_0', 'num_sats', 'num_tl_120dpd_2m', 'num_tl_30dpd', 'num_tl_90g_dpd_24m', 'num_tl_op_past_12m', 'pct_tl_nvr_dlq', 'percent_bc_gt_75', 'tot_hi_cred_lim', 'total_bal_ex_mort', 'total_bc_limit', 'total_il_high_credit_limit']\n"
     ]
    }
   ],
   "source": [
    "# check for the columns where no of nulls is the same as that of the total no of rows of the df.\n",
    "all_null_columns=[]\n",
    "for i in df.columns:\n",
    "    if(df[i].isnull().sum()/df.shape[0]==1):\n",
    "        print(i)\n",
    "        all_null_columns.append(i)\n",
    "print(all_null_columns)"
   ]
  },
  {
   "cell_type": "code",
   "execution_count": 488,
   "id": "bf8c7180",
   "metadata": {},
   "outputs": [],
   "source": [
    "# remove the columns from the dataframe that has nulls\n",
    "\n",
    "df.drop(all_null_columns,axis=1,inplace=True)"
   ]
  },
  {
   "cell_type": "code",
   "execution_count": 489,
   "id": "0fc840bd",
   "metadata": {},
   "outputs": [
    {
     "data": {
      "text/plain": [
       "(39717, 57)"
      ]
     },
     "execution_count": 489,
     "metadata": {},
     "output_type": "execute_result"
    }
   ],
   "source": [
    "# check the new shape of the dataframe\n",
    "df.shape"
   ]
  },
  {
   "cell_type": "code",
   "execution_count": 490,
   "id": "d057ff84",
   "metadata": {},
   "outputs": [
    {
     "name": "stdout",
     "output_type": "stream",
     "text": [
      "mths_since_last_delinq\n",
      "mths_since_last_record\n",
      "next_pymnt_d\n",
      "['mths_since_last_delinq', 'mths_since_last_record', 'next_pymnt_d']\n"
     ]
    }
   ],
   "source": [
    "# no of null values in the dataframe that has more than 50% values that are missing\n",
    "\n",
    "m50_null_columns=[]\n",
    "for i in df.columns:\n",
    "    if(df[i].isnull().sum()/df.shape[0]*100>50):\n",
    "        print(i)\n",
    "        m50_null_columns.append(i)\n",
    "print(m50_null_columns)"
   ]
  },
  {
   "cell_type": "code",
   "execution_count": 491,
   "id": "954fe4f4",
   "metadata": {},
   "outputs": [],
   "source": [
    "# drop the columns having more than 50% missing values\n",
    "df.drop(m50_null_columns,axis=1,inplace=True)"
   ]
  },
  {
   "cell_type": "code",
   "execution_count": 492,
   "id": "b487e806",
   "metadata": {},
   "outputs": [
    {
     "data": {
      "text/plain": [
       "(39717, 54)"
      ]
     },
     "execution_count": 492,
     "metadata": {},
     "output_type": "execute_result"
    }
   ],
   "source": [
    "# check the new shape of the dataframe\n",
    "df.shape"
   ]
  },
  {
   "cell_type": "code",
   "execution_count": 493,
   "id": "5a91fd2b",
   "metadata": {},
   "outputs": [
    {
     "data": {
      "text/plain": [
       "['delinq_2yrs',\n",
       " 'earliest_cr_line',\n",
       " 'inq_last_6mths',\n",
       " 'open_acc',\n",
       " 'pub_rec',\n",
       " 'revol_bal',\n",
       " 'revol_util',\n",
       " 'total_acc',\n",
       " 'out_prncp',\n",
       " 'out_prncp_inv',\n",
       " 'total_pymnt',\n",
       " 'total_pymnt_inv',\n",
       " 'total_rec_prncp',\n",
       " 'total_rec_int',\n",
       " 'total_rec_late_fee',\n",
       " 'recoveries',\n",
       " 'collection_recovery_fee',\n",
       " 'last_pymnt_d',\n",
       " 'last_pymnt_amnt',\n",
       " 'last_credit_pull_d',\n",
       " 'application_type']"
      ]
     },
     "execution_count": 493,
     "metadata": {},
     "output_type": "execute_result"
    }
   ],
   "source": [
    "# below are the behavioural columns\n",
    "behavioural_columns = ['delinq_2yrs','earliest_cr_line','inq_last_6mths','open_acc','pub_rec','revol_bal','revol_util','total_acc','out_prncp','out_prncp_inv','total_pymnt','total_pymnt_inv','total_rec_prncp','total_rec_int','total_rec_late_fee','recoveries','collection_recovery_fee','last_pymnt_d','last_pymnt_amnt','last_credit_pull_d','application_type']\n",
    "behavioural_columns"
   ]
  },
  {
   "cell_type": "code",
   "execution_count": 494,
   "id": "b863aaaa",
   "metadata": {},
   "outputs": [],
   "source": [
    "# drop the behavioural_columns\n",
    "df.drop(behavioural_columns,axis=1,inplace=True)"
   ]
  },
  {
   "cell_type": "code",
   "execution_count": 495,
   "id": "731f64a5",
   "metadata": {},
   "outputs": [
    {
     "data": {
      "text/plain": [
       "(39717, 33)"
      ]
     },
     "execution_count": 495,
     "metadata": {},
     "output_type": "execute_result"
    }
   ],
   "source": [
    "# get the new shape of the df\n",
    "df.shape"
   ]
  },
  {
   "cell_type": "code",
   "execution_count": 496,
   "id": "779eee44",
   "metadata": {},
   "outputs": [
    {
     "name": "stdout",
     "output_type": "stream",
     "text": [
      "id\n",
      "member_id\n",
      "url\n",
      "['id', 'member_id', 'url']\n"
     ]
    }
   ],
   "source": [
    "# get the list of columns where no of unique values is equal to no of rows in the df\n",
    "unique_rows_columns=[]\n",
    "for i in df.columns:\n",
    "    if df[i].nunique()==df.shape[0]:\n",
    "        print(i)\n",
    "        unique_rows_columns.append(i)\n",
    "print(unique_rows_columns)"
   ]
  },
  {
   "cell_type": "code",
   "execution_count": 497,
   "id": "b2cfa67d",
   "metadata": {},
   "outputs": [],
   "source": [
    "# drop the columns with unique no of rows equal to the no of rows in df as this doesnot provide any insights\n",
    "df.drop(unique_rows_columns,axis=1,inplace=True)"
   ]
  },
  {
   "cell_type": "code",
   "execution_count": 498,
   "id": "9dc7680f",
   "metadata": {},
   "outputs": [
    {
     "data": {
      "text/plain": [
       "(39717, 30)"
      ]
     },
     "execution_count": 498,
     "metadata": {},
     "output_type": "execute_result"
    }
   ],
   "source": [
    "# get the shape of the df - no of rows and columns\n",
    "df.shape"
   ]
  },
  {
   "cell_type": "code",
   "execution_count": 499,
   "id": "7bd7d248",
   "metadata": {},
   "outputs": [
    {
     "name": "stdout",
     "output_type": "stream",
     "text": [
      "loan_amnt\n",
      "[ 5000  2500  2400 10000  3000  7000  5600  5375  6500 12000  9000  1000\n",
      "  3600  6000  9200 20250 21000 15000  4000  8500  4375 31825 12400 10800\n",
      " 12500  9600  4400 14000 11000 25600 16000  7100 13000 17500 17675  8000\n",
      "  3500 16425  8200 20975  6400 14400  7250 18000 35000 11800  4500 10500\n",
      " 15300 20000  6200  7200  9500 18825 24000  2100  5500 26800 25000 19750\n",
      " 13650 28000 10625  8850  6375 11100  4200  8875 13500 21600  8450 13475\n",
      " 22000  7325  7750 13350 22475  8400 13250  7350 11500 29500  2000 11625\n",
      " 15075  5300  8650  7400 24250 26000  1500 19600  4225 16500 15600 14125\n",
      " 13200 12300  1400  3200 11875  1800 23200  4800  7300 10400  6600 30000\n",
      "  4475  6300  8250  9875 21500  7800  9750 15550 17000  7500  5800  8050\n",
      "  5400  4125  9800 15700  9900  6250 10200 23000 25975 21250 33425  8125\n",
      " 18800 19200 12875  2625 11300  4100 18225 18500 16800  2200 14050 16100\n",
      " 10525 19775 14500 11700  4150 12375  1700 22250 11200 22500 15900  3150\n",
      " 18550  8575  7700 24500 22200 21400  9400 22400  5825  7650 20675 27050\n",
      " 20500 12800 27575  7600 29000  9575 14575  7125 10700 10375  3050 27000\n",
      " 28625 14100 20050 24925 13600 26400  7150 32000 15500 17475  2250 17050\n",
      "  3250 22750  1200  5900 12600  6750 17250 19075 17200 13225 11775 16400\n",
      " 10075  9350  8075 15625 20125  8300  2425  6950  5350  5875  9450 19000\n",
      " 20400 21650 20300  2300 24575  5850  4750  5275  9175 34475 10050 19400\n",
      " 18200  8800 34000 19500  5200 11900 29100 25850  3300 12200 22575  7175\n",
      " 18250 16750 12950  6350 14750  6625  6900 18650  9250 22800 27300 12250\n",
      "  4350 21200  2700  6025  3825  5325 14150  1600  2800 18975  2575  5450\n",
      "  3800  2125 14650 11250 31000  6075  8475  3625 31300  4250 12650 27600\n",
      " 13150  4300 10275 23600  7875 14550  9925 15850  1325  6325 29700 15200\n",
      " 28100 15250  6800 11325 13975 13800  3100  3975 25450  3575 33600 23700\n",
      " 28200  6475 27700 17375 15800 17625 16675  5250 22950  1950  4650 10250\n",
      "  6100  8325  4850  9425 12700 25475 14850 14300 33000  5150 21625  3775\n",
      " 21575 16250  8375 18725 11125  3525 19800  9300 19125  5575  1450 12900\n",
      " 10150 20450 23500 16600  1300  6925 14675 11550 17400  1100  3400 12775\n",
      "  5050 12100 26375  6975 26300  3125 23325 11600  5100 10175 18400 30750\n",
      " 16550  5650 16450 18950  3650 33950 10125 16775  5700 20200 10600  3725\n",
      " 19425 25900 23800  4025  2600  8900 10900 17600 14825  7925 14950  6700\n",
      "  8600  1925 30500  4900 15575  3175 14800 32275  5750 14600 25200  6550\n",
      " 30400 22900  6850  4600 11425 16950 29850 10675  6650 10775 17325 27250\n",
      "  3700  6450 20800 13575 29275  4725 24800 15750 17100 15875 10925  4950\n",
      " 10575  2850 32875 21100 11050 20375  9325  9375  7475 22125 27525 25500\n",
      " 17750  8675  7450 24625 17900 12075  6725 24400  5225 14075 17175  9475\n",
      "  9975 20900 12150 17725 15350  4925  4550 18750 15125 10950 12475  2750\n",
      "  4625 12175  7575 23525 12350 17950  9525  8975 11975 12850 19850 21850\n",
      "  4425 32250  2550 11400 21725 23100 13700  9950 21750 13750 12025 23400\n",
      " 14975 19700 27500  3900 14725 17800  5175 15025 29550 23850 31500  9100\n",
      " 27400 23675  9825 16200 11650 18875 29175  3950  2050 19950 12750 24375\n",
      "  2875 25875 16275 10300 17450  3450  1825 13100 23275  8700  3675  8150\n",
      " 23975  3350  7075  8625 31800 26200 34675 11025  7850 14175  9150 19925\n",
      " 14275 25400 17825 16875 21800 14475 14225 10225 10650 12725 31400  1550\n",
      " 31700 31200  1875 16300 12550 11725 22600 26500  6225  4450  3875 13275\n",
      " 34525 31025  6775 19450  2900  2450 27200 21300  4700  7425 19575 31150\n",
      " 19100 30100 24600 32350  1900 29300  2350 15950 13300  2975 28250  8100\n",
      " 28600  6425  4050 23450 32400 13675 21350  9050  2675  5025  5950 12625\n",
      " 29800  1750 10825 24700 13125  6125 26850 28800  7275  6825 14775 10975\n",
      " 20950  3850 28500 31325 11750 15825  7525  3550  7950 13400  3375  1250\n",
      " 29600 22350  1850 17850 17875  7550  6175 30800 21125 30225  3750 10025\n",
      " 14350  7775 33500 18900  8025  5125 13775  3075 29900 11525  5550  5975\n",
      " 32500 22100 25300 14700  3325  5075  5625 27175 11575 16325 24200 15050\n",
      "  5425 17700 12450 19725 19550  3025 22875 23075 15450 10750  4325  3275\n",
      "  8175 20700  1775  4775  8225  4575 15775 19475 14200 21225 17225 12425\n",
      "  7900 14525  2650  8275 13325 30600  6275  4075  1625  1275 13075 23750\n",
      " 24650 14250  8825  5775  8350 19150  9725 18575  8725 16050 26250 16075\n",
      "  6150  8750 11075 10875 16350  2275  3925 11375  4275 18325  9650  2725\n",
      " 10425  6575  2075 13175  9550 12675 15425 18300 18600  5525 10550 22325\n",
      " 15175 12225 12525 28750 15650 11450 23350  1525 31725 13625 32775 20600\n",
      "  8550 15975  9775 13425  1050  2950 12925 29375 12325  9075  1350 21700\n",
      " 15400  4975 11275  7725  9225  2325 13725  8775 19250 14900 34800 17300\n",
      "  9700  2150 10100 10350  2825 17975  1650 15275  7975  2925  2525  2225\n",
      "  5725 23425  4875  2475  3425 16700  2775 13050 34200  5925 26025 16225\n",
      "  9275 11350 21450 10850  7225  1425  5475 19300  7050 24175 12050  1225\n",
      " 13850 32525 17075  1375  1675 18275  9125 33250 16525 11850 22300  2375\n",
      "  7675  8525 31050  4525  7025 14625 13375  4675 25375 24975 12825 18150\n",
      " 18050  9850 14875 17425 16725 13550  9625 15150 19875  1475 22650 17150\n",
      "  6875  7375  5675  7625  6525  3225  6675  1075 15675 17275 11475 12975\n",
      " 15325  1125  8950 11675 12275  3475 21425 18125 23050 11175 10450 21825\n",
      " 10475 20150 24750 13900  4175 24100 17925 24150 19975 19900 13950 12125\n",
      " 11225 23475 19650 13450 10725  1150 20475 17525   500   725 23575   700\n",
      "   950 19275   900   750 17350   800 10325 13025 22550]\n",
      "10000    2833\n",
      "12000    2334\n",
      "5000     2051\n",
      "6000     1908\n",
      "15000    1895\n",
      "         ... \n",
      "22875       1\n",
      "8175        1\n",
      "19475       1\n",
      "21225       1\n",
      "22550       1\n",
      "Name: loan_amnt, Length: 885, dtype: int64\n",
      "funded_amnt\n",
      "[ 5000  2500  2400 ...   800 13875 22350]\n",
      "10000    2741\n",
      "12000    2244\n",
      "5000     2040\n",
      "6000     1898\n",
      "15000    1784\n",
      "         ... \n",
      "26250       1\n",
      "24725       1\n",
      "31750       1\n",
      "22625       1\n",
      "22350       1\n",
      "Name: funded_amnt, Length: 1041, dtype: int64\n",
      "funded_amnt_inv\n",
      "[4975. 2500. 2400. ...  200.   75.  150.]\n",
      "5000.000000     1309\n",
      "10000.000000    1275\n",
      "6000.000000     1200\n",
      "12000.000000    1069\n",
      "8000.000000      900\n",
      "                ... \n",
      "4944.213109        1\n",
      "18400.281660       1\n",
      "14659.820000       1\n",
      "6294.151315        1\n",
      "11808.924370       1\n",
      "Name: funded_amnt_inv, Length: 8205, dtype: int64\n",
      "term\n",
      "[' 36 months' ' 60 months']\n",
      " 36 months    29096\n",
      " 60 months    10621\n",
      "Name: term, dtype: int64\n",
      "int_rate\n",
      "['10.65%' '15.27%' '15.96%' '13.49%' '12.69%' '7.90%' '18.64%' '21.28%'\n",
      " '14.65%' '9.91%' '16.29%' '6.03%' '11.71%' '12.42%' '14.27%' '16.77%'\n",
      " '7.51%' '8.90%' '18.25%' '6.62%' '19.91%' '17.27%' '17.58%' '21.67%'\n",
      " '19.42%' '22.06%' '20.89%' '20.30%' '23.91%' '19.03%' '23.52%' '23.13%'\n",
      " '22.74%' '22.35%' '24.11%' '6.00%' '22.11%' '7.49%' '11.99%' '5.99%'\n",
      " '10.99%' '9.99%' '18.79%' '11.49%' '8.49%' '15.99%' '16.49%' '6.99%'\n",
      " '12.99%' '15.23%' '14.79%' '5.42%' '10.59%' '17.49%' '15.62%' '21.36%'\n",
      " '19.29%' '13.99%' '18.39%' '16.89%' '17.99%' '20.62%' '20.99%' '22.85%'\n",
      " '19.69%' '20.25%' '23.22%' '21.74%' '22.48%' '23.59%' '12.62%' '18.07%'\n",
      " '11.63%' '7.91%' '7.42%' '11.14%' '20.20%' '12.12%' '19.39%' '16.11%'\n",
      " '17.54%' '22.64%' '13.84%' '16.59%' '17.19%' '12.87%' '20.69%' '9.67%'\n",
      " '21.82%' '19.79%' '18.49%' '22.94%' '24.59%' '24.40%' '21.48%' '14.82%'\n",
      " '14.17%' '7.29%' '17.88%' '20.11%' '16.02%' '17.51%' '13.43%' '14.91%'\n",
      " '13.06%' '15.28%' '15.65%' '17.14%' '11.11%' '10.37%' '16.40%' '7.66%'\n",
      " '10.00%' '18.62%' '10.74%' '5.79%' '6.92%' '9.63%' '14.54%' '12.68%'\n",
      " '19.36%' '13.80%' '18.99%' '21.59%' '20.85%' '21.22%' '19.74%' '20.48%'\n",
      " '6.91%' '12.23%' '12.61%' '10.36%' '6.17%' '6.54%' '9.25%' '16.69%'\n",
      " '15.95%' '8.88%' '13.35%' '9.62%' '16.32%' '12.98%' '14.83%' '13.72%'\n",
      " '14.09%' '14.46%' '20.03%' '17.80%' '15.20%' '15.57%' '18.54%' '19.66%'\n",
      " '17.06%' '18.17%' '17.43%' '20.40%' '20.77%' '18.91%' '21.14%' '17.44%'\n",
      " '13.23%' '7.88%' '11.12%' '13.61%' '10.38%' '17.56%' '17.93%' '15.58%'\n",
      " '13.98%' '14.84%' '15.21%' '6.76%' '6.39%' '11.86%' '7.14%' '14.35%'\n",
      " '16.82%' '10.75%' '14.72%' '16.45%' '18.67%' '20.53%' '19.41%' '20.16%'\n",
      " '21.27%' '18.30%' '19.04%' '20.90%' '21.64%' '12.73%' '10.25%' '13.11%'\n",
      " '10.62%' '13.48%' '14.59%' '16.07%' '15.70%' '9.88%' '11.36%' '15.33%'\n",
      " '13.85%' '14.96%' '14.22%' '7.74%' '13.22%' '13.57%' '8.59%' '17.04%'\n",
      " '14.61%' '8.94%' '12.18%' '11.83%' '11.48%' '16.35%' '13.92%' '15.31%'\n",
      " '14.26%' '19.13%' '12.53%' '16.70%' '16.00%' '17.39%' '18.09%' '7.40%'\n",
      " '18.43%' '17.74%' '7.05%' '20.52%' '20.86%' '19.47%' '18.78%' '21.21%'\n",
      " '19.82%' '20.17%' '13.16%' '8.00%' '13.47%' '12.21%' '16.63%' '9.32%'\n",
      " '12.84%' '11.26%' '15.68%' '15.37%' '10.95%' '11.89%' '14.11%' '13.79%'\n",
      " '7.68%' '11.58%' '7.37%' '16.95%' '15.05%' '18.53%' '14.74%' '14.42%'\n",
      " '18.21%' '17.26%' '18.84%' '17.90%' '19.16%' '13.67%' '9.38%' '12.72%'\n",
      " '13.36%' '11.46%' '10.51%' '9.07%' '13.04%' '11.78%' '12.41%' '10.83%'\n",
      " '12.09%' '17.46%' '14.30%' '17.15%' '15.25%' '10.20%' '15.88%' '14.93%'\n",
      " '16.20%' '18.72%' '14.62%' '8.32%' '14.12%' '10.96%' '10.33%' '10.01%'\n",
      " '12.86%' '11.28%' '11.59%' '8.63%' '12.54%' '12.22%' '11.91%' '15.38%'\n",
      " '16.96%' '13.17%' '9.70%' '16.33%' '14.75%' '15.07%' '16.01%' '10.71%'\n",
      " '10.64%' '9.76%' '11.34%' '10.39%' '13.87%' '11.03%' '11.66%' '13.24%'\n",
      " '10.08%' '9.45%' '13.55%' '12.29%' '11.97%' '12.92%' '15.45%' '14.50%'\n",
      " '14.18%' '15.13%' '16.08%' '15.76%' '17.03%' '17.34%' '16.71%' '9.83%'\n",
      " '13.62%' '10.46%' '9.51%' '9.20%' '13.30%' '10.78%' '7.75%' '8.38%'\n",
      " '12.36%' '12.67%' '11.72%' '13.93%' '8.07%' '7.43%' '12.04%' '14.25%'\n",
      " '14.88%' '11.41%' '11.09%' '10.14%' '16.15%' '15.83%' '7.12%' '18.36%'\n",
      " '9.64%' '9.96%' '11.22%' '9.01%' '9.33%' '11.54%' '12.17%' '12.80%'\n",
      " '14.38%' '13.75%' '14.70%' '12.49%' '14.07%' '10.91%' '13.12%' '10.28%'\n",
      " '8.70%' '14.67%' '15.01%']\n",
      "10.99%    956\n",
      "13.49%    826\n",
      "11.49%    825\n",
      "7.51%     787\n",
      "7.88%     725\n",
      "         ... \n",
      "18.36%      1\n",
      "16.96%      1\n",
      "16.15%      1\n",
      "16.01%      1\n",
      "17.44%      1\n",
      "Name: int_rate, Length: 371, dtype: int64\n",
      "installment\n",
      "[162.87  59.83  84.33 ...  78.42 275.38 255.43]\n",
      "311.11     68\n",
      "180.96     59\n",
      "311.02     54\n",
      "150.80     48\n",
      "368.45     46\n",
      "           ..\n",
      "1224.46     1\n",
      "63.44       1\n",
      "157.67      1\n",
      "492.34      1\n",
      "255.43      1\n",
      "Name: installment, Length: 15383, dtype: int64\n",
      "grade\n",
      "['B' 'C' 'A' 'E' 'F' 'D' 'G']\n",
      "B    12020\n",
      "A    10085\n",
      "C     8098\n",
      "D     5307\n",
      "E     2842\n",
      "F     1049\n",
      "G      316\n",
      "Name: grade, dtype: int64\n",
      "sub_grade\n",
      "['B2' 'C4' 'C5' 'C1' 'B5' 'A4' 'E1' 'F2' 'C3' 'B1' 'D1' 'A1' 'B3' 'B4'\n",
      " 'C2' 'D2' 'A3' 'A5' 'D5' 'A2' 'E4' 'D3' 'D4' 'F3' 'E3' 'F4' 'F1' 'E5'\n",
      " 'G4' 'E2' 'G3' 'G2' 'G1' 'F5' 'G5']\n",
      "B3    2917\n",
      "A4    2886\n",
      "A5    2742\n",
      "B5    2704\n",
      "B4    2512\n",
      "C1    2136\n",
      "B2    2057\n",
      "C2    2011\n",
      "B1    1830\n",
      "A3    1810\n",
      "C3    1529\n",
      "A2    1508\n",
      "D2    1348\n",
      "C4    1236\n",
      "C5    1186\n",
      "D3    1173\n",
      "A1    1139\n",
      "D4     981\n",
      "D1     931\n",
      "D5     874\n",
      "E1     763\n",
      "E2     656\n",
      "E3     553\n",
      "E4     454\n",
      "E5     416\n",
      "F1     329\n",
      "F2     249\n",
      "F3     185\n",
      "F4     168\n",
      "F5     118\n",
      "G1     104\n",
      "G2      78\n",
      "G4      56\n",
      "G3      48\n",
      "G5      30\n",
      "Name: sub_grade, dtype: int64\n",
      "emp_title\n",
      "[nan 'Ryder' 'AIR RESOURCES BOARD' ... 'FiSite Research'\n",
      " 'Squarewave Solutions, Ltd.' 'Evergreen Center']\n",
      "US Army                              134\n",
      "Bank of America                      109\n",
      "IBM                                   66\n",
      "AT&T                                  59\n",
      "Kaiser Permanente                     56\n",
      "                                    ... \n",
      "Community College of Philadelphia      1\n",
      "AMEC                                   1\n",
      "lee county sheriff                     1\n",
      "Bacon County Board of Education        1\n",
      "Evergreen Center                       1\n",
      "Name: emp_title, Length: 28820, dtype: int64\n",
      "emp_length\n",
      "['10+ years' '< 1 year' '1 year' '3 years' '8 years' '9 years' '4 years'\n",
      " '5 years' '6 years' '2 years' '7 years' nan]\n",
      "10+ years    8879\n",
      "< 1 year     4583\n",
      "2 years      4388\n",
      "3 years      4095\n",
      "4 years      3436\n",
      "5 years      3282\n",
      "1 year       3240\n",
      "6 years      2229\n",
      "7 years      1773\n",
      "8 years      1479\n",
      "9 years      1258\n",
      "Name: emp_length, dtype: int64\n",
      "home_ownership\n",
      "['RENT' 'OWN' 'MORTGAGE' 'OTHER' 'NONE']\n",
      "RENT        18899\n",
      "MORTGAGE    17659\n",
      "OWN          3058\n",
      "OTHER          98\n",
      "NONE            3\n",
      "Name: home_ownership, dtype: int64\n",
      "annual_inc\n",
      "[24000. 30000. 12252. ... 33990. 36153. 27376.]\n",
      "60000.0    1505\n",
      "50000.0    1057\n",
      "40000.0     876\n",
      "45000.0     830\n",
      "30000.0     825\n",
      "           ... \n",
      "56820.0       1\n",
      "45314.0       1\n",
      "53913.0       1\n",
      "62880.0       1\n",
      "27376.0       1\n",
      "Name: annual_inc, Length: 5318, dtype: int64\n",
      "verification_status\n",
      "['Verified' 'Source Verified' 'Not Verified']\n",
      "Not Verified       16921\n",
      "Verified           12809\n",
      "Source Verified     9987\n",
      "Name: verification_status, dtype: int64\n",
      "issue_d\n",
      "['Dec-11' 'Nov-11' 'Oct-11' 'Sep-11' 'Aug-11' 'Jul-11' 'Jun-11' 'May-11'\n",
      " 'Apr-11' 'Mar-11' 'Feb-11' 'Jan-11' 'Dec-10' 'Nov-10' 'Oct-10' 'Sep-10'\n",
      " 'Aug-10' 'Jul-10' 'Jun-10' 'May-10' 'Apr-10' 'Mar-10' 'Feb-10' 'Jan-10'\n",
      " 'Dec-09' 'Nov-09' 'Oct-09' 'Sep-09' 'Aug-09' 'Jul-09' 'Jun-09' 'May-09'\n",
      " 'Apr-09' 'Mar-09' 'Feb-09' 'Jan-09' 'Dec-08' 'Nov-08' 'Oct-08' 'Sep-08'\n",
      " 'Aug-08' 'Jul-08' 'Jun-08' 'May-08' 'Apr-08' 'Mar-08' 'Feb-08' 'Jan-08'\n",
      " 'Dec-07' 'Nov-07' 'Oct-07' 'Sep-07' 'Aug-07' 'Jul-07' 'Jun-07']\n",
      "Dec-11    2260\n",
      "Nov-11    2223\n",
      "Oct-11    2114\n",
      "Sep-11    2063\n",
      "Aug-11    1928\n",
      "Jul-11    1870\n",
      "Jun-11    1827\n",
      "May-11    1689\n",
      "Apr-11    1562\n",
      "Mar-11    1443\n",
      "Jan-11    1380\n",
      "Feb-11    1297\n",
      "Dec-10    1267\n",
      "Oct-10    1132\n",
      "Nov-10    1121\n",
      "Jul-10    1119\n",
      "Sep-10    1086\n",
      "Aug-10    1078\n",
      "Jun-10    1029\n",
      "May-10     920\n",
      "Apr-10     827\n",
      "Mar-10     737\n",
      "Feb-10     627\n",
      "Nov-09     602\n",
      "Dec-09     598\n",
      "Jan-10     589\n",
      "Oct-09     545\n",
      "Sep-09     449\n",
      "Aug-09     408\n",
      "Jul-09     374\n",
      "Jun-09     356\n",
      "May-09     319\n",
      "Apr-09     290\n",
      "Mar-09     276\n",
      "Feb-09     260\n",
      "Jan-09     239\n",
      "Mar-08     236\n",
      "Dec-08     223\n",
      "Nov-08     184\n",
      "Feb-08     174\n",
      "Jan-08     171\n",
      "Apr-08     155\n",
      "Oct-08      96\n",
      "Dec-07      85\n",
      "Jul-08      83\n",
      "May-08      71\n",
      "Aug-08      71\n",
      "Jun-08      66\n",
      "Oct-07      47\n",
      "Nov-07      37\n",
      "Aug-07      33\n",
      "Sep-08      32\n",
      "Jul-07      30\n",
      "Sep-07      18\n",
      "Jun-07       1\n",
      "Name: issue_d, dtype: int64\n",
      "loan_status\n",
      "['Fully Paid' 'Charged Off' 'Current']\n",
      "Fully Paid     32950\n",
      "Charged Off     5627\n",
      "Current         1140\n",
      "Name: loan_status, dtype: int64\n",
      "pymnt_plan\n",
      "['n']\n",
      "n    39717\n",
      "Name: pymnt_plan, dtype: int64\n",
      "desc\n",
      "['  Borrower added on 12/22/11 > I need to upgrade my business technologies.<br>'\n",
      " '  Borrower added on 12/22/11 > I plan to use this money to finance the motorcycle i am looking at. I plan to have it paid off as soon as possible/when i sell my old bike. I only need this money because the deal im looking at is to good to pass up.<br><br>  Borrower added on 12/22/11 > I plan to use this money to finance the motorcycle i am looking at. I plan to have it paid off as soon as possible/when i sell my old bike.I only need this money because the deal im looking at is to good to pass up. I have finished college with an associates degree in business and its takingmeplaces<br>'\n",
      " nan ...\n",
      " 'Our current gutter system on our home is old and in need of repair.    We will be using the borrowed funds to replace the gutter system on our home.'\n",
      " 'The rate of interest and fees incurred by carrying a balance on my credit card are so outrageous at this point that continuing to pay them is patently bad financial thinking.  I wish to redirect my efforts at retiring my debt via another more-reasonable means.    I have sufficient funds to direct to this end on a monthly basis, and have simply gotten tired of their being gobbled up by interest and fees.'\n",
      " 'I plan to consolidate over $7,000 of debt: a combination of credit cards and student loans.']\n",
      "                                                                                                                                                                                                                                                                                                                                                                                                                                                                                                                                                                                                                                                                              210\n",
      "Debt Consolidation                                                                                                                                                                                                                                                                                                                                                                                                                                                                                                                                                                                                                                                              8\n",
      "Camping Membership                                                                                                                                                                                                                                                                                                                                                                                                                                                                                                                                                                                                                                                              6\n",
      "personal loan                                                                                                                                                                                                                                                                                                                                                                                                                                                                                                                                                                                                                                                                   3\n",
      "credit card consolidation                                                                                                                                                                                                                                                                                                                                                                                                                                                                                                                                                                                                                                                       3\n",
      "                                                                                                                                                                                                                                                                                                                                                                                                                                                                                                                                                                                                                                                                             ... \n",
      "  Borrower added on 05/13/11 > I have a very stable income and have &quot;NEVER&quot; been delinquent on any accounts. I am interested in consolidating my credit card accounts along with a personal loan for the benefit of paying one payment a month versus multiple. Thank you.<br/>                                                                                                                                                                                                                                                                                                                                                                                       1\n",
      "  Borrower added on 05/13/11 > This loan is to partially finance a car. The payments will be very manageable for me.<br/>                                                                                                                                                                                                                                                                                                                                                                                                                                                                                                                                                       1\n",
      "  Borrower added on 05/13/11 > I am consolidating my bills to make it cheaper on bills. I am up for a promotion at my job and have been here three years already. I also have a fiance that has a very reliable job who also helps with finances. My requirement is that all bills are paid on time if not early. This is to keep good standings with all businesses and keep a awesome credit score.<br/> Borrower added on 05/16/11 > I am asking for this loan to pay off bills with higher interest rates and have a lower payment every month.<br/>                                                                                                                        1\n",
      "  Borrower added on 05/13/11 > Debt Consolidation<br/> Borrower added on 05/13/11 > I plan to use this money to consolidate bills with high monthly payments and improve cash flow.<br/> Borrower added on 05/13/11 > I have good credit and I have a very stable, solid and professional job that I have held for a long time - over 20 years.  I have a Bachelor's degree and I'm currently working on a masters.<br/> Borrower added on 05/13/11 > My mortgage and utilities run approx less than 2k per month including taxes.  I have sufficient income to pay off this loan. I simply want to take my open accounts and consolidate them into one easy payment.<br/>      1\n",
      "I plan to consolidate over $7,000 of debt: a combination of credit cards and student loans.                                                                                                                                                                                                                                                                                                                                                                                                                                                                                                                                                                                     1\n",
      "Name: desc, Length: 26527, dtype: int64\n",
      "purpose\n",
      "['credit_card' 'car' 'small_business' 'other' 'wedding'\n",
      " 'debt_consolidation' 'home_improvement' 'major_purchase' 'medical'\n",
      " 'moving' 'vacation' 'house' 'renewable_energy' 'educational']\n",
      "debt_consolidation    18641\n",
      "credit_card            5130\n",
      "other                  3993\n",
      "home_improvement       2976\n",
      "major_purchase         2187\n",
      "small_business         1828\n",
      "car                    1549\n",
      "wedding                 947\n",
      "medical                 693\n",
      "moving                  583\n",
      "vacation                381\n",
      "house                   381\n",
      "educational             325\n",
      "renewable_energy        103\n",
      "Name: purpose, dtype: int64\n",
      "title\n",
      "['Computer' 'bike' 'real estate business' ... 'Retiring credit card debt'\n",
      " 'MBA Loan Consolidation' 'JAL Loan']\n",
      "Debt Consolidation                  2184\n",
      "Debt Consolidation Loan             1729\n",
      "Personal Loan                        659\n",
      "Consolidation                        517\n",
      "debt consolidation                   505\n",
      "                                    ... \n",
      "your rate is better than my rate       1\n",
      "Concession Trailer                     1\n",
      "gregs                                  1\n",
      "EZover                                 1\n",
      "JAL Loan                               1\n",
      "Name: title, Length: 19615, dtype: int64\n",
      "zip_code\n",
      "['860xx' '309xx' '606xx' '917xx' '972xx' '852xx' '280xx' '900xx' '958xx'\n",
      " '774xx' '853xx' '913xx' '245xx' '951xx' '641xx' '921xx' '067xx' '890xx'\n",
      " '770xx' '335xx' '799xx' '605xx' '103xx' '150xx' '326xx' '564xx' '141xx'\n",
      " '080xx' '330xx' '974xx' '934xx' '405xx' '946xx' '445xx' '850xx' '604xx'\n",
      " '292xx' '088xx' '180xx' '029xx' '700xx' '010xx' '441xx' '104xx' '061xx'\n",
      " '616xx' '947xx' '914xx' '765xx' '980xx' '017xx' '752xx' '787xx' '077xx'\n",
      " '540xx' '225xx' '440xx' '437xx' '559xx' '912xx' '325xx' '300xx' '923xx'\n",
      " '352xx' '013xx' '146xx' '074xx' '786xx' '937xx' '331xx' '115xx' '191xx'\n",
      " '114xx' '908xx' '902xx' '992xx' '750xx' '950xx' '329xx' '226xx' '614xx'\n",
      " '802xx' '672xx' '083xx' '100xx' '926xx' '931xx' '712xx' '060xx' '707xx'\n",
      " '342xx' '895xx' '430xx' '919xx' '996xx' '891xx' '935xx' '801xx' '928xx'\n",
      " '233xx' '927xx' '970xx' '211xx' '303xx' '070xx' '194xx' '263xx' '403xx'\n",
      " '301xx' '553xx' '993xx' '312xx' '432xx' '602xx' '216xx' '151xx' '971xx'\n",
      " '305xx' '334xx' '050xx' '129xx' '925xx' '483xx' '760xx' '961xx' '200xx'\n",
      " '085xx' '981xx' '601xx' '117xx' '063xx' '920xx' '543xx' '775xx' '570xx'\n",
      " '038xx' '221xx' '985xx' '113xx' '275xx' '236xx' '148xx' '028xx' '450xx'\n",
      " '532xx' '729xx' '321xx' '959xx' '941xx' '955xx' '217xx' '880xx' '660xx'\n",
      " '062xx' '193xx' '761xx' '857xx' '306xx' '271xx' '142xx' '956xx' '983xx'\n",
      " '945xx' '109xx' '112xx' '187xx' '630xx' '435xx' '488xx' '287xx' '705xx'\n",
      " '592xx' '318xx' '549xx' '212xx' '347xx' '274xx' '265xx' '785xx' '027xx'\n",
      " '089xx' '813xx' '069xx' '260xx' '201xx' '349xx' '322xx' '075xx' '124xx'\n",
      " '940xx' '967xx' '111xx' '773xx' '997xx' '076xx' '538xx' '021xx' '304xx'\n",
      " '234xx' '308xx' '809xx' '071xx' '363xx' '296xx' '240xx' '830xx' '011xx'\n",
      " '622xx' '207xx' '140xx' '336xx' '619xx' '208xx' '618xx' '014xx' '644xx'\n",
      " '283xx' '276xx' '631xx' '243xx' '960xx' '181xx' '922xx' '224xx' '975xx'\n",
      " '105xx' '986xx' '218xx' '652xx' '782xx' '410xx' '480xx' '328xx' '719xx'\n",
      " '982xx' '065xx' '081xx' '954xx' '346xx' '442xx' '025xx' '122xx' '173xx'\n",
      " '282xx' '120xx' '082xx' '766xx' '229xx' '840xx' '744xx' '933xx' '451xx'\n",
      " '907xx' '728xx' '159xx' '333xx' '293xx' '701xx' '984xx' '811xx' '597xx'\n",
      " '957xx' '165xx' '720xx' '119xx' '359xx' '195xx' '084xx' '969xx' '924xx'\n",
      " '531xx' '716xx' '337xx' '841xx' '323xx' '740xx' '179xx' '805xx' '285xx'\n",
      " '551xx' '658xx' '944xx' '232xx' '905xx' '600xx' '327xx' '711xx' '906xx'\n",
      " '444xx' '856xx' '777xx' '072xx' '554xx' '145xx' '537xx' '152xx' '847xx'\n",
      " '295xx' '829xx' '320xx' '131xx' '939xx' '572xx' '281xx' '064xx' '550xx'\n",
      " '078xx' '452xx' '778xx' '313xx' '851xx' '784xx' '804xx' '571xx' '210xx'\n",
      " '988xx' '400xx' '995xx' '023xx' '158xx' '657xx' '016xx' '019xx' '290xx'\n",
      " '190xx' '366xx' '066xx' '991xx' '968xx' '721xx' '439xx' '640xx' '546xx'\n",
      " '024xx' '751xx' '431xx' '741xx' '904xx' '156xx' '316xx' '299xx' '087xx'\n",
      " '739xx' '949xx' '261xx' '073xx' '222xx' '244xx' '617xx' '018xx' '286xx'\n",
      " '759xx' '952xx' '930xx' '911xx' '220xx' '731xx' '730xx' '262xx' '338xx'\n",
      " '160xx' '031xx' '054xx' '223xx' '272xx' '882xx' '557xx' '797xx' '725xx'\n",
      " '130xx' '030xx' '206xx' '324xx' '170xx' '291xx' '161xx' '647xx' '916xx'\n",
      " '665xx' '209xx' '915xx' '110xx' '086xx' '484xx' '844xx' '020xx' '354xx'\n",
      " '448xx' '978xx' '757xx' '953xx' '577xx' '315xx' '664xx' '186xx' '182xx'\n",
      " '574xx' '800xx' '197xx' '137xx' '314xx' '755xx' '973xx' '603xx' '481xx'\n",
      " '780xx' '894xx' '341xx' '361xx' '178xx' '068xx' '565xx' '611xx' '288xx'\n",
      " '443xx' '662xx' '874xx' '560xx' '535xx' '499xx' '162xx' '756xx' '168xx'\n",
      " '827xx' '541xx' '615xx' '989xx' '037xx' '863xx' '339xx' '367xx' '273xx'\n",
      " '052xx' '623xx' '416xx' '648xx' '918xx' '436xx' '898xx' '674xx' '496xx'\n",
      " '294xx' '762xx' '128xx' '903xx' '932xx' '650xx' '246xx' '633xx' '666xx'\n",
      " '228xx' '015xx' '302xx' '573xx' '118xx' '998xx' '767xx' '490xx' '350xx'\n",
      " '591xx' '254xx' '566xx' '596xx' '637xx' '032xx' '763xx' '494xx' '402xx'\n",
      " '545xx' '184xx' '239xx' '977xx' '297xx' '284xx' '144xx' '748xx' '310xx'\n",
      " '147xx' '153xx' '544xx' '948xx' '576xx' '976xx' '107xx' '846xx' '344xx'\n",
      " '351xx' '754xx' '910xx' '656xx' '357xx' '791xx' '493xx' '855xx' '278xx'\n",
      " '125xx' '175xx' '530xx' '171xx' '703xx' '620xx' '438xx' '626xx' '307xx'\n",
      " '636xx' '319xx' '116xx' '645xx' '708xx' '816xx' '625xx' '133xx' '612xx'\n",
      " '238xx' '166xx' '231xx' '241xx' '826xx' '783xx' '793xx' '646xx' '188xx'\n",
      " '108xx' '653xx' '871xx' '057xx' '796xx' '990xx' '219xx' '724xx' '456xx'\n",
      " '214xx' '237xx' '737xx' '121xx' '199xx' '548xx' '453xx' '704xx' '368xx'\n",
      " '828xx' '598xx' '136xx' '610xx' '433xx' '722xx' '743xx' '810xx' '706xx'\n",
      " '235xx' '139xx' '613xx' '454xx' '317xx' '746xx' '446xx' '486xx' '033xx'\n",
      " '279xx' '407xx' '803xx' '794xx' '457xx' '189xx' '196xx' '539xx' '424xx'\n",
      " '492xx' '482xx' '667xx' '845xx' '608xx' '401xx' '362xx' '627xx' '717xx'\n",
      " '356xx' '607xx' '963xx' '198xx' '936xx' '713xx' '227xx' '883xx' '563xx'\n",
      " '893xx' '079xx' '806xx' '360xx' '172xx' '422xx' '768xx' '034xx' '735xx'\n",
      " '870xx' '012xx' '594xx' '215xx' '628xx' '749xx' '101xx' '814xx' '255xx'\n",
      " '745xx' '495xx' '132xx' '183xx' '864xx' '106xx' '663xx' '943xx' '094xx'\n",
      " '177xx' '365xx' '897xx' '776xx' '843xx' '458xx' '421xx' '253xx' '795xx'\n",
      " '727xx' '528xx' '270xx' '808xx' '277xx' '447xx' '358xx' '815xx' '250xx'\n",
      " '230xx' '790xx' '884xx' '242xx' '534xx' '404xx' '397xx' '434xx' '671xx'\n",
      " '655xx' '675xx' '053xx' '859xx' '126xx' '102xx' '256xx' '673xx' '489xx'\n",
      " '258xx' '423xx' '497xx' '788xx' '127xx' '176xx' '380xx' '058xx' '635xx'\n",
      " '498xx' '820xx' '599xx' '822xx' '638xx' '723xx' '449xx' '420xx' '157xx'\n",
      " '726xx' '185xx' '527xx' '298xx' '769xx' '257xx' '881xx' '575xx' '624xx'\n",
      " '134xx' '877xx' '781xx' '718xx' '670xx' '138xx' '026xx' '678xx' '398xx'\n",
      " '411xx' '149xx' '247xx' '875xx' '838xx' '651xx' '364xx' '203xx' '427xx'\n",
      " '629xx' '355xx' '174xx' '547xx' '567xx' '558xx' '135xx' '035xx' '999xx'\n",
      " '634xx' '455xx' '143xx' '154xx' '562xx' '779xx' '561xx' '734xx' '789xx'\n",
      " '812xx' '268xx' '051xx' '865xx' '406xx' '661xx' '758xx' '676xx' '491xx'\n",
      " '267xx' '609xx' '595xx' '259xx' '163xx' '264xx' '409xx' '376xx' '471xx'\n",
      " '375xx' '747xx' '123xx' '714xx' '590xx' '639xx' '412xx' '425xx' '022xx'\n",
      " '369xx' '164xx' '825xx' '266xx' '096xx' '487xx' '251xx' '593xx' '169xx'\n",
      " '413xx' '155xx' '764xx' '710xx' '408xx' '668xx' '056xx' '669xx' '167xx'\n",
      " '542xx' '679xx' '462xx' '792xx' '824xx' '249xx' '798xx' '370xx' '485xx'\n",
      " '654xx' '289xx' '807xx' '252xx' '556xx' '353xx' '677xx' '090xx' '371xx'\n",
      " '831xx' '736xx' '007xx' '332xx' '468xx' '461xx' '093xx' '248xx' '463xx'\n",
      " '391xx' '381xx' '415xx' '378xx' '414xx' '396xx' '836xx' '044xx' '392xx'\n",
      " '772xx' '374xx' '823xx' '395xx' '394xx' '965xx' '390xx' '388xx' '386xx'\n",
      " '040xx' '385xx' '379xx' '681xx' '837xx' '373xx' '753xx' '834xx' '383xx'\n",
      " '384xx' '372xx' '833xx' '522xx' '523xx' '474xx' '465xx' '689xx' '473xx'\n",
      " '041xx' '685xx' '479xx' '469xx']\n",
      "100xx    597\n",
      "945xx    545\n",
      "112xx    516\n",
      "606xx    503\n",
      "070xx    473\n",
      "        ... \n",
      "381xx      1\n",
      "378xx      1\n",
      "739xx      1\n",
      "396xx      1\n",
      "469xx      1\n",
      "Name: zip_code, Length: 823, dtype: int64\n",
      "addr_state\n",
      "['AZ' 'GA' 'IL' 'CA' 'OR' 'NC' 'TX' 'VA' 'MO' 'CT' 'UT' 'FL' 'NY' 'PA'\n",
      " 'MN' 'NJ' 'KY' 'OH' 'SC' 'RI' 'LA' 'MA' 'WA' 'WI' 'AL' 'CO' 'KS' 'NV'\n",
      " 'AK' 'MD' 'WV' 'VT' 'MI' 'DC' 'SD' 'NH' 'AR' 'NM' 'MT' 'HI' 'WY' 'OK'\n",
      " 'DE' 'MS' 'TN' 'IA' 'NE' 'ID' 'IN' 'ME']\n",
      "CA    7099\n",
      "NY    3812\n",
      "FL    2866\n",
      "TX    2727\n",
      "NJ    1850\n",
      "IL    1525\n",
      "PA    1517\n",
      "VA    1407\n",
      "GA    1398\n",
      "MA    1340\n",
      "OH    1223\n",
      "MD    1049\n",
      "AZ     879\n",
      "WA     840\n",
      "CO     792\n",
      "NC     788\n",
      "CT     751\n",
      "MI     720\n",
      "MO     686\n",
      "MN     615\n",
      "NV     497\n",
      "SC     472\n",
      "WI     460\n",
      "AL     452\n",
      "OR     451\n",
      "LA     436\n",
      "KY     325\n",
      "OK     299\n",
      "KS     271\n",
      "UT     258\n",
      "AR     245\n",
      "DC     214\n",
      "RI     198\n",
      "NM     189\n",
      "WV     177\n",
      "HI     174\n",
      "NH     171\n",
      "DE     114\n",
      "MT      85\n",
      "WY      83\n",
      "AK      80\n",
      "SD      64\n",
      "VT      54\n",
      "MS      19\n",
      "TN      17\n",
      "IN       9\n",
      "ID       6\n",
      "IA       5\n",
      "NE       5\n",
      "ME       3\n",
      "Name: addr_state, dtype: int64\n",
      "dti\n",
      "[27.65  1.    8.72 ...  1.79  0.12 25.43]\n",
      "0.00     183\n",
      "12.00     51\n",
      "18.00     45\n",
      "19.20     40\n",
      "13.20     39\n",
      "        ... \n",
      "29.13      1\n",
      "25.31      1\n",
      "29.76      1\n",
      "28.42      1\n",
      "25.43      1\n",
      "Name: dti, Length: 2868, dtype: int64\n",
      "initial_list_status\n",
      "['f']\n",
      "f    39717\n",
      "Name: initial_list_status, dtype: int64\n",
      "collections_12_mths_ex_med\n",
      "[ 0. nan]\n",
      "0.0    39661\n",
      "Name: collections_12_mths_ex_med, dtype: int64\n",
      "policy_code\n",
      "[1]\n",
      "1    39717\n",
      "Name: policy_code, dtype: int64\n",
      "acc_now_delinq\n",
      "[0]\n",
      "0    39717\n",
      "Name: acc_now_delinq, dtype: int64\n",
      "chargeoff_within_12_mths\n",
      "[ 0. nan]\n",
      "0.0    39661\n",
      "Name: chargeoff_within_12_mths, dtype: int64\n",
      "delinq_amnt\n",
      "[0]\n",
      "0    39717\n",
      "Name: delinq_amnt, dtype: int64\n",
      "pub_rec_bankruptcies\n",
      "[ 0.  1.  2. nan]\n",
      "0.0    37339\n",
      "1.0     1674\n",
      "2.0        7\n",
      "Name: pub_rec_bankruptcies, dtype: int64\n",
      "tax_liens\n",
      "[ 0. nan]\n",
      "0.0    39678\n",
      "Name: tax_liens, dtype: int64\n"
     ]
    }
   ],
   "source": [
    "# check the unique data persent across various columns by checking the unique values and its value counts\n",
    "for i in df.columns:\n",
    "    print(i)\n",
    "    print(df[i].unique())\n",
    "    print(df[i].value_counts())\n",
    "    "
   ]
  },
  {
   "cell_type": "code",
   "execution_count": 500,
   "id": "92eb3575",
   "metadata": {},
   "outputs": [
    {
     "name": "stdout",
     "output_type": "stream",
     "text": [
      "pymnt_plan\n",
      "initial_list_status\n",
      "collections_12_mths_ex_med\n",
      "policy_code\n",
      "acc_now_delinq\n",
      "chargeoff_within_12_mths\n",
      "delinq_amnt\n",
      "tax_liens\n",
      "['pymnt_plan', 'initial_list_status', 'collections_12_mths_ex_med', 'policy_code', 'acc_now_delinq', 'chargeoff_within_12_mths', 'delinq_amnt', 'tax_liens']\n"
     ]
    }
   ],
   "source": [
    "# get the columns where there are only 1 unique values\n",
    "one_unique_columns = []\n",
    "for i in df.columns:\n",
    "    if(df[i].nunique()==1):\n",
    "        print(i)\n",
    "        one_unique_columns.append(i)\n",
    "print(one_unique_columns)"
   ]
  },
  {
   "cell_type": "code",
   "execution_count": 501,
   "id": "039b0fee",
   "metadata": {},
   "outputs": [],
   "source": [
    "# remove the columns where there is only one unique value\n",
    "\n",
    "df.drop(one_unique_columns,inplace=True,axis=1)"
   ]
  },
  {
   "cell_type": "code",
   "execution_count": 502,
   "id": "8d3477c6",
   "metadata": {},
   "outputs": [
    {
     "data": {
      "text/plain": [
       "['emp_title', 'desc', 'title', 'zip_code']"
      ]
     },
     "execution_count": 502,
     "metadata": {},
     "output_type": "execute_result"
    }
   ],
   "source": [
    "# from the above we can see unnecessary columns that will not add any value for the analysis so remove them.\n",
    "# removing emp_title- as there are huge no of categories and we dont have a very high majority to consider them\n",
    "# removing pymnt_plan- as all the values are n.\n",
    "# removing desc - as this is just general text about the loan\n",
    "# removing title - as it looks like duplicate of purpose column\n",
    "# remoing zip code - as the last to characters are XX so it is not a good categorical candidate\n",
    "# removing collections_12_mths_ex_med as it has status as 0 or nan which might be same\n",
    "# removing policy code  as it has only 1.\n",
    "# removing acc_now_delinq as it has either 0 or nan which might be same.\n",
    "# removing chargeoff_within_12_mths as it has only 0\n",
    "# removing tax_liens as it has only 0 and nan\n",
    "unnecessary_columns = ['emp_title','desc','title','zip_code']\n",
    "unnecessary_columns"
   ]
  },
  {
   "cell_type": "code",
   "execution_count": 503,
   "id": "d3bd6a80",
   "metadata": {},
   "outputs": [],
   "source": [
    "# remove the unecessary columns\n",
    "df.drop(unnecessary_columns,axis=1,inplace=True)"
   ]
  },
  {
   "cell_type": "code",
   "execution_count": 504,
   "id": "42c958f6",
   "metadata": {},
   "outputs": [
    {
     "data": {
      "text/plain": [
       "Index(['loan_amnt', 'funded_amnt', 'funded_amnt_inv', 'term', 'int_rate',\n",
       "       'installment', 'grade', 'sub_grade', 'emp_length', 'home_ownership',\n",
       "       'annual_inc', 'verification_status', 'issue_d', 'loan_status',\n",
       "       'purpose', 'addr_state', 'dti', 'pub_rec_bankruptcies'],\n",
       "      dtype='object')"
      ]
     },
     "execution_count": 504,
     "metadata": {},
     "output_type": "execute_result"
    }
   ],
   "source": [
    "#check the columns in the dataframe\n",
    "df.columns"
   ]
  },
  {
   "cell_type": "code",
   "execution_count": 505,
   "id": "f433d9b2",
   "metadata": {},
   "outputs": [
    {
     "data": {
      "text/plain": [
       "(39717, 18)"
      ]
     },
     "execution_count": 505,
     "metadata": {},
     "output_type": "execute_result"
    }
   ],
   "source": [
    "# check the size of new dataframe\n",
    "\n",
    "df.shape"
   ]
  },
  {
   "cell_type": "code",
   "execution_count": 506,
   "id": "65a0eb4f",
   "metadata": {},
   "outputs": [
    {
     "name": "stdout",
     "output_type": "stream",
     "text": [
      "loan_amnt\n",
      "[ 5000  2500  2400 10000  3000  7000  5600  5375  6500 12000  9000  1000\n",
      "  3600  6000  9200 20250 21000 15000  4000  8500  4375 31825 12400 10800\n",
      " 12500  9600  4400 14000 11000 25600 16000  7100 13000 17500 17675  8000\n",
      "  3500 16425  8200 20975  6400 14400  7250 18000 35000 11800  4500 10500\n",
      " 15300 20000  6200  7200  9500 18825 24000  2100  5500 26800 25000 19750\n",
      " 13650 28000 10625  8850  6375 11100  4200  8875 13500 21600  8450 13475\n",
      " 22000  7325  7750 13350 22475  8400 13250  7350 11500 29500  2000 11625\n",
      " 15075  5300  8650  7400 24250 26000  1500 19600  4225 16500 15600 14125\n",
      " 13200 12300  1400  3200 11875  1800 23200  4800  7300 10400  6600 30000\n",
      "  4475  6300  8250  9875 21500  7800  9750 15550 17000  7500  5800  8050\n",
      "  5400  4125  9800 15700  9900  6250 10200 23000 25975 21250 33425  8125\n",
      " 18800 19200 12875  2625 11300  4100 18225 18500 16800  2200 14050 16100\n",
      " 10525 19775 14500 11700  4150 12375  1700 22250 11200 22500 15900  3150\n",
      " 18550  8575  7700 24500 22200 21400  9400 22400  5825  7650 20675 27050\n",
      " 20500 12800 27575  7600 29000  9575 14575  7125 10700 10375  3050 27000\n",
      " 28625 14100 20050 24925 13600 26400  7150 32000 15500 17475  2250 17050\n",
      "  3250 22750  1200  5900 12600  6750 17250 19075 17200 13225 11775 16400\n",
      " 10075  9350  8075 15625 20125  8300  2425  6950  5350  5875  9450 19000\n",
      " 20400 21650 20300  2300 24575  5850  4750  5275  9175 34475 10050 19400\n",
      " 18200  8800 34000 19500  5200 11900 29100 25850  3300 12200 22575  7175\n",
      " 18250 16750 12950  6350 14750  6625  6900 18650  9250 22800 27300 12250\n",
      "  4350 21200  2700  6025  3825  5325 14150  1600  2800 18975  2575  5450\n",
      "  3800  2125 14650 11250 31000  6075  8475  3625 31300  4250 12650 27600\n",
      " 13150  4300 10275 23600  7875 14550  9925 15850  1325  6325 29700 15200\n",
      " 28100 15250  6800 11325 13975 13800  3100  3975 25450  3575 33600 23700\n",
      " 28200  6475 27700 17375 15800 17625 16675  5250 22950  1950  4650 10250\n",
      "  6100  8325  4850  9425 12700 25475 14850 14300 33000  5150 21625  3775\n",
      " 21575 16250  8375 18725 11125  3525 19800  9300 19125  5575  1450 12900\n",
      " 10150 20450 23500 16600  1300  6925 14675 11550 17400  1100  3400 12775\n",
      "  5050 12100 26375  6975 26300  3125 23325 11600  5100 10175 18400 30750\n",
      " 16550  5650 16450 18950  3650 33950 10125 16775  5700 20200 10600  3725\n",
      " 19425 25900 23800  4025  2600  8900 10900 17600 14825  7925 14950  6700\n",
      "  8600  1925 30500  4900 15575  3175 14800 32275  5750 14600 25200  6550\n",
      " 30400 22900  6850  4600 11425 16950 29850 10675  6650 10775 17325 27250\n",
      "  3700  6450 20800 13575 29275  4725 24800 15750 17100 15875 10925  4950\n",
      " 10575  2850 32875 21100 11050 20375  9325  9375  7475 22125 27525 25500\n",
      " 17750  8675  7450 24625 17900 12075  6725 24400  5225 14075 17175  9475\n",
      "  9975 20900 12150 17725 15350  4925  4550 18750 15125 10950 12475  2750\n",
      "  4625 12175  7575 23525 12350 17950  9525  8975 11975 12850 19850 21850\n",
      "  4425 32250  2550 11400 21725 23100 13700  9950 21750 13750 12025 23400\n",
      " 14975 19700 27500  3900 14725 17800  5175 15025 29550 23850 31500  9100\n",
      " 27400 23675  9825 16200 11650 18875 29175  3950  2050 19950 12750 24375\n",
      "  2875 25875 16275 10300 17450  3450  1825 13100 23275  8700  3675  8150\n",
      " 23975  3350  7075  8625 31800 26200 34675 11025  7850 14175  9150 19925\n",
      " 14275 25400 17825 16875 21800 14475 14225 10225 10650 12725 31400  1550\n",
      " 31700 31200  1875 16300 12550 11725 22600 26500  6225  4450  3875 13275\n",
      " 34525 31025  6775 19450  2900  2450 27200 21300  4700  7425 19575 31150\n",
      " 19100 30100 24600 32350  1900 29300  2350 15950 13300  2975 28250  8100\n",
      " 28600  6425  4050 23450 32400 13675 21350  9050  2675  5025  5950 12625\n",
      " 29800  1750 10825 24700 13125  6125 26850 28800  7275  6825 14775 10975\n",
      " 20950  3850 28500 31325 11750 15825  7525  3550  7950 13400  3375  1250\n",
      " 29600 22350  1850 17850 17875  7550  6175 30800 21125 30225  3750 10025\n",
      " 14350  7775 33500 18900  8025  5125 13775  3075 29900 11525  5550  5975\n",
      " 32500 22100 25300 14700  3325  5075  5625 27175 11575 16325 24200 15050\n",
      "  5425 17700 12450 19725 19550  3025 22875 23075 15450 10750  4325  3275\n",
      "  8175 20700  1775  4775  8225  4575 15775 19475 14200 21225 17225 12425\n",
      "  7900 14525  2650  8275 13325 30600  6275  4075  1625  1275 13075 23750\n",
      " 24650 14250  8825  5775  8350 19150  9725 18575  8725 16050 26250 16075\n",
      "  6150  8750 11075 10875 16350  2275  3925 11375  4275 18325  9650  2725\n",
      " 10425  6575  2075 13175  9550 12675 15425 18300 18600  5525 10550 22325\n",
      " 15175 12225 12525 28750 15650 11450 23350  1525 31725 13625 32775 20600\n",
      "  8550 15975  9775 13425  1050  2950 12925 29375 12325  9075  1350 21700\n",
      " 15400  4975 11275  7725  9225  2325 13725  8775 19250 14900 34800 17300\n",
      "  9700  2150 10100 10350  2825 17975  1650 15275  7975  2925  2525  2225\n",
      "  5725 23425  4875  2475  3425 16700  2775 13050 34200  5925 26025 16225\n",
      "  9275 11350 21450 10850  7225  1425  5475 19300  7050 24175 12050  1225\n",
      " 13850 32525 17075  1375  1675 18275  9125 33250 16525 11850 22300  2375\n",
      "  7675  8525 31050  4525  7025 14625 13375  4675 25375 24975 12825 18150\n",
      " 18050  9850 14875 17425 16725 13550  9625 15150 19875  1475 22650 17150\n",
      "  6875  7375  5675  7625  6525  3225  6675  1075 15675 17275 11475 12975\n",
      " 15325  1125  8950 11675 12275  3475 21425 18125 23050 11175 10450 21825\n",
      " 10475 20150 24750 13900  4175 24100 17925 24150 19975 19900 13950 12125\n",
      " 11225 23475 19650 13450 10725  1150 20475 17525   500   725 23575   700\n",
      "   950 19275   900   750 17350   800 10325 13025 22550]\n",
      "10000    2833\n",
      "12000    2334\n",
      "5000     2051\n",
      "6000     1908\n",
      "15000    1895\n",
      "         ... \n",
      "22875       1\n",
      "8175        1\n",
      "19475       1\n",
      "21225       1\n",
      "22550       1\n",
      "Name: loan_amnt, Length: 885, dtype: int64\n",
      "885\n",
      "funded_amnt\n",
      "[ 5000  2500  2400 ...   800 13875 22350]\n",
      "10000    2741\n",
      "12000    2244\n",
      "5000     2040\n",
      "6000     1898\n",
      "15000    1784\n",
      "         ... \n",
      "26250       1\n",
      "24725       1\n",
      "31750       1\n",
      "22625       1\n",
      "22350       1\n",
      "Name: funded_amnt, Length: 1041, dtype: int64\n",
      "1041\n",
      "funded_amnt_inv\n",
      "[4975. 2500. 2400. ...  200.   75.  150.]\n",
      "5000.000000     1309\n",
      "10000.000000    1275\n",
      "6000.000000     1200\n",
      "12000.000000    1069\n",
      "8000.000000      900\n",
      "                ... \n",
      "4944.213109        1\n",
      "18400.281660       1\n",
      "14659.820000       1\n",
      "6294.151315        1\n",
      "11808.924370       1\n",
      "Name: funded_amnt_inv, Length: 8205, dtype: int64\n",
      "8205\n",
      "term\n",
      "[' 36 months' ' 60 months']\n",
      " 36 months    29096\n",
      " 60 months    10621\n",
      "Name: term, dtype: int64\n",
      "2\n",
      "int_rate\n",
      "['10.65%' '15.27%' '15.96%' '13.49%' '12.69%' '7.90%' '18.64%' '21.28%'\n",
      " '14.65%' '9.91%' '16.29%' '6.03%' '11.71%' '12.42%' '14.27%' '16.77%'\n",
      " '7.51%' '8.90%' '18.25%' '6.62%' '19.91%' '17.27%' '17.58%' '21.67%'\n",
      " '19.42%' '22.06%' '20.89%' '20.30%' '23.91%' '19.03%' '23.52%' '23.13%'\n",
      " '22.74%' '22.35%' '24.11%' '6.00%' '22.11%' '7.49%' '11.99%' '5.99%'\n",
      " '10.99%' '9.99%' '18.79%' '11.49%' '8.49%' '15.99%' '16.49%' '6.99%'\n",
      " '12.99%' '15.23%' '14.79%' '5.42%' '10.59%' '17.49%' '15.62%' '21.36%'\n",
      " '19.29%' '13.99%' '18.39%' '16.89%' '17.99%' '20.62%' '20.99%' '22.85%'\n",
      " '19.69%' '20.25%' '23.22%' '21.74%' '22.48%' '23.59%' '12.62%' '18.07%'\n",
      " '11.63%' '7.91%' '7.42%' '11.14%' '20.20%' '12.12%' '19.39%' '16.11%'\n",
      " '17.54%' '22.64%' '13.84%' '16.59%' '17.19%' '12.87%' '20.69%' '9.67%'\n",
      " '21.82%' '19.79%' '18.49%' '22.94%' '24.59%' '24.40%' '21.48%' '14.82%'\n",
      " '14.17%' '7.29%' '17.88%' '20.11%' '16.02%' '17.51%' '13.43%' '14.91%'\n",
      " '13.06%' '15.28%' '15.65%' '17.14%' '11.11%' '10.37%' '16.40%' '7.66%'\n",
      " '10.00%' '18.62%' '10.74%' '5.79%' '6.92%' '9.63%' '14.54%' '12.68%'\n",
      " '19.36%' '13.80%' '18.99%' '21.59%' '20.85%' '21.22%' '19.74%' '20.48%'\n",
      " '6.91%' '12.23%' '12.61%' '10.36%' '6.17%' '6.54%' '9.25%' '16.69%'\n",
      " '15.95%' '8.88%' '13.35%' '9.62%' '16.32%' '12.98%' '14.83%' '13.72%'\n",
      " '14.09%' '14.46%' '20.03%' '17.80%' '15.20%' '15.57%' '18.54%' '19.66%'\n",
      " '17.06%' '18.17%' '17.43%' '20.40%' '20.77%' '18.91%' '21.14%' '17.44%'\n",
      " '13.23%' '7.88%' '11.12%' '13.61%' '10.38%' '17.56%' '17.93%' '15.58%'\n",
      " '13.98%' '14.84%' '15.21%' '6.76%' '6.39%' '11.86%' '7.14%' '14.35%'\n",
      " '16.82%' '10.75%' '14.72%' '16.45%' '18.67%' '20.53%' '19.41%' '20.16%'\n",
      " '21.27%' '18.30%' '19.04%' '20.90%' '21.64%' '12.73%' '10.25%' '13.11%'\n",
      " '10.62%' '13.48%' '14.59%' '16.07%' '15.70%' '9.88%' '11.36%' '15.33%'\n",
      " '13.85%' '14.96%' '14.22%' '7.74%' '13.22%' '13.57%' '8.59%' '17.04%'\n",
      " '14.61%' '8.94%' '12.18%' '11.83%' '11.48%' '16.35%' '13.92%' '15.31%'\n",
      " '14.26%' '19.13%' '12.53%' '16.70%' '16.00%' '17.39%' '18.09%' '7.40%'\n",
      " '18.43%' '17.74%' '7.05%' '20.52%' '20.86%' '19.47%' '18.78%' '21.21%'\n",
      " '19.82%' '20.17%' '13.16%' '8.00%' '13.47%' '12.21%' '16.63%' '9.32%'\n",
      " '12.84%' '11.26%' '15.68%' '15.37%' '10.95%' '11.89%' '14.11%' '13.79%'\n",
      " '7.68%' '11.58%' '7.37%' '16.95%' '15.05%' '18.53%' '14.74%' '14.42%'\n",
      " '18.21%' '17.26%' '18.84%' '17.90%' '19.16%' '13.67%' '9.38%' '12.72%'\n",
      " '13.36%' '11.46%' '10.51%' '9.07%' '13.04%' '11.78%' '12.41%' '10.83%'\n",
      " '12.09%' '17.46%' '14.30%' '17.15%' '15.25%' '10.20%' '15.88%' '14.93%'\n",
      " '16.20%' '18.72%' '14.62%' '8.32%' '14.12%' '10.96%' '10.33%' '10.01%'\n",
      " '12.86%' '11.28%' '11.59%' '8.63%' '12.54%' '12.22%' '11.91%' '15.38%'\n",
      " '16.96%' '13.17%' '9.70%' '16.33%' '14.75%' '15.07%' '16.01%' '10.71%'\n",
      " '10.64%' '9.76%' '11.34%' '10.39%' '13.87%' '11.03%' '11.66%' '13.24%'\n",
      " '10.08%' '9.45%' '13.55%' '12.29%' '11.97%' '12.92%' '15.45%' '14.50%'\n",
      " '14.18%' '15.13%' '16.08%' '15.76%' '17.03%' '17.34%' '16.71%' '9.83%'\n",
      " '13.62%' '10.46%' '9.51%' '9.20%' '13.30%' '10.78%' '7.75%' '8.38%'\n",
      " '12.36%' '12.67%' '11.72%' '13.93%' '8.07%' '7.43%' '12.04%' '14.25%'\n",
      " '14.88%' '11.41%' '11.09%' '10.14%' '16.15%' '15.83%' '7.12%' '18.36%'\n",
      " '9.64%' '9.96%' '11.22%' '9.01%' '9.33%' '11.54%' '12.17%' '12.80%'\n",
      " '14.38%' '13.75%' '14.70%' '12.49%' '14.07%' '10.91%' '13.12%' '10.28%'\n",
      " '8.70%' '14.67%' '15.01%']\n",
      "10.99%    956\n",
      "13.49%    826\n",
      "11.49%    825\n",
      "7.51%     787\n",
      "7.88%     725\n",
      "         ... \n",
      "18.36%      1\n",
      "16.96%      1\n",
      "16.15%      1\n",
      "16.01%      1\n",
      "17.44%      1\n",
      "Name: int_rate, Length: 371, dtype: int64\n",
      "371\n",
      "installment\n",
      "[162.87  59.83  84.33 ...  78.42 275.38 255.43]\n",
      "311.11     68\n",
      "180.96     59\n",
      "311.02     54\n",
      "150.80     48\n",
      "368.45     46\n",
      "           ..\n",
      "1224.46     1\n",
      "63.44       1\n",
      "157.67      1\n",
      "492.34      1\n",
      "255.43      1\n",
      "Name: installment, Length: 15383, dtype: int64\n",
      "15383\n",
      "grade\n",
      "['B' 'C' 'A' 'E' 'F' 'D' 'G']\n",
      "B    12020\n",
      "A    10085\n",
      "C     8098\n",
      "D     5307\n",
      "E     2842\n",
      "F     1049\n",
      "G      316\n",
      "Name: grade, dtype: int64\n",
      "7\n",
      "sub_grade\n",
      "['B2' 'C4' 'C5' 'C1' 'B5' 'A4' 'E1' 'F2' 'C3' 'B1' 'D1' 'A1' 'B3' 'B4'\n",
      " 'C2' 'D2' 'A3' 'A5' 'D5' 'A2' 'E4' 'D3' 'D4' 'F3' 'E3' 'F4' 'F1' 'E5'\n",
      " 'G4' 'E2' 'G3' 'G2' 'G1' 'F5' 'G5']\n",
      "B3    2917\n",
      "A4    2886\n",
      "A5    2742\n",
      "B5    2704\n",
      "B4    2512\n",
      "C1    2136\n",
      "B2    2057\n",
      "C2    2011\n",
      "B1    1830\n",
      "A3    1810\n",
      "C3    1529\n",
      "A2    1508\n",
      "D2    1348\n",
      "C4    1236\n",
      "C5    1186\n",
      "D3    1173\n",
      "A1    1139\n",
      "D4     981\n",
      "D1     931\n",
      "D5     874\n",
      "E1     763\n",
      "E2     656\n",
      "E3     553\n",
      "E4     454\n",
      "E5     416\n",
      "F1     329\n",
      "F2     249\n",
      "F3     185\n",
      "F4     168\n",
      "F5     118\n",
      "G1     104\n",
      "G2      78\n",
      "G4      56\n",
      "G3      48\n",
      "G5      30\n",
      "Name: sub_grade, dtype: int64\n",
      "35\n",
      "emp_length\n",
      "['10+ years' '< 1 year' '1 year' '3 years' '8 years' '9 years' '4 years'\n",
      " '5 years' '6 years' '2 years' '7 years' nan]\n",
      "10+ years    8879\n",
      "< 1 year     4583\n",
      "2 years      4388\n",
      "3 years      4095\n",
      "4 years      3436\n",
      "5 years      3282\n",
      "1 year       3240\n",
      "6 years      2229\n",
      "7 years      1773\n",
      "8 years      1479\n",
      "9 years      1258\n",
      "Name: emp_length, dtype: int64\n",
      "11\n",
      "home_ownership\n",
      "['RENT' 'OWN' 'MORTGAGE' 'OTHER' 'NONE']\n",
      "RENT        18899\n",
      "MORTGAGE    17659\n",
      "OWN          3058\n",
      "OTHER          98\n",
      "NONE            3\n",
      "Name: home_ownership, dtype: int64\n",
      "5\n",
      "annual_inc\n",
      "[24000. 30000. 12252. ... 33990. 36153. 27376.]\n",
      "60000.0    1505\n",
      "50000.0    1057\n",
      "40000.0     876\n",
      "45000.0     830\n",
      "30000.0     825\n",
      "           ... \n",
      "56820.0       1\n",
      "45314.0       1\n",
      "53913.0       1\n",
      "62880.0       1\n",
      "27376.0       1\n",
      "Name: annual_inc, Length: 5318, dtype: int64\n",
      "5318\n",
      "verification_status\n",
      "['Verified' 'Source Verified' 'Not Verified']\n",
      "Not Verified       16921\n",
      "Verified           12809\n",
      "Source Verified     9987\n",
      "Name: verification_status, dtype: int64\n",
      "3\n",
      "issue_d\n",
      "['Dec-11' 'Nov-11' 'Oct-11' 'Sep-11' 'Aug-11' 'Jul-11' 'Jun-11' 'May-11'\n",
      " 'Apr-11' 'Mar-11' 'Feb-11' 'Jan-11' 'Dec-10' 'Nov-10' 'Oct-10' 'Sep-10'\n",
      " 'Aug-10' 'Jul-10' 'Jun-10' 'May-10' 'Apr-10' 'Mar-10' 'Feb-10' 'Jan-10'\n",
      " 'Dec-09' 'Nov-09' 'Oct-09' 'Sep-09' 'Aug-09' 'Jul-09' 'Jun-09' 'May-09'\n",
      " 'Apr-09' 'Mar-09' 'Feb-09' 'Jan-09' 'Dec-08' 'Nov-08' 'Oct-08' 'Sep-08'\n",
      " 'Aug-08' 'Jul-08' 'Jun-08' 'May-08' 'Apr-08' 'Mar-08' 'Feb-08' 'Jan-08'\n",
      " 'Dec-07' 'Nov-07' 'Oct-07' 'Sep-07' 'Aug-07' 'Jul-07' 'Jun-07']\n",
      "Dec-11    2260\n",
      "Nov-11    2223\n",
      "Oct-11    2114\n",
      "Sep-11    2063\n",
      "Aug-11    1928\n",
      "Jul-11    1870\n",
      "Jun-11    1827\n",
      "May-11    1689\n",
      "Apr-11    1562\n",
      "Mar-11    1443\n",
      "Jan-11    1380\n",
      "Feb-11    1297\n",
      "Dec-10    1267\n",
      "Oct-10    1132\n",
      "Nov-10    1121\n",
      "Jul-10    1119\n",
      "Sep-10    1086\n",
      "Aug-10    1078\n",
      "Jun-10    1029\n",
      "May-10     920\n",
      "Apr-10     827\n",
      "Mar-10     737\n",
      "Feb-10     627\n",
      "Nov-09     602\n",
      "Dec-09     598\n",
      "Jan-10     589\n",
      "Oct-09     545\n",
      "Sep-09     449\n",
      "Aug-09     408\n",
      "Jul-09     374\n",
      "Jun-09     356\n",
      "May-09     319\n",
      "Apr-09     290\n",
      "Mar-09     276\n",
      "Feb-09     260\n",
      "Jan-09     239\n",
      "Mar-08     236\n",
      "Dec-08     223\n",
      "Nov-08     184\n",
      "Feb-08     174\n",
      "Jan-08     171\n",
      "Apr-08     155\n",
      "Oct-08      96\n",
      "Dec-07      85\n",
      "Jul-08      83\n",
      "May-08      71\n",
      "Aug-08      71\n",
      "Jun-08      66\n",
      "Oct-07      47\n",
      "Nov-07      37\n",
      "Aug-07      33\n",
      "Sep-08      32\n",
      "Jul-07      30\n",
      "Sep-07      18\n",
      "Jun-07       1\n",
      "Name: issue_d, dtype: int64\n",
      "55\n",
      "loan_status\n",
      "['Fully Paid' 'Charged Off' 'Current']\n",
      "Fully Paid     32950\n",
      "Charged Off     5627\n",
      "Current         1140\n",
      "Name: loan_status, dtype: int64\n",
      "3\n",
      "purpose\n",
      "['credit_card' 'car' 'small_business' 'other' 'wedding'\n",
      " 'debt_consolidation' 'home_improvement' 'major_purchase' 'medical'\n",
      " 'moving' 'vacation' 'house' 'renewable_energy' 'educational']\n",
      "debt_consolidation    18641\n",
      "credit_card            5130\n",
      "other                  3993\n",
      "home_improvement       2976\n",
      "major_purchase         2187\n",
      "small_business         1828\n",
      "car                    1549\n",
      "wedding                 947\n",
      "medical                 693\n",
      "moving                  583\n",
      "vacation                381\n",
      "house                   381\n",
      "educational             325\n",
      "renewable_energy        103\n",
      "Name: purpose, dtype: int64\n",
      "14\n",
      "addr_state\n",
      "['AZ' 'GA' 'IL' 'CA' 'OR' 'NC' 'TX' 'VA' 'MO' 'CT' 'UT' 'FL' 'NY' 'PA'\n",
      " 'MN' 'NJ' 'KY' 'OH' 'SC' 'RI' 'LA' 'MA' 'WA' 'WI' 'AL' 'CO' 'KS' 'NV'\n",
      " 'AK' 'MD' 'WV' 'VT' 'MI' 'DC' 'SD' 'NH' 'AR' 'NM' 'MT' 'HI' 'WY' 'OK'\n",
      " 'DE' 'MS' 'TN' 'IA' 'NE' 'ID' 'IN' 'ME']\n",
      "CA    7099\n",
      "NY    3812\n",
      "FL    2866\n",
      "TX    2727\n",
      "NJ    1850\n",
      "IL    1525\n",
      "PA    1517\n",
      "VA    1407\n",
      "GA    1398\n",
      "MA    1340\n",
      "OH    1223\n",
      "MD    1049\n",
      "AZ     879\n",
      "WA     840\n",
      "CO     792\n",
      "NC     788\n",
      "CT     751\n",
      "MI     720\n",
      "MO     686\n",
      "MN     615\n",
      "NV     497\n",
      "SC     472\n",
      "WI     460\n",
      "AL     452\n",
      "OR     451\n",
      "LA     436\n",
      "KY     325\n",
      "OK     299\n",
      "KS     271\n",
      "UT     258\n",
      "AR     245\n",
      "DC     214\n",
      "RI     198\n",
      "NM     189\n",
      "WV     177\n",
      "HI     174\n",
      "NH     171\n",
      "DE     114\n",
      "MT      85\n",
      "WY      83\n",
      "AK      80\n",
      "SD      64\n",
      "VT      54\n",
      "MS      19\n",
      "TN      17\n",
      "IN       9\n",
      "ID       6\n",
      "IA       5\n",
      "NE       5\n",
      "ME       3\n",
      "Name: addr_state, dtype: int64\n",
      "50\n",
      "dti\n",
      "[27.65  1.    8.72 ...  1.79  0.12 25.43]\n",
      "0.00     183\n",
      "12.00     51\n",
      "18.00     45\n",
      "19.20     40\n",
      "13.20     39\n",
      "        ... \n",
      "29.13      1\n",
      "25.31      1\n",
      "29.76      1\n",
      "28.42      1\n",
      "25.43      1\n",
      "Name: dti, Length: 2868, dtype: int64\n",
      "2868\n",
      "pub_rec_bankruptcies\n",
      "[ 0.  1.  2. nan]\n",
      "0.0    37339\n",
      "1.0     1674\n",
      "2.0        7\n",
      "Name: pub_rec_bankruptcies, dtype: int64\n",
      "3\n"
     ]
    }
   ],
   "source": [
    "# check the unique data persent across various columns by checking the unique values and its value counts\n",
    "for i in df.columns:\n",
    "    print(i)\n",
    "    print(df[i].unique())\n",
    "    print(df[i].value_counts())\n",
    "    print(df[i].nunique())\n",
    "    "
   ]
  },
  {
   "cell_type": "code",
   "execution_count": 507,
   "id": "144dee2b",
   "metadata": {},
   "outputs": [
    {
     "data": {
      "text/plain": [
       "loan_amnt                 885\n",
       "funded_amnt              1041\n",
       "funded_amnt_inv          8205\n",
       "term                        2\n",
       "int_rate                  371\n",
       "installment             15383\n",
       "grade                       7\n",
       "sub_grade                  35\n",
       "emp_length                 11\n",
       "home_ownership              5\n",
       "annual_inc               5318\n",
       "verification_status         3\n",
       "issue_d                    55\n",
       "loan_status                 3\n",
       "purpose                    14\n",
       "addr_state                 50\n",
       "dti                      2868\n",
       "pub_rec_bankruptcies        3\n",
       "dtype: int64"
      ]
     },
     "execution_count": 507,
     "metadata": {},
     "output_type": "execute_result"
    }
   ],
   "source": [
    "# check the columns total unique values.\n",
    "df.nunique()"
   ]
  },
  {
   "cell_type": "code",
   "execution_count": 508,
   "id": "7369b986",
   "metadata": {},
   "outputs": [
    {
     "data": {
      "text/html": [
       "<div>\n",
       "<style scoped>\n",
       "    .dataframe tbody tr th:only-of-type {\n",
       "        vertical-align: middle;\n",
       "    }\n",
       "\n",
       "    .dataframe tbody tr th {\n",
       "        vertical-align: top;\n",
       "    }\n",
       "\n",
       "    .dataframe thead th {\n",
       "        text-align: right;\n",
       "    }\n",
       "</style>\n",
       "<table border=\"1\" class=\"dataframe\">\n",
       "  <thead>\n",
       "    <tr style=\"text-align: right;\">\n",
       "      <th></th>\n",
       "      <th>loan_amnt</th>\n",
       "      <th>funded_amnt</th>\n",
       "      <th>funded_amnt_inv</th>\n",
       "      <th>term</th>\n",
       "      <th>int_rate</th>\n",
       "      <th>installment</th>\n",
       "      <th>grade</th>\n",
       "      <th>sub_grade</th>\n",
       "      <th>emp_length</th>\n",
       "      <th>home_ownership</th>\n",
       "      <th>annual_inc</th>\n",
       "      <th>verification_status</th>\n",
       "      <th>issue_d</th>\n",
       "      <th>loan_status</th>\n",
       "      <th>purpose</th>\n",
       "      <th>addr_state</th>\n",
       "      <th>dti</th>\n",
       "      <th>pub_rec_bankruptcies</th>\n",
       "    </tr>\n",
       "  </thead>\n",
       "  <tbody>\n",
       "    <tr>\n",
       "      <th>0</th>\n",
       "      <td>5000</td>\n",
       "      <td>5000</td>\n",
       "      <td>4975.0</td>\n",
       "      <td>36 months</td>\n",
       "      <td>10.65%</td>\n",
       "      <td>162.87</td>\n",
       "      <td>B</td>\n",
       "      <td>B2</td>\n",
       "      <td>10+ years</td>\n",
       "      <td>RENT</td>\n",
       "      <td>24000.0</td>\n",
       "      <td>Verified</td>\n",
       "      <td>Dec-11</td>\n",
       "      <td>Fully Paid</td>\n",
       "      <td>credit_card</td>\n",
       "      <td>AZ</td>\n",
       "      <td>27.65</td>\n",
       "      <td>0.0</td>\n",
       "    </tr>\n",
       "    <tr>\n",
       "      <th>1</th>\n",
       "      <td>2500</td>\n",
       "      <td>2500</td>\n",
       "      <td>2500.0</td>\n",
       "      <td>60 months</td>\n",
       "      <td>15.27%</td>\n",
       "      <td>59.83</td>\n",
       "      <td>C</td>\n",
       "      <td>C4</td>\n",
       "      <td>&lt; 1 year</td>\n",
       "      <td>RENT</td>\n",
       "      <td>30000.0</td>\n",
       "      <td>Source Verified</td>\n",
       "      <td>Dec-11</td>\n",
       "      <td>Charged Off</td>\n",
       "      <td>car</td>\n",
       "      <td>GA</td>\n",
       "      <td>1.00</td>\n",
       "      <td>0.0</td>\n",
       "    </tr>\n",
       "    <tr>\n",
       "      <th>2</th>\n",
       "      <td>2400</td>\n",
       "      <td>2400</td>\n",
       "      <td>2400.0</td>\n",
       "      <td>36 months</td>\n",
       "      <td>15.96%</td>\n",
       "      <td>84.33</td>\n",
       "      <td>C</td>\n",
       "      <td>C5</td>\n",
       "      <td>10+ years</td>\n",
       "      <td>RENT</td>\n",
       "      <td>12252.0</td>\n",
       "      <td>Not Verified</td>\n",
       "      <td>Dec-11</td>\n",
       "      <td>Fully Paid</td>\n",
       "      <td>small_business</td>\n",
       "      <td>IL</td>\n",
       "      <td>8.72</td>\n",
       "      <td>0.0</td>\n",
       "    </tr>\n",
       "    <tr>\n",
       "      <th>3</th>\n",
       "      <td>10000</td>\n",
       "      <td>10000</td>\n",
       "      <td>10000.0</td>\n",
       "      <td>36 months</td>\n",
       "      <td>13.49%</td>\n",
       "      <td>339.31</td>\n",
       "      <td>C</td>\n",
       "      <td>C1</td>\n",
       "      <td>10+ years</td>\n",
       "      <td>RENT</td>\n",
       "      <td>49200.0</td>\n",
       "      <td>Source Verified</td>\n",
       "      <td>Dec-11</td>\n",
       "      <td>Fully Paid</td>\n",
       "      <td>other</td>\n",
       "      <td>CA</td>\n",
       "      <td>20.00</td>\n",
       "      <td>0.0</td>\n",
       "    </tr>\n",
       "    <tr>\n",
       "      <th>4</th>\n",
       "      <td>3000</td>\n",
       "      <td>3000</td>\n",
       "      <td>3000.0</td>\n",
       "      <td>60 months</td>\n",
       "      <td>12.69%</td>\n",
       "      <td>67.79</td>\n",
       "      <td>B</td>\n",
       "      <td>B5</td>\n",
       "      <td>1 year</td>\n",
       "      <td>RENT</td>\n",
       "      <td>80000.0</td>\n",
       "      <td>Source Verified</td>\n",
       "      <td>Dec-11</td>\n",
       "      <td>Current</td>\n",
       "      <td>other</td>\n",
       "      <td>OR</td>\n",
       "      <td>17.94</td>\n",
       "      <td>0.0</td>\n",
       "    </tr>\n",
       "  </tbody>\n",
       "</table>\n",
       "</div>"
      ],
      "text/plain": [
       "   loan_amnt  funded_amnt  funded_amnt_inv        term int_rate  installment  \\\n",
       "0       5000         5000           4975.0   36 months   10.65%       162.87   \n",
       "1       2500         2500           2500.0   60 months   15.27%        59.83   \n",
       "2       2400         2400           2400.0   36 months   15.96%        84.33   \n",
       "3      10000        10000          10000.0   36 months   13.49%       339.31   \n",
       "4       3000         3000           3000.0   60 months   12.69%        67.79   \n",
       "\n",
       "  grade sub_grade emp_length home_ownership  annual_inc verification_status  \\\n",
       "0     B        B2  10+ years           RENT     24000.0            Verified   \n",
       "1     C        C4   < 1 year           RENT     30000.0     Source Verified   \n",
       "2     C        C5  10+ years           RENT     12252.0        Not Verified   \n",
       "3     C        C1  10+ years           RENT     49200.0     Source Verified   \n",
       "4     B        B5     1 year           RENT     80000.0     Source Verified   \n",
       "\n",
       "  issue_d  loan_status         purpose addr_state    dti  pub_rec_bankruptcies  \n",
       "0  Dec-11   Fully Paid     credit_card         AZ  27.65                   0.0  \n",
       "1  Dec-11  Charged Off             car         GA   1.00                   0.0  \n",
       "2  Dec-11   Fully Paid  small_business         IL   8.72                   0.0  \n",
       "3  Dec-11   Fully Paid           other         CA  20.00                   0.0  \n",
       "4  Dec-11      Current           other         OR  17.94                   0.0  "
      ]
     },
     "execution_count": 508,
     "metadata": {},
     "output_type": "execute_result"
    }
   ],
   "source": [
    "# get the top 5 rows of the dataframe\n",
    "df.head()"
   ]
  },
  {
   "cell_type": "markdown",
   "id": "d4bfe654",
   "metadata": {},
   "source": [
    "# Standardizing the columns data"
   ]
  },
  {
   "cell_type": "code",
   "execution_count": 509,
   "id": "c7c089b3",
   "metadata": {},
   "outputs": [
    {
     "data": {
      "text/plain": [
       "10.99%    956\n",
       "13.49%    826\n",
       "11.49%    825\n",
       "7.51%     787\n",
       "7.88%     725\n",
       "         ... \n",
       "18.36%      1\n",
       "16.96%      1\n",
       "16.15%      1\n",
       "16.01%      1\n",
       "17.44%      1\n",
       "Name: int_rate, Length: 371, dtype: int64"
      ]
     },
     "execution_count": 509,
     "metadata": {},
     "output_type": "execute_result"
    }
   ],
   "source": [
    "# check the int_rate column, it is observed that it is a floating number with % assigned to it. Lets remove the percentage\n",
    "\n",
    "df.int_rate.value_counts()"
   ]
  },
  {
   "cell_type": "code",
   "execution_count": 510,
   "id": "226f10d0",
   "metadata": {},
   "outputs": [],
   "source": [
    "# replace the percentage value from int_rate\n",
    "df['int_rate'].replace(\"%\",'',regex=True,inplace=True)"
   ]
  },
  {
   "cell_type": "code",
   "execution_count": 511,
   "id": "ad8fb3c0",
   "metadata": {},
   "outputs": [],
   "source": [
    "# conver the int_rate to float datatype\n",
    "df.int_rate=df.int_rate.astype(float)"
   ]
  },
  {
   "cell_type": "code",
   "execution_count": 512,
   "id": "41b43984",
   "metadata": {},
   "outputs": [
    {
     "data": {
      "text/plain": [
       "loan_amnt                 int64\n",
       "funded_amnt               int64\n",
       "funded_amnt_inv         float64\n",
       "term                     object\n",
       "int_rate                float64\n",
       "installment             float64\n",
       "grade                    object\n",
       "sub_grade                object\n",
       "emp_length               object\n",
       "home_ownership           object\n",
       "annual_inc              float64\n",
       "verification_status      object\n",
       "issue_d                  object\n",
       "loan_status              object\n",
       "purpose                  object\n",
       "addr_state               object\n",
       "dti                     float64\n",
       "pub_rec_bankruptcies    float64\n",
       "dtype: object"
      ]
     },
     "execution_count": 512,
     "metadata": {},
     "output_type": "execute_result"
    }
   ],
   "source": [
    "# check the datatypes of the columns\n",
    "df.dtypes"
   ]
  },
  {
   "cell_type": "code",
   "execution_count": 513,
   "id": "478add10",
   "metadata": {},
   "outputs": [
    {
     "data": {
      "text/plain": [
       "10+ years    8879\n",
       "< 1 year     4583\n",
       "2 years      4388\n",
       "3 years      4095\n",
       "4 years      3436\n",
       "5 years      3282\n",
       "1 year       3240\n",
       "6 years      2229\n",
       "7 years      1773\n",
       "8 years      1479\n",
       "9 years      1258\n",
       "Name: emp_length, dtype: int64"
      ]
     },
     "execution_count": 513,
     "metadata": {},
     "output_type": "execute_result"
    }
   ],
   "source": [
    "# get the value counts for emp_length\n",
    "df.emp_length.value_counts()"
   ]
  },
  {
   "cell_type": "code",
   "execution_count": 514,
   "id": "a52975a1",
   "metadata": {},
   "outputs": [
    {
     "data": {
      "text/plain": [
       "array(['10 ', ' 1 ', '1 ', '3 ', '8 ', '9 ', '4 ', '5 ', '6 ', '2 ', '7 ',\n",
       "       nan], dtype=object)"
      ]
     },
     "execution_count": 514,
     "metadata": {},
     "output_type": "execute_result"
    }
   ],
   "source": [
    "#replace the unnecessary details in emp_length=('years','year','<','+')\n",
    "df.emp_length = df.emp_length.str.replace('years',\"\")\n",
    "df.emp_length = df.emp_length.str.replace('year',\"\")\n",
    "df.emp_length = df.emp_length.str.replace('<',\"\")\n",
    "df.emp_length = df.emp_length.str.replace('+',\"\")\n",
    "\n",
    "df.emp_length.unique()"
   ]
  },
  {
   "cell_type": "code",
   "execution_count": 515,
   "id": "b1515f87",
   "metadata": {},
   "outputs": [
    {
     "data": {
      "text/plain": [
       "10     8879\n",
       " 1     4583\n",
       "2      4388\n",
       "3      4095\n",
       "4      3436\n",
       "5      3282\n",
       "1      3240\n",
       "6      2229\n",
       "7      1773\n",
       "8      1479\n",
       "9      1258\n",
       "Name: emp_length, dtype: int64"
      ]
     },
     "execution_count": 515,
     "metadata": {},
     "output_type": "execute_result"
    }
   ],
   "source": [
    "# get the distribution of row count\n",
    "df.emp_length.value_counts()"
   ]
  },
  {
   "cell_type": "code",
   "execution_count": 516,
   "id": "3f974dcb",
   "metadata": {},
   "outputs": [
    {
     "data": {
      "text/plain": [
       "1075"
      ]
     },
     "execution_count": 516,
     "metadata": {},
     "output_type": "execute_result"
    }
   ],
   "source": [
    "# check if there are any null values \n",
    "df.emp_length.isnull().sum()"
   ]
  },
  {
   "cell_type": "code",
   "execution_count": 517,
   "id": "b081e9ce",
   "metadata": {},
   "outputs": [],
   "source": [
    "# replace nulls with 0 and change the column datatype to int\n",
    "df.emp_length = df.emp_length.replace(np.nan,0).astype(int)"
   ]
  },
  {
   "cell_type": "code",
   "execution_count": 518,
   "id": "a5ac0314",
   "metadata": {},
   "outputs": [
    {
     "data": {
      "text/plain": [
       "0"
      ]
     },
     "execution_count": 518,
     "metadata": {},
     "output_type": "execute_result"
    }
   ],
   "source": [
    "# check the null value count\n",
    "df.emp_length.isnull().sum()"
   ]
  },
  {
   "cell_type": "code",
   "execution_count": 519,
   "id": "413c6171",
   "metadata": {},
   "outputs": [
    {
     "data": {
      "text/plain": [
       "10    8879\n",
       "1     7823\n",
       "2     4388\n",
       "3     4095\n",
       "4     3436\n",
       "5     3282\n",
       "6     2229\n",
       "7     1773\n",
       "8     1479\n",
       "9     1258\n",
       "0     1075\n",
       "Name: emp_length, dtype: int64"
      ]
     },
     "execution_count": 519,
     "metadata": {},
     "output_type": "execute_result"
    }
   ],
   "source": [
    "# check the distirbution of rows for emp_length\n",
    "df.emp_length.value_counts()"
   ]
  },
  {
   "cell_type": "code",
   "execution_count": 520,
   "id": "64e184ab",
   "metadata": {},
   "outputs": [
    {
     "data": {
      "text/plain": [
       "array([ 0.,  1.,  2., nan])"
      ]
     },
     "execution_count": 520,
     "metadata": {},
     "output_type": "execute_result"
    }
   ],
   "source": [
    "# check for the unique value of  pub_rec_bankruptcies\n",
    "df.pub_rec_bankruptcies.unique()"
   ]
  },
  {
   "cell_type": "code",
   "execution_count": 521,
   "id": "07089675",
   "metadata": {},
   "outputs": [],
   "source": [
    "# replace the nan value to 0 for pub_rec_bankruptcies\n",
    "df.pub_rec_bankruptcies.replace(np.nan,0,inplace=True)"
   ]
  },
  {
   "cell_type": "code",
   "execution_count": 522,
   "id": "95af5af3",
   "metadata": {},
   "outputs": [
    {
     "data": {
      "text/plain": [
       "array([0., 1., 2.])"
      ]
     },
     "execution_count": 522,
     "metadata": {},
     "output_type": "execute_result"
    }
   ],
   "source": [
    "# check the unique values\n",
    "df.pub_rec_bankruptcies.unique()"
   ]
  },
  {
   "cell_type": "code",
   "execution_count": 523,
   "id": "ad44f044",
   "metadata": {},
   "outputs": [
    {
     "data": {
      "text/plain": [
       "0.0    38036\n",
       "1.0     1674\n",
       "2.0        7\n",
       "Name: pub_rec_bankruptcies, dtype: int64"
      ]
     },
     "execution_count": 523,
     "metadata": {},
     "output_type": "execute_result"
    }
   ],
   "source": [
    "# check the count of values for pub_rec_bankruptcies\n",
    "df.pub_rec_bankruptcies.value_counts()"
   ]
  },
  {
   "cell_type": "code",
   "execution_count": 524,
   "id": "527b5768",
   "metadata": {},
   "outputs": [
    {
     "data": {
      "text/html": [
       "<div>\n",
       "<style scoped>\n",
       "    .dataframe tbody tr th:only-of-type {\n",
       "        vertical-align: middle;\n",
       "    }\n",
       "\n",
       "    .dataframe tbody tr th {\n",
       "        vertical-align: top;\n",
       "    }\n",
       "\n",
       "    .dataframe thead th {\n",
       "        text-align: right;\n",
       "    }\n",
       "</style>\n",
       "<table border=\"1\" class=\"dataframe\">\n",
       "  <thead>\n",
       "    <tr style=\"text-align: right;\">\n",
       "      <th></th>\n",
       "      <th>loan_amnt</th>\n",
       "      <th>funded_amnt</th>\n",
       "      <th>funded_amnt_inv</th>\n",
       "      <th>term</th>\n",
       "      <th>int_rate</th>\n",
       "      <th>installment</th>\n",
       "      <th>grade</th>\n",
       "      <th>sub_grade</th>\n",
       "      <th>emp_length</th>\n",
       "      <th>home_ownership</th>\n",
       "      <th>annual_inc</th>\n",
       "      <th>verification_status</th>\n",
       "      <th>issue_d</th>\n",
       "      <th>loan_status</th>\n",
       "      <th>purpose</th>\n",
       "      <th>addr_state</th>\n",
       "      <th>dti</th>\n",
       "      <th>pub_rec_bankruptcies</th>\n",
       "    </tr>\n",
       "  </thead>\n",
       "  <tbody>\n",
       "    <tr>\n",
       "      <th>0</th>\n",
       "      <td>5000</td>\n",
       "      <td>5000</td>\n",
       "      <td>4975.0</td>\n",
       "      <td>36 months</td>\n",
       "      <td>10.65</td>\n",
       "      <td>162.87</td>\n",
       "      <td>B</td>\n",
       "      <td>B2</td>\n",
       "      <td>10</td>\n",
       "      <td>RENT</td>\n",
       "      <td>24000.0</td>\n",
       "      <td>Verified</td>\n",
       "      <td>Dec-11</td>\n",
       "      <td>Fully Paid</td>\n",
       "      <td>credit_card</td>\n",
       "      <td>AZ</td>\n",
       "      <td>27.65</td>\n",
       "      <td>0.0</td>\n",
       "    </tr>\n",
       "    <tr>\n",
       "      <th>1</th>\n",
       "      <td>2500</td>\n",
       "      <td>2500</td>\n",
       "      <td>2500.0</td>\n",
       "      <td>60 months</td>\n",
       "      <td>15.27</td>\n",
       "      <td>59.83</td>\n",
       "      <td>C</td>\n",
       "      <td>C4</td>\n",
       "      <td>1</td>\n",
       "      <td>RENT</td>\n",
       "      <td>30000.0</td>\n",
       "      <td>Source Verified</td>\n",
       "      <td>Dec-11</td>\n",
       "      <td>Charged Off</td>\n",
       "      <td>car</td>\n",
       "      <td>GA</td>\n",
       "      <td>1.00</td>\n",
       "      <td>0.0</td>\n",
       "    </tr>\n",
       "    <tr>\n",
       "      <th>2</th>\n",
       "      <td>2400</td>\n",
       "      <td>2400</td>\n",
       "      <td>2400.0</td>\n",
       "      <td>36 months</td>\n",
       "      <td>15.96</td>\n",
       "      <td>84.33</td>\n",
       "      <td>C</td>\n",
       "      <td>C5</td>\n",
       "      <td>10</td>\n",
       "      <td>RENT</td>\n",
       "      <td>12252.0</td>\n",
       "      <td>Not Verified</td>\n",
       "      <td>Dec-11</td>\n",
       "      <td>Fully Paid</td>\n",
       "      <td>small_business</td>\n",
       "      <td>IL</td>\n",
       "      <td>8.72</td>\n",
       "      <td>0.0</td>\n",
       "    </tr>\n",
       "    <tr>\n",
       "      <th>3</th>\n",
       "      <td>10000</td>\n",
       "      <td>10000</td>\n",
       "      <td>10000.0</td>\n",
       "      <td>36 months</td>\n",
       "      <td>13.49</td>\n",
       "      <td>339.31</td>\n",
       "      <td>C</td>\n",
       "      <td>C1</td>\n",
       "      <td>10</td>\n",
       "      <td>RENT</td>\n",
       "      <td>49200.0</td>\n",
       "      <td>Source Verified</td>\n",
       "      <td>Dec-11</td>\n",
       "      <td>Fully Paid</td>\n",
       "      <td>other</td>\n",
       "      <td>CA</td>\n",
       "      <td>20.00</td>\n",
       "      <td>0.0</td>\n",
       "    </tr>\n",
       "    <tr>\n",
       "      <th>4</th>\n",
       "      <td>3000</td>\n",
       "      <td>3000</td>\n",
       "      <td>3000.0</td>\n",
       "      <td>60 months</td>\n",
       "      <td>12.69</td>\n",
       "      <td>67.79</td>\n",
       "      <td>B</td>\n",
       "      <td>B5</td>\n",
       "      <td>1</td>\n",
       "      <td>RENT</td>\n",
       "      <td>80000.0</td>\n",
       "      <td>Source Verified</td>\n",
       "      <td>Dec-11</td>\n",
       "      <td>Current</td>\n",
       "      <td>other</td>\n",
       "      <td>OR</td>\n",
       "      <td>17.94</td>\n",
       "      <td>0.0</td>\n",
       "    </tr>\n",
       "  </tbody>\n",
       "</table>\n",
       "</div>"
      ],
      "text/plain": [
       "   loan_amnt  funded_amnt  funded_amnt_inv        term  int_rate  installment  \\\n",
       "0       5000         5000           4975.0   36 months     10.65       162.87   \n",
       "1       2500         2500           2500.0   60 months     15.27        59.83   \n",
       "2       2400         2400           2400.0   36 months     15.96        84.33   \n",
       "3      10000        10000          10000.0   36 months     13.49       339.31   \n",
       "4       3000         3000           3000.0   60 months     12.69        67.79   \n",
       "\n",
       "  grade sub_grade  emp_length home_ownership  annual_inc verification_status  \\\n",
       "0     B        B2          10           RENT     24000.0            Verified   \n",
       "1     C        C4           1           RENT     30000.0     Source Verified   \n",
       "2     C        C5          10           RENT     12252.0        Not Verified   \n",
       "3     C        C1          10           RENT     49200.0     Source Verified   \n",
       "4     B        B5           1           RENT     80000.0     Source Verified   \n",
       "\n",
       "  issue_d  loan_status         purpose addr_state    dti  pub_rec_bankruptcies  \n",
       "0  Dec-11   Fully Paid     credit_card         AZ  27.65                   0.0  \n",
       "1  Dec-11  Charged Off             car         GA   1.00                   0.0  \n",
       "2  Dec-11   Fully Paid  small_business         IL   8.72                   0.0  \n",
       "3  Dec-11   Fully Paid           other         CA  20.00                   0.0  \n",
       "4  Dec-11      Current           other         OR  17.94                   0.0  "
      ]
     },
     "execution_count": 524,
     "metadata": {},
     "output_type": "execute_result"
    }
   ],
   "source": [
    "# get the top 5 rows\n",
    "df.head()"
   ]
  },
  {
   "cell_type": "code",
   "execution_count": 525,
   "id": "2e342f55",
   "metadata": {},
   "outputs": [],
   "source": [
    "# convert the issue_d to datetype format\n",
    "df.issue_d=pd.to_datetime(df[\"issue_d\"], format=\"%b-%y\")"
   ]
  },
  {
   "cell_type": "code",
   "execution_count": 526,
   "id": "9a551c72",
   "metadata": {},
   "outputs": [
    {
     "data": {
      "text/html": [
       "<div>\n",
       "<style scoped>\n",
       "    .dataframe tbody tr th:only-of-type {\n",
       "        vertical-align: middle;\n",
       "    }\n",
       "\n",
       "    .dataframe tbody tr th {\n",
       "        vertical-align: top;\n",
       "    }\n",
       "\n",
       "    .dataframe thead th {\n",
       "        text-align: right;\n",
       "    }\n",
       "</style>\n",
       "<table border=\"1\" class=\"dataframe\">\n",
       "  <thead>\n",
       "    <tr style=\"text-align: right;\">\n",
       "      <th></th>\n",
       "      <th>loan_amnt</th>\n",
       "      <th>funded_amnt</th>\n",
       "      <th>funded_amnt_inv</th>\n",
       "      <th>term</th>\n",
       "      <th>int_rate</th>\n",
       "      <th>installment</th>\n",
       "      <th>grade</th>\n",
       "      <th>sub_grade</th>\n",
       "      <th>emp_length</th>\n",
       "      <th>home_ownership</th>\n",
       "      <th>annual_inc</th>\n",
       "      <th>verification_status</th>\n",
       "      <th>issue_d</th>\n",
       "      <th>loan_status</th>\n",
       "      <th>purpose</th>\n",
       "      <th>addr_state</th>\n",
       "      <th>dti</th>\n",
       "      <th>pub_rec_bankruptcies</th>\n",
       "    </tr>\n",
       "  </thead>\n",
       "  <tbody>\n",
       "    <tr>\n",
       "      <th>0</th>\n",
       "      <td>5000</td>\n",
       "      <td>5000</td>\n",
       "      <td>4975.0</td>\n",
       "      <td>36 months</td>\n",
       "      <td>10.65</td>\n",
       "      <td>162.87</td>\n",
       "      <td>B</td>\n",
       "      <td>B2</td>\n",
       "      <td>10</td>\n",
       "      <td>RENT</td>\n",
       "      <td>24000.0</td>\n",
       "      <td>Verified</td>\n",
       "      <td>2011-12-01</td>\n",
       "      <td>Fully Paid</td>\n",
       "      <td>credit_card</td>\n",
       "      <td>AZ</td>\n",
       "      <td>27.65</td>\n",
       "      <td>0.0</td>\n",
       "    </tr>\n",
       "    <tr>\n",
       "      <th>1</th>\n",
       "      <td>2500</td>\n",
       "      <td>2500</td>\n",
       "      <td>2500.0</td>\n",
       "      <td>60 months</td>\n",
       "      <td>15.27</td>\n",
       "      <td>59.83</td>\n",
       "      <td>C</td>\n",
       "      <td>C4</td>\n",
       "      <td>1</td>\n",
       "      <td>RENT</td>\n",
       "      <td>30000.0</td>\n",
       "      <td>Source Verified</td>\n",
       "      <td>2011-12-01</td>\n",
       "      <td>Charged Off</td>\n",
       "      <td>car</td>\n",
       "      <td>GA</td>\n",
       "      <td>1.00</td>\n",
       "      <td>0.0</td>\n",
       "    </tr>\n",
       "    <tr>\n",
       "      <th>2</th>\n",
       "      <td>2400</td>\n",
       "      <td>2400</td>\n",
       "      <td>2400.0</td>\n",
       "      <td>36 months</td>\n",
       "      <td>15.96</td>\n",
       "      <td>84.33</td>\n",
       "      <td>C</td>\n",
       "      <td>C5</td>\n",
       "      <td>10</td>\n",
       "      <td>RENT</td>\n",
       "      <td>12252.0</td>\n",
       "      <td>Not Verified</td>\n",
       "      <td>2011-12-01</td>\n",
       "      <td>Fully Paid</td>\n",
       "      <td>small_business</td>\n",
       "      <td>IL</td>\n",
       "      <td>8.72</td>\n",
       "      <td>0.0</td>\n",
       "    </tr>\n",
       "    <tr>\n",
       "      <th>3</th>\n",
       "      <td>10000</td>\n",
       "      <td>10000</td>\n",
       "      <td>10000.0</td>\n",
       "      <td>36 months</td>\n",
       "      <td>13.49</td>\n",
       "      <td>339.31</td>\n",
       "      <td>C</td>\n",
       "      <td>C1</td>\n",
       "      <td>10</td>\n",
       "      <td>RENT</td>\n",
       "      <td>49200.0</td>\n",
       "      <td>Source Verified</td>\n",
       "      <td>2011-12-01</td>\n",
       "      <td>Fully Paid</td>\n",
       "      <td>other</td>\n",
       "      <td>CA</td>\n",
       "      <td>20.00</td>\n",
       "      <td>0.0</td>\n",
       "    </tr>\n",
       "    <tr>\n",
       "      <th>4</th>\n",
       "      <td>3000</td>\n",
       "      <td>3000</td>\n",
       "      <td>3000.0</td>\n",
       "      <td>60 months</td>\n",
       "      <td>12.69</td>\n",
       "      <td>67.79</td>\n",
       "      <td>B</td>\n",
       "      <td>B5</td>\n",
       "      <td>1</td>\n",
       "      <td>RENT</td>\n",
       "      <td>80000.0</td>\n",
       "      <td>Source Verified</td>\n",
       "      <td>2011-12-01</td>\n",
       "      <td>Current</td>\n",
       "      <td>other</td>\n",
       "      <td>OR</td>\n",
       "      <td>17.94</td>\n",
       "      <td>0.0</td>\n",
       "    </tr>\n",
       "  </tbody>\n",
       "</table>\n",
       "</div>"
      ],
      "text/plain": [
       "   loan_amnt  funded_amnt  funded_amnt_inv        term  int_rate  installment  \\\n",
       "0       5000         5000           4975.0   36 months     10.65       162.87   \n",
       "1       2500         2500           2500.0   60 months     15.27        59.83   \n",
       "2       2400         2400           2400.0   36 months     15.96        84.33   \n",
       "3      10000        10000          10000.0   36 months     13.49       339.31   \n",
       "4       3000         3000           3000.0   60 months     12.69        67.79   \n",
       "\n",
       "  grade sub_grade  emp_length home_ownership  annual_inc verification_status  \\\n",
       "0     B        B2          10           RENT     24000.0            Verified   \n",
       "1     C        C4           1           RENT     30000.0     Source Verified   \n",
       "2     C        C5          10           RENT     12252.0        Not Verified   \n",
       "3     C        C1          10           RENT     49200.0     Source Verified   \n",
       "4     B        B5           1           RENT     80000.0     Source Verified   \n",
       "\n",
       "     issue_d  loan_status         purpose addr_state    dti  \\\n",
       "0 2011-12-01   Fully Paid     credit_card         AZ  27.65   \n",
       "1 2011-12-01  Charged Off             car         GA   1.00   \n",
       "2 2011-12-01   Fully Paid  small_business         IL   8.72   \n",
       "3 2011-12-01   Fully Paid           other         CA  20.00   \n",
       "4 2011-12-01      Current           other         OR  17.94   \n",
       "\n",
       "   pub_rec_bankruptcies  \n",
       "0                   0.0  \n",
       "1                   0.0  \n",
       "2                   0.0  \n",
       "3                   0.0  \n",
       "4                   0.0  "
      ]
     },
     "execution_count": 526,
     "metadata": {},
     "output_type": "execute_result"
    }
   ],
   "source": [
    "# get the top 5 rows\n",
    "df.head()"
   ]
  },
  {
   "cell_type": "code",
   "execution_count": 527,
   "id": "d92b4f0c",
   "metadata": {},
   "outputs": [
    {
     "data": {
      "text/plain": [
       "loan_amnt                        int64\n",
       "funded_amnt                      int64\n",
       "funded_amnt_inv                float64\n",
       "term                            object\n",
       "int_rate                       float64\n",
       "installment                    float64\n",
       "grade                           object\n",
       "sub_grade                       object\n",
       "emp_length                       int64\n",
       "home_ownership                  object\n",
       "annual_inc                     float64\n",
       "verification_status             object\n",
       "issue_d                 datetime64[ns]\n",
       "loan_status                     object\n",
       "purpose                         object\n",
       "addr_state                      object\n",
       "dti                            float64\n",
       "pub_rec_bankruptcies           float64\n",
       "dtype: object"
      ]
     },
     "execution_count": 527,
     "metadata": {},
     "output_type": "execute_result"
    }
   ],
   "source": [
    "# check the datatypes of the columns\n",
    "df.dtypes"
   ]
  },
  {
   "cell_type": "code",
   "execution_count": 528,
   "id": "3b0a569b",
   "metadata": {},
   "outputs": [],
   "source": [
    "# for the issue_d columns lets derive column month\n",
    "\n",
    "df['issue_d_month'] = pd.DatetimeIndex(df.issue_d).month"
   ]
  },
  {
   "cell_type": "code",
   "execution_count": 529,
   "id": "c5486ec6",
   "metadata": {},
   "outputs": [
    {
     "data": {
      "text/plain": [
       "array([12, 11, 10,  9,  8,  7,  6,  5,  4,  3,  2,  1])"
      ]
     },
     "execution_count": 529,
     "metadata": {},
     "output_type": "execute_result"
    }
   ],
   "source": [
    "# check the unique value for issue_d_month\n",
    "df['issue_d_month'].unique()"
   ]
  },
  {
   "cell_type": "code",
   "execution_count": 530,
   "id": "c418d360",
   "metadata": {},
   "outputs": [],
   "source": [
    "# for the issue_d columns lets derive column year\n",
    "df['issue_d_year'] = pd.DatetimeIndex(df.issue_d).year"
   ]
  },
  {
   "cell_type": "code",
   "execution_count": 531,
   "id": "84dac36e",
   "metadata": {},
   "outputs": [
    {
     "data": {
      "text/plain": [
       "array([2011, 2010, 2009, 2008, 2007])"
      ]
     },
     "execution_count": 531,
     "metadata": {},
     "output_type": "execute_result"
    }
   ],
   "source": [
    "# check the unique value for issue_d_year\n",
    "df['issue_d_year'].unique()"
   ]
  },
  {
   "cell_type": "code",
   "execution_count": 532,
   "id": "81c3a6f0",
   "metadata": {},
   "outputs": [
    {
     "data": {
      "text/plain": [
       "loan_amnt                        int64\n",
       "funded_amnt                      int64\n",
       "funded_amnt_inv                float64\n",
       "term                            object\n",
       "int_rate                       float64\n",
       "installment                    float64\n",
       "grade                           object\n",
       "sub_grade                       object\n",
       "emp_length                       int64\n",
       "home_ownership                  object\n",
       "annual_inc                     float64\n",
       "verification_status             object\n",
       "issue_d                 datetime64[ns]\n",
       "loan_status                     object\n",
       "purpose                         object\n",
       "addr_state                      object\n",
       "dti                            float64\n",
       "pub_rec_bankruptcies           float64\n",
       "issue_d_month                    int64\n",
       "issue_d_year                     int64\n",
       "dtype: object"
      ]
     },
     "execution_count": 532,
     "metadata": {},
     "output_type": "execute_result"
    }
   ],
   "source": [
    "# check the datatypes of newly created columns\n",
    "df.dtypes"
   ]
  },
  {
   "cell_type": "markdown",
   "id": "f1e464a0",
   "metadata": {},
   "source": [
    "# Remove unwanted rows from observation"
   ]
  },
  {
   "cell_type": "code",
   "execution_count": 535,
   "id": "f07dd8fc",
   "metadata": {},
   "outputs": [
    {
     "data": {
      "text/plain": [
       "Fully Paid     32950\n",
       "Charged Off     5627\n",
       "Current         1140\n",
       "Name: loan_status, dtype: int64"
      ]
     },
     "execution_count": 535,
     "metadata": {},
     "output_type": "execute_result"
    }
   ],
   "source": [
    "#check the unique value for loan_status\n",
    "# since we need to analyze if the new loan application will default or not we will be able to get trend from only the past and not from the current\n",
    "# so we will remove the current rows from loan_status column\n",
    "\n",
    "df.loan_status.value_counts()"
   ]
  },
  {
   "cell_type": "code",
   "execution_count": 536,
   "id": "90f2cedb",
   "metadata": {},
   "outputs": [],
   "source": [
    "# create a new datafrom from df dataframe excluding the current rows from loan_status\n",
    "df_new= df[df['loan_status']!='Current']"
   ]
  },
  {
   "cell_type": "code",
   "execution_count": 538,
   "id": "3a2a7ea0",
   "metadata": {},
   "outputs": [
    {
     "data": {
      "text/plain": [
       "Fully Paid     32950\n",
       "Charged Off     5627\n",
       "Name: loan_status, dtype: int64"
      ]
     },
     "execution_count": 538,
     "metadata": {},
     "output_type": "execute_result"
    }
   ],
   "source": [
    "# check if the current rows are not there in the new df\n",
    "df_new.loan_status.value_counts()"
   ]
  },
  {
   "cell_type": "code",
   "execution_count": 553,
   "id": "b84976aa",
   "metadata": {},
   "outputs": [
    {
     "data": {
      "text/plain": [
       "(38577, 20)"
      ]
     },
     "execution_count": 553,
     "metadata": {},
     "output_type": "execute_result"
    }
   ],
   "source": [
    "# check the shape of the df_new dataframe\n",
    "df_new.shape"
   ]
  },
  {
   "cell_type": "markdown",
   "id": "980636dc",
   "metadata": {},
   "source": [
    "# Handling outliers"
   ]
  },
  {
   "cell_type": "code",
   "execution_count": 539,
   "id": "269bbd79",
   "metadata": {},
   "outputs": [
    {
     "data": {
      "text/html": [
       "<div>\n",
       "<style scoped>\n",
       "    .dataframe tbody tr th:only-of-type {\n",
       "        vertical-align: middle;\n",
       "    }\n",
       "\n",
       "    .dataframe tbody tr th {\n",
       "        vertical-align: top;\n",
       "    }\n",
       "\n",
       "    .dataframe thead th {\n",
       "        text-align: right;\n",
       "    }\n",
       "</style>\n",
       "<table border=\"1\" class=\"dataframe\">\n",
       "  <thead>\n",
       "    <tr style=\"text-align: right;\">\n",
       "      <th></th>\n",
       "      <th>loan_amnt</th>\n",
       "      <th>funded_amnt</th>\n",
       "      <th>funded_amnt_inv</th>\n",
       "      <th>int_rate</th>\n",
       "      <th>installment</th>\n",
       "      <th>emp_length</th>\n",
       "      <th>annual_inc</th>\n",
       "      <th>dti</th>\n",
       "      <th>pub_rec_bankruptcies</th>\n",
       "      <th>issue_d_month</th>\n",
       "      <th>issue_d_year</th>\n",
       "    </tr>\n",
       "  </thead>\n",
       "  <tbody>\n",
       "    <tr>\n",
       "      <th>count</th>\n",
       "      <td>38577.000000</td>\n",
       "      <td>38577.000000</td>\n",
       "      <td>38577.000000</td>\n",
       "      <td>38577.000000</td>\n",
       "      <td>38577.000000</td>\n",
       "      <td>38577.000000</td>\n",
       "      <td>3.857700e+04</td>\n",
       "      <td>38577.000000</td>\n",
       "      <td>38577.000000</td>\n",
       "      <td>38577.000000</td>\n",
       "      <td>38577.000000</td>\n",
       "    </tr>\n",
       "    <tr>\n",
       "      <th>mean</th>\n",
       "      <td>11047.025430</td>\n",
       "      <td>10784.058506</td>\n",
       "      <td>10222.481123</td>\n",
       "      <td>11.932219</td>\n",
       "      <td>322.466318</td>\n",
       "      <td>4.925526</td>\n",
       "      <td>6.877797e+04</td>\n",
       "      <td>13.272727</td>\n",
       "      <td>0.042694</td>\n",
       "      <td>7.114757</td>\n",
       "      <td>2010.309070</td>\n",
       "    </tr>\n",
       "    <tr>\n",
       "      <th>std</th>\n",
       "      <td>7348.441646</td>\n",
       "      <td>7090.306027</td>\n",
       "      <td>7022.720644</td>\n",
       "      <td>3.691327</td>\n",
       "      <td>208.639215</td>\n",
       "      <td>3.453921</td>\n",
       "      <td>6.421868e+04</td>\n",
       "      <td>6.673044</td>\n",
       "      <td>0.202809</td>\n",
       "      <td>3.408523</td>\n",
       "      <td>0.882658</td>\n",
       "    </tr>\n",
       "    <tr>\n",
       "      <th>min</th>\n",
       "      <td>500.000000</td>\n",
       "      <td>500.000000</td>\n",
       "      <td>0.000000</td>\n",
       "      <td>5.420000</td>\n",
       "      <td>15.690000</td>\n",
       "      <td>0.000000</td>\n",
       "      <td>4.000000e+03</td>\n",
       "      <td>0.000000</td>\n",
       "      <td>0.000000</td>\n",
       "      <td>1.000000</td>\n",
       "      <td>2007.000000</td>\n",
       "    </tr>\n",
       "    <tr>\n",
       "      <th>25%</th>\n",
       "      <td>5300.000000</td>\n",
       "      <td>5200.000000</td>\n",
       "      <td>5000.000000</td>\n",
       "      <td>8.940000</td>\n",
       "      <td>165.740000</td>\n",
       "      <td>2.000000</td>\n",
       "      <td>4.000000e+04</td>\n",
       "      <td>8.130000</td>\n",
       "      <td>0.000000</td>\n",
       "      <td>4.000000</td>\n",
       "      <td>2010.000000</td>\n",
       "    </tr>\n",
       "    <tr>\n",
       "      <th>50%</th>\n",
       "      <td>9600.000000</td>\n",
       "      <td>9550.000000</td>\n",
       "      <td>8733.440000</td>\n",
       "      <td>11.710000</td>\n",
       "      <td>277.860000</td>\n",
       "      <td>4.000000</td>\n",
       "      <td>5.886800e+04</td>\n",
       "      <td>13.370000</td>\n",
       "      <td>0.000000</td>\n",
       "      <td>7.000000</td>\n",
       "      <td>2011.000000</td>\n",
       "    </tr>\n",
       "    <tr>\n",
       "      <th>75%</th>\n",
       "      <td>15000.000000</td>\n",
       "      <td>15000.000000</td>\n",
       "      <td>14000.000000</td>\n",
       "      <td>14.380000</td>\n",
       "      <td>425.550000</td>\n",
       "      <td>9.000000</td>\n",
       "      <td>8.200000e+04</td>\n",
       "      <td>18.560000</td>\n",
       "      <td>0.000000</td>\n",
       "      <td>10.000000</td>\n",
       "      <td>2011.000000</td>\n",
       "    </tr>\n",
       "    <tr>\n",
       "      <th>max</th>\n",
       "      <td>35000.000000</td>\n",
       "      <td>35000.000000</td>\n",
       "      <td>35000.000000</td>\n",
       "      <td>24.400000</td>\n",
       "      <td>1305.190000</td>\n",
       "      <td>10.000000</td>\n",
       "      <td>6.000000e+06</td>\n",
       "      <td>29.990000</td>\n",
       "      <td>2.000000</td>\n",
       "      <td>12.000000</td>\n",
       "      <td>2011.000000</td>\n",
       "    </tr>\n",
       "  </tbody>\n",
       "</table>\n",
       "</div>"
      ],
      "text/plain": [
       "          loan_amnt   funded_amnt  funded_amnt_inv      int_rate  \\\n",
       "count  38577.000000  38577.000000     38577.000000  38577.000000   \n",
       "mean   11047.025430  10784.058506     10222.481123     11.932219   \n",
       "std     7348.441646   7090.306027      7022.720644      3.691327   \n",
       "min      500.000000    500.000000         0.000000      5.420000   \n",
       "25%     5300.000000   5200.000000      5000.000000      8.940000   \n",
       "50%     9600.000000   9550.000000      8733.440000     11.710000   \n",
       "75%    15000.000000  15000.000000     14000.000000     14.380000   \n",
       "max    35000.000000  35000.000000     35000.000000     24.400000   \n",
       "\n",
       "        installment    emp_length    annual_inc           dti  \\\n",
       "count  38577.000000  38577.000000  3.857700e+04  38577.000000   \n",
       "mean     322.466318      4.925526  6.877797e+04     13.272727   \n",
       "std      208.639215      3.453921  6.421868e+04      6.673044   \n",
       "min       15.690000      0.000000  4.000000e+03      0.000000   \n",
       "25%      165.740000      2.000000  4.000000e+04      8.130000   \n",
       "50%      277.860000      4.000000  5.886800e+04     13.370000   \n",
       "75%      425.550000      9.000000  8.200000e+04     18.560000   \n",
       "max     1305.190000     10.000000  6.000000e+06     29.990000   \n",
       "\n",
       "       pub_rec_bankruptcies  issue_d_month  issue_d_year  \n",
       "count          38577.000000   38577.000000  38577.000000  \n",
       "mean               0.042694       7.114757   2010.309070  \n",
       "std                0.202809       3.408523      0.882658  \n",
       "min                0.000000       1.000000   2007.000000  \n",
       "25%                0.000000       4.000000   2010.000000  \n",
       "50%                0.000000       7.000000   2011.000000  \n",
       "75%                0.000000      10.000000   2011.000000  \n",
       "max                2.000000      12.000000   2011.000000  "
      ]
     },
     "execution_count": 539,
     "metadata": {},
     "output_type": "execute_result"
    }
   ],
   "source": [
    "# Check for the distribution of data in the dataframe and look for outliers\n",
    "\n",
    "df_new.describe()"
   ]
  },
  {
   "cell_type": "code",
   "execution_count": 540,
   "id": "fdca8f2e",
   "metadata": {},
   "outputs": [],
   "source": [
    "# get the list of continous columns \n",
    "dis_columns = df_new.describe().columns"
   ]
  },
  {
   "cell_type": "code",
   "execution_count": 541,
   "id": "f56a8eac",
   "metadata": {},
   "outputs": [
    {
     "name": "stdout",
     "output_type": "stream",
     "text": [
      "loan_amnt iqr value is : 9700.0\n",
      "funded_amnt iqr value is : 9800.0\n",
      "funded_amnt_inv iqr value is : 9000.0\n",
      "int_rate iqr value is : 5.440000000000001\n",
      "installment iqr value is : 259.81\n",
      "emp_length iqr value is : 7.0\n",
      "annual_inc iqr value is : 42000.0\n",
      "dti iqr value is : 10.429999999999998\n",
      "pub_rec_bankruptcies iqr value is : 0.0\n",
      "issue_d_month iqr value is : 6.0\n",
      "issue_d_year iqr value is : 1.0\n"
     ]
    }
   ],
   "source": [
    "# check the iqr range for the continous columns\n",
    "for i in dis_columns:\n",
    "    Q1 = df_new[i].quantile(0.25)\n",
    "    Q3 = df_new[i].quantile(0.75)\n",
    "    IQR = Q3 - Q1\n",
    "    print(i, \"iqr value is :\", IQR)"
   ]
  },
  {
   "cell_type": "code",
   "execution_count": 542,
   "id": "b1017253",
   "metadata": {},
   "outputs": [
    {
     "name": "stdout",
     "output_type": "stream",
     "text": [
      "loan_amnt has 95 percentile value of :  25000.0\n",
      "funded_amnt has 95 percentile value of :  25000.0\n",
      "funded_amnt_inv has 95 percentile value of :  24500.06659\n",
      "int_rate has 95 percentile value of :  18.311999999999827\n",
      "installment has 95 percentile value of :  760.82\n",
      "emp_length has 95 percentile value of :  10.0\n",
      "annual_inc has 95 percentile value of :  140004.0\n",
      "dti has 95 percentile value of :  23.8\n",
      "pub_rec_bankruptcies has 95 percentile value of :  0.0\n",
      "issue_d_month has 95 percentile value of :  12.0\n",
      "issue_d_year has 95 percentile value of :  2011.0\n"
     ]
    }
   ],
   "source": [
    "# check the 95 percentile value for the continous columns\n",
    "for i in dis_columns:\n",
    "    print(i, \"has 95 percentile value of : \", np.percentile(df_new[i],95))"
   ]
  },
  {
   "cell_type": "code",
   "execution_count": 543,
   "id": "04c588b4",
   "metadata": {},
   "outputs": [
    {
     "name": "stdout",
     "output_type": "stream",
     "text": [
      "loan_amnt has 5 percentile value of :  2400.0\n",
      "funded_amnt has 5 percentile value of :  2400.0\n",
      "funded_amnt_inv has 5 percentile value of :  1800.0\n",
      "int_rate has 5 percentile value of :  6.17\n",
      "installment has 5 percentile value of :  70.61\n",
      "emp_length has 5 percentile value of :  1.0\n",
      "annual_inc has 5 percentile value of :  24000.0\n",
      "dti has 5 percentile value of :  2.1\n",
      "pub_rec_bankruptcies has 5 percentile value of :  0.0\n",
      "issue_d_month has 5 percentile value of :  1.0\n",
      "issue_d_year has 5 percentile value of :  2009.0\n"
     ]
    }
   ],
   "source": [
    "# check the 5 percentile value for the continous columns\n",
    "for i in dis_columns:\n",
    "    print(i, \"has 5 percentile value of : \", np.percentile(df_new[i],5))"
   ]
  },
  {
   "cell_type": "code",
   "execution_count": 554,
   "id": "f717dd46",
   "metadata": {},
   "outputs": [],
   "source": [
    "#plot box plot to understand the outliers in the continous variable. "
   ]
  },
  {
   "cell_type": "code",
   "execution_count": 555,
   "id": "675c6888",
   "metadata": {},
   "outputs": [
    {
     "data": {
      "text/plain": [
       "<AxesSubplot:xlabel='loan_amnt'>"
      ]
     },
     "execution_count": 555,
     "metadata": {},
     "output_type": "execute_result"
    },
    {
     "data": {
      "image/png": "[encoded data removed]",
      "text/plain": [
       "<Figure size 432x288 with 1 Axes>"
      ]
     },
     "metadata": {
      "needs_background": "light"
     },
     "output_type": "display_data"
    }
   ],
   "source": [
    "sns.boxplot(df_new['loan_amnt'])"
   ]
  },
  {
   "cell_type": "code",
   "execution_count": 556,
   "id": "0869eae6",
   "metadata": {},
   "outputs": [],
   "source": [
    "# create a new dataframe df_out to compare the analysis with and without outliers\n",
    "\n",
    "df_out = df_new.copy(deep=True)"
   ]
  },
  {
   "cell_type": "code",
   "execution_count": 557,
   "id": "f0e0536c",
   "metadata": {},
   "outputs": [],
   "source": [
    "# inpute the outlier values with 95% value \n",
    "df_out['loan_amnt'] = np.where(df_out[\"loan_amnt\"] >25000, 25000,df_out['loan_amnt'])"
   ]
  },
  {
   "cell_type": "code",
   "execution_count": 558,
   "id": "73633900",
   "metadata": {},
   "outputs": [
    {
     "data": {
      "text/plain": [
       "count    38577.000000\n",
       "mean     10798.207481\n",
       "std       6704.298424\n",
       "min        500.000000\n",
       "25%       5300.000000\n",
       "50%       9600.000000\n",
       "75%      15000.000000\n",
       "max      25000.000000\n",
       "Name: loan_amnt, dtype: float64"
      ]
     },
     "execution_count": 558,
     "metadata": {},
     "output_type": "execute_result"
    }
   ],
   "source": [
    "# check the distribution of the data post imputing\n",
    "df_out['loan_amnt'].describe()"
   ]
  },
  {
   "cell_type": "code",
   "execution_count": 559,
   "id": "145250ef",
   "metadata": {},
   "outputs": [
    {
     "data": {
      "text/plain": [
       "<AxesSubplot:xlabel='loan_amnt'>"
      ]
     },
     "execution_count": 559,
     "metadata": {},
     "output_type": "execute_result"
    },
    {
     "data": {
      "image/png": "[encoded data removed]",
      "text/plain": [
       "<Figure size 432x288 with 1 Axes>"
      ]
     },
     "metadata": {
      "needs_background": "light"
     },
     "output_type": "display_data"
    }
   ],
   "source": [
    "# create a box plot post fixing outliers\n",
    "# we can see that there are no outliers anymore. \n",
    "sns.boxplot(df_out['loan_amnt'])"
   ]
  },
  {
   "cell_type": "code",
   "execution_count": 560,
   "id": "8c676a68",
   "metadata": {},
   "outputs": [
    {
     "data": {
      "text/plain": [
       "<AxesSubplot:xlabel='funded_amnt'>"
      ]
     },
     "execution_count": 560,
     "metadata": {},
     "output_type": "execute_result"
    },
    {
     "data": {
      "image/png": "[encoded data removed]",
      "text/plain": [
       "<Figure size 432x288 with 1 Axes>"
      ]
     },
     "metadata": {
      "needs_background": "light"
     },
     "output_type": "display_data"
    }
   ],
   "source": [
    "# create a box plot for funded_amnt\n",
    "sns.boxplot(df_new['funded_amnt'])"
   ]
  },
  {
   "cell_type": "code",
   "execution_count": 561,
   "id": "61d0b16d",
   "metadata": {},
   "outputs": [],
   "source": [
    "# impute the 95 percentile value for funded_amount which are outliers\n",
    "df_out['funded_amnt'] = np.where(df_out[\"funded_amnt\"] >25000, 25000,df_out['funded_amnt'])"
   ]
  },
  {
   "cell_type": "code",
   "execution_count": 562,
   "id": "f32bd8c7",
   "metadata": {},
   "outputs": [
    {
     "data": {
      "text/plain": [
       "<AxesSubplot:xlabel='funded_amnt'>"
      ]
     },
     "execution_count": 562,
     "metadata": {},
     "output_type": "execute_result"
    },
    {
     "data": {
      "image/png": "[encoded data removed]",
      "text/plain": [
       "<Figure size 432x288 with 1 Axes>"
      ]
     },
     "metadata": {
      "needs_background": "light"
     },
     "output_type": "display_data"
    }
   ],
   "source": [
    "# create box plot post imputing the values \n",
    "sns.boxplot(df_out['funded_amnt'])"
   ]
  },
  {
   "cell_type": "code",
   "execution_count": 563,
   "id": "aa93e1bc",
   "metadata": {},
   "outputs": [
    {
     "data": {
      "text/plain": [
       "<AxesSubplot:xlabel='funded_amnt_inv'>"
      ]
     },
     "execution_count": 563,
     "metadata": {},
     "output_type": "execute_result"
    },
    {
     "data": {
      "image/png": "[encoded data removed]",
      "text/plain": [
       "<Figure size 432x288 with 1 Axes>"
      ]
     },
     "metadata": {
      "needs_background": "light"
     },
     "output_type": "display_data"
    }
   ],
   "source": [
    "# creat box plot for the funded_amnt_inv\n",
    "sns.boxplot(df_new['funded_amnt_inv'])"
   ]
  },
  {
   "cell_type": "code",
   "execution_count": 564,
   "id": "bd24da75",
   "metadata": {},
   "outputs": [],
   "source": [
    "# impute the 95 percentil value for the outliers.\n",
    "df_out['funded_amnt_inv'] = np.where(df_out[\"funded_amnt_inv\"] >24736.57, 24736.57,df_out['funded_amnt_inv'])"
   ]
  },
  {
   "cell_type": "code",
   "execution_count": 565,
   "id": "e66ea2d7",
   "metadata": {},
   "outputs": [
    {
     "data": {
      "text/plain": [
       "<AxesSubplot:xlabel='funded_amnt_inv'>"
      ]
     },
     "execution_count": 565,
     "metadata": {},
     "output_type": "execute_result"
    },
    {
     "data": {
      "image/png": "[encoded data removed]",
      "text/plain": [
       "<Figure size 432x288 with 1 Axes>"
      ]
     },
     "metadata": {
      "needs_background": "light"
     },
     "output_type": "display_data"
    }
   ],
   "source": [
    "#create box plot for the new imputed values\n",
    "sns.boxplot(df_out['funded_amnt_inv'])"
   ]
  },
  {
   "cell_type": "code",
   "execution_count": 566,
   "id": "323eac69",
   "metadata": {},
   "outputs": [
    {
     "data": {
      "text/plain": [
       "<AxesSubplot:xlabel='int_rate'>"
      ]
     },
     "execution_count": 566,
     "metadata": {},
     "output_type": "execute_result"
    },
    {
     "data": {
      "image/png": "[encoded data removed]",
      "text/plain": [
       "<Figure size 432x288 with 1 Axes>"
      ]
     },
     "metadata": {
      "needs_background": "light"
     },
     "output_type": "display_data"
    }
   ],
   "source": [
    "# create a box plot for the int_rate\n",
    "sns.boxplot(df_new['int_rate'])"
   ]
  },
  {
   "cell_type": "code",
   "execution_count": 567,
   "id": "25bf9f8e",
   "metadata": {},
   "outputs": [],
   "source": [
    "# inpute the 95 percentile value for the outlier value \n",
    "df_out['int_rate'] = np.where(df_out[\"int_rate\"] >18.54, 18.54,df_out['int_rate'])"
   ]
  },
  {
   "cell_type": "code",
   "execution_count": 568,
   "id": "19b68089",
   "metadata": {},
   "outputs": [
    {
     "data": {
      "text/plain": [
       "<AxesSubplot:xlabel='int_rate'>"
      ]
     },
     "execution_count": 568,
     "metadata": {},
     "output_type": "execute_result"
    },
    {
     "data": {
      "image/png": "[encoded data removed]",
      "text/plain": [
       "<Figure size 432x288 with 1 Axes>"
      ]
     },
     "metadata": {
      "needs_background": "light"
     },
     "output_type": "display_data"
    }
   ],
   "source": [
    "# create a box plot post imputing the value\n",
    "sns.boxplot(df_out['int_rate'])"
   ]
  },
  {
   "cell_type": "code",
   "execution_count": 569,
   "id": "c99e4f66",
   "metadata": {},
   "outputs": [
    {
     "data": {
      "text/plain": [
       "<AxesSubplot:xlabel='installment'>"
      ]
     },
     "execution_count": 569,
     "metadata": {},
     "output_type": "execute_result"
    },
    {
     "data": {
      "image/png": "[encoded data removed]",
      "text/plain": [
       "<Figure size 432x288 with 1 Axes>"
      ]
     },
     "metadata": {
      "needs_background": "light"
     },
     "output_type": "display_data"
    }
   ],
   "source": [
    "# create a box plot for installement column\n",
    "sns.boxplot(df_new['installment'])"
   ]
  },
  {
   "cell_type": "code",
   "execution_count": 570,
   "id": "1db02fe4",
   "metadata": {},
   "outputs": [],
   "source": [
    "#impute the 95 percentile value for the installment column\n",
    "df_out['installment'] = np.where(df_out[\"installment\"] >762.99, 762.99,df_out['installment'])"
   ]
  },
  {
   "cell_type": "code",
   "execution_count": 571,
   "id": "c7f31100",
   "metadata": {},
   "outputs": [
    {
     "data": {
      "text/plain": [
       "<AxesSubplot:xlabel='installment'>"
      ]
     },
     "execution_count": 571,
     "metadata": {},
     "output_type": "execute_result"
    },
    {
     "data": {
      "image/png": "[encoded data removed]",
      "text/plain": [
       "<Figure size 432x288 with 1 Axes>"
      ]
     },
     "metadata": {
      "needs_background": "light"
     },
     "output_type": "display_data"
    }
   ],
   "source": [
    "# create new box plot post imputing the value\n",
    "sns.boxplot(df_out['installment'])"
   ]
  },
  {
   "cell_type": "code",
   "execution_count": 572,
   "id": "a9d791ec",
   "metadata": {},
   "outputs": [
    {
     "data": {
      "text/plain": [
       "<AxesSubplot:xlabel='emp_length'>"
      ]
     },
     "execution_count": 572,
     "metadata": {},
     "output_type": "execute_result"
    },
    {
     "data": {
      "image/png": "[encoded data removed]",
      "text/plain": [
       "<Figure size 432x288 with 1 Axes>"
      ]
     },
     "metadata": {
      "needs_background": "light"
     },
     "output_type": "display_data"
    }
   ],
   "source": [
    "# We dont see any outlier for emp_length column\n",
    "sns.boxplot(df_new['emp_length'])"
   ]
  },
  {
   "cell_type": "code",
   "execution_count": 573,
   "id": "e3d27455",
   "metadata": {},
   "outputs": [
    {
     "data": {
      "text/plain": [
       "<AxesSubplot:xlabel='annual_inc'>"
      ]
     },
     "execution_count": 573,
     "metadata": {},
     "output_type": "execute_result"
    },
    {
     "data": {
      "image/png": "[encoded data removed]",
      "text/plain": [
       "<Figure size 432x288 with 1 Axes>"
      ]
     },
     "metadata": {
      "needs_background": "light"
     },
     "output_type": "display_data"
    }
   ],
   "source": [
    "# create a box plot for annual_inc\n",
    "# we see that the box plot is aligned towards 0 and we are not able to identify the quartiles for the box plot. \n",
    "sns.boxplot(df_new['annual_inc'])"
   ]
  },
  {
   "cell_type": "code",
   "execution_count": 574,
   "id": "b1cc4e8f",
   "metadata": {},
   "outputs": [],
   "source": [
    "# impute the 95 percentile value for the outliers\n",
    "df_out['annual_inc'] = np.where(df_out[\"annual_inc\"] >142000, 142000,df_out['annual_inc'])"
   ]
  },
  {
   "cell_type": "code",
   "execution_count": 575,
   "id": "51a29f16",
   "metadata": {},
   "outputs": [
    {
     "data": {
      "text/plain": [
       "<AxesSubplot:xlabel='annual_inc'>"
      ]
     },
     "execution_count": 575,
     "metadata": {},
     "output_type": "execute_result"
    },
    {
     "data": {
      "image/png": "[encoded data removed]",
      "text/plain": [
       "<Figure size 432x288 with 1 Axes>"
      ]
     },
     "metadata": {
      "needs_background": "light"
     },
     "output_type": "display_data"
    }
   ],
   "source": [
    "# post imputing the values the box plot for annual_inc is able to provide us proper understanding of the distribution of the data for various quartiles\n",
    "sns.boxplot(df_out['annual_inc'])"
   ]
  },
  {
   "cell_type": "code",
   "execution_count": 576,
   "id": "f0b41717",
   "metadata": {},
   "outputs": [
    {
     "data": {
      "text/plain": [
       "<AxesSubplot:xlabel='dti'>"
      ]
     },
     "execution_count": 576,
     "metadata": {},
     "output_type": "execute_result"
    },
    {
     "data": {
      "image/png": "[encoded data removed]",
      "text/plain": [
       "<Figure size 432x288 with 1 Axes>"
      ]
     },
     "metadata": {
      "needs_background": "light"
     },
     "output_type": "display_data"
    }
   ],
   "source": [
    "# There are no outliers for dti column\n",
    "sns.boxplot(df_new.dti)"
   ]
  },
  {
   "cell_type": "markdown",
   "id": "422db447",
   "metadata": {},
   "source": [
    "# Analysis of outliers: \n",
    "#### 1. We have created new dataframe df_out from df dataframe to compare the analysis without and with outliers respectively.\n",
    "#### 2. We have identified the columns were we have outliers and created box plot for them\n",
    "#### 3. Imputed columns with 95 percentile values for the outliers in the new dataframe df_out.\n",
    "#### 4. When compared df_out provides much better understanding of data expecially annual_inc column. The data distribution was not visible for it in the original df dataframe.\n",
    "#### 5. We will be creating few derived columns and will try to perform further analysis against categorical variables to see how the data with and without outliers behave against them."
   ]
  },
  {
   "cell_type": "markdown",
   "id": "10b1d650",
   "metadata": {},
   "source": [
    "# Creating derived Columns for further analysis"
   ]
  },
  {
   "cell_type": "code",
   "execution_count": 263,
   "id": "93dc05d7",
   "metadata": {},
   "outputs": [],
   "source": [
    "# Create buckets for the variable on the columns int_rate and emp_length"
   ]
  },
  {
   "cell_type": "code",
   "execution_count": 577,
   "id": "64581911",
   "metadata": {},
   "outputs": [
    {
     "data": {
      "text/plain": [
       "count    38577.000000\n",
       "mean        11.932219\n",
       "std          3.691327\n",
       "min          5.420000\n",
       "25%          8.940000\n",
       "50%         11.710000\n",
       "75%         14.380000\n",
       "max         24.400000\n",
       "Name: int_rate, dtype: float64"
      ]
     },
     "execution_count": 577,
     "metadata": {},
     "output_type": "execute_result"
    }
   ],
   "source": [
    "# get the distribution of int_rate for df dataframe\n",
    "df_new.int_rate.describe()"
   ]
  },
  {
   "cell_type": "code",
   "execution_count": 578,
   "id": "bd34bea8",
   "metadata": {},
   "outputs": [],
   "source": [
    "# There is a standard deviation of 3.72 and the starting value is 5.42 and max is 24\n",
    "# lets create a bucket of size 4\n",
    "# let create label for the interst rate\n",
    "\n",
    "df_int_rate_bucket= [5,9,13,17,21,25]\n",
    "df_int_rate_label=['L','M','MH','H','VH']"
   ]
  },
  {
   "cell_type": "code",
   "execution_count": 579,
   "id": "faaab276",
   "metadata": {},
   "outputs": [],
   "source": [
    "# create a new column as rate_interest which categorizes the interest rate as per the buckets and labels created for them\n",
    "df_new['rate_interest'] = pd.cut(df_new['int_rate'],df_int_rate_bucket,labels=df_int_rate_label)"
   ]
  },
  {
   "cell_type": "code",
   "execution_count": 580,
   "id": "a520e852",
   "metadata": {},
   "outputs": [
    {
     "data": {
      "text/plain": [
       "M     14190\n",
       "MH    11023\n",
       "L      9808\n",
       "H      3215\n",
       "VH      341\n",
       "Name: rate_interest, dtype: int64"
      ]
     },
     "execution_count": 580,
     "metadata": {},
     "output_type": "execute_result"
    }
   ],
   "source": [
    "# get the count of rows against the different category of interest rate\n",
    "df_new['rate_interest'].value_counts()"
   ]
  },
  {
   "cell_type": "code",
   "execution_count": 581,
   "id": "34f5ccbd",
   "metadata": {},
   "outputs": [
    {
     "data": {
      "text/plain": [
       "<AxesSubplot:>"
      ]
     },
     "execution_count": 581,
     "metadata": {},
     "output_type": "execute_result"
    },
    {
     "data": {
      "image/png": "[encoded data removed]",
      "text/plain": [
       "<Figure size 432x288 with 1 Axes>"
      ]
     },
     "metadata": {
      "needs_background": "light"
     },
     "output_type": "display_data"
    }
   ],
   "source": [
    "df_new['rate_interest'].value_counts().plot.bar()"
   ]
  },
  {
   "cell_type": "code",
   "execution_count": 582,
   "id": "80274574",
   "metadata": {},
   "outputs": [
    {
     "data": {
      "text/plain": [
       "count    38577.000000\n",
       "mean        11.863286\n",
       "std          3.541120\n",
       "min          5.420000\n",
       "25%          8.940000\n",
       "50%         11.710000\n",
       "75%         14.380000\n",
       "max         18.540000\n",
       "Name: int_rate, dtype: float64"
      ]
     },
     "execution_count": 582,
     "metadata": {},
     "output_type": "execute_result"
    }
   ],
   "source": [
    "# get the distribution of int_rate for df_out dataframe\n",
    "df_out.int_rate.describe()"
   ]
  },
  {
   "cell_type": "code",
   "execution_count": 583,
   "id": "3aa7e549",
   "metadata": {},
   "outputs": [],
   "source": [
    "# There is a standard deviation of 3.56 and the starting value is 5.42 and max is 18.54\n",
    "# lets create a bucket of size 4 same as that of df dataframe to compare the difference in distribution\n",
    "# let create label for the interst rate\n",
    "\n",
    "df_int_rate_bucket= [5,9,13,17,21,25]\n",
    "df_int_rate_label=['L','M','MH','H','VH']"
   ]
  },
  {
   "cell_type": "code",
   "execution_count": 584,
   "id": "4b8e726f",
   "metadata": {},
   "outputs": [],
   "source": [
    "# create a new column as rate_interest which categorizes the interest rate as per the buckets and labels created for them\n",
    "df_out['rate_interest'] = pd.cut(df_out['int_rate'],df_int_rate_bucket,labels=df_int_rate_label)"
   ]
  },
  {
   "cell_type": "code",
   "execution_count": 585,
   "id": "4b9dde0d",
   "metadata": {},
   "outputs": [
    {
     "data": {
      "text/plain": [
       "M     14190\n",
       "MH    11023\n",
       "L      9808\n",
       "H      3556\n",
       "VH        0\n",
       "Name: rate_interest, dtype: int64"
      ]
     },
     "execution_count": 585,
     "metadata": {},
     "output_type": "execute_result"
    }
   ],
   "source": [
    "# get the value counts of the columns\n",
    "df_out['rate_interest'].value_counts()"
   ]
  },
  {
   "cell_type": "code",
   "execution_count": 586,
   "id": "1d5ef3bf",
   "metadata": {},
   "outputs": [
    {
     "data": {
      "text/plain": [
       "<AxesSubplot:>"
      ]
     },
     "execution_count": 586,
     "metadata": {},
     "output_type": "execute_result"
    },
    {
     "data": {
      "image/png": "[encoded data removed]",
      "text/plain": [
       "<Figure size 432x288 with 1 Axes>"
      ]
     },
     "metadata": {
      "needs_background": "light"
     },
     "output_type": "display_data"
    }
   ],
   "source": [
    "# we see that are no out liers here so the VH category of interest rate is having 0 values. \n",
    "\n",
    "df_out['rate_interest'].value_counts().plot.bar()"
   ]
  },
  {
   "cell_type": "code",
   "execution_count": 476,
   "id": "8483d345",
   "metadata": {},
   "outputs": [],
   "source": [
    "# Create buckets for the variable on column emp_length,\n",
    "# since we had not done any outlier clearning in emp_length column both df and df_out will give us same results"
   ]
  },
  {
   "cell_type": "code",
   "execution_count": 587,
   "id": "8ea5e4aa",
   "metadata": {},
   "outputs": [
    {
     "data": {
      "text/plain": [
       "10    8488\n",
       "1     7677\n",
       "2     4291\n",
       "3     4012\n",
       "4     3342\n",
       "5     3194\n",
       "6     2168\n",
       "7     1711\n",
       "8     1435\n",
       "9     1226\n",
       "0     1033\n",
       "Name: emp_length, dtype: int64"
      ]
     },
     "execution_count": 587,
     "metadata": {},
     "output_type": "execute_result"
    }
   ],
   "source": [
    "# get the value counts for rows in emp_length\n",
    "df_new.emp_length.value_counts()"
   ]
  },
  {
   "cell_type": "code",
   "execution_count": 592,
   "id": "3d934657",
   "metadata": {},
   "outputs": [],
   "source": [
    "# create bins and lables to categorize emp_length variable\n",
    "emp_length_bin = [0,2,5,7,11]\n",
    "emp_exp_mapping = ['Entry Level','Intermediate','Mid Level','Senior Level']"
   ]
  },
  {
   "cell_type": "code",
   "execution_count": 589,
   "id": "3f1ac447",
   "metadata": {},
   "outputs": [],
   "source": [
    "# create a new variable with emp_exp\n",
    "df_new['emp_exp']=pd.cut(df_new['emp_length'], emp_length_bin,labels=emp_exp_mapping)"
   ]
  },
  {
   "cell_type": "code",
   "execution_count": 594,
   "id": "975fd141",
   "metadata": {},
   "outputs": [
    {
     "data": {
      "text/plain": [
       "Entry Level     11968\n",
       "Senior Level    11149\n",
       "Intermediate    10548\n",
       "Mid Level        3879\n",
       "Name: emp_exp, dtype: int64"
      ]
     },
     "execution_count": 594,
     "metadata": {},
     "output_type": "execute_result"
    }
   ],
   "source": [
    "# check the categorical count of the new column\n",
    "df_new.emp_exp.value_counts()"
   ]
  },
  {
   "cell_type": "code",
   "execution_count": 595,
   "id": "5f892b2d",
   "metadata": {},
   "outputs": [
    {
     "data": {
      "text/plain": [
       "<AxesSubplot:>"
      ]
     },
     "execution_count": 595,
     "metadata": {},
     "output_type": "execute_result"
    },
    {
     "data": {
      "image/png": "[encoded data removed]",
      "text/plain": [
       "<Figure size 432x288 with 1 Axes>"
      ]
     },
     "metadata": {
      "needs_background": "light"
     },
     "output_type": "display_data"
    }
   ],
   "source": [
    "# plot the above result in a plot to visualize the same\n",
    "df_new.emp_exp.value_counts().plot.bar()"
   ]
  },
  {
   "cell_type": "code",
   "execution_count": 596,
   "id": "2662bc3f",
   "metadata": {},
   "outputs": [
    {
     "data": {
      "text/plain": [
       "10    8488\n",
       "1     7677\n",
       "2     4291\n",
       "3     4012\n",
       "4     3342\n",
       "5     3194\n",
       "6     2168\n",
       "7     1711\n",
       "8     1435\n",
       "9     1226\n",
       "0     1033\n",
       "Name: emp_length, dtype: int64"
      ]
     },
     "execution_count": 596,
     "metadata": {},
     "output_type": "execute_result"
    }
   ],
   "source": [
    "# get the value counts for rows in emp_length\n",
    "df_out.emp_length.value_counts()"
   ]
  },
  {
   "cell_type": "code",
   "execution_count": 597,
   "id": "e8294801",
   "metadata": {},
   "outputs": [],
   "source": [
    "# create a new variable with emp_exp\n",
    "df_out['emp_exp']=pd.cut(df_out['emp_length'], emp_length_bin,labels=emp_exp_mapping)"
   ]
  },
  {
   "cell_type": "code",
   "execution_count": 598,
   "id": "d22aab71",
   "metadata": {},
   "outputs": [
    {
     "data": {
      "text/plain": [
       "Entry Level     11968\n",
       "Senior Level    11149\n",
       "Intermediate    10548\n",
       "Mid Level        3879\n",
       "Name: emp_exp, dtype: int64"
      ]
     },
     "execution_count": 598,
     "metadata": {},
     "output_type": "execute_result"
    }
   ],
   "source": [
    "# check the categorical count of the new column\n",
    "df_out.emp_exp.value_counts()"
   ]
  },
  {
   "cell_type": "code",
   "execution_count": null,
   "id": "94da9daa",
   "metadata": {},
   "outputs": [],
   "source": []
  }
 ],
 "metadata": {
  "kernelspec": {
   "display_name": "Python 3 (ipykernel)",
   "language": "python",
   "name": "python3"
  },
  "language_info": {
   "codemirror_mode": {
    "name": "ipython",
    "version": 3
   },
   "file_extension": ".py",
   "mimetype": "text/x-python",
   "name": "python",
   "nbconvert_exporter": "python",
   "pygments_lexer": "ipython3",
   "version": "3.7.13"
  }
 },
 "nbformat": 4,
 "nbformat_minor": 5
}
