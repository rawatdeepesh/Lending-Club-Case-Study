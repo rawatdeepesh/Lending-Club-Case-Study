{
 "cells": [
  {
   "cell_type": "markdown",
   "id": "eee86370",
   "metadata": {},
   "source": [
    "# Data understanding \n",
    "#### 1. There are 111 columns and 39717 rows\n",
    "#### 2. The size of the dataframe is 4408587 \n",
    "#### 3. There are 74 columns of datatype float64, 13 columns of datatype int64 and 24 columns of datatype object\n",
    "#### 4. There are 87 continous columns.\n",
    "#### 5. Continous variables:\n",
    "cont_var = ['id','member_id','loan_amnt','funded_amnt','funded_amnt_inv','int_rate','installment','annual_inc','issue_d','url','dti','earliest_cr_line','revol_bal','revol_util','out_prncp','total_pymnt','total_pymnt_inv','total_rec_prncp','total_rec_int','total_rec_late_fee','recoveries','collection_recovery_fee','last_pymnt_d','last_pymnt_amnt','last_credit_pull_d']\n",
    "\n",
    "#### 6. Categorical Variables:\n",
    "\n",
    "cat_var = ['grade','sub_grade','emp_tile','emp_length','home_ownership','verification_status','loan_status','purpose','zip_code','addr_state','delinq_2yrs','inq_last_6mths','open_acc','pub_rec','total_acc','application_type','pub_rec_bankruptcies']\n",
    "\n",
    "# Data Cleaning and Manipulation\n",
    "\n",
    "#### 7. null_column_list - gives the list of columns that has only null values - i.e., 54 columns.\n",
    "#### 8. columns_50_missing_values - gives the list of columns that has more than 50% null values- i.e., 3 columns.\n",
    "#### 9. Some of the columns doesnot add any value for the investigation : no_value_column i.e., 9 columns\n",
    "#### 10. The columns title and purpose have the same data but title is not in organized way.\n",
    "#### 11. Some of the columns have nulls which can be imputed with mean or medians \n",
    "#### 12. The emp_title columns has same tiles repeating but with slight difference we will generalize them for the records having higher counts\n",
    "#### 13. Create new columns with for time series columns with month and year\n",
    "#### 14. The columns last_credit_pull_d and last_pymnt_d had null values due to which the date convertion functions were showing as float so dropped the null columns to help with analysis.\n",
    "#### 15. There are outliers for cont_var columns -- need to work on dropping them\n"
   ]
  },
  {
   "cell_type": "markdown",
   "id": "ef9ed467",
   "metadata": {},
   "source": [
    "# Import the libraries"
   ]
  },
  {
   "cell_type": "code",
   "execution_count": 746,
   "id": "d676dad4",
   "metadata": {},
   "outputs": [],
   "source": [
    "import pandas as pd # pandas library helps in data analysis and manipulation\n",
    "import numpy as np # numpy library provides functions for mathematical operations and large, multi-dimensional arrays and matrices\n",
    "import seaborn as sns # library for data visualization more advanced than matplotlib\n",
    "import warnings # library shows warning messages\n",
    "warnings.simplefilter(\"ignore\") # to ignore any warning messages during the execution of the code\n",
    "import matplotlib.pyplot as plt # library for data visualization\n",
    "%matplotlib inline # one of the magic fuction that ensures that the graphs/plots are displayed just below the cell calling it."
   ]
  },
  {
   "cell_type": "markdown",
   "id": "a572167f",
   "metadata": {},
   "source": [
    "## Create a datafram from the csv file"
   ]
  },
  {
   "cell_type": "code",
   "execution_count": 747,
   "id": "804bdb0d",
   "metadata": {},
   "outputs": [],
   "source": [
    "# read the loan.csv using pandas \n",
    "df = pd.read_csv('loan.csv')"
   ]
  },
  {
   "cell_type": "markdown",
   "id": "7c74fbc6",
   "metadata": {},
   "source": [
    "## Understand the dataframe"
   ]
  },
  {
   "cell_type": "code",
   "execution_count": 748,
   "id": "0763aa4f",
   "metadata": {},
   "outputs": [
    {
     "data": {
      "text/html": [
       "<div>\n",
       "<style scoped>\n",
       "    .dataframe tbody tr th:only-of-type {\n",
       "        vertical-align: middle;\n",
       "    }\n",
       "\n",
       "    .dataframe tbody tr th {\n",
       "        vertical-align: top;\n",
       "    }\n",
       "\n",
       "    .dataframe thead th {\n",
       "        text-align: right;\n",
       "    }\n",
       "</style>\n",
       "<table border=\"1\" class=\"dataframe\">\n",
       "  <thead>\n",
       "    <tr style=\"text-align: right;\">\n",
       "      <th></th>\n",
       "      <th>id</th>\n",
       "      <th>member_id</th>\n",
       "      <th>loan_amnt</th>\n",
       "      <th>funded_amnt</th>\n",
       "      <th>funded_amnt_inv</th>\n",
       "      <th>term</th>\n",
       "      <th>int_rate</th>\n",
       "      <th>installment</th>\n",
       "      <th>grade</th>\n",
       "      <th>sub_grade</th>\n",
       "      <th>...</th>\n",
       "      <th>num_tl_90g_dpd_24m</th>\n",
       "      <th>num_tl_op_past_12m</th>\n",
       "      <th>pct_tl_nvr_dlq</th>\n",
       "      <th>percent_bc_gt_75</th>\n",
       "      <th>pub_rec_bankruptcies</th>\n",
       "      <th>tax_liens</th>\n",
       "      <th>tot_hi_cred_lim</th>\n",
       "      <th>total_bal_ex_mort</th>\n",
       "      <th>total_bc_limit</th>\n",
       "      <th>total_il_high_credit_limit</th>\n",
       "    </tr>\n",
       "  </thead>\n",
       "  <tbody>\n",
       "    <tr>\n",
       "      <th>0</th>\n",
       "      <td>1077501</td>\n",
       "      <td>1296599</td>\n",
       "      <td>5000</td>\n",
       "      <td>5000</td>\n",
       "      <td>4975.0</td>\n",
       "      <td>36 months</td>\n",
       "      <td>10.65%</td>\n",
       "      <td>162.87</td>\n",
       "      <td>B</td>\n",
       "      <td>B2</td>\n",
       "      <td>...</td>\n",
       "      <td>NaN</td>\n",
       "      <td>NaN</td>\n",
       "      <td>NaN</td>\n",
       "      <td>NaN</td>\n",
       "      <td>0.0</td>\n",
       "      <td>0.0</td>\n",
       "      <td>NaN</td>\n",
       "      <td>NaN</td>\n",
       "      <td>NaN</td>\n",
       "      <td>NaN</td>\n",
       "    </tr>\n",
       "    <tr>\n",
       "      <th>1</th>\n",
       "      <td>1077430</td>\n",
       "      <td>1314167</td>\n",
       "      <td>2500</td>\n",
       "      <td>2500</td>\n",
       "      <td>2500.0</td>\n",
       "      <td>60 months</td>\n",
       "      <td>15.27%</td>\n",
       "      <td>59.83</td>\n",
       "      <td>C</td>\n",
       "      <td>C4</td>\n",
       "      <td>...</td>\n",
       "      <td>NaN</td>\n",
       "      <td>NaN</td>\n",
       "      <td>NaN</td>\n",
       "      <td>NaN</td>\n",
       "      <td>0.0</td>\n",
       "      <td>0.0</td>\n",
       "      <td>NaN</td>\n",
       "      <td>NaN</td>\n",
       "      <td>NaN</td>\n",
       "      <td>NaN</td>\n",
       "    </tr>\n",
       "    <tr>\n",
       "      <th>2</th>\n",
       "      <td>1077175</td>\n",
       "      <td>1313524</td>\n",
       "      <td>2400</td>\n",
       "      <td>2400</td>\n",
       "      <td>2400.0</td>\n",
       "      <td>36 months</td>\n",
       "      <td>15.96%</td>\n",
       "      <td>84.33</td>\n",
       "      <td>C</td>\n",
       "      <td>C5</td>\n",
       "      <td>...</td>\n",
       "      <td>NaN</td>\n",
       "      <td>NaN</td>\n",
       "      <td>NaN</td>\n",
       "      <td>NaN</td>\n",
       "      <td>0.0</td>\n",
       "      <td>0.0</td>\n",
       "      <td>NaN</td>\n",
       "      <td>NaN</td>\n",
       "      <td>NaN</td>\n",
       "      <td>NaN</td>\n",
       "    </tr>\n",
       "    <tr>\n",
       "      <th>3</th>\n",
       "      <td>1076863</td>\n",
       "      <td>1277178</td>\n",
       "      <td>10000</td>\n",
       "      <td>10000</td>\n",
       "      <td>10000.0</td>\n",
       "      <td>36 months</td>\n",
       "      <td>13.49%</td>\n",
       "      <td>339.31</td>\n",
       "      <td>C</td>\n",
       "      <td>C1</td>\n",
       "      <td>...</td>\n",
       "      <td>NaN</td>\n",
       "      <td>NaN</td>\n",
       "      <td>NaN</td>\n",
       "      <td>NaN</td>\n",
       "      <td>0.0</td>\n",
       "      <td>0.0</td>\n",
       "      <td>NaN</td>\n",
       "      <td>NaN</td>\n",
       "      <td>NaN</td>\n",
       "      <td>NaN</td>\n",
       "    </tr>\n",
       "    <tr>\n",
       "      <th>4</th>\n",
       "      <td>1075358</td>\n",
       "      <td>1311748</td>\n",
       "      <td>3000</td>\n",
       "      <td>3000</td>\n",
       "      <td>3000.0</td>\n",
       "      <td>60 months</td>\n",
       "      <td>12.69%</td>\n",
       "      <td>67.79</td>\n",
       "      <td>B</td>\n",
       "      <td>B5</td>\n",
       "      <td>...</td>\n",
       "      <td>NaN</td>\n",
       "      <td>NaN</td>\n",
       "      <td>NaN</td>\n",
       "      <td>NaN</td>\n",
       "      <td>0.0</td>\n",
       "      <td>0.0</td>\n",
       "      <td>NaN</td>\n",
       "      <td>NaN</td>\n",
       "      <td>NaN</td>\n",
       "      <td>NaN</td>\n",
       "    </tr>\n",
       "  </tbody>\n",
       "</table>\n",
       "<p>5 rows × 111 columns</p>\n",
       "</div>"
      ],
      "text/plain": [
       "        id  member_id  loan_amnt  funded_amnt  funded_amnt_inv        term  \\\n",
       "0  1077501    1296599       5000         5000           4975.0   36 months   \n",
       "1  1077430    1314167       2500         2500           2500.0   60 months   \n",
       "2  1077175    1313524       2400         2400           2400.0   36 months   \n",
       "3  1076863    1277178      10000        10000          10000.0   36 months   \n",
       "4  1075358    1311748       3000         3000           3000.0   60 months   \n",
       "\n",
       "  int_rate  installment grade sub_grade  ... num_tl_90g_dpd_24m  \\\n",
       "0   10.65%       162.87     B        B2  ...                NaN   \n",
       "1   15.27%        59.83     C        C4  ...                NaN   \n",
       "2   15.96%        84.33     C        C5  ...                NaN   \n",
       "3   13.49%       339.31     C        C1  ...                NaN   \n",
       "4   12.69%        67.79     B        B5  ...                NaN   \n",
       "\n",
       "  num_tl_op_past_12m pct_tl_nvr_dlq  percent_bc_gt_75 pub_rec_bankruptcies  \\\n",
       "0                NaN            NaN               NaN                  0.0   \n",
       "1                NaN            NaN               NaN                  0.0   \n",
       "2                NaN            NaN               NaN                  0.0   \n",
       "3                NaN            NaN               NaN                  0.0   \n",
       "4                NaN            NaN               NaN                  0.0   \n",
       "\n",
       "  tax_liens tot_hi_cred_lim total_bal_ex_mort total_bc_limit  \\\n",
       "0       0.0             NaN               NaN            NaN   \n",
       "1       0.0             NaN               NaN            NaN   \n",
       "2       0.0             NaN               NaN            NaN   \n",
       "3       0.0             NaN               NaN            NaN   \n",
       "4       0.0             NaN               NaN            NaN   \n",
       "\n",
       "  total_il_high_credit_limit  \n",
       "0                        NaN  \n",
       "1                        NaN  \n",
       "2                        NaN  \n",
       "3                        NaN  \n",
       "4                        NaN  \n",
       "\n",
       "[5 rows x 111 columns]"
      ]
     },
     "execution_count": 748,
     "metadata": {},
     "output_type": "execute_result"
    }
   ],
   "source": [
    "# get the top 5 rows of the dataframe\n",
    "df.head()"
   ]
  },
  {
   "cell_type": "code",
   "execution_count": 749,
   "id": "df783eb6",
   "metadata": {},
   "outputs": [
    {
     "data": {
      "text/plain": [
       "(39717, 111)"
      ]
     },
     "execution_count": 749,
     "metadata": {},
     "output_type": "execute_result"
    }
   ],
   "source": [
    "# check the no of rows and columns in the dataframe\n",
    "df.shape"
   ]
  },
  {
   "cell_type": "code",
   "execution_count": 750,
   "id": "9c45a03d",
   "metadata": {},
   "outputs": [
    {
     "data": {
      "text/plain": [
       "4408587"
      ]
     },
     "execution_count": 750,
     "metadata": {},
     "output_type": "execute_result"
    }
   ],
   "source": [
    "# check the size of the dataframe\n",
    "df.size"
   ]
  },
  {
   "cell_type": "code",
   "execution_count": 751,
   "id": "c66c2452",
   "metadata": {},
   "outputs": [
    {
     "data": {
      "text/plain": [
       "id                              int64\n",
       "member_id                       int64\n",
       "loan_amnt                       int64\n",
       "funded_amnt                     int64\n",
       "funded_amnt_inv               float64\n",
       "                               ...   \n",
       "tax_liens                     float64\n",
       "tot_hi_cred_lim               float64\n",
       "total_bal_ex_mort             float64\n",
       "total_bc_limit                float64\n",
       "total_il_high_credit_limit    float64\n",
       "Length: 111, dtype: object"
      ]
     },
     "execution_count": 751,
     "metadata": {},
     "output_type": "execute_result"
    }
   ],
   "source": [
    "# check the different columns datatypes in the dataframe.\n",
    "df.dtypes"
   ]
  },
  {
   "cell_type": "code",
   "execution_count": 752,
   "id": "68ed4218",
   "metadata": {},
   "outputs": [
    {
     "name": "stdout",
     "output_type": "stream",
     "text": [
      "<class 'pandas.core.frame.DataFrame'>\n",
      "RangeIndex: 39717 entries, 0 to 39716\n",
      "Columns: 111 entries, id to total_il_high_credit_limit\n",
      "dtypes: float64(74), int64(13), object(24)\n",
      "memory usage: 33.6+ MB\n"
     ]
    }
   ],
   "source": [
    "# print the concise summary of the dataframe. \n",
    "df.info()"
   ]
  },
  {
   "cell_type": "code",
   "execution_count": 485,
   "id": "475da276",
   "metadata": {},
   "outputs": [
    {
     "data": {
      "text/html": [
       "<div>\n",
       "<style scoped>\n",
       "    .dataframe tbody tr th:only-of-type {\n",
       "        vertical-align: middle;\n",
       "    }\n",
       "\n",
       "    .dataframe tbody tr th {\n",
       "        vertical-align: top;\n",
       "    }\n",
       "\n",
       "    .dataframe thead th {\n",
       "        text-align: right;\n",
       "    }\n",
       "</style>\n",
       "<table border=\"1\" class=\"dataframe\">\n",
       "  <thead>\n",
       "    <tr style=\"text-align: right;\">\n",
       "      <th></th>\n",
       "      <th>id</th>\n",
       "      <th>member_id</th>\n",
       "      <th>loan_amnt</th>\n",
       "      <th>funded_amnt</th>\n",
       "      <th>funded_amnt_inv</th>\n",
       "      <th>installment</th>\n",
       "      <th>annual_inc</th>\n",
       "      <th>dti</th>\n",
       "      <th>delinq_2yrs</th>\n",
       "      <th>inq_last_6mths</th>\n",
       "      <th>...</th>\n",
       "      <th>num_tl_90g_dpd_24m</th>\n",
       "      <th>num_tl_op_past_12m</th>\n",
       "      <th>pct_tl_nvr_dlq</th>\n",
       "      <th>percent_bc_gt_75</th>\n",
       "      <th>pub_rec_bankruptcies</th>\n",
       "      <th>tax_liens</th>\n",
       "      <th>tot_hi_cred_lim</th>\n",
       "      <th>total_bal_ex_mort</th>\n",
       "      <th>total_bc_limit</th>\n",
       "      <th>total_il_high_credit_limit</th>\n",
       "    </tr>\n",
       "  </thead>\n",
       "  <tbody>\n",
       "    <tr>\n",
       "      <th>count</th>\n",
       "      <td>3.971700e+04</td>\n",
       "      <td>3.971700e+04</td>\n",
       "      <td>39717.000000</td>\n",
       "      <td>39717.000000</td>\n",
       "      <td>39717.000000</td>\n",
       "      <td>39717.000000</td>\n",
       "      <td>3.971700e+04</td>\n",
       "      <td>39717.000000</td>\n",
       "      <td>39717.000000</td>\n",
       "      <td>39717.000000</td>\n",
       "      <td>...</td>\n",
       "      <td>0.0</td>\n",
       "      <td>0.0</td>\n",
       "      <td>0.0</td>\n",
       "      <td>0.0</td>\n",
       "      <td>39020.000000</td>\n",
       "      <td>39678.0</td>\n",
       "      <td>0.0</td>\n",
       "      <td>0.0</td>\n",
       "      <td>0.0</td>\n",
       "      <td>0.0</td>\n",
       "    </tr>\n",
       "    <tr>\n",
       "      <th>mean</th>\n",
       "      <td>6.831319e+05</td>\n",
       "      <td>8.504636e+05</td>\n",
       "      <td>11219.443815</td>\n",
       "      <td>10947.713196</td>\n",
       "      <td>10397.448868</td>\n",
       "      <td>324.561922</td>\n",
       "      <td>6.896893e+04</td>\n",
       "      <td>13.315130</td>\n",
       "      <td>0.146512</td>\n",
       "      <td>0.869200</td>\n",
       "      <td>...</td>\n",
       "      <td>NaN</td>\n",
       "      <td>NaN</td>\n",
       "      <td>NaN</td>\n",
       "      <td>NaN</td>\n",
       "      <td>0.043260</td>\n",
       "      <td>0.0</td>\n",
       "      <td>NaN</td>\n",
       "      <td>NaN</td>\n",
       "      <td>NaN</td>\n",
       "      <td>NaN</td>\n",
       "    </tr>\n",
       "    <tr>\n",
       "      <th>std</th>\n",
       "      <td>2.106941e+05</td>\n",
       "      <td>2.656783e+05</td>\n",
       "      <td>7456.670694</td>\n",
       "      <td>7187.238670</td>\n",
       "      <td>7128.450439</td>\n",
       "      <td>208.874874</td>\n",
       "      <td>6.379377e+04</td>\n",
       "      <td>6.678594</td>\n",
       "      <td>0.491812</td>\n",
       "      <td>1.070219</td>\n",
       "      <td>...</td>\n",
       "      <td>NaN</td>\n",
       "      <td>NaN</td>\n",
       "      <td>NaN</td>\n",
       "      <td>NaN</td>\n",
       "      <td>0.204324</td>\n",
       "      <td>0.0</td>\n",
       "      <td>NaN</td>\n",
       "      <td>NaN</td>\n",
       "      <td>NaN</td>\n",
       "      <td>NaN</td>\n",
       "    </tr>\n",
       "    <tr>\n",
       "      <th>min</th>\n",
       "      <td>5.473400e+04</td>\n",
       "      <td>7.069900e+04</td>\n",
       "      <td>500.000000</td>\n",
       "      <td>500.000000</td>\n",
       "      <td>0.000000</td>\n",
       "      <td>15.690000</td>\n",
       "      <td>4.000000e+03</td>\n",
       "      <td>0.000000</td>\n",
       "      <td>0.000000</td>\n",
       "      <td>0.000000</td>\n",
       "      <td>...</td>\n",
       "      <td>NaN</td>\n",
       "      <td>NaN</td>\n",
       "      <td>NaN</td>\n",
       "      <td>NaN</td>\n",
       "      <td>0.000000</td>\n",
       "      <td>0.0</td>\n",
       "      <td>NaN</td>\n",
       "      <td>NaN</td>\n",
       "      <td>NaN</td>\n",
       "      <td>NaN</td>\n",
       "    </tr>\n",
       "    <tr>\n",
       "      <th>25%</th>\n",
       "      <td>5.162210e+05</td>\n",
       "      <td>6.667800e+05</td>\n",
       "      <td>5500.000000</td>\n",
       "      <td>5400.000000</td>\n",
       "      <td>5000.000000</td>\n",
       "      <td>167.020000</td>\n",
       "      <td>4.040400e+04</td>\n",
       "      <td>8.170000</td>\n",
       "      <td>0.000000</td>\n",
       "      <td>0.000000</td>\n",
       "      <td>...</td>\n",
       "      <td>NaN</td>\n",
       "      <td>NaN</td>\n",
       "      <td>NaN</td>\n",
       "      <td>NaN</td>\n",
       "      <td>0.000000</td>\n",
       "      <td>0.0</td>\n",
       "      <td>NaN</td>\n",
       "      <td>NaN</td>\n",
       "      <td>NaN</td>\n",
       "      <td>NaN</td>\n",
       "    </tr>\n",
       "    <tr>\n",
       "      <th>50%</th>\n",
       "      <td>6.656650e+05</td>\n",
       "      <td>8.508120e+05</td>\n",
       "      <td>10000.000000</td>\n",
       "      <td>9600.000000</td>\n",
       "      <td>8975.000000</td>\n",
       "      <td>280.220000</td>\n",
       "      <td>5.900000e+04</td>\n",
       "      <td>13.400000</td>\n",
       "      <td>0.000000</td>\n",
       "      <td>1.000000</td>\n",
       "      <td>...</td>\n",
       "      <td>NaN</td>\n",
       "      <td>NaN</td>\n",
       "      <td>NaN</td>\n",
       "      <td>NaN</td>\n",
       "      <td>0.000000</td>\n",
       "      <td>0.0</td>\n",
       "      <td>NaN</td>\n",
       "      <td>NaN</td>\n",
       "      <td>NaN</td>\n",
       "      <td>NaN</td>\n",
       "    </tr>\n",
       "    <tr>\n",
       "      <th>75%</th>\n",
       "      <td>8.377550e+05</td>\n",
       "      <td>1.047339e+06</td>\n",
       "      <td>15000.000000</td>\n",
       "      <td>15000.000000</td>\n",
       "      <td>14400.000000</td>\n",
       "      <td>430.780000</td>\n",
       "      <td>8.230000e+04</td>\n",
       "      <td>18.600000</td>\n",
       "      <td>0.000000</td>\n",
       "      <td>1.000000</td>\n",
       "      <td>...</td>\n",
       "      <td>NaN</td>\n",
       "      <td>NaN</td>\n",
       "      <td>NaN</td>\n",
       "      <td>NaN</td>\n",
       "      <td>0.000000</td>\n",
       "      <td>0.0</td>\n",
       "      <td>NaN</td>\n",
       "      <td>NaN</td>\n",
       "      <td>NaN</td>\n",
       "      <td>NaN</td>\n",
       "    </tr>\n",
       "    <tr>\n",
       "      <th>max</th>\n",
       "      <td>1.077501e+06</td>\n",
       "      <td>1.314167e+06</td>\n",
       "      <td>35000.000000</td>\n",
       "      <td>35000.000000</td>\n",
       "      <td>35000.000000</td>\n",
       "      <td>1305.190000</td>\n",
       "      <td>6.000000e+06</td>\n",
       "      <td>29.990000</td>\n",
       "      <td>11.000000</td>\n",
       "      <td>8.000000</td>\n",
       "      <td>...</td>\n",
       "      <td>NaN</td>\n",
       "      <td>NaN</td>\n",
       "      <td>NaN</td>\n",
       "      <td>NaN</td>\n",
       "      <td>2.000000</td>\n",
       "      <td>0.0</td>\n",
       "      <td>NaN</td>\n",
       "      <td>NaN</td>\n",
       "      <td>NaN</td>\n",
       "      <td>NaN</td>\n",
       "    </tr>\n",
       "  </tbody>\n",
       "</table>\n",
       "<p>8 rows × 87 columns</p>\n",
       "</div>"
      ],
      "text/plain": [
       "                 id     member_id     loan_amnt   funded_amnt  \\\n",
       "count  3.971700e+04  3.971700e+04  39717.000000  39717.000000   \n",
       "mean   6.831319e+05  8.504636e+05  11219.443815  10947.713196   \n",
       "std    2.106941e+05  2.656783e+05   7456.670694   7187.238670   \n",
       "min    5.473400e+04  7.069900e+04    500.000000    500.000000   \n",
       "25%    5.162210e+05  6.667800e+05   5500.000000   5400.000000   \n",
       "50%    6.656650e+05  8.508120e+05  10000.000000   9600.000000   \n",
       "75%    8.377550e+05  1.047339e+06  15000.000000  15000.000000   \n",
       "max    1.077501e+06  1.314167e+06  35000.000000  35000.000000   \n",
       "\n",
       "       funded_amnt_inv   installment    annual_inc           dti  \\\n",
       "count     39717.000000  39717.000000  3.971700e+04  39717.000000   \n",
       "mean      10397.448868    324.561922  6.896893e+04     13.315130   \n",
       "std        7128.450439    208.874874  6.379377e+04      6.678594   \n",
       "min           0.000000     15.690000  4.000000e+03      0.000000   \n",
       "25%        5000.000000    167.020000  4.040400e+04      8.170000   \n",
       "50%        8975.000000    280.220000  5.900000e+04     13.400000   \n",
       "75%       14400.000000    430.780000  8.230000e+04     18.600000   \n",
       "max       35000.000000   1305.190000  6.000000e+06     29.990000   \n",
       "\n",
       "        delinq_2yrs  inq_last_6mths  ...  num_tl_90g_dpd_24m  \\\n",
       "count  39717.000000    39717.000000  ...                 0.0   \n",
       "mean       0.146512        0.869200  ...                 NaN   \n",
       "std        0.491812        1.070219  ...                 NaN   \n",
       "min        0.000000        0.000000  ...                 NaN   \n",
       "25%        0.000000        0.000000  ...                 NaN   \n",
       "50%        0.000000        1.000000  ...                 NaN   \n",
       "75%        0.000000        1.000000  ...                 NaN   \n",
       "max       11.000000        8.000000  ...                 NaN   \n",
       "\n",
       "       num_tl_op_past_12m  pct_tl_nvr_dlq  percent_bc_gt_75  \\\n",
       "count                 0.0             0.0               0.0   \n",
       "mean                  NaN             NaN               NaN   \n",
       "std                   NaN             NaN               NaN   \n",
       "min                   NaN             NaN               NaN   \n",
       "25%                   NaN             NaN               NaN   \n",
       "50%                   NaN             NaN               NaN   \n",
       "75%                   NaN             NaN               NaN   \n",
       "max                   NaN             NaN               NaN   \n",
       "\n",
       "       pub_rec_bankruptcies  tax_liens  tot_hi_cred_lim  total_bal_ex_mort  \\\n",
       "count          39020.000000    39678.0              0.0                0.0   \n",
       "mean               0.043260        0.0              NaN                NaN   \n",
       "std                0.204324        0.0              NaN                NaN   \n",
       "min                0.000000        0.0              NaN                NaN   \n",
       "25%                0.000000        0.0              NaN                NaN   \n",
       "50%                0.000000        0.0              NaN                NaN   \n",
       "75%                0.000000        0.0              NaN                NaN   \n",
       "max                2.000000        0.0              NaN                NaN   \n",
       "\n",
       "       total_bc_limit  total_il_high_credit_limit  \n",
       "count             0.0                         0.0  \n",
       "mean              NaN                         NaN  \n",
       "std               NaN                         NaN  \n",
       "min               NaN                         NaN  \n",
       "25%               NaN                         NaN  \n",
       "50%               NaN                         NaN  \n",
       "75%               NaN                         NaN  \n",
       "max               NaN                         NaN  \n",
       "\n",
       "[8 rows x 87 columns]"
      ]
     },
     "execution_count": 485,
     "metadata": {},
     "output_type": "execute_result"
    }
   ],
   "source": [
    "# get the data distribution of the dataframe.\n",
    "df.describe()"
   ]
  },
  {
   "cell_type": "code",
   "execution_count": 824,
   "id": "9ae55d0e",
   "metadata": {},
   "outputs": [
    {
     "data": {
      "text/plain": [
       "Index(['id', 'member_id', 'loan_amnt', 'funded_amnt', 'funded_amnt_inv',\n",
       "       'term', 'int_rate', 'installment', 'grade', 'sub_grade',\n",
       "       ...\n",
       "       'num_tl_90g_dpd_24m', 'num_tl_op_past_12m', 'pct_tl_nvr_dlq',\n",
       "       'percent_bc_gt_75', 'pub_rec_bankruptcies', 'tax_liens',\n",
       "       'tot_hi_cred_lim', 'total_bal_ex_mort', 'total_bc_limit',\n",
       "       'total_il_high_credit_limit'],\n",
       "      dtype='object', length=111)"
      ]
     },
     "execution_count": 824,
     "metadata": {},
     "output_type": "execute_result"
    }
   ],
   "source": [
    "# Get the column names\n",
    "df.columns"
   ]
  },
  {
   "cell_type": "code",
   "execution_count": 753,
   "id": "fd1e17cd",
   "metadata": {},
   "outputs": [],
   "source": [
    "### continous variable\n",
    "cont_var = ['id','member_id','loan_amnt','funded_amnt','funded_amnt_inv','int_rate','installment','annual_inc','issue_d','url','dti','earliest_cr_line','revol_bal','revol_util','out_prncp','total_pymnt','total_pymnt_inv','total_rec_prncp','total_rec_int','total_rec_late_fee','recoveries','collection_recovery_fee','last_pymnt_d','last_pymnt_amnt','last_credit_pull_d']"
   ]
  },
  {
   "cell_type": "code",
   "execution_count": 754,
   "id": "c97eb5c9",
   "metadata": {},
   "outputs": [],
   "source": [
    "### Categorical variable\n",
    "cat_var = ['grade','sub_grade','emp_tile','emp_length','home_ownership','verification_status','loan_status','purpose','zip_code','addr_state','delinq_2yrs','inq_last_6mths','open_acc','pub_rec','total_acc','pub_rec_bankruptcies']"
   ]
  },
  {
   "cell_type": "markdown",
   "id": "c0955d73",
   "metadata": {},
   "source": [
    "# Data cleaning"
   ]
  },
  {
   "cell_type": "markdown",
   "id": "c7ece771",
   "metadata": {},
   "source": [
    "## 1. Check for null columns"
   ]
  },
  {
   "cell_type": "code",
   "execution_count": 755,
   "id": "63bec9f6",
   "metadata": {},
   "outputs": [
    {
     "data": {
      "text/plain": [
       "id                                0\n",
       "member_id                         0\n",
       "loan_amnt                         0\n",
       "funded_amnt                       0\n",
       "funded_amnt_inv                   0\n",
       "                              ...  \n",
       "tax_liens                        39\n",
       "tot_hi_cred_lim               39717\n",
       "total_bal_ex_mort             39717\n",
       "total_bc_limit                39717\n",
       "total_il_high_credit_limit    39717\n",
       "Length: 111, dtype: int64"
      ]
     },
     "execution_count": 755,
     "metadata": {},
     "output_type": "execute_result"
    }
   ],
   "source": [
    "# check the sum of rows for the columns having nulls\n",
    "df.isnull().sum()"
   ]
  },
  {
   "cell_type": "markdown",
   "id": "955cd475",
   "metadata": {},
   "source": [
    "## Delete the columns where the null values are equal to the no of rows"
   ]
  },
  {
   "cell_type": "code",
   "execution_count": 756,
   "id": "9107bb98",
   "metadata": {},
   "outputs": [],
   "source": [
    "# creating a list of columns where null values are found for all the rows that are there in the dataframe.\n",
    "null_column_list = [i for i in df.columns if df[i].isnull().sum()==39717 ]"
   ]
  },
  {
   "cell_type": "code",
   "execution_count": 757,
   "id": "5620a91f",
   "metadata": {},
   "outputs": [
    {
     "data": {
      "text/plain": [
       "['mths_since_last_major_derog',\n",
       " 'annual_inc_joint',\n",
       " 'dti_joint',\n",
       " 'verification_status_joint',\n",
       " 'tot_coll_amt',\n",
       " 'tot_cur_bal',\n",
       " 'open_acc_6m',\n",
       " 'open_il_6m',\n",
       " 'open_il_12m',\n",
       " 'open_il_24m',\n",
       " 'mths_since_rcnt_il',\n",
       " 'total_bal_il',\n",
       " 'il_util',\n",
       " 'open_rv_12m',\n",
       " 'open_rv_24m',\n",
       " 'max_bal_bc',\n",
       " 'all_util',\n",
       " 'total_rev_hi_lim',\n",
       " 'inq_fi',\n",
       " 'total_cu_tl',\n",
       " 'inq_last_12m',\n",
       " 'acc_open_past_24mths',\n",
       " 'avg_cur_bal',\n",
       " 'bc_open_to_buy',\n",
       " 'bc_util',\n",
       " 'mo_sin_old_il_acct',\n",
       " 'mo_sin_old_rev_tl_op',\n",
       " 'mo_sin_rcnt_rev_tl_op',\n",
       " 'mo_sin_rcnt_tl',\n",
       " 'mort_acc',\n",
       " 'mths_since_recent_bc',\n",
       " 'mths_since_recent_bc_dlq',\n",
       " 'mths_since_recent_inq',\n",
       " 'mths_since_recent_revol_delinq',\n",
       " 'num_accts_ever_120_pd',\n",
       " 'num_actv_bc_tl',\n",
       " 'num_actv_rev_tl',\n",
       " 'num_bc_sats',\n",
       " 'num_bc_tl',\n",
       " 'num_il_tl',\n",
       " 'num_op_rev_tl',\n",
       " 'num_rev_accts',\n",
       " 'num_rev_tl_bal_gt_0',\n",
       " 'num_sats',\n",
       " 'num_tl_120dpd_2m',\n",
       " 'num_tl_30dpd',\n",
       " 'num_tl_90g_dpd_24m',\n",
       " 'num_tl_op_past_12m',\n",
       " 'pct_tl_nvr_dlq',\n",
       " 'percent_bc_gt_75',\n",
       " 'tot_hi_cred_lim',\n",
       " 'total_bal_ex_mort',\n",
       " 'total_bc_limit',\n",
       " 'total_il_high_credit_limit']"
      ]
     },
     "execution_count": 757,
     "metadata": {},
     "output_type": "execute_result"
    }
   ],
   "source": [
    "# display the null columns \n",
    "null_column_list"
   ]
  },
  {
   "cell_type": "code",
   "execution_count": 758,
   "id": "1f700458",
   "metadata": {},
   "outputs": [
    {
     "data": {
      "text/plain": [
       "54"
      ]
     },
     "execution_count": 758,
     "metadata": {},
     "output_type": "execute_result"
    }
   ],
   "source": [
    "# check the total no of columns having nulls.\n",
    "\n",
    "len(null_column_list)"
   ]
  },
  {
   "cell_type": "markdown",
   "id": "819b0457",
   "metadata": {},
   "source": [
    "## Create a new dataframe where we are removing all the null columns"
   ]
  },
  {
   "cell_type": "code",
   "execution_count": 759,
   "id": "8f3b9ac9",
   "metadata": {},
   "outputs": [],
   "source": [
    "# drop the columns having null and store it in new dataframe.\n",
    "df_new = df.drop(null_column_list,axis=1)"
   ]
  },
  {
   "cell_type": "code",
   "execution_count": 760,
   "id": "6a26438a",
   "metadata": {},
   "outputs": [
    {
     "data": {
      "text/html": [
       "<div>\n",
       "<style scoped>\n",
       "    .dataframe tbody tr th:only-of-type {\n",
       "        vertical-align: middle;\n",
       "    }\n",
       "\n",
       "    .dataframe tbody tr th {\n",
       "        vertical-align: top;\n",
       "    }\n",
       "\n",
       "    .dataframe thead th {\n",
       "        text-align: right;\n",
       "    }\n",
       "</style>\n",
       "<table border=\"1\" class=\"dataframe\">\n",
       "  <thead>\n",
       "    <tr style=\"text-align: right;\">\n",
       "      <th></th>\n",
       "      <th>id</th>\n",
       "      <th>member_id</th>\n",
       "      <th>loan_amnt</th>\n",
       "      <th>funded_amnt</th>\n",
       "      <th>funded_amnt_inv</th>\n",
       "      <th>term</th>\n",
       "      <th>int_rate</th>\n",
       "      <th>installment</th>\n",
       "      <th>grade</th>\n",
       "      <th>sub_grade</th>\n",
       "      <th>...</th>\n",
       "      <th>next_pymnt_d</th>\n",
       "      <th>last_credit_pull_d</th>\n",
       "      <th>collections_12_mths_ex_med</th>\n",
       "      <th>policy_code</th>\n",
       "      <th>application_type</th>\n",
       "      <th>acc_now_delinq</th>\n",
       "      <th>chargeoff_within_12_mths</th>\n",
       "      <th>delinq_amnt</th>\n",
       "      <th>pub_rec_bankruptcies</th>\n",
       "      <th>tax_liens</th>\n",
       "    </tr>\n",
       "  </thead>\n",
       "  <tbody>\n",
       "    <tr>\n",
       "      <th>0</th>\n",
       "      <td>1077501</td>\n",
       "      <td>1296599</td>\n",
       "      <td>5000</td>\n",
       "      <td>5000</td>\n",
       "      <td>4975.0</td>\n",
       "      <td>36 months</td>\n",
       "      <td>10.65%</td>\n",
       "      <td>162.87</td>\n",
       "      <td>B</td>\n",
       "      <td>B2</td>\n",
       "      <td>...</td>\n",
       "      <td>NaN</td>\n",
       "      <td>May-16</td>\n",
       "      <td>0.0</td>\n",
       "      <td>1</td>\n",
       "      <td>INDIVIDUAL</td>\n",
       "      <td>0</td>\n",
       "      <td>0.0</td>\n",
       "      <td>0</td>\n",
       "      <td>0.0</td>\n",
       "      <td>0.0</td>\n",
       "    </tr>\n",
       "    <tr>\n",
       "      <th>1</th>\n",
       "      <td>1077430</td>\n",
       "      <td>1314167</td>\n",
       "      <td>2500</td>\n",
       "      <td>2500</td>\n",
       "      <td>2500.0</td>\n",
       "      <td>60 months</td>\n",
       "      <td>15.27%</td>\n",
       "      <td>59.83</td>\n",
       "      <td>C</td>\n",
       "      <td>C4</td>\n",
       "      <td>...</td>\n",
       "      <td>NaN</td>\n",
       "      <td>Sep-13</td>\n",
       "      <td>0.0</td>\n",
       "      <td>1</td>\n",
       "      <td>INDIVIDUAL</td>\n",
       "      <td>0</td>\n",
       "      <td>0.0</td>\n",
       "      <td>0</td>\n",
       "      <td>0.0</td>\n",
       "      <td>0.0</td>\n",
       "    </tr>\n",
       "    <tr>\n",
       "      <th>2</th>\n",
       "      <td>1077175</td>\n",
       "      <td>1313524</td>\n",
       "      <td>2400</td>\n",
       "      <td>2400</td>\n",
       "      <td>2400.0</td>\n",
       "      <td>36 months</td>\n",
       "      <td>15.96%</td>\n",
       "      <td>84.33</td>\n",
       "      <td>C</td>\n",
       "      <td>C5</td>\n",
       "      <td>...</td>\n",
       "      <td>NaN</td>\n",
       "      <td>May-16</td>\n",
       "      <td>0.0</td>\n",
       "      <td>1</td>\n",
       "      <td>INDIVIDUAL</td>\n",
       "      <td>0</td>\n",
       "      <td>0.0</td>\n",
       "      <td>0</td>\n",
       "      <td>0.0</td>\n",
       "      <td>0.0</td>\n",
       "    </tr>\n",
       "    <tr>\n",
       "      <th>3</th>\n",
       "      <td>1076863</td>\n",
       "      <td>1277178</td>\n",
       "      <td>10000</td>\n",
       "      <td>10000</td>\n",
       "      <td>10000.0</td>\n",
       "      <td>36 months</td>\n",
       "      <td>13.49%</td>\n",
       "      <td>339.31</td>\n",
       "      <td>C</td>\n",
       "      <td>C1</td>\n",
       "      <td>...</td>\n",
       "      <td>NaN</td>\n",
       "      <td>Apr-16</td>\n",
       "      <td>0.0</td>\n",
       "      <td>1</td>\n",
       "      <td>INDIVIDUAL</td>\n",
       "      <td>0</td>\n",
       "      <td>0.0</td>\n",
       "      <td>0</td>\n",
       "      <td>0.0</td>\n",
       "      <td>0.0</td>\n",
       "    </tr>\n",
       "    <tr>\n",
       "      <th>4</th>\n",
       "      <td>1075358</td>\n",
       "      <td>1311748</td>\n",
       "      <td>3000</td>\n",
       "      <td>3000</td>\n",
       "      <td>3000.0</td>\n",
       "      <td>60 months</td>\n",
       "      <td>12.69%</td>\n",
       "      <td>67.79</td>\n",
       "      <td>B</td>\n",
       "      <td>B5</td>\n",
       "      <td>...</td>\n",
       "      <td>Jun-16</td>\n",
       "      <td>May-16</td>\n",
       "      <td>0.0</td>\n",
       "      <td>1</td>\n",
       "      <td>INDIVIDUAL</td>\n",
       "      <td>0</td>\n",
       "      <td>0.0</td>\n",
       "      <td>0</td>\n",
       "      <td>0.0</td>\n",
       "      <td>0.0</td>\n",
       "    </tr>\n",
       "  </tbody>\n",
       "</table>\n",
       "<p>5 rows × 57 columns</p>\n",
       "</div>"
      ],
      "text/plain": [
       "        id  member_id  loan_amnt  funded_amnt  funded_amnt_inv        term  \\\n",
       "0  1077501    1296599       5000         5000           4975.0   36 months   \n",
       "1  1077430    1314167       2500         2500           2500.0   60 months   \n",
       "2  1077175    1313524       2400         2400           2400.0   36 months   \n",
       "3  1076863    1277178      10000        10000          10000.0   36 months   \n",
       "4  1075358    1311748       3000         3000           3000.0   60 months   \n",
       "\n",
       "  int_rate  installment grade sub_grade  ... next_pymnt_d last_credit_pull_d  \\\n",
       "0   10.65%       162.87     B        B2  ...          NaN             May-16   \n",
       "1   15.27%        59.83     C        C4  ...          NaN             Sep-13   \n",
       "2   15.96%        84.33     C        C5  ...          NaN             May-16   \n",
       "3   13.49%       339.31     C        C1  ...          NaN             Apr-16   \n",
       "4   12.69%        67.79     B        B5  ...       Jun-16             May-16   \n",
       "\n",
       "  collections_12_mths_ex_med  policy_code application_type acc_now_delinq  \\\n",
       "0                        0.0            1       INDIVIDUAL              0   \n",
       "1                        0.0            1       INDIVIDUAL              0   \n",
       "2                        0.0            1       INDIVIDUAL              0   \n",
       "3                        0.0            1       INDIVIDUAL              0   \n",
       "4                        0.0            1       INDIVIDUAL              0   \n",
       "\n",
       "  chargeoff_within_12_mths delinq_amnt pub_rec_bankruptcies tax_liens  \n",
       "0                      0.0           0                  0.0       0.0  \n",
       "1                      0.0           0                  0.0       0.0  \n",
       "2                      0.0           0                  0.0       0.0  \n",
       "3                      0.0           0                  0.0       0.0  \n",
       "4                      0.0           0                  0.0       0.0  \n",
       "\n",
       "[5 rows x 57 columns]"
      ]
     },
     "execution_count": 760,
     "metadata": {},
     "output_type": "execute_result"
    }
   ],
   "source": [
    "# check the top 5 rows of the new dataframe.\n",
    "df_new.head()"
   ]
  },
  {
   "cell_type": "code",
   "execution_count": 761,
   "id": "7b8a1555",
   "metadata": {},
   "outputs": [
    {
     "data": {
      "text/plain": [
       "(39717, 57)"
      ]
     },
     "execution_count": 761,
     "metadata": {},
     "output_type": "execute_result"
    }
   ],
   "source": [
    "# check the no of rows and columns in the new dataframe.\n",
    "# We can see that the new dataframe has 54 columns less than the original dataframe.\n",
    "df_new.shape"
   ]
  },
  {
   "cell_type": "code",
   "execution_count": 762,
   "id": "e474af20",
   "metadata": {},
   "outputs": [
    {
     "data": {
      "text/plain": [
       "2263869"
      ]
     },
     "execution_count": 762,
     "metadata": {},
     "output_type": "execute_result"
    }
   ],
   "source": [
    "# check the size of the new dataframe.\n",
    "# We can see the size of the new dataframe has reduced. \n",
    "df_new.size"
   ]
  },
  {
   "cell_type": "code",
   "execution_count": 763,
   "id": "185034a1",
   "metadata": {},
   "outputs": [
    {
     "data": {
      "text/plain": [
       "id                                0\n",
       "member_id                         0\n",
       "loan_amnt                         0\n",
       "funded_amnt                       0\n",
       "funded_amnt_inv                   0\n",
       "term                              0\n",
       "int_rate                          0\n",
       "installment                       0\n",
       "grade                             0\n",
       "sub_grade                         0\n",
       "emp_title                      2459\n",
       "emp_length                     1075\n",
       "home_ownership                    0\n",
       "annual_inc                        0\n",
       "verification_status               0\n",
       "issue_d                           0\n",
       "loan_status                       0\n",
       "pymnt_plan                        0\n",
       "url                               0\n",
       "desc                          12940\n",
       "purpose                           0\n",
       "title                            11\n",
       "zip_code                          0\n",
       "addr_state                        0\n",
       "dti                               0\n",
       "delinq_2yrs                       0\n",
       "earliest_cr_line                  0\n",
       "inq_last_6mths                    0\n",
       "mths_since_last_delinq        25682\n",
       "mths_since_last_record        36931\n",
       "open_acc                          0\n",
       "pub_rec                           0\n",
       "revol_bal                         0\n",
       "revol_util                       50\n",
       "total_acc                         0\n",
       "initial_list_status               0\n",
       "out_prncp                         0\n",
       "out_prncp_inv                     0\n",
       "total_pymnt                       0\n",
       "total_pymnt_inv                   0\n",
       "total_rec_prncp                   0\n",
       "total_rec_int                     0\n",
       "total_rec_late_fee                0\n",
       "recoveries                        0\n",
       "collection_recovery_fee           0\n",
       "last_pymnt_d                     71\n",
       "last_pymnt_amnt                   0\n",
       "next_pymnt_d                  38577\n",
       "last_credit_pull_d                2\n",
       "collections_12_mths_ex_med       56\n",
       "policy_code                       0\n",
       "application_type                  0\n",
       "acc_now_delinq                    0\n",
       "chargeoff_within_12_mths         56\n",
       "delinq_amnt                       0\n",
       "pub_rec_bankruptcies            697\n",
       "tax_liens                        39\n",
       "dtype: int64"
      ]
     },
     "execution_count": 763,
     "metadata": {},
     "output_type": "execute_result"
    }
   ],
   "source": [
    "# check the sum of no of null rows in the all the columns in the new dataframe.\n",
    "df_new.isnull().sum()"
   ]
  },
  {
   "cell_type": "code",
   "execution_count": 826,
   "id": "d3971541",
   "metadata": {},
   "outputs": [],
   "source": [
    "# get the details about the data distribution for the 3 columns where there are more than 50% missing values."
   ]
  },
  {
   "cell_type": "code",
   "execution_count": 839,
   "id": "7af74242",
   "metadata": {},
   "outputs": [
    {
     "data": {
      "text/plain": [
       "['mths_since_last_delinq', 'mths_since_last_record', 'next_pymnt_d']"
      ]
     },
     "execution_count": 839,
     "metadata": {},
     "output_type": "execute_result"
    }
   ],
   "source": [
    "# get the list of columns where there are more than 50% missing values.\n",
    "# we see that there are 3 columns where there are more than 50% of missing values\n",
    "columns_50_missing_values = [x for x in df_new.columns if df_new[x].isnull().sum()/df_new.shape[0]*100 > 50 ]\n",
    "columns_50_missing_values"
   ]
  },
  {
   "cell_type": "code",
   "execution_count": 838,
   "id": "b4d0e983",
   "metadata": {},
   "outputs": [
    {
     "name": "stdout",
     "output_type": "stream",
     "text": [
      "Unique values for the column mths_since_last_delinq [ nan  35.  38.  61.   8.  20.  18.  68.  45.  48.  41.  40.  74.  25.\n",
      "  53.  39.  10.  26.  56.  77.  28.  52.  24.  16.  60.  54.  23.   9.\n",
      "  11.  13.  65.  19.  80.  22.  59.  79.  44.  64.  57.  14.  63.  49.\n",
      "  15.  73.  70.  29.  51.   5.  75.  55.   2.  30.  47.  33.  69.   4.\n",
      "  43.  21.  27.  46.  81.  78.  82.  31.  76.  62.  72.  42.  50.   3.\n",
      "  12.  67.  36.  34.  58.  17.  71.  66.  32.   6.  37.   7.   1.  83.\n",
      "  86. 115.  96. 103. 120. 106.  89. 107.  85.  97.  95.   0.]\n",
      "Value counts for the column mths_since_last_delinq 0.0      443\n",
      "15.0     252\n",
      "30.0     247\n",
      "23.0     247\n",
      "24.0     241\n",
      "        ... \n",
      "89.0       1\n",
      "107.0      1\n",
      "85.0       1\n",
      "97.0       1\n",
      "95.0       1\n",
      "Name: mths_since_last_delinq, Length: 95, dtype: int64\n",
      "distribution of the data for the column mths_since_last_delinq count    14035.000000\n",
      "mean        35.900962\n",
      "std         22.020060\n",
      "min          0.000000\n",
      "25%         18.000000\n",
      "50%         34.000000\n",
      "75%         52.000000\n",
      "max        120.000000\n",
      "Name: mths_since_last_delinq, dtype: float64\n",
      "Unique values for the column mths_since_last_record [ nan 113. 105.  97.  33.  93.  52.  85.  90.  91. 114.  92. 117.  87.\n",
      "  45.  83. 118.  38. 101. 100. 112. 110.  88.  79.  77. 107. 102.  98.\n",
      "  95. 103.  96. 116. 111.  89. 108.  29. 106. 115.  53.  86.  57.  63.\n",
      "  94. 109.  99. 104.  76.  61.  28.  23.  75.  47.  82.  21.  62.  44.\n",
      "  80.  67. 119.  42.  34.  66.  58.  22.  56.  72.  64.  50.  69.  49.\n",
      "  74.  35.  12.  26.  78.  54.  37.  73.  11.  31.  59.  32.  81.  68.\n",
      "  55.  39.  51.  70.  30.  41.  71.  40.  43.  27.  65.  46.  19.  17.\n",
      "  25.  13.  48.  36.   7.  60.  14.   6.  18.   0.  20. 120. 129.   5.]\n",
      "Value counts for the column mths_since_last_record 0.0      670\n",
      "104.0     61\n",
      "89.0      60\n",
      "113.0     59\n",
      "111.0     57\n",
      "        ... \n",
      "19.0       1\n",
      "20.0       1\n",
      "120.0      1\n",
      "129.0      1\n",
      "5.0        1\n",
      "Name: mths_since_last_record, Length: 111, dtype: int64\n",
      "distribution of the data for the column mths_since_last_record count    2786.000000\n",
      "mean       69.698134\n",
      "std        43.822529\n",
      "min         0.000000\n",
      "25%        22.000000\n",
      "50%        90.000000\n",
      "75%       104.000000\n",
      "max       129.000000\n",
      "Name: mths_since_last_record, dtype: float64\n",
      "Unique values for the column next_pymnt_d [nan 'Jun-16' 'Jul-16']\n",
      "Value counts for the column next_pymnt_d Jun-16    1125\n",
      "Jul-16      15\n",
      "Name: next_pymnt_d, dtype: int64\n",
      "distribution of the data for the column next_pymnt_d count       1140\n",
      "unique         2\n",
      "top       Jun-16\n",
      "freq        1125\n",
      "Name: next_pymnt_d, dtype: object\n"
     ]
    }
   ],
   "source": [
    "# Check the data across the 3 columns like unique values,count of each value and distribution of data.\n",
    "for i in columns_50_missing_values:\n",
    "    print(\"Unique values for the column\",i, df_new[i].unique())\n",
    "    print(\"Value counts for the column\",i,df_new[i].value_counts())\n",
    "    print(\"distribution of the data for the column\", i, df_new[i].describe())"
   ]
  },
  {
   "cell_type": "markdown",
   "id": "683cb1cf",
   "metadata": {},
   "source": [
    "## We still see a large no of columns where we have huge null values.\n",
    "### We will clean up the columns where there are more than 50% of null values as we cannot impute them."
   ]
  },
  {
   "cell_type": "code",
   "execution_count": 845,
   "id": "0399560b",
   "metadata": {},
   "outputs": [],
   "source": [
    "# dropping the columns where there a more than 50% missing value and create new dataframe from it.\n",
    "df_new1= df_new.drop(columns_50_missing_values,axis=1)"
   ]
  },
  {
   "cell_type": "code",
   "execution_count": 771,
   "id": "a6dfa57e",
   "metadata": {
    "scrolled": true
   },
   "outputs": [
    {
     "data": {
      "text/html": [
       "<div>\n",
       "<style scoped>\n",
       "    .dataframe tbody tr th:only-of-type {\n",
       "        vertical-align: middle;\n",
       "    }\n",
       "\n",
       "    .dataframe tbody tr th {\n",
       "        vertical-align: top;\n",
       "    }\n",
       "\n",
       "    .dataframe thead th {\n",
       "        text-align: right;\n",
       "    }\n",
       "</style>\n",
       "<table border=\"1\" class=\"dataframe\">\n",
       "  <thead>\n",
       "    <tr style=\"text-align: right;\">\n",
       "      <th></th>\n",
       "      <th>id</th>\n",
       "      <th>member_id</th>\n",
       "      <th>loan_amnt</th>\n",
       "      <th>funded_amnt</th>\n",
       "      <th>funded_amnt_inv</th>\n",
       "      <th>term</th>\n",
       "      <th>int_rate</th>\n",
       "      <th>installment</th>\n",
       "      <th>grade</th>\n",
       "      <th>sub_grade</th>\n",
       "      <th>...</th>\n",
       "      <th>last_pymnt_amnt</th>\n",
       "      <th>last_credit_pull_d</th>\n",
       "      <th>collections_12_mths_ex_med</th>\n",
       "      <th>policy_code</th>\n",
       "      <th>application_type</th>\n",
       "      <th>acc_now_delinq</th>\n",
       "      <th>chargeoff_within_12_mths</th>\n",
       "      <th>delinq_amnt</th>\n",
       "      <th>pub_rec_bankruptcies</th>\n",
       "      <th>tax_liens</th>\n",
       "    </tr>\n",
       "  </thead>\n",
       "  <tbody>\n",
       "    <tr>\n",
       "      <th>0</th>\n",
       "      <td>1077501</td>\n",
       "      <td>1296599</td>\n",
       "      <td>5000</td>\n",
       "      <td>5000</td>\n",
       "      <td>4975.0</td>\n",
       "      <td>36 months</td>\n",
       "      <td>10.65%</td>\n",
       "      <td>162.87</td>\n",
       "      <td>B</td>\n",
       "      <td>B2</td>\n",
       "      <td>...</td>\n",
       "      <td>171.62</td>\n",
       "      <td>May-16</td>\n",
       "      <td>0.0</td>\n",
       "      <td>1</td>\n",
       "      <td>INDIVIDUAL</td>\n",
       "      <td>0</td>\n",
       "      <td>0.0</td>\n",
       "      <td>0</td>\n",
       "      <td>0.0</td>\n",
       "      <td>0.0</td>\n",
       "    </tr>\n",
       "    <tr>\n",
       "      <th>1</th>\n",
       "      <td>1077430</td>\n",
       "      <td>1314167</td>\n",
       "      <td>2500</td>\n",
       "      <td>2500</td>\n",
       "      <td>2500.0</td>\n",
       "      <td>60 months</td>\n",
       "      <td>15.27%</td>\n",
       "      <td>59.83</td>\n",
       "      <td>C</td>\n",
       "      <td>C4</td>\n",
       "      <td>...</td>\n",
       "      <td>119.66</td>\n",
       "      <td>Sep-13</td>\n",
       "      <td>0.0</td>\n",
       "      <td>1</td>\n",
       "      <td>INDIVIDUAL</td>\n",
       "      <td>0</td>\n",
       "      <td>0.0</td>\n",
       "      <td>0</td>\n",
       "      <td>0.0</td>\n",
       "      <td>0.0</td>\n",
       "    </tr>\n",
       "    <tr>\n",
       "      <th>2</th>\n",
       "      <td>1077175</td>\n",
       "      <td>1313524</td>\n",
       "      <td>2400</td>\n",
       "      <td>2400</td>\n",
       "      <td>2400.0</td>\n",
       "      <td>36 months</td>\n",
       "      <td>15.96%</td>\n",
       "      <td>84.33</td>\n",
       "      <td>C</td>\n",
       "      <td>C5</td>\n",
       "      <td>...</td>\n",
       "      <td>649.91</td>\n",
       "      <td>May-16</td>\n",
       "      <td>0.0</td>\n",
       "      <td>1</td>\n",
       "      <td>INDIVIDUAL</td>\n",
       "      <td>0</td>\n",
       "      <td>0.0</td>\n",
       "      <td>0</td>\n",
       "      <td>0.0</td>\n",
       "      <td>0.0</td>\n",
       "    </tr>\n",
       "    <tr>\n",
       "      <th>3</th>\n",
       "      <td>1076863</td>\n",
       "      <td>1277178</td>\n",
       "      <td>10000</td>\n",
       "      <td>10000</td>\n",
       "      <td>10000.0</td>\n",
       "      <td>36 months</td>\n",
       "      <td>13.49%</td>\n",
       "      <td>339.31</td>\n",
       "      <td>C</td>\n",
       "      <td>C1</td>\n",
       "      <td>...</td>\n",
       "      <td>357.48</td>\n",
       "      <td>Apr-16</td>\n",
       "      <td>0.0</td>\n",
       "      <td>1</td>\n",
       "      <td>INDIVIDUAL</td>\n",
       "      <td>0</td>\n",
       "      <td>0.0</td>\n",
       "      <td>0</td>\n",
       "      <td>0.0</td>\n",
       "      <td>0.0</td>\n",
       "    </tr>\n",
       "    <tr>\n",
       "      <th>4</th>\n",
       "      <td>1075358</td>\n",
       "      <td>1311748</td>\n",
       "      <td>3000</td>\n",
       "      <td>3000</td>\n",
       "      <td>3000.0</td>\n",
       "      <td>60 months</td>\n",
       "      <td>12.69%</td>\n",
       "      <td>67.79</td>\n",
       "      <td>B</td>\n",
       "      <td>B5</td>\n",
       "      <td>...</td>\n",
       "      <td>67.79</td>\n",
       "      <td>May-16</td>\n",
       "      <td>0.0</td>\n",
       "      <td>1</td>\n",
       "      <td>INDIVIDUAL</td>\n",
       "      <td>0</td>\n",
       "      <td>0.0</td>\n",
       "      <td>0</td>\n",
       "      <td>0.0</td>\n",
       "      <td>0.0</td>\n",
       "    </tr>\n",
       "  </tbody>\n",
       "</table>\n",
       "<p>5 rows × 54 columns</p>\n",
       "</div>"
      ],
      "text/plain": [
       "        id  member_id  loan_amnt  funded_amnt  funded_amnt_inv        term  \\\n",
       "0  1077501    1296599       5000         5000           4975.0   36 months   \n",
       "1  1077430    1314167       2500         2500           2500.0   60 months   \n",
       "2  1077175    1313524       2400         2400           2400.0   36 months   \n",
       "3  1076863    1277178      10000        10000          10000.0   36 months   \n",
       "4  1075358    1311748       3000         3000           3000.0   60 months   \n",
       "\n",
       "  int_rate  installment grade sub_grade  ... last_pymnt_amnt  \\\n",
       "0   10.65%       162.87     B        B2  ...          171.62   \n",
       "1   15.27%        59.83     C        C4  ...          119.66   \n",
       "2   15.96%        84.33     C        C5  ...          649.91   \n",
       "3   13.49%       339.31     C        C1  ...          357.48   \n",
       "4   12.69%        67.79     B        B5  ...           67.79   \n",
       "\n",
       "  last_credit_pull_d collections_12_mths_ex_med  policy_code application_type  \\\n",
       "0             May-16                        0.0            1       INDIVIDUAL   \n",
       "1             Sep-13                        0.0            1       INDIVIDUAL   \n",
       "2             May-16                        0.0            1       INDIVIDUAL   \n",
       "3             Apr-16                        0.0            1       INDIVIDUAL   \n",
       "4             May-16                        0.0            1       INDIVIDUAL   \n",
       "\n",
       "  acc_now_delinq chargeoff_within_12_mths delinq_amnt pub_rec_bankruptcies  \\\n",
       "0              0                      0.0           0                  0.0   \n",
       "1              0                      0.0           0                  0.0   \n",
       "2              0                      0.0           0                  0.0   \n",
       "3              0                      0.0           0                  0.0   \n",
       "4              0                      0.0           0                  0.0   \n",
       "\n",
       "  tax_liens  \n",
       "0       0.0  \n",
       "1       0.0  \n",
       "2       0.0  \n",
       "3       0.0  \n",
       "4       0.0  \n",
       "\n",
       "[5 rows x 54 columns]"
      ]
     },
     "execution_count": 771,
     "metadata": {},
     "output_type": "execute_result"
    }
   ],
   "source": [
    "# get the top 5 rows of the new dataframe\n",
    "df_new1.head()"
   ]
  },
  {
   "cell_type": "code",
   "execution_count": 772,
   "id": "c648d8ed",
   "metadata": {},
   "outputs": [
    {
     "data": {
      "text/plain": [
       "2144718"
      ]
     },
     "execution_count": 772,
     "metadata": {},
     "output_type": "execute_result"
    }
   ],
   "source": [
    "# get the size of the new dataframe\n",
    "# we see that the size of the dataframe has further reduced.\n",
    "df_new1.size"
   ]
  },
  {
   "cell_type": "code",
   "execution_count": 773,
   "id": "5929a5eb",
   "metadata": {},
   "outputs": [
    {
     "data": {
      "text/plain": [
       "(39717, 54)"
      ]
     },
     "execution_count": 773,
     "metadata": {},
     "output_type": "execute_result"
    }
   ],
   "source": [
    "# get the shape of the new dataframe. \n",
    "# we see that the no of columns have reduced.\n",
    "df_new1.shape"
   ]
  },
  {
   "cell_type": "code",
   "execution_count": 774,
   "id": "0a762c6d",
   "metadata": {},
   "outputs": [
    {
     "data": {
      "text/plain": [
       "id                              int64\n",
       "member_id                       int64\n",
       "loan_amnt                       int64\n",
       "funded_amnt                     int64\n",
       "funded_amnt_inv               float64\n",
       "term                           object\n",
       "int_rate                       object\n",
       "installment                   float64\n",
       "grade                          object\n",
       "sub_grade                      object\n",
       "emp_title                      object\n",
       "emp_length                     object\n",
       "home_ownership                 object\n",
       "annual_inc                    float64\n",
       "verification_status            object\n",
       "issue_d                        object\n",
       "loan_status                    object\n",
       "pymnt_plan                     object\n",
       "url                            object\n",
       "desc                           object\n",
       "purpose                        object\n",
       "title                          object\n",
       "zip_code                       object\n",
       "addr_state                     object\n",
       "dti                           float64\n",
       "delinq_2yrs                     int64\n",
       "earliest_cr_line               object\n",
       "inq_last_6mths                  int64\n",
       "open_acc                        int64\n",
       "pub_rec                         int64\n",
       "revol_bal                       int64\n",
       "revol_util                     object\n",
       "total_acc                       int64\n",
       "initial_list_status            object\n",
       "out_prncp                     float64\n",
       "out_prncp_inv                 float64\n",
       "total_pymnt                   float64\n",
       "total_pymnt_inv               float64\n",
       "total_rec_prncp               float64\n",
       "total_rec_int                 float64\n",
       "total_rec_late_fee            float64\n",
       "recoveries                    float64\n",
       "collection_recovery_fee       float64\n",
       "last_pymnt_d                   object\n",
       "last_pymnt_amnt               float64\n",
       "last_credit_pull_d             object\n",
       "collections_12_mths_ex_med    float64\n",
       "policy_code                     int64\n",
       "application_type               object\n",
       "acc_now_delinq                  int64\n",
       "chargeoff_within_12_mths      float64\n",
       "delinq_amnt                     int64\n",
       "pub_rec_bankruptcies          float64\n",
       "tax_liens                     float64\n",
       "dtype: object"
      ]
     },
     "execution_count": 774,
     "metadata": {},
     "output_type": "execute_result"
    }
   ],
   "source": [
    "#Check the datatype of the new dataframe.\n",
    "df_new1.dtypes"
   ]
  },
  {
   "cell_type": "code",
   "execution_count": 775,
   "id": "45531546",
   "metadata": {},
   "outputs": [
    {
     "data": {
      "text/plain": [
       "id                                0\n",
       "member_id                         0\n",
       "loan_amnt                         0\n",
       "funded_amnt                       0\n",
       "funded_amnt_inv                   0\n",
       "term                              0\n",
       "int_rate                          0\n",
       "installment                       0\n",
       "grade                             0\n",
       "sub_grade                         0\n",
       "emp_title                      2459\n",
       "emp_length                     1075\n",
       "home_ownership                    0\n",
       "annual_inc                        0\n",
       "verification_status               0\n",
       "issue_d                           0\n",
       "loan_status                       0\n",
       "pymnt_plan                        0\n",
       "url                               0\n",
       "desc                          12940\n",
       "purpose                           0\n",
       "title                            11\n",
       "zip_code                          0\n",
       "addr_state                        0\n",
       "dti                               0\n",
       "delinq_2yrs                       0\n",
       "earliest_cr_line                  0\n",
       "inq_last_6mths                    0\n",
       "open_acc                          0\n",
       "pub_rec                           0\n",
       "revol_bal                         0\n",
       "revol_util                       50\n",
       "total_acc                         0\n",
       "initial_list_status               0\n",
       "out_prncp                         0\n",
       "out_prncp_inv                     0\n",
       "total_pymnt                       0\n",
       "total_pymnt_inv                   0\n",
       "total_rec_prncp                   0\n",
       "total_rec_int                     0\n",
       "total_rec_late_fee                0\n",
       "recoveries                        0\n",
       "collection_recovery_fee           0\n",
       "last_pymnt_d                     71\n",
       "last_pymnt_amnt                   0\n",
       "last_credit_pull_d                2\n",
       "collections_12_mths_ex_med       56\n",
       "policy_code                       0\n",
       "application_type                  0\n",
       "acc_now_delinq                    0\n",
       "chargeoff_within_12_mths         56\n",
       "delinq_amnt                       0\n",
       "pub_rec_bankruptcies            697\n",
       "tax_liens                        39\n",
       "dtype: int64"
      ]
     },
     "execution_count": 775,
     "metadata": {},
     "output_type": "execute_result"
    }
   ],
   "source": [
    "# check for the sum of null rows for the new dataframe.\n",
    "df_new1.isnull().sum()"
   ]
  },
  {
   "cell_type": "markdown",
   "id": "60463e98",
   "metadata": {},
   "source": [
    "## 2. Check for any duplicates"
   ]
  },
  {
   "cell_type": "code",
   "execution_count": 840,
   "id": "b04f4302",
   "metadata": {},
   "outputs": [
    {
     "data": {
      "text/html": [
       "<div>\n",
       "<style scoped>\n",
       "    .dataframe tbody tr th:only-of-type {\n",
       "        vertical-align: middle;\n",
       "    }\n",
       "\n",
       "    .dataframe tbody tr th {\n",
       "        vertical-align: top;\n",
       "    }\n",
       "\n",
       "    .dataframe thead th {\n",
       "        text-align: right;\n",
       "    }\n",
       "</style>\n",
       "<table border=\"1\" class=\"dataframe\">\n",
       "  <thead>\n",
       "    <tr style=\"text-align: right;\">\n",
       "      <th></th>\n",
       "      <th>id</th>\n",
       "      <th>member_id</th>\n",
       "      <th>loan_amnt</th>\n",
       "      <th>funded_amnt</th>\n",
       "      <th>funded_amnt_inv</th>\n",
       "      <th>term</th>\n",
       "      <th>int_rate</th>\n",
       "      <th>installment</th>\n",
       "      <th>grade</th>\n",
       "      <th>sub_grade</th>\n",
       "      <th>...</th>\n",
       "      <th>last_pymnt_amnt</th>\n",
       "      <th>last_credit_pull_d</th>\n",
       "      <th>collections_12_mths_ex_med</th>\n",
       "      <th>policy_code</th>\n",
       "      <th>application_type</th>\n",
       "      <th>acc_now_delinq</th>\n",
       "      <th>chargeoff_within_12_mths</th>\n",
       "      <th>delinq_amnt</th>\n",
       "      <th>pub_rec_bankruptcies</th>\n",
       "      <th>tax_liens</th>\n",
       "    </tr>\n",
       "  </thead>\n",
       "  <tbody>\n",
       "  </tbody>\n",
       "</table>\n",
       "<p>0 rows × 54 columns</p>\n",
       "</div>"
      ],
      "text/plain": [
       "Empty DataFrame\n",
       "Columns: [id, member_id, loan_amnt, funded_amnt, funded_amnt_inv, term, int_rate, installment, grade, sub_grade, emp_title, emp_length, home_ownership, annual_inc, verification_status, issue_d, loan_status, pymnt_plan, url, desc, purpose, title, zip_code, addr_state, dti, delinq_2yrs, earliest_cr_line, inq_last_6mths, open_acc, pub_rec, revol_bal, revol_util, total_acc, initial_list_status, out_prncp, out_prncp_inv, total_pymnt, total_pymnt_inv, total_rec_prncp, total_rec_int, total_rec_late_fee, recoveries, collection_recovery_fee, last_pymnt_d, last_pymnt_amnt, last_credit_pull_d, collections_12_mths_ex_med, policy_code, application_type, acc_now_delinq, chargeoff_within_12_mths, delinq_amnt, pub_rec_bankruptcies, tax_liens]\n",
       "Index: []\n",
       "\n",
       "[0 rows x 54 columns]"
      ]
     },
     "execution_count": 840,
     "metadata": {},
     "output_type": "execute_result"
    }
   ],
   "source": [
    "# check if there are any duplicate columns in the dataframe.\n",
    "df_new1[df_new1.duplicated(keep='first')]"
   ]
  },
  {
   "cell_type": "markdown",
   "id": "262bf4e3",
   "metadata": {},
   "source": [
    "# 3. Check for columns where nulls can be imputed with mean or medians"
   ]
  },
  {
   "cell_type": "code",
   "execution_count": 777,
   "id": "9bf305ef",
   "metadata": {},
   "outputs": [
    {
     "data": {
      "text/plain": [
       "0.0    37339\n",
       "1.0     1674\n",
       "2.0        7\n",
       "Name: pub_rec_bankruptcies, dtype: int64"
      ]
     },
     "execution_count": 777,
     "metadata": {},
     "output_type": "execute_result"
    }
   ],
   "source": [
    "# check the count of value for pub_rec_bankruptcies column.\n",
    "df_new1.pub_rec_bankruptcies.value_counts()"
   ]
  },
  {
   "cell_type": "code",
   "execution_count": 841,
   "id": "9694d632",
   "metadata": {},
   "outputs": [
    {
     "data": {
      "text/plain": [
       "count    39717.000000\n",
       "mean         0.042501\n",
       "std          0.202603\n",
       "min          0.000000\n",
       "25%          0.000000\n",
       "50%          0.000000\n",
       "75%          0.000000\n",
       "max          2.000000\n",
       "Name: pub_rec_bankruptcies, dtype: float64"
      ]
     },
     "execution_count": 841,
     "metadata": {},
     "output_type": "execute_result"
    }
   ],
   "source": [
    "# check the distribution of value in pub_rec_bankruptcies column.\n",
    "df_new1.pub_rec_bankruptcies.describe()"
   ]
  },
  {
   "cell_type": "code",
   "execution_count": 846,
   "id": "fc4079c4",
   "metadata": {},
   "outputs": [],
   "source": [
    "# impute meadian value for pub_rec_bankruptcie as the 1 and 3rd qartlie and median all are 0.\n",
    "df_new1.pub_rec_bankruptcies= df_new1.pub_rec_bankruptcies.fillna(0)"
   ]
  },
  {
   "cell_type": "code",
   "execution_count": 847,
   "id": "eda9bd1b",
   "metadata": {},
   "outputs": [
    {
     "data": {
      "text/plain": [
       "0.0    38036\n",
       "1.0     1674\n",
       "2.0        7\n",
       "Name: pub_rec_bankruptcies, dtype: int64"
      ]
     },
     "execution_count": 847,
     "metadata": {},
     "output_type": "execute_result"
    }
   ],
   "source": [
    "# get the value count post imputing the values for pub_rec_bankruptcies\n",
    "df_new1.pub_rec_bankruptcies.value_counts()"
   ]
  },
  {
   "cell_type": "code",
   "execution_count": 848,
   "id": "9199ed09",
   "metadata": {},
   "outputs": [
    {
     "data": {
      "text/plain": [
       "0.0    39678\n",
       "Name: tax_liens, dtype: int64"
      ]
     },
     "execution_count": 848,
     "metadata": {},
     "output_type": "execute_result"
    }
   ],
   "source": [
    "# check the count of value for tax_liens column.\n",
    "df_new1.tax_liens.value_counts()"
   ]
  },
  {
   "cell_type": "code",
   "execution_count": 849,
   "id": "2024275b",
   "metadata": {},
   "outputs": [
    {
     "data": {
      "text/plain": [
       "array([ 0., nan])"
      ]
     },
     "execution_count": 849,
     "metadata": {},
     "output_type": "execute_result"
    }
   ],
   "source": [
    "# check the unique values for tax_liens\n",
    "df_new1.tax_liens.unique()"
   ]
  },
  {
   "cell_type": "code",
   "execution_count": 858,
   "id": "769d5329",
   "metadata": {},
   "outputs": [],
   "source": [
    "# since there are only 0 and nan values fill the nan with 0.\n",
    "df_new1.tax_liens = df_new1.tax_liens.fillna(0)"
   ]
  },
  {
   "cell_type": "code",
   "execution_count": 850,
   "id": "05b43aed",
   "metadata": {},
   "outputs": [
    {
     "data": {
      "text/plain": [
       "array([ 0., nan])"
      ]
     },
     "execution_count": 850,
     "metadata": {},
     "output_type": "execute_result"
    }
   ],
   "source": [
    "# check the unique values for chargeoff_within_12_mths\n",
    "df_new1.chargeoff_within_12_mths.unique()"
   ]
  },
  {
   "cell_type": "code",
   "execution_count": 851,
   "id": "9cb92cdb",
   "metadata": {},
   "outputs": [
    {
     "data": {
      "text/plain": [
       "0.0    39661\n",
       "Name: chargeoff_within_12_mths, dtype: int64"
      ]
     },
     "execution_count": 851,
     "metadata": {},
     "output_type": "execute_result"
    }
   ],
   "source": [
    "# check the count of value for chargeoff_within_12_mths column.\n",
    "df_new1.chargeoff_within_12_mths.value_counts()"
   ]
  },
  {
   "cell_type": "code",
   "execution_count": 852,
   "id": "61877b82",
   "metadata": {},
   "outputs": [],
   "source": [
    "# since there are only 0 and nan values fill the nan with 0.\n",
    "df_new1.chargeoff_within_12_mths = df_new1.chargeoff_within_12_mths.fillna(0)"
   ]
  },
  {
   "cell_type": "code",
   "execution_count": 855,
   "id": "c35ddd40",
   "metadata": {},
   "outputs": [
    {
     "data": {
      "text/plain": [
       "array([ 0., nan])"
      ]
     },
     "execution_count": 855,
     "metadata": {},
     "output_type": "execute_result"
    }
   ],
   "source": [
    "# check the unique values for collections_12_mths_ex_med\n",
    "df_new1.collections_12_mths_ex_med.unique()"
   ]
  },
  {
   "cell_type": "code",
   "execution_count": 854,
   "id": "6caba03b",
   "metadata": {},
   "outputs": [
    {
     "data": {
      "text/plain": [
       "0.0    39661\n",
       "Name: collections_12_mths_ex_med, dtype: int64"
      ]
     },
     "execution_count": 854,
     "metadata": {},
     "output_type": "execute_result"
    }
   ],
   "source": [
    "# check the count of value for collections_12_mths_ex_med column.\n",
    "df_new1.collections_12_mths_ex_med.value_counts()"
   ]
  },
  {
   "cell_type": "code",
   "execution_count": 856,
   "id": "c4df24ff",
   "metadata": {},
   "outputs": [],
   "source": [
    "# since there are only 0 and nan values fill the nan with 0.\n",
    "df_new1.collections_12_mths_ex_med=df_new1.collections_12_mths_ex_med.fillna(0)"
   ]
  },
  {
   "cell_type": "code",
   "execution_count": 861,
   "id": "f1f9389f",
   "metadata": {},
   "outputs": [
    {
     "data": {
      "text/plain": [
       "id                                0\n",
       "member_id                         0\n",
       "loan_amnt                         0\n",
       "funded_amnt                       0\n",
       "funded_amnt_inv                   0\n",
       "term                              0\n",
       "int_rate                          0\n",
       "installment                       0\n",
       "grade                             0\n",
       "sub_grade                         0\n",
       "emp_title                      2459\n",
       "emp_length                     1075\n",
       "home_ownership                    0\n",
       "annual_inc                        0\n",
       "verification_status               0\n",
       "issue_d                           0\n",
       "loan_status                       0\n",
       "pymnt_plan                        0\n",
       "url                               0\n",
       "desc                          12940\n",
       "purpose                           0\n",
       "title                            11\n",
       "zip_code                          0\n",
       "addr_state                        0\n",
       "dti                               0\n",
       "delinq_2yrs                       0\n",
       "earliest_cr_line                  0\n",
       "inq_last_6mths                    0\n",
       "open_acc                          0\n",
       "pub_rec                           0\n",
       "revol_bal                         0\n",
       "revol_util                       50\n",
       "total_acc                         0\n",
       "initial_list_status               0\n",
       "out_prncp                         0\n",
       "out_prncp_inv                     0\n",
       "total_pymnt                       0\n",
       "total_pymnt_inv                   0\n",
       "total_rec_prncp                   0\n",
       "total_rec_int                     0\n",
       "total_rec_late_fee                0\n",
       "recoveries                        0\n",
       "collection_recovery_fee           0\n",
       "last_pymnt_d                     71\n",
       "last_pymnt_amnt                   0\n",
       "last_credit_pull_d                2\n",
       "collections_12_mths_ex_med        0\n",
       "policy_code                       0\n",
       "application_type                  0\n",
       "acc_now_delinq                    0\n",
       "chargeoff_within_12_mths          0\n",
       "delinq_amnt                       0\n",
       "pub_rec_bankruptcies              0\n",
       "tax_liens                         0\n",
       "dtype: int64"
      ]
     },
     "execution_count": 861,
     "metadata": {},
     "output_type": "execute_result"
    }
   ],
   "source": [
    "# check the sum of null rows for all the columns\n",
    "df_new1.isnull().sum()"
   ]
  },
  {
   "cell_type": "code",
   "execution_count": 863,
   "id": "6ef6955c",
   "metadata": {},
   "outputs": [
    {
     "data": {
      "text/plain": [
       "May-16    10308\n",
       "Apr-16     2547\n",
       "Mar-16     1123\n",
       "Feb-13      843\n",
       "Feb-16      736\n",
       "          ...  \n",
       "May-08        1\n",
       "Jun-08        1\n",
       "Jul-08        1\n",
       "May-07        1\n",
       "Jul-07        1\n",
       "Name: last_credit_pull_d, Length: 106, dtype: int64"
      ]
     },
     "execution_count": 863,
     "metadata": {},
     "output_type": "execute_result"
    }
   ],
   "source": [
    "# check count of values for last_credit_pull_d\n",
    "df_new1.last_credit_pull_d.value_counts()"
   ]
  },
  {
   "cell_type": "code",
   "execution_count": 864,
   "id": "bdfb7103",
   "metadata": {},
   "outputs": [
    {
     "data": {
      "text/html": [
       "<div>\n",
       "<style scoped>\n",
       "    .dataframe tbody tr th:only-of-type {\n",
       "        vertical-align: middle;\n",
       "    }\n",
       "\n",
       "    .dataframe tbody tr th {\n",
       "        vertical-align: top;\n",
       "    }\n",
       "\n",
       "    .dataframe thead th {\n",
       "        text-align: right;\n",
       "    }\n",
       "</style>\n",
       "<table border=\"1\" class=\"dataframe\">\n",
       "  <thead>\n",
       "    <tr style=\"text-align: right;\">\n",
       "      <th></th>\n",
       "      <th>id</th>\n",
       "      <th>member_id</th>\n",
       "      <th>loan_amnt</th>\n",
       "      <th>funded_amnt</th>\n",
       "      <th>funded_amnt_inv</th>\n",
       "      <th>term</th>\n",
       "      <th>int_rate</th>\n",
       "      <th>installment</th>\n",
       "      <th>grade</th>\n",
       "      <th>sub_grade</th>\n",
       "      <th>...</th>\n",
       "      <th>last_pymnt_amnt</th>\n",
       "      <th>last_credit_pull_d</th>\n",
       "      <th>collections_12_mths_ex_med</th>\n",
       "      <th>policy_code</th>\n",
       "      <th>application_type</th>\n",
       "      <th>acc_now_delinq</th>\n",
       "      <th>chargeoff_within_12_mths</th>\n",
       "      <th>delinq_amnt</th>\n",
       "      <th>pub_rec_bankruptcies</th>\n",
       "      <th>tax_liens</th>\n",
       "    </tr>\n",
       "  </thead>\n",
       "  <tbody>\n",
       "    <tr>\n",
       "      <th>26025</th>\n",
       "      <td>575712</td>\n",
       "      <td>740467</td>\n",
       "      <td>5000</td>\n",
       "      <td>5000</td>\n",
       "      <td>5000.0</td>\n",
       "      <td>36 months</td>\n",
       "      <td>11.12%</td>\n",
       "      <td>163.98</td>\n",
       "      <td>B</td>\n",
       "      <td>B3</td>\n",
       "      <td>...</td>\n",
       "      <td>163.98</td>\n",
       "      <td>NaN</td>\n",
       "      <td>0.0</td>\n",
       "      <td>1</td>\n",
       "      <td>INDIVIDUAL</td>\n",
       "      <td>0</td>\n",
       "      <td>0.0</td>\n",
       "      <td>0</td>\n",
       "      <td>0.0</td>\n",
       "      <td>0.0</td>\n",
       "    </tr>\n",
       "    <tr>\n",
       "      <th>39476</th>\n",
       "      <td>186499</td>\n",
       "      <td>186347</td>\n",
       "      <td>1000</td>\n",
       "      <td>1000</td>\n",
       "      <td>875.0</td>\n",
       "      <td>36 months</td>\n",
       "      <td>7.12%</td>\n",
       "      <td>30.94</td>\n",
       "      <td>A</td>\n",
       "      <td>A1</td>\n",
       "      <td>...</td>\n",
       "      <td>185.80</td>\n",
       "      <td>NaN</td>\n",
       "      <td>0.0</td>\n",
       "      <td>1</td>\n",
       "      <td>INDIVIDUAL</td>\n",
       "      <td>0</td>\n",
       "      <td>0.0</td>\n",
       "      <td>0</td>\n",
       "      <td>0.0</td>\n",
       "      <td>0.0</td>\n",
       "    </tr>\n",
       "  </tbody>\n",
       "</table>\n",
       "<p>2 rows × 54 columns</p>\n",
       "</div>"
      ],
      "text/plain": [
       "           id  member_id  loan_amnt  funded_amnt  funded_amnt_inv        term  \\\n",
       "26025  575712     740467       5000         5000           5000.0   36 months   \n",
       "39476  186499     186347       1000         1000            875.0   36 months   \n",
       "\n",
       "      int_rate  installment grade sub_grade  ... last_pymnt_amnt  \\\n",
       "26025   11.12%       163.98     B        B3  ...          163.98   \n",
       "39476    7.12%        30.94     A        A1  ...          185.80   \n",
       "\n",
       "      last_credit_pull_d collections_12_mths_ex_med  policy_code  \\\n",
       "26025                NaN                        0.0            1   \n",
       "39476                NaN                        0.0            1   \n",
       "\n",
       "      application_type acc_now_delinq chargeoff_within_12_mths delinq_amnt  \\\n",
       "26025       INDIVIDUAL              0                      0.0           0   \n",
       "39476       INDIVIDUAL              0                      0.0           0   \n",
       "\n",
       "      pub_rec_bankruptcies tax_liens  \n",
       "26025                  0.0       0.0  \n",
       "39476                  0.0       0.0  \n",
       "\n",
       "[2 rows x 54 columns]"
      ]
     },
     "execution_count": 864,
     "metadata": {},
     "output_type": "execute_result"
    }
   ],
   "source": [
    "# check the rows where the last_credit_pull_d is null\n",
    "df_new1[df_new1.last_credit_pull_d.isnull()]"
   ]
  },
  {
   "cell_type": "code",
   "execution_count": 865,
   "id": "ceed1aba",
   "metadata": {},
   "outputs": [
    {
     "data": {
      "text/plain": [
       "Index(['id', 'member_id', 'loan_amnt', 'funded_amnt', 'funded_amnt_inv',\n",
       "       'term', 'int_rate', 'installment', 'grade', 'sub_grade', 'emp_title',\n",
       "       'emp_length', 'home_ownership', 'annual_inc', 'verification_status',\n",
       "       'issue_d', 'loan_status', 'pymnt_plan', 'url', 'desc', 'purpose',\n",
       "       'title', 'zip_code', 'addr_state', 'dti', 'delinq_2yrs',\n",
       "       'earliest_cr_line', 'inq_last_6mths', 'open_acc', 'pub_rec',\n",
       "       'revol_bal', 'revol_util', 'total_acc', 'initial_list_status',\n",
       "       'out_prncp', 'out_prncp_inv', 'total_pymnt', 'total_pymnt_inv',\n",
       "       'total_rec_prncp', 'total_rec_int', 'total_rec_late_fee', 'recoveries',\n",
       "       'collection_recovery_fee', 'last_pymnt_d', 'last_pymnt_amnt',\n",
       "       'last_credit_pull_d', 'collections_12_mths_ex_med', 'policy_code',\n",
       "       'application_type', 'acc_now_delinq', 'chargeoff_within_12_mths',\n",
       "       'delinq_amnt', 'pub_rec_bankruptcies', 'tax_liens'],\n",
       "      dtype='object')"
      ]
     },
     "execution_count": 865,
     "metadata": {},
     "output_type": "execute_result"
    }
   ],
   "source": [
    "# check the column names if any that might help us in imputing the last_credit_pull_d \n",
    "df_new1.columns"
   ]
  },
  {
   "cell_type": "code",
   "execution_count": 866,
   "id": "0d579c0d",
   "metadata": {},
   "outputs": [
    {
     "data": {
      "text/html": [
       "<div>\n",
       "<style scoped>\n",
       "    .dataframe tbody tr th:only-of-type {\n",
       "        vertical-align: middle;\n",
       "    }\n",
       "\n",
       "    .dataframe tbody tr th {\n",
       "        vertical-align: top;\n",
       "    }\n",
       "\n",
       "    .dataframe thead th {\n",
       "        text-align: right;\n",
       "    }\n",
       "</style>\n",
       "<table border=\"1\" class=\"dataframe\">\n",
       "  <thead>\n",
       "    <tr style=\"text-align: right;\">\n",
       "      <th></th>\n",
       "      <th>issue_d</th>\n",
       "      <th>last_pymnt_d</th>\n",
       "      <th>last_credit_pull_d</th>\n",
       "      <th>term</th>\n",
       "      <th>loan_status</th>\n",
       "    </tr>\n",
       "  </thead>\n",
       "  <tbody>\n",
       "    <tr>\n",
       "      <th>26025</th>\n",
       "      <td>Sep-10</td>\n",
       "      <td>Jun-12</td>\n",
       "      <td>NaN</td>\n",
       "      <td>36 months</td>\n",
       "      <td>Charged Off</td>\n",
       "    </tr>\n",
       "    <tr>\n",
       "      <th>39476</th>\n",
       "      <td>Dec-07</td>\n",
       "      <td>Aug-10</td>\n",
       "      <td>NaN</td>\n",
       "      <td>36 months</td>\n",
       "      <td>Fully Paid</td>\n",
       "    </tr>\n",
       "  </tbody>\n",
       "</table>\n",
       "</div>"
      ],
      "text/plain": [
       "      issue_d last_pymnt_d last_credit_pull_d        term  loan_status\n",
       "26025  Sep-10       Jun-12                NaN   36 months  Charged Off\n",
       "39476  Dec-07       Aug-10                NaN   36 months   Fully Paid"
      ]
     },
     "execution_count": 866,
     "metadata": {},
     "output_type": "execute_result"
    }
   ],
   "source": [
    "# check if any of the date columns can help\n",
    "df_new1[df_new1.last_credit_pull_d.isnull()][['issue_d','last_pymnt_d','last_credit_pull_d','term','loan_status']]"
   ]
  },
  {
   "cell_type": "code",
   "execution_count": 802,
   "id": "f7f3150b",
   "metadata": {},
   "outputs": [
    {
     "data": {
      "text/html": [
       "<div>\n",
       "<style scoped>\n",
       "    .dataframe tbody tr th:only-of-type {\n",
       "        vertical-align: middle;\n",
       "    }\n",
       "\n",
       "    .dataframe tbody tr th {\n",
       "        vertical-align: top;\n",
       "    }\n",
       "\n",
       "    .dataframe thead th {\n",
       "        text-align: right;\n",
       "    }\n",
       "</style>\n",
       "<table border=\"1\" class=\"dataframe\">\n",
       "  <thead>\n",
       "    <tr style=\"text-align: right;\">\n",
       "      <th></th>\n",
       "      <th>issue_d</th>\n",
       "      <th>last_pymnt_d</th>\n",
       "      <th>last_credit_pull_d</th>\n",
       "      <th>term</th>\n",
       "      <th>loan_status</th>\n",
       "    </tr>\n",
       "  </thead>\n",
       "  <tbody>\n",
       "    <tr>\n",
       "      <th>0</th>\n",
       "      <td>Dec-11</td>\n",
       "      <td>Jan-15</td>\n",
       "      <td>May-16</td>\n",
       "      <td>36 months</td>\n",
       "      <td>Fully Paid</td>\n",
       "    </tr>\n",
       "    <tr>\n",
       "      <th>1</th>\n",
       "      <td>Dec-11</td>\n",
       "      <td>Apr-13</td>\n",
       "      <td>Sep-13</td>\n",
       "      <td>60 months</td>\n",
       "      <td>Charged Off</td>\n",
       "    </tr>\n",
       "    <tr>\n",
       "      <th>2</th>\n",
       "      <td>Dec-11</td>\n",
       "      <td>Jun-14</td>\n",
       "      <td>May-16</td>\n",
       "      <td>36 months</td>\n",
       "      <td>Fully Paid</td>\n",
       "    </tr>\n",
       "    <tr>\n",
       "      <th>3</th>\n",
       "      <td>Dec-11</td>\n",
       "      <td>Jan-15</td>\n",
       "      <td>Apr-16</td>\n",
       "      <td>36 months</td>\n",
       "      <td>Fully Paid</td>\n",
       "    </tr>\n",
       "    <tr>\n",
       "      <th>4</th>\n",
       "      <td>Dec-11</td>\n",
       "      <td>May-16</td>\n",
       "      <td>May-16</td>\n",
       "      <td>60 months</td>\n",
       "      <td>Current</td>\n",
       "    </tr>\n",
       "  </tbody>\n",
       "</table>\n",
       "</div>"
      ],
      "text/plain": [
       "  issue_d last_pymnt_d last_credit_pull_d        term  loan_status\n",
       "0  Dec-11       Jan-15             May-16   36 months   Fully Paid\n",
       "1  Dec-11       Apr-13             Sep-13   60 months  Charged Off\n",
       "2  Dec-11       Jun-14             May-16   36 months   Fully Paid\n",
       "3  Dec-11       Jan-15             Apr-16   36 months   Fully Paid\n",
       "4  Dec-11       May-16             May-16   60 months      Current"
      ]
     },
     "execution_count": 802,
     "metadata": {},
     "output_type": "execute_result"
    }
   ],
   "source": [
    "# check if there is any trend that can be used by inspecting top 5 rows.\n",
    "df_new1[['issue_d','last_pymnt_d','last_credit_pull_d','term','loan_status']].head()"
   ]
  },
  {
   "cell_type": "code",
   "execution_count": 867,
   "id": "b9980d14",
   "metadata": {},
   "outputs": [
    {
     "data": {
      "text/html": [
       "<div>\n",
       "<style scoped>\n",
       "    .dataframe tbody tr th:only-of-type {\n",
       "        vertical-align: middle;\n",
       "    }\n",
       "\n",
       "    .dataframe tbody tr th {\n",
       "        vertical-align: top;\n",
       "    }\n",
       "\n",
       "    .dataframe thead th {\n",
       "        text-align: right;\n",
       "    }\n",
       "</style>\n",
       "<table border=\"1\" class=\"dataframe\">\n",
       "  <thead>\n",
       "    <tr style=\"text-align: right;\">\n",
       "      <th></th>\n",
       "      <th>issue_d</th>\n",
       "      <th>last_pymnt_d</th>\n",
       "      <th>last_credit_pull_d</th>\n",
       "      <th>term</th>\n",
       "      <th>loan_status</th>\n",
       "    </tr>\n",
       "  </thead>\n",
       "  <tbody>\n",
       "    <tr>\n",
       "      <th>39712</th>\n",
       "      <td>Jul-07</td>\n",
       "      <td>Jul-10</td>\n",
       "      <td>Jun-10</td>\n",
       "      <td>36 months</td>\n",
       "      <td>Fully Paid</td>\n",
       "    </tr>\n",
       "    <tr>\n",
       "      <th>39713</th>\n",
       "      <td>Jul-07</td>\n",
       "      <td>Jul-10</td>\n",
       "      <td>Jul-10</td>\n",
       "      <td>36 months</td>\n",
       "      <td>Fully Paid</td>\n",
       "    </tr>\n",
       "    <tr>\n",
       "      <th>39714</th>\n",
       "      <td>Jul-07</td>\n",
       "      <td>Apr-08</td>\n",
       "      <td>Jun-07</td>\n",
       "      <td>36 months</td>\n",
       "      <td>Fully Paid</td>\n",
       "    </tr>\n",
       "    <tr>\n",
       "      <th>39715</th>\n",
       "      <td>Jul-07</td>\n",
       "      <td>Jan-08</td>\n",
       "      <td>Jun-07</td>\n",
       "      <td>36 months</td>\n",
       "      <td>Fully Paid</td>\n",
       "    </tr>\n",
       "    <tr>\n",
       "      <th>39716</th>\n",
       "      <td>Jun-07</td>\n",
       "      <td>Jun-10</td>\n",
       "      <td>Jun-10</td>\n",
       "      <td>36 months</td>\n",
       "      <td>Fully Paid</td>\n",
       "    </tr>\n",
       "  </tbody>\n",
       "</table>\n",
       "</div>"
      ],
      "text/plain": [
       "      issue_d last_pymnt_d last_credit_pull_d        term loan_status\n",
       "39712  Jul-07       Jul-10             Jun-10   36 months  Fully Paid\n",
       "39713  Jul-07       Jul-10             Jul-10   36 months  Fully Paid\n",
       "39714  Jul-07       Apr-08             Jun-07   36 months  Fully Paid\n",
       "39715  Jul-07       Jan-08             Jun-07   36 months  Fully Paid\n",
       "39716  Jun-07       Jun-10             Jun-10   36 months  Fully Paid"
      ]
     },
     "execution_count": 867,
     "metadata": {},
     "output_type": "execute_result"
    }
   ],
   "source": [
    "# check if there is any trend that can be used by inspecting bottom 5 rows.\n",
    "# dint find any trend as the last_credit_pull_d can be exactly same as the total no of term months or it can exceed that as well or sometimes it can be same. Will need more data to derive something. \n",
    "df_new1[['issue_d','last_pymnt_d','last_credit_pull_d','term','loan_status']].tail()"
   ]
  },
  {
   "cell_type": "code",
   "execution_count": 874,
   "id": "da0a069f",
   "metadata": {},
   "outputs": [
    {
     "data": {
      "text/html": [
       "<div>\n",
       "<style scoped>\n",
       "    .dataframe tbody tr th:only-of-type {\n",
       "        vertical-align: middle;\n",
       "    }\n",
       "\n",
       "    .dataframe tbody tr th {\n",
       "        vertical-align: top;\n",
       "    }\n",
       "\n",
       "    .dataframe thead th {\n",
       "        text-align: right;\n",
       "    }\n",
       "</style>\n",
       "<table border=\"1\" class=\"dataframe\">\n",
       "  <thead>\n",
       "    <tr style=\"text-align: right;\">\n",
       "      <th></th>\n",
       "      <th>id</th>\n",
       "      <th>member_id</th>\n",
       "      <th>loan_amnt</th>\n",
       "      <th>funded_amnt</th>\n",
       "      <th>funded_amnt_inv</th>\n",
       "      <th>term</th>\n",
       "      <th>int_rate</th>\n",
       "      <th>installment</th>\n",
       "      <th>grade</th>\n",
       "      <th>sub_grade</th>\n",
       "      <th>...</th>\n",
       "      <th>last_pymnt_amnt</th>\n",
       "      <th>last_credit_pull_d</th>\n",
       "      <th>collections_12_mths_ex_med</th>\n",
       "      <th>policy_code</th>\n",
       "      <th>application_type</th>\n",
       "      <th>acc_now_delinq</th>\n",
       "      <th>chargeoff_within_12_mths</th>\n",
       "      <th>delinq_amnt</th>\n",
       "      <th>pub_rec_bankruptcies</th>\n",
       "      <th>tax_liens</th>\n",
       "    </tr>\n",
       "  </thead>\n",
       "  <tbody>\n",
       "    <tr>\n",
       "      <th>26</th>\n",
       "      <td>1069800</td>\n",
       "      <td>1304679</td>\n",
       "      <td>15000</td>\n",
       "      <td>15000</td>\n",
       "      <td>8725.0</td>\n",
       "      <td>36 months</td>\n",
       "      <td>14.27%</td>\n",
       "      <td>514.64</td>\n",
       "      <td>C</td>\n",
       "      <td>C2</td>\n",
       "      <td>...</td>\n",
       "      <td>0.0</td>\n",
       "      <td>May-16</td>\n",
       "      <td>0.0</td>\n",
       "      <td>1</td>\n",
       "      <td>INDIVIDUAL</td>\n",
       "      <td>0</td>\n",
       "      <td>0.0</td>\n",
       "      <td>0</td>\n",
       "      <td>0.0</td>\n",
       "      <td>0.0</td>\n",
       "    </tr>\n",
       "    <tr>\n",
       "      <th>2724</th>\n",
       "      <td>1032519</td>\n",
       "      <td>1262161</td>\n",
       "      <td>8000</td>\n",
       "      <td>8000</td>\n",
       "      <td>3975.0</td>\n",
       "      <td>36 months</td>\n",
       "      <td>14.65%</td>\n",
       "      <td>275.96</td>\n",
       "      <td>C</td>\n",
       "      <td>C3</td>\n",
       "      <td>...</td>\n",
       "      <td>0.0</td>\n",
       "      <td>May-16</td>\n",
       "      <td>0.0</td>\n",
       "      <td>1</td>\n",
       "      <td>INDIVIDUAL</td>\n",
       "      <td>0</td>\n",
       "      <td>0.0</td>\n",
       "      <td>0</td>\n",
       "      <td>0.0</td>\n",
       "      <td>0.0</td>\n",
       "    </tr>\n",
       "    <tr>\n",
       "      <th>3613</th>\n",
       "      <td>1016039</td>\n",
       "      <td>1243723</td>\n",
       "      <td>6400</td>\n",
       "      <td>6400</td>\n",
       "      <td>6400.0</td>\n",
       "      <td>60 months</td>\n",
       "      <td>18.25%</td>\n",
       "      <td>163.39</td>\n",
       "      <td>D</td>\n",
       "      <td>D5</td>\n",
       "      <td>...</td>\n",
       "      <td>0.0</td>\n",
       "      <td>Apr-12</td>\n",
       "      <td>0.0</td>\n",
       "      <td>1</td>\n",
       "      <td>INDIVIDUAL</td>\n",
       "      <td>0</td>\n",
       "      <td>0.0</td>\n",
       "      <td>0</td>\n",
       "      <td>0.0</td>\n",
       "      <td>0.0</td>\n",
       "    </tr>\n",
       "    <tr>\n",
       "      <th>3985</th>\n",
       "      <td>1009833</td>\n",
       "      <td>1236591</td>\n",
       "      <td>18000</td>\n",
       "      <td>18000</td>\n",
       "      <td>18000.0</td>\n",
       "      <td>60 months</td>\n",
       "      <td>19.03%</td>\n",
       "      <td>467.23</td>\n",
       "      <td>E</td>\n",
       "      <td>E2</td>\n",
       "      <td>...</td>\n",
       "      <td>0.0</td>\n",
       "      <td>Apr-16</td>\n",
       "      <td>0.0</td>\n",
       "      <td>1</td>\n",
       "      <td>INDIVIDUAL</td>\n",
       "      <td>0</td>\n",
       "      <td>0.0</td>\n",
       "      <td>0</td>\n",
       "      <td>0.0</td>\n",
       "      <td>0.0</td>\n",
       "    </tr>\n",
       "    <tr>\n",
       "      <th>4206</th>\n",
       "      <td>1006579</td>\n",
       "      <td>1232989</td>\n",
       "      <td>1800</td>\n",
       "      <td>1800</td>\n",
       "      <td>1800.0</td>\n",
       "      <td>36 months</td>\n",
       "      <td>8.90%</td>\n",
       "      <td>57.16</td>\n",
       "      <td>A</td>\n",
       "      <td>A5</td>\n",
       "      <td>...</td>\n",
       "      <td>0.0</td>\n",
       "      <td>May-16</td>\n",
       "      <td>0.0</td>\n",
       "      <td>1</td>\n",
       "      <td>INDIVIDUAL</td>\n",
       "      <td>0</td>\n",
       "      <td>0.0</td>\n",
       "      <td>0</td>\n",
       "      <td>0.0</td>\n",
       "      <td>0.0</td>\n",
       "    </tr>\n",
       "  </tbody>\n",
       "</table>\n",
       "<p>5 rows × 53 columns</p>\n",
       "</div>"
      ],
      "text/plain": [
       "           id  member_id  loan_amnt  funded_amnt  funded_amnt_inv        term  \\\n",
       "26    1069800    1304679      15000        15000           8725.0   36 months   \n",
       "2724  1032519    1262161       8000         8000           3975.0   36 months   \n",
       "3613  1016039    1243723       6400         6400           6400.0   60 months   \n",
       "3985  1009833    1236591      18000        18000          18000.0   60 months   \n",
       "4206  1006579    1232989       1800         1800           1800.0   36 months   \n",
       "\n",
       "     int_rate  installment grade sub_grade  ... last_pymnt_amnt  \\\n",
       "26     14.27%       514.64     C        C2  ...             0.0   \n",
       "2724   14.65%       275.96     C        C3  ...             0.0   \n",
       "3613   18.25%       163.39     D        D5  ...             0.0   \n",
       "3985   19.03%       467.23     E        E2  ...             0.0   \n",
       "4206    8.90%        57.16     A        A5  ...             0.0   \n",
       "\n",
       "     last_credit_pull_d collections_12_mths_ex_med  policy_code  \\\n",
       "26               May-16                        0.0            1   \n",
       "2724             May-16                        0.0            1   \n",
       "3613             Apr-12                        0.0            1   \n",
       "3985             Apr-16                        0.0            1   \n",
       "4206             May-16                        0.0            1   \n",
       "\n",
       "     application_type acc_now_delinq chargeoff_within_12_mths delinq_amnt  \\\n",
       "26         INDIVIDUAL              0                      0.0           0   \n",
       "2724       INDIVIDUAL              0                      0.0           0   \n",
       "3613       INDIVIDUAL              0                      0.0           0   \n",
       "3985       INDIVIDUAL              0                      0.0           0   \n",
       "4206       INDIVIDUAL              0                      0.0           0   \n",
       "\n",
       "     pub_rec_bankruptcies tax_liens  \n",
       "26                    0.0       0.0  \n",
       "2724                  0.0       0.0  \n",
       "3613                  0.0       0.0  \n",
       "3985                  0.0       0.0  \n",
       "4206                  0.0       0.0  \n",
       "\n",
       "[5 rows x 53 columns]"
      ]
     },
     "execution_count": 874,
     "metadata": {},
     "output_type": "execute_result"
    }
   ],
   "source": [
    "# check the top 5 null row details for last_pymnt_d column\n",
    "df_new1[df_new1.last_pymnt_d.isnull()].head()"
   ]
  },
  {
   "cell_type": "code",
   "execution_count": 878,
   "id": "ce7b3323",
   "metadata": {},
   "outputs": [
    {
     "data": {
      "text/html": [
       "<div>\n",
       "<style scoped>\n",
       "    .dataframe tbody tr th:only-of-type {\n",
       "        vertical-align: middle;\n",
       "    }\n",
       "\n",
       "    .dataframe tbody tr th {\n",
       "        vertical-align: top;\n",
       "    }\n",
       "\n",
       "    .dataframe thead th {\n",
       "        text-align: right;\n",
       "    }\n",
       "</style>\n",
       "<table border=\"1\" class=\"dataframe\">\n",
       "  <thead>\n",
       "    <tr style=\"text-align: right;\">\n",
       "      <th></th>\n",
       "      <th>issue_d</th>\n",
       "      <th>last_pymnt_d</th>\n",
       "      <th>last_credit_pull_d</th>\n",
       "      <th>term</th>\n",
       "      <th>loan_status</th>\n",
       "    </tr>\n",
       "  </thead>\n",
       "  <tbody>\n",
       "    <tr>\n",
       "      <th>26</th>\n",
       "      <td>Dec-11</td>\n",
       "      <td>NaN</td>\n",
       "      <td>May-16</td>\n",
       "      <td>36 months</td>\n",
       "      <td>Charged Off</td>\n",
       "    </tr>\n",
       "    <tr>\n",
       "      <th>2724</th>\n",
       "      <td>Nov-11</td>\n",
       "      <td>NaN</td>\n",
       "      <td>May-16</td>\n",
       "      <td>36 months</td>\n",
       "      <td>Charged Off</td>\n",
       "    </tr>\n",
       "    <tr>\n",
       "      <th>3613</th>\n",
       "      <td>Nov-11</td>\n",
       "      <td>NaN</td>\n",
       "      <td>Apr-12</td>\n",
       "      <td>60 months</td>\n",
       "      <td>Charged Off</td>\n",
       "    </tr>\n",
       "    <tr>\n",
       "      <th>3985</th>\n",
       "      <td>Nov-11</td>\n",
       "      <td>NaN</td>\n",
       "      <td>Apr-16</td>\n",
       "      <td>60 months</td>\n",
       "      <td>Charged Off</td>\n",
       "    </tr>\n",
       "    <tr>\n",
       "      <th>4206</th>\n",
       "      <td>Nov-11</td>\n",
       "      <td>NaN</td>\n",
       "      <td>May-16</td>\n",
       "      <td>36 months</td>\n",
       "      <td>Charged Off</td>\n",
       "    </tr>\n",
       "    <tr>\n",
       "      <th>4803</th>\n",
       "      <td>Oct-11</td>\n",
       "      <td>NaN</td>\n",
       "      <td>Apr-12</td>\n",
       "      <td>36 months</td>\n",
       "      <td>Charged Off</td>\n",
       "    </tr>\n",
       "    <tr>\n",
       "      <th>5716</th>\n",
       "      <td>Oct-11</td>\n",
       "      <td>NaN</td>\n",
       "      <td>Mar-12</td>\n",
       "      <td>36 months</td>\n",
       "      <td>Charged Off</td>\n",
       "    </tr>\n",
       "    <tr>\n",
       "      <th>6253</th>\n",
       "      <td>Oct-11</td>\n",
       "      <td>NaN</td>\n",
       "      <td>Sep-15</td>\n",
       "      <td>36 months</td>\n",
       "      <td>Charged Off</td>\n",
       "    </tr>\n",
       "    <tr>\n",
       "      <th>6259</th>\n",
       "      <td>Oct-11</td>\n",
       "      <td>NaN</td>\n",
       "      <td>Mar-12</td>\n",
       "      <td>60 months</td>\n",
       "      <td>Charged Off</td>\n",
       "    </tr>\n",
       "    <tr>\n",
       "      <th>6768</th>\n",
       "      <td>Sep-11</td>\n",
       "      <td>NaN</td>\n",
       "      <td>Mar-12</td>\n",
       "      <td>60 months</td>\n",
       "      <td>Charged Off</td>\n",
       "    </tr>\n",
       "    <tr>\n",
       "      <th>6943</th>\n",
       "      <td>Sep-11</td>\n",
       "      <td>NaN</td>\n",
       "      <td>Feb-16</td>\n",
       "      <td>36 months</td>\n",
       "      <td>Charged Off</td>\n",
       "    </tr>\n",
       "    <tr>\n",
       "      <th>6967</th>\n",
       "      <td>Sep-11</td>\n",
       "      <td>NaN</td>\n",
       "      <td>May-16</td>\n",
       "      <td>60 months</td>\n",
       "      <td>Charged Off</td>\n",
       "    </tr>\n",
       "    <tr>\n",
       "      <th>7137</th>\n",
       "      <td>Sep-11</td>\n",
       "      <td>NaN</td>\n",
       "      <td>Oct-11</td>\n",
       "      <td>60 months</td>\n",
       "      <td>Charged Off</td>\n",
       "    </tr>\n",
       "    <tr>\n",
       "      <th>8429</th>\n",
       "      <td>Sep-11</td>\n",
       "      <td>NaN</td>\n",
       "      <td>Feb-12</td>\n",
       "      <td>60 months</td>\n",
       "      <td>Charged Off</td>\n",
       "    </tr>\n",
       "    <tr>\n",
       "      <th>8707</th>\n",
       "      <td>Sep-11</td>\n",
       "      <td>NaN</td>\n",
       "      <td>May-16</td>\n",
       "      <td>60 months</td>\n",
       "      <td>Charged Off</td>\n",
       "    </tr>\n",
       "    <tr>\n",
       "      <th>10175</th>\n",
       "      <td>Aug-11</td>\n",
       "      <td>NaN</td>\n",
       "      <td>Feb-12</td>\n",
       "      <td>36 months</td>\n",
       "      <td>Charged Off</td>\n",
       "    </tr>\n",
       "    <tr>\n",
       "      <th>11051</th>\n",
       "      <td>Jul-11</td>\n",
       "      <td>NaN</td>\n",
       "      <td>Jan-12</td>\n",
       "      <td>60 months</td>\n",
       "      <td>Charged Off</td>\n",
       "    </tr>\n",
       "    <tr>\n",
       "      <th>11468</th>\n",
       "      <td>Jul-11</td>\n",
       "      <td>NaN</td>\n",
       "      <td>Dec-11</td>\n",
       "      <td>36 months</td>\n",
       "      <td>Charged Off</td>\n",
       "    </tr>\n",
       "    <tr>\n",
       "      <th>11523</th>\n",
       "      <td>Jul-11</td>\n",
       "      <td>NaN</td>\n",
       "      <td>Dec-11</td>\n",
       "      <td>60 months</td>\n",
       "      <td>Charged Off</td>\n",
       "    </tr>\n",
       "    <tr>\n",
       "      <th>11703</th>\n",
       "      <td>Jul-11</td>\n",
       "      <td>NaN</td>\n",
       "      <td>Mar-14</td>\n",
       "      <td>36 months</td>\n",
       "      <td>Charged Off</td>\n",
       "    </tr>\n",
       "    <tr>\n",
       "      <th>11860</th>\n",
       "      <td>Jul-11</td>\n",
       "      <td>NaN</td>\n",
       "      <td>Dec-11</td>\n",
       "      <td>36 months</td>\n",
       "      <td>Charged Off</td>\n",
       "    </tr>\n",
       "    <tr>\n",
       "      <th>12026</th>\n",
       "      <td>Jul-11</td>\n",
       "      <td>NaN</td>\n",
       "      <td>May-16</td>\n",
       "      <td>36 months</td>\n",
       "      <td>Charged Off</td>\n",
       "    </tr>\n",
       "    <tr>\n",
       "      <th>12739</th>\n",
       "      <td>Jun-11</td>\n",
       "      <td>NaN</td>\n",
       "      <td>Dec-11</td>\n",
       "      <td>36 months</td>\n",
       "      <td>Charged Off</td>\n",
       "    </tr>\n",
       "    <tr>\n",
       "      <th>13661</th>\n",
       "      <td>Jun-11</td>\n",
       "      <td>NaN</td>\n",
       "      <td>Nov-11</td>\n",
       "      <td>36 months</td>\n",
       "      <td>Charged Off</td>\n",
       "    </tr>\n",
       "    <tr>\n",
       "      <th>13891</th>\n",
       "      <td>Jun-11</td>\n",
       "      <td>NaN</td>\n",
       "      <td>Nov-11</td>\n",
       "      <td>36 months</td>\n",
       "      <td>Charged Off</td>\n",
       "    </tr>\n",
       "    <tr>\n",
       "      <th>13969</th>\n",
       "      <td>Jun-11</td>\n",
       "      <td>NaN</td>\n",
       "      <td>May-16</td>\n",
       "      <td>60 months</td>\n",
       "      <td>Charged Off</td>\n",
       "    </tr>\n",
       "    <tr>\n",
       "      <th>14220</th>\n",
       "      <td>May-11</td>\n",
       "      <td>NaN</td>\n",
       "      <td>May-16</td>\n",
       "      <td>36 months</td>\n",
       "      <td>Charged Off</td>\n",
       "    </tr>\n",
       "    <tr>\n",
       "      <th>14642</th>\n",
       "      <td>May-11</td>\n",
       "      <td>NaN</td>\n",
       "      <td>May-16</td>\n",
       "      <td>36 months</td>\n",
       "      <td>Charged Off</td>\n",
       "    </tr>\n",
       "    <tr>\n",
       "      <th>14839</th>\n",
       "      <td>May-11</td>\n",
       "      <td>NaN</td>\n",
       "      <td>May-16</td>\n",
       "      <td>36 months</td>\n",
       "      <td>Charged Off</td>\n",
       "    </tr>\n",
       "    <tr>\n",
       "      <th>14871</th>\n",
       "      <td>May-11</td>\n",
       "      <td>NaN</td>\n",
       "      <td>Nov-11</td>\n",
       "      <td>36 months</td>\n",
       "      <td>Charged Off</td>\n",
       "    </tr>\n",
       "  </tbody>\n",
       "</table>\n",
       "</div>"
      ],
      "text/plain": [
       "      issue_d last_pymnt_d last_credit_pull_d        term  loan_status\n",
       "26     Dec-11          NaN             May-16   36 months  Charged Off\n",
       "2724   Nov-11          NaN             May-16   36 months  Charged Off\n",
       "3613   Nov-11          NaN             Apr-12   60 months  Charged Off\n",
       "3985   Nov-11          NaN             Apr-16   60 months  Charged Off\n",
       "4206   Nov-11          NaN             May-16   36 months  Charged Off\n",
       "4803   Oct-11          NaN             Apr-12   36 months  Charged Off\n",
       "5716   Oct-11          NaN             Mar-12   36 months  Charged Off\n",
       "6253   Oct-11          NaN             Sep-15   36 months  Charged Off\n",
       "6259   Oct-11          NaN             Mar-12   60 months  Charged Off\n",
       "6768   Sep-11          NaN             Mar-12   60 months  Charged Off\n",
       "6943   Sep-11          NaN             Feb-16   36 months  Charged Off\n",
       "6967   Sep-11          NaN             May-16   60 months  Charged Off\n",
       "7137   Sep-11          NaN             Oct-11   60 months  Charged Off\n",
       "8429   Sep-11          NaN             Feb-12   60 months  Charged Off\n",
       "8707   Sep-11          NaN             May-16   60 months  Charged Off\n",
       "10175  Aug-11          NaN             Feb-12   36 months  Charged Off\n",
       "11051  Jul-11          NaN             Jan-12   60 months  Charged Off\n",
       "11468  Jul-11          NaN             Dec-11   36 months  Charged Off\n",
       "11523  Jul-11          NaN             Dec-11   60 months  Charged Off\n",
       "11703  Jul-11          NaN             Mar-14   36 months  Charged Off\n",
       "11860  Jul-11          NaN             Dec-11   36 months  Charged Off\n",
       "12026  Jul-11          NaN             May-16   36 months  Charged Off\n",
       "12739  Jun-11          NaN             Dec-11   36 months  Charged Off\n",
       "13661  Jun-11          NaN             Nov-11   36 months  Charged Off\n",
       "13891  Jun-11          NaN             Nov-11   36 months  Charged Off\n",
       "13969  Jun-11          NaN             May-16   60 months  Charged Off\n",
       "14220  May-11          NaN             May-16   36 months  Charged Off\n",
       "14642  May-11          NaN             May-16   36 months  Charged Off\n",
       "14839  May-11          NaN             May-16   36 months  Charged Off\n",
       "14871  May-11          NaN             Nov-11   36 months  Charged Off"
      ]
     },
     "execution_count": 878,
     "metadata": {},
     "output_type": "execute_result"
    }
   ],
   "source": [
    "# Check the top 30 see if we can derive the last_pymnt_d value from any of the date columns and term column\n",
    "df_new1[df_new1.last_pymnt_d.isnull()][['issue_d','last_pymnt_d','last_credit_pull_d','term','loan_status']].head(30)"
   ]
  },
  {
   "cell_type": "code",
   "execution_count": 879,
   "id": "91c8e978",
   "metadata": {},
   "outputs": [
    {
     "data": {
      "text/html": [
       "<div>\n",
       "<style scoped>\n",
       "    .dataframe tbody tr th:only-of-type {\n",
       "        vertical-align: middle;\n",
       "    }\n",
       "\n",
       "    .dataframe tbody tr th {\n",
       "        vertical-align: top;\n",
       "    }\n",
       "\n",
       "    .dataframe thead th {\n",
       "        text-align: right;\n",
       "    }\n",
       "</style>\n",
       "<table border=\"1\" class=\"dataframe\">\n",
       "  <thead>\n",
       "    <tr style=\"text-align: right;\">\n",
       "      <th></th>\n",
       "      <th>issue_d</th>\n",
       "      <th>last_pymnt_d</th>\n",
       "      <th>last_credit_pull_d</th>\n",
       "      <th>term</th>\n",
       "      <th>loan_status</th>\n",
       "    </tr>\n",
       "  </thead>\n",
       "  <tbody>\n",
       "    <tr>\n",
       "      <th>14220</th>\n",
       "      <td>May-11</td>\n",
       "      <td>NaN</td>\n",
       "      <td>May-16</td>\n",
       "      <td>36 months</td>\n",
       "      <td>Charged Off</td>\n",
       "    </tr>\n",
       "    <tr>\n",
       "      <th>14642</th>\n",
       "      <td>May-11</td>\n",
       "      <td>NaN</td>\n",
       "      <td>May-16</td>\n",
       "      <td>36 months</td>\n",
       "      <td>Charged Off</td>\n",
       "    </tr>\n",
       "    <tr>\n",
       "      <th>14839</th>\n",
       "      <td>May-11</td>\n",
       "      <td>NaN</td>\n",
       "      <td>May-16</td>\n",
       "      <td>36 months</td>\n",
       "      <td>Charged Off</td>\n",
       "    </tr>\n",
       "    <tr>\n",
       "      <th>14871</th>\n",
       "      <td>May-11</td>\n",
       "      <td>NaN</td>\n",
       "      <td>Nov-11</td>\n",
       "      <td>36 months</td>\n",
       "      <td>Charged Off</td>\n",
       "    </tr>\n",
       "    <tr>\n",
       "      <th>16301</th>\n",
       "      <td>Apr-11</td>\n",
       "      <td>NaN</td>\n",
       "      <td>May-16</td>\n",
       "      <td>36 months</td>\n",
       "      <td>Charged Off</td>\n",
       "    </tr>\n",
       "    <tr>\n",
       "      <th>16325</th>\n",
       "      <td>Apr-11</td>\n",
       "      <td>NaN</td>\n",
       "      <td>Oct-11</td>\n",
       "      <td>36 months</td>\n",
       "      <td>Charged Off</td>\n",
       "    </tr>\n",
       "    <tr>\n",
       "      <th>16719</th>\n",
       "      <td>Apr-11</td>\n",
       "      <td>NaN</td>\n",
       "      <td>May-11</td>\n",
       "      <td>60 months</td>\n",
       "      <td>Charged Off</td>\n",
       "    </tr>\n",
       "    <tr>\n",
       "      <th>17913</th>\n",
       "      <td>Mar-11</td>\n",
       "      <td>NaN</td>\n",
       "      <td>Jul-15</td>\n",
       "      <td>36 months</td>\n",
       "      <td>Charged Off</td>\n",
       "    </tr>\n",
       "    <tr>\n",
       "      <th>18037</th>\n",
       "      <td>Mar-11</td>\n",
       "      <td>NaN</td>\n",
       "      <td>Aug-11</td>\n",
       "      <td>60 months</td>\n",
       "      <td>Charged Off</td>\n",
       "    </tr>\n",
       "    <tr>\n",
       "      <th>18216</th>\n",
       "      <td>Mar-11</td>\n",
       "      <td>NaN</td>\n",
       "      <td>Sep-11</td>\n",
       "      <td>60 months</td>\n",
       "      <td>Charged Off</td>\n",
       "    </tr>\n",
       "    <tr>\n",
       "      <th>18316</th>\n",
       "      <td>Mar-11</td>\n",
       "      <td>NaN</td>\n",
       "      <td>Apr-16</td>\n",
       "      <td>36 months</td>\n",
       "      <td>Charged Off</td>\n",
       "    </tr>\n",
       "    <tr>\n",
       "      <th>18332</th>\n",
       "      <td>Mar-11</td>\n",
       "      <td>NaN</td>\n",
       "      <td>Aug-11</td>\n",
       "      <td>36 months</td>\n",
       "      <td>Charged Off</td>\n",
       "    </tr>\n",
       "    <tr>\n",
       "      <th>22998</th>\n",
       "      <td>Nov-10</td>\n",
       "      <td>NaN</td>\n",
       "      <td>May-11</td>\n",
       "      <td>36 months</td>\n",
       "      <td>Charged Off</td>\n",
       "    </tr>\n",
       "    <tr>\n",
       "      <th>24469</th>\n",
       "      <td>Oct-10</td>\n",
       "      <td>NaN</td>\n",
       "      <td>Apr-11</td>\n",
       "      <td>60 months</td>\n",
       "      <td>Charged Off</td>\n",
       "    </tr>\n",
       "    <tr>\n",
       "      <th>24779</th>\n",
       "      <td>Oct-10</td>\n",
       "      <td>NaN</td>\n",
       "      <td>Apr-11</td>\n",
       "      <td>36 months</td>\n",
       "      <td>Charged Off</td>\n",
       "    </tr>\n",
       "    <tr>\n",
       "      <th>24881</th>\n",
       "      <td>Oct-10</td>\n",
       "      <td>NaN</td>\n",
       "      <td>Mar-11</td>\n",
       "      <td>36 months</td>\n",
       "      <td>Charged Off</td>\n",
       "    </tr>\n",
       "    <tr>\n",
       "      <th>26775</th>\n",
       "      <td>Aug-10</td>\n",
       "      <td>NaN</td>\n",
       "      <td>Sep-14</td>\n",
       "      <td>36 months</td>\n",
       "      <td>Charged Off</td>\n",
       "    </tr>\n",
       "    <tr>\n",
       "      <th>27644</th>\n",
       "      <td>Aug-10</td>\n",
       "      <td>NaN</td>\n",
       "      <td>May-16</td>\n",
       "      <td>36 months</td>\n",
       "      <td>Charged Off</td>\n",
       "    </tr>\n",
       "    <tr>\n",
       "      <th>28155</th>\n",
       "      <td>Jul-10</td>\n",
       "      <td>NaN</td>\n",
       "      <td>May-16</td>\n",
       "      <td>36 months</td>\n",
       "      <td>Charged Off</td>\n",
       "    </tr>\n",
       "    <tr>\n",
       "      <th>28547</th>\n",
       "      <td>Jun-10</td>\n",
       "      <td>NaN</td>\n",
       "      <td>Dec-10</td>\n",
       "      <td>60 months</td>\n",
       "      <td>Charged Off</td>\n",
       "    </tr>\n",
       "    <tr>\n",
       "      <th>28685</th>\n",
       "      <td>Jun-10</td>\n",
       "      <td>NaN</td>\n",
       "      <td>May-16</td>\n",
       "      <td>60 months</td>\n",
       "      <td>Charged Off</td>\n",
       "    </tr>\n",
       "    <tr>\n",
       "      <th>28980</th>\n",
       "      <td>Jun-10</td>\n",
       "      <td>NaN</td>\n",
       "      <td>Nov-10</td>\n",
       "      <td>36 months</td>\n",
       "      <td>Charged Off</td>\n",
       "    </tr>\n",
       "    <tr>\n",
       "      <th>29635</th>\n",
       "      <td>May-10</td>\n",
       "      <td>NaN</td>\n",
       "      <td>Nov-10</td>\n",
       "      <td>60 months</td>\n",
       "      <td>Charged Off</td>\n",
       "    </tr>\n",
       "    <tr>\n",
       "      <th>30297</th>\n",
       "      <td>May-10</td>\n",
       "      <td>NaN</td>\n",
       "      <td>Oct-10</td>\n",
       "      <td>36 months</td>\n",
       "      <td>Charged Off</td>\n",
       "    </tr>\n",
       "    <tr>\n",
       "      <th>31206</th>\n",
       "      <td>Mar-10</td>\n",
       "      <td>NaN</td>\n",
       "      <td>Sep-10</td>\n",
       "      <td>36 months</td>\n",
       "      <td>Charged Off</td>\n",
       "    </tr>\n",
       "    <tr>\n",
       "      <th>31359</th>\n",
       "      <td>Apr-10</td>\n",
       "      <td>NaN</td>\n",
       "      <td>May-16</td>\n",
       "      <td>36 months</td>\n",
       "      <td>Charged Off</td>\n",
       "    </tr>\n",
       "    <tr>\n",
       "      <th>32322</th>\n",
       "      <td>Feb-10</td>\n",
       "      <td>NaN</td>\n",
       "      <td>Oct-15</td>\n",
       "      <td>36 months</td>\n",
       "      <td>Charged Off</td>\n",
       "    </tr>\n",
       "    <tr>\n",
       "      <th>32378</th>\n",
       "      <td>Feb-10</td>\n",
       "      <td>NaN</td>\n",
       "      <td>Jul-10</td>\n",
       "      <td>36 months</td>\n",
       "      <td>Charged Off</td>\n",
       "    </tr>\n",
       "    <tr>\n",
       "      <th>32545</th>\n",
       "      <td>Feb-10</td>\n",
       "      <td>NaN</td>\n",
       "      <td>Jul-10</td>\n",
       "      <td>36 months</td>\n",
       "      <td>Charged Off</td>\n",
       "    </tr>\n",
       "    <tr>\n",
       "      <th>32593</th>\n",
       "      <td>Feb-10</td>\n",
       "      <td>NaN</td>\n",
       "      <td>Jul-10</td>\n",
       "      <td>36 months</td>\n",
       "      <td>Charged Off</td>\n",
       "    </tr>\n",
       "    <tr>\n",
       "      <th>32760</th>\n",
       "      <td>Jan-10</td>\n",
       "      <td>NaN</td>\n",
       "      <td>May-16</td>\n",
       "      <td>36 months</td>\n",
       "      <td>Charged Off</td>\n",
       "    </tr>\n",
       "    <tr>\n",
       "      <th>32967</th>\n",
       "      <td>Jan-10</td>\n",
       "      <td>NaN</td>\n",
       "      <td>Jul-10</td>\n",
       "      <td>36 months</td>\n",
       "      <td>Charged Off</td>\n",
       "    </tr>\n",
       "    <tr>\n",
       "      <th>33567</th>\n",
       "      <td>Dec-09</td>\n",
       "      <td>NaN</td>\n",
       "      <td>Apr-16</td>\n",
       "      <td>36 months</td>\n",
       "      <td>Charged Off</td>\n",
       "    </tr>\n",
       "    <tr>\n",
       "      <th>34177</th>\n",
       "      <td>Nov-09</td>\n",
       "      <td>NaN</td>\n",
       "      <td>Apr-10</td>\n",
       "      <td>36 months</td>\n",
       "      <td>Charged Off</td>\n",
       "    </tr>\n",
       "    <tr>\n",
       "      <th>34217</th>\n",
       "      <td>Nov-09</td>\n",
       "      <td>NaN</td>\n",
       "      <td>Apr-10</td>\n",
       "      <td>36 months</td>\n",
       "      <td>Charged Off</td>\n",
       "    </tr>\n",
       "    <tr>\n",
       "      <th>34237</th>\n",
       "      <td>Nov-09</td>\n",
       "      <td>NaN</td>\n",
       "      <td>May-16</td>\n",
       "      <td>36 months</td>\n",
       "      <td>Charged Off</td>\n",
       "    </tr>\n",
       "    <tr>\n",
       "      <th>34420</th>\n",
       "      <td>Oct-09</td>\n",
       "      <td>NaN</td>\n",
       "      <td>May-16</td>\n",
       "      <td>36 months</td>\n",
       "      <td>Charged Off</td>\n",
       "    </tr>\n",
       "    <tr>\n",
       "      <th>34438</th>\n",
       "      <td>Nov-09</td>\n",
       "      <td>NaN</td>\n",
       "      <td>Apr-10</td>\n",
       "      <td>36 months</td>\n",
       "      <td>Charged Off</td>\n",
       "    </tr>\n",
       "    <tr>\n",
       "      <th>35143</th>\n",
       "      <td>Sep-09</td>\n",
       "      <td>NaN</td>\n",
       "      <td>Feb-10</td>\n",
       "      <td>36 months</td>\n",
       "      <td>Charged Off</td>\n",
       "    </tr>\n",
       "    <tr>\n",
       "      <th>35186</th>\n",
       "      <td>Sep-09</td>\n",
       "      <td>NaN</td>\n",
       "      <td>May-16</td>\n",
       "      <td>36 months</td>\n",
       "      <td>Charged Off</td>\n",
       "    </tr>\n",
       "    <tr>\n",
       "      <th>36185</th>\n",
       "      <td>Jul-09</td>\n",
       "      <td>NaN</td>\n",
       "      <td>Dec-09</td>\n",
       "      <td>36 months</td>\n",
       "      <td>Charged Off</td>\n",
       "    </tr>\n",
       "    <tr>\n",
       "      <th>36206</th>\n",
       "      <td>Jun-09</td>\n",
       "      <td>NaN</td>\n",
       "      <td>May-16</td>\n",
       "      <td>36 months</td>\n",
       "      <td>Charged Off</td>\n",
       "    </tr>\n",
       "    <tr>\n",
       "      <th>36209</th>\n",
       "      <td>Jun-09</td>\n",
       "      <td>NaN</td>\n",
       "      <td>Dec-09</td>\n",
       "      <td>36 months</td>\n",
       "      <td>Charged Off</td>\n",
       "    </tr>\n",
       "    <tr>\n",
       "      <th>36937</th>\n",
       "      <td>Apr-09</td>\n",
       "      <td>NaN</td>\n",
       "      <td>Jun-09</td>\n",
       "      <td>36 months</td>\n",
       "      <td>Charged Off</td>\n",
       "    </tr>\n",
       "    <tr>\n",
       "      <th>37911</th>\n",
       "      <td>Dec-08</td>\n",
       "      <td>NaN</td>\n",
       "      <td>Sep-09</td>\n",
       "      <td>36 months</td>\n",
       "      <td>Charged Off</td>\n",
       "    </tr>\n",
       "  </tbody>\n",
       "</table>\n",
       "</div>"
      ],
      "text/plain": [
       "      issue_d last_pymnt_d last_credit_pull_d        term  loan_status\n",
       "14220  May-11          NaN             May-16   36 months  Charged Off\n",
       "14642  May-11          NaN             May-16   36 months  Charged Off\n",
       "14839  May-11          NaN             May-16   36 months  Charged Off\n",
       "14871  May-11          NaN             Nov-11   36 months  Charged Off\n",
       "16301  Apr-11          NaN             May-16   36 months  Charged Off\n",
       "16325  Apr-11          NaN             Oct-11   36 months  Charged Off\n",
       "16719  Apr-11          NaN             May-11   60 months  Charged Off\n",
       "17913  Mar-11          NaN             Jul-15   36 months  Charged Off\n",
       "18037  Mar-11          NaN             Aug-11   60 months  Charged Off\n",
       "18216  Mar-11          NaN             Sep-11   60 months  Charged Off\n",
       "18316  Mar-11          NaN             Apr-16   36 months  Charged Off\n",
       "18332  Mar-11          NaN             Aug-11   36 months  Charged Off\n",
       "22998  Nov-10          NaN             May-11   36 months  Charged Off\n",
       "24469  Oct-10          NaN             Apr-11   60 months  Charged Off\n",
       "24779  Oct-10          NaN             Apr-11   36 months  Charged Off\n",
       "24881  Oct-10          NaN             Mar-11   36 months  Charged Off\n",
       "26775  Aug-10          NaN             Sep-14   36 months  Charged Off\n",
       "27644  Aug-10          NaN             May-16   36 months  Charged Off\n",
       "28155  Jul-10          NaN             May-16   36 months  Charged Off\n",
       "28547  Jun-10          NaN             Dec-10   60 months  Charged Off\n",
       "28685  Jun-10          NaN             May-16   60 months  Charged Off\n",
       "28980  Jun-10          NaN             Nov-10   36 months  Charged Off\n",
       "29635  May-10          NaN             Nov-10   60 months  Charged Off\n",
       "30297  May-10          NaN             Oct-10   36 months  Charged Off\n",
       "31206  Mar-10          NaN             Sep-10   36 months  Charged Off\n",
       "31359  Apr-10          NaN             May-16   36 months  Charged Off\n",
       "32322  Feb-10          NaN             Oct-15   36 months  Charged Off\n",
       "32378  Feb-10          NaN             Jul-10   36 months  Charged Off\n",
       "32545  Feb-10          NaN             Jul-10   36 months  Charged Off\n",
       "32593  Feb-10          NaN             Jul-10   36 months  Charged Off\n",
       "32760  Jan-10          NaN             May-16   36 months  Charged Off\n",
       "32967  Jan-10          NaN             Jul-10   36 months  Charged Off\n",
       "33567  Dec-09          NaN             Apr-16   36 months  Charged Off\n",
       "34177  Nov-09          NaN             Apr-10   36 months  Charged Off\n",
       "34217  Nov-09          NaN             Apr-10   36 months  Charged Off\n",
       "34237  Nov-09          NaN             May-16   36 months  Charged Off\n",
       "34420  Oct-09          NaN             May-16   36 months  Charged Off\n",
       "34438  Nov-09          NaN             Apr-10   36 months  Charged Off\n",
       "35143  Sep-09          NaN             Feb-10   36 months  Charged Off\n",
       "35186  Sep-09          NaN             May-16   36 months  Charged Off\n",
       "36185  Jul-09          NaN             Dec-09   36 months  Charged Off\n",
       "36206  Jun-09          NaN             May-16   36 months  Charged Off\n",
       "36209  Jun-09          NaN             Dec-09   36 months  Charged Off\n",
       "36937  Apr-09          NaN             Jun-09   36 months  Charged Off\n",
       "37911  Dec-08          NaN             Sep-09   36 months  Charged Off"
      ]
     },
     "execution_count": 879,
     "metadata": {},
     "output_type": "execute_result"
    }
   ],
   "source": [
    "# check the tail 45 rows to see if we can derive the last_pymnt_d value from any of the date columns and term column\n",
    "# it is observed that the last_pymnt_d is null for Charged Off loan status only. So in conclusion looks like we dont know exactly when the last payment was done.\n",
    "# and the loan was not payed in full within the term. \n",
    "\n",
    "df_new1[df_new1.last_pymnt_d.isnull()][['issue_d','last_pymnt_d','last_credit_pull_d','term','loan_status']].tail(45)"
   ]
  },
  {
   "cell_type": "code",
   "execution_count": 135,
   "id": "8f893162",
   "metadata": {},
   "outputs": [
    {
     "data": {
      "text/plain": [
       "Debt Consolidation                  2184\n",
       "Debt Consolidation Loan             1729\n",
       "Personal Loan                        659\n",
       "Consolidation                        517\n",
       "debt consolidation                   505\n",
       "                                    ... \n",
       "your rate is better than my rate       1\n",
       "Concession Trailer                     1\n",
       "gregs                                  1\n",
       "EZover                                 1\n",
       "JAL Loan                               1\n",
       "Name: title, Length: 19615, dtype: int64"
      ]
     },
     "execution_count": 135,
     "metadata": {},
     "output_type": "execute_result"
    }
   ],
   "source": [
    "# check the count of values in tile column\n",
    "df_new1.title.value_counts()"
   ]
  },
  {
   "cell_type": "code",
   "execution_count": 136,
   "id": "05965043",
   "metadata": {},
   "outputs": [
    {
     "data": {
      "text/plain": [
       "debt_consolidation    18641\n",
       "credit_card            5130\n",
       "other                  3993\n",
       "home_improvement       2976\n",
       "major_purchase         2187\n",
       "small_business         1828\n",
       "car                    1549\n",
       "wedding                 947\n",
       "medical                 693\n",
       "moving                  583\n",
       "vacation                381\n",
       "house                   381\n",
       "educational             325\n",
       "renewable_energy        103\n",
       "Name: purpose, dtype: int64"
      ]
     },
     "execution_count": 136,
     "metadata": {},
     "output_type": "execute_result"
    }
   ],
   "source": [
    "# check the count of values in purpose column\n",
    "# Both title and purpose looks similar. However purpose gives better categories than title as title is organized and have clear distinction.\n",
    "df_new1.purpose.value_counts()"
   ]
  },
  {
   "cell_type": "markdown",
   "id": "4dcd8549",
   "metadata": {},
   "source": [
    "## Since title and purpose looks same but have small or short names for it will remove the title column"
   ]
  },
  {
   "cell_type": "code",
   "execution_count": 871,
   "id": "2dd15ebb",
   "metadata": {},
   "outputs": [],
   "source": [
    "# drop the title column as it is duplicate of purpose. \n",
    "df_new1.drop('title',axis=1,inplace=True)"
   ]
  },
  {
   "cell_type": "code",
   "execution_count": 872,
   "id": "d5a063b1",
   "metadata": {},
   "outputs": [
    {
     "data": {
      "text/plain": [
       "id                                0\n",
       "member_id                         0\n",
       "loan_amnt                         0\n",
       "funded_amnt                       0\n",
       "funded_amnt_inv                   0\n",
       "term                              0\n",
       "int_rate                          0\n",
       "installment                       0\n",
       "grade                             0\n",
       "sub_grade                         0\n",
       "emp_title                      2459\n",
       "emp_length                     1075\n",
       "home_ownership                    0\n",
       "annual_inc                        0\n",
       "verification_status               0\n",
       "issue_d                           0\n",
       "loan_status                       0\n",
       "pymnt_plan                        0\n",
       "url                               0\n",
       "desc                          12940\n",
       "purpose                           0\n",
       "zip_code                          0\n",
       "addr_state                        0\n",
       "dti                               0\n",
       "delinq_2yrs                       0\n",
       "earliest_cr_line                  0\n",
       "inq_last_6mths                    0\n",
       "open_acc                          0\n",
       "pub_rec                           0\n",
       "revol_bal                         0\n",
       "revol_util                       50\n",
       "total_acc                         0\n",
       "initial_list_status               0\n",
       "out_prncp                         0\n",
       "out_prncp_inv                     0\n",
       "total_pymnt                       0\n",
       "total_pymnt_inv                   0\n",
       "total_rec_prncp                   0\n",
       "total_rec_int                     0\n",
       "total_rec_late_fee                0\n",
       "recoveries                        0\n",
       "collection_recovery_fee           0\n",
       "last_pymnt_d                     71\n",
       "last_pymnt_amnt                   0\n",
       "last_credit_pull_d                2\n",
       "collections_12_mths_ex_med        0\n",
       "policy_code                       0\n",
       "application_type                  0\n",
       "acc_now_delinq                    0\n",
       "chargeoff_within_12_mths          0\n",
       "delinq_amnt                       0\n",
       "pub_rec_bankruptcies              0\n",
       "tax_liens                         0\n",
       "dtype: int64"
      ]
     },
     "execution_count": 872,
     "metadata": {},
     "output_type": "execute_result"
    }
   ],
   "source": [
    "# check the null rows sum for all columns\n",
    "df_new1.isnull().sum()"
   ]
  },
  {
   "cell_type": "code",
   "execution_count": 885,
   "id": "0e609dbf",
   "metadata": {},
   "outputs": [],
   "source": [
    "# renaming emp_length for better understanding to emp_experience\n",
    "\n",
    "df_new1.rename(columns={'emp_length':'emp_experience'},inplace=True)"
   ]
  },
  {
   "cell_type": "code",
   "execution_count": 887,
   "id": "5d70d2f1",
   "metadata": {},
   "outputs": [
    {
     "data": {
      "text/plain": [
       "10+ years    8879\n",
       "< 1 year     4583\n",
       "2 years      4388\n",
       "3 years      4095\n",
       "4 years      3436\n",
       "5 years      3282\n",
       "1 year       3240\n",
       "6 years      2229\n",
       "7 years      1773\n",
       "8 years      1479\n",
       "9 years      1258\n",
       "Name: emp_experience, dtype: int64"
      ]
     },
     "execution_count": 887,
     "metadata": {},
     "output_type": "execute_result"
    }
   ],
   "source": [
    "# Get the value counts for the employee work experience\n",
    "\n",
    "df_new1.emp_experience.value_counts()"
   ]
  },
  {
   "cell_type": "code",
   "execution_count": 896,
   "id": "88365f07",
   "metadata": {},
   "outputs": [
    {
     "data": {
      "text/html": [
       "<div>\n",
       "<style scoped>\n",
       "    .dataframe tbody tr th:only-of-type {\n",
       "        vertical-align: middle;\n",
       "    }\n",
       "\n",
       "    .dataframe tbody tr th {\n",
       "        vertical-align: top;\n",
       "    }\n",
       "\n",
       "    .dataframe thead th {\n",
       "        text-align: right;\n",
       "    }\n",
       "</style>\n",
       "<table border=\"1\" class=\"dataframe\">\n",
       "  <thead>\n",
       "    <tr style=\"text-align: right;\">\n",
       "      <th></th>\n",
       "      <th>0</th>\n",
       "      <th>1</th>\n",
       "      <th>2</th>\n",
       "    </tr>\n",
       "  </thead>\n",
       "  <tbody>\n",
       "    <tr>\n",
       "      <th>0</th>\n",
       "      <td>10+</td>\n",
       "      <td>years</td>\n",
       "      <td>None</td>\n",
       "    </tr>\n",
       "    <tr>\n",
       "      <th>1</th>\n",
       "      <td>&lt;</td>\n",
       "      <td>1</td>\n",
       "      <td>year</td>\n",
       "    </tr>\n",
       "    <tr>\n",
       "      <th>2</th>\n",
       "      <td>10+</td>\n",
       "      <td>years</td>\n",
       "      <td>None</td>\n",
       "    </tr>\n",
       "    <tr>\n",
       "      <th>3</th>\n",
       "      <td>10+</td>\n",
       "      <td>years</td>\n",
       "      <td>None</td>\n",
       "    </tr>\n",
       "    <tr>\n",
       "      <th>4</th>\n",
       "      <td>1</td>\n",
       "      <td>year</td>\n",
       "      <td>None</td>\n",
       "    </tr>\n",
       "    <tr>\n",
       "      <th>...</th>\n",
       "      <td>...</td>\n",
       "      <td>...</td>\n",
       "      <td>...</td>\n",
       "    </tr>\n",
       "    <tr>\n",
       "      <th>39712</th>\n",
       "      <td>4</td>\n",
       "      <td>years</td>\n",
       "      <td>None</td>\n",
       "    </tr>\n",
       "    <tr>\n",
       "      <th>39713</th>\n",
       "      <td>3</td>\n",
       "      <td>years</td>\n",
       "      <td>None</td>\n",
       "    </tr>\n",
       "    <tr>\n",
       "      <th>39714</th>\n",
       "      <td>&lt;</td>\n",
       "      <td>1</td>\n",
       "      <td>year</td>\n",
       "    </tr>\n",
       "    <tr>\n",
       "      <th>39715</th>\n",
       "      <td>&lt;</td>\n",
       "      <td>1</td>\n",
       "      <td>year</td>\n",
       "    </tr>\n",
       "    <tr>\n",
       "      <th>39716</th>\n",
       "      <td>&lt;</td>\n",
       "      <td>1</td>\n",
       "      <td>year</td>\n",
       "    </tr>\n",
       "  </tbody>\n",
       "</table>\n",
       "<p>39717 rows × 3 columns</p>\n",
       "</div>"
      ],
      "text/plain": [
       "         0      1     2\n",
       "0      10+  years  None\n",
       "1        <      1  year\n",
       "2      10+  years  None\n",
       "3      10+  years  None\n",
       "4        1   year  None\n",
       "...    ...    ...   ...\n",
       "39712    4  years  None\n",
       "39713    3  years  None\n",
       "39714    <      1  year\n",
       "39715    <      1  year\n",
       "39716    <      1  year\n",
       "\n",
       "[39717 rows x 3 columns]"
      ]
     },
     "execution_count": 896,
     "metadata": {},
     "output_type": "execute_result"
    }
   ],
   "source": [
    "df_new1.emp_experience.str.split(\" \",expand=True)"
   ]
  },
  {
   "cell_type": "code",
   "execution_count": 891,
   "id": "b44c6356",
   "metadata": {},
   "outputs": [
    {
     "data": {
      "text/plain": [
       "Text(0, 0.5, 'No of employees')"
      ]
     },
     "execution_count": 891,
     "metadata": {},
     "output_type": "execute_result"
    },
    {
     "data": {
      "image/png": "[encoded data removed]",
      "text/plain": [
       "<Figure size 432x288 with 1 Axes>"
      ]
     },
     "metadata": {
      "needs_background": "light"
     },
     "output_type": "display_data"
    }
   ],
   "source": [
    "df_new1.emp_experience.value_counts().plot.bar()\n",
    "plt.xlabel(\"Employee experience\")\n",
    "plt.ylabel(\"No of employees\")"
   ]
  },
  {
   "cell_type": "code",
   "execution_count": 133,
   "id": "a1d239b6",
   "metadata": {},
   "outputs": [
    {
     "data": {
      "text/plain": [
       "0%        977\n",
       "0.20%      63\n",
       "63%        62\n",
       "40.70%     58\n",
       "66.70%     58\n",
       "         ... \n",
       "25.74%      1\n",
       "47.36%      1\n",
       "24.65%      1\n",
       "10.61%      1\n",
       "7.28%       1\n",
       "Name: revol_util, Length: 1089, dtype: int64"
      ]
     },
     "execution_count": 133,
     "metadata": {},
     "output_type": "execute_result"
    }
   ],
   "source": [
    "# inspect the revol_util column to get the count of values.\n",
    "df_new1.revol_util.value_counts()"
   ]
  },
  {
   "cell_type": "code",
   "execution_count": 140,
   "id": "9b06511e",
   "metadata": {},
   "outputs": [
    {
     "data": {
      "text/plain": [
       "US Army                              134\n",
       "Bank of America                      109\n",
       "IBM                                   66\n",
       "AT&T                                  59\n",
       "Kaiser Permanente                     56\n",
       "                                    ... \n",
       "Community College of Philadelphia      1\n",
       "AMEC                                   1\n",
       "lee county sheriff                     1\n",
       "Bacon County Board of Education        1\n",
       "Evergreen Center                       1\n",
       "Name: emp_title, Length: 28820, dtype: int64"
      ]
     },
     "execution_count": 140,
     "metadata": {},
     "output_type": "execute_result"
    }
   ],
   "source": [
    "df_new1.emp_title.value_counts()"
   ]
  },
  {
   "cell_type": "code",
   "execution_count": 141,
   "id": "93cb9cba",
   "metadata": {},
   "outputs": [
    {
     "data": {
      "text/plain": [
       "US Army                    134\n",
       "Bank of America            109\n",
       "IBM                         66\n",
       "AT&T                        59\n",
       "Kaiser Permanente           56\n",
       "Wells Fargo                 54\n",
       "USAF                        54\n",
       "UPS                         53\n",
       "US Air Force                52\n",
       "Walmart                     45\n",
       "Lockheed Martin             44\n",
       "United States Air Force     42\n",
       "State of California         42\n",
       "U.S. Army                   41\n",
       "Verizon Wireless            40\n",
       "Self Employed               40\n",
       "USPS                        39\n",
       "US ARMY                     39\n",
       "Walgreens                   38\n",
       "JP Morgan Chase             37\n",
       "JPMorgan Chase              36\n",
       "Department of Defense       36\n",
       "Target                      35\n",
       "US Navy                     35\n",
       "Self                        35\n",
       "Booz Allen Hamilton         34\n",
       "Northrop Grumman            34\n",
       "United States Army          33\n",
       "Verizon                     33\n",
       "Best Buy                    32\n",
       "Name: emp_title, dtype: int64"
      ]
     },
     "execution_count": 141,
     "metadata": {},
     "output_type": "execute_result"
    }
   ],
   "source": [
    "df_new1.emp_title.value_counts().head(30)"
   ]
  },
  {
   "cell_type": "markdown",
   "id": "a495ed38",
   "metadata": {},
   "source": [
    "## We see that the emp_title has same tiles repeating but with slight difference we will generalize them"
   ]
  },
  {
   "cell_type": "code",
   "execution_count": 240,
   "id": "dcf262c9",
   "metadata": {},
   "outputs": [],
   "source": [
    "df_new1.emp_title = df_new1['emp_title'].replace(['USAF'],'US Air Force')"
   ]
  },
  {
   "cell_type": "code",
   "execution_count": 143,
   "id": "10ef7fe3",
   "metadata": {},
   "outputs": [
    {
     "data": {
      "text/plain": [
       "US Army                    134\n",
       "Bank of America            109\n",
       "US Air Force               106\n",
       "IBM                         66\n",
       "AT&T                        59\n",
       "Kaiser Permanente           56\n",
       "Wells Fargo                 54\n",
       "UPS                         53\n",
       "Walmart                     45\n",
       "Lockheed Martin             44\n",
       "United States Air Force     42\n",
       "State of California         42\n",
       "U.S. Army                   41\n",
       "Verizon Wireless            40\n",
       "Self Employed               40\n",
       "US ARMY                     39\n",
       "USPS                        39\n",
       "Walgreens                   38\n",
       "JP Morgan Chase             37\n",
       "Department of Defense       36\n",
       "JPMorgan Chase              36\n",
       "Target                      35\n",
       "US Navy                     35\n",
       "Self                        35\n",
       "Booz Allen Hamilton         34\n",
       "Northrop Grumman            34\n",
       "United States Army          33\n",
       "Verizon                     33\n",
       "Best Buy                    32\n",
       "Comcast                     31\n",
       "Name: emp_title, dtype: int64"
      ]
     },
     "execution_count": 143,
     "metadata": {},
     "output_type": "execute_result"
    }
   ],
   "source": [
    "df_new1.emp_title.value_counts().head(30)"
   ]
  },
  {
   "cell_type": "code",
   "execution_count": 241,
   "id": "02e3afc4",
   "metadata": {},
   "outputs": [],
   "source": [
    "df_new1.emp_title = df_new1['emp_title'].replace(['U.S. Army','US ARMY'],'US Army')"
   ]
  },
  {
   "cell_type": "code",
   "execution_count": 145,
   "id": "8d03f01a",
   "metadata": {},
   "outputs": [
    {
     "data": {
      "text/plain": [
       "US Army                    214\n",
       "Bank of America            109\n",
       "US Air Force               106\n",
       "IBM                         66\n",
       "AT&T                        59\n",
       "Kaiser Permanente           56\n",
       "Wells Fargo                 54\n",
       "UPS                         53\n",
       "Walmart                     45\n",
       "Lockheed Martin             44\n",
       "State of California         42\n",
       "United States Air Force     42\n",
       "Verizon Wireless            40\n",
       "Self Employed               40\n",
       "USPS                        39\n",
       "Walgreens                   38\n",
       "JP Morgan Chase             37\n",
       "Department of Defense       36\n",
       "JPMorgan Chase              36\n",
       "Self                        35\n",
       "US Navy                     35\n",
       "Target                      35\n",
       "Northrop Grumman            34\n",
       "Booz Allen Hamilton         34\n",
       "United States Army          33\n",
       "Verizon                     33\n",
       "Best Buy                    32\n",
       "Comcast                     31\n",
       "us army                     30\n",
       "Fidelity Investments        30\n",
       "Name: emp_title, dtype: int64"
      ]
     },
     "execution_count": 145,
     "metadata": {},
     "output_type": "execute_result"
    }
   ],
   "source": [
    "df_new1.emp_title.value_counts().head(30)"
   ]
  },
  {
   "cell_type": "code",
   "execution_count": 242,
   "id": "7cee11a4",
   "metadata": {},
   "outputs": [],
   "source": [
    "df_new1.emp_title = df_new1['emp_title'].replace(['United States Air Force'],'US Air Force')"
   ]
  },
  {
   "cell_type": "code",
   "execution_count": 243,
   "id": "d95aad9c",
   "metadata": {},
   "outputs": [],
   "source": [
    "df_new1.emp_title = df_new1['emp_title'].replace(['United States Army','us army'],'US Army')"
   ]
  },
  {
   "cell_type": "code",
   "execution_count": 148,
   "id": "83c23141",
   "metadata": {},
   "outputs": [
    {
     "data": {
      "text/plain": [
       "US Army                  277\n",
       "US Air Force             148\n",
       "Bank of America          109\n",
       "IBM                       66\n",
       "AT&T                      59\n",
       "Kaiser Permanente         56\n",
       "Wells Fargo               54\n",
       "UPS                       53\n",
       "Walmart                   45\n",
       "Lockheed Martin           44\n",
       "State of California       42\n",
       "Verizon Wireless          40\n",
       "Self Employed             40\n",
       "USPS                      39\n",
       "Walgreens                 38\n",
       "JP Morgan Chase           37\n",
       "Department of Defense     36\n",
       "JPMorgan Chase            36\n",
       "Target                    35\n",
       "Self                      35\n",
       "US Navy                   35\n",
       "Booz Allen Hamilton       34\n",
       "Northrop Grumman          34\n",
       "Verizon                   33\n",
       "Best Buy                  32\n",
       "Comcast                   31\n",
       "Accenture                 30\n",
       "Fidelity Investments      30\n",
       "United Parcel Service     28\n",
       "Home Depot                27\n",
       "Name: emp_title, dtype: int64"
      ]
     },
     "execution_count": 148,
     "metadata": {},
     "output_type": "execute_result"
    }
   ],
   "source": [
    "df_new1.emp_title.value_counts().head(30)"
   ]
  },
  {
   "cell_type": "code",
   "execution_count": 244,
   "id": "13a462b0",
   "metadata": {},
   "outputs": [],
   "source": [
    "df_new1.emp_title = df_new1['emp_title'].replace(['JP Morgan Chase'],'JPMorgan Chase')"
   ]
  },
  {
   "cell_type": "code",
   "execution_count": 150,
   "id": "e0d61bac",
   "metadata": {},
   "outputs": [
    {
     "data": {
      "text/plain": [
       "US Army                         277\n",
       "US Air Force                    148\n",
       "Bank of America                 109\n",
       "JPMorgan Chase                   73\n",
       "IBM                              66\n",
       "AT&T                             59\n",
       "Kaiser Permanente                56\n",
       "Wells Fargo                      54\n",
       "UPS                              53\n",
       "Walmart                          45\n",
       "Lockheed Martin                  44\n",
       "State of California              42\n",
       "Verizon Wireless                 40\n",
       "Self Employed                    40\n",
       "USPS                             39\n",
       "Walgreens                        38\n",
       "Department of Defense            36\n",
       "Target                           35\n",
       "US Navy                          35\n",
       "Self                             35\n",
       "Northrop Grumman                 34\n",
       "Booz Allen Hamilton              34\n",
       "Verizon                          33\n",
       "Best Buy                         32\n",
       "Comcast                          31\n",
       "Accenture                        30\n",
       "Fidelity Investments             30\n",
       "United Parcel Service            28\n",
       "Home Depot                       27\n",
       "United States Postal Service     26\n",
       "Name: emp_title, dtype: int64"
      ]
     },
     "execution_count": 150,
     "metadata": {},
     "output_type": "execute_result"
    }
   ],
   "source": [
    "df_new1.emp_title.value_counts().head(30)"
   ]
  },
  {
   "cell_type": "code",
   "execution_count": 245,
   "id": "423474ab",
   "metadata": {},
   "outputs": [],
   "source": [
    "df_new1.emp_title = df_new1['emp_title'].replace(['UPS'],'United Parcel Service')"
   ]
  },
  {
   "cell_type": "code",
   "execution_count": 152,
   "id": "3d4d8799",
   "metadata": {},
   "outputs": [
    {
     "data": {
      "text/plain": [
       "US Army                           277\n",
       "US Air Force                      148\n",
       "Bank of America                   109\n",
       "United Parcel Service              81\n",
       "JPMorgan Chase                     73\n",
       "IBM                                66\n",
       "AT&T                               59\n",
       "Kaiser Permanente                  56\n",
       "Wells Fargo                        54\n",
       "Walmart                            45\n",
       "Lockheed Martin                    44\n",
       "State of California                42\n",
       "Verizon Wireless                   40\n",
       "Self Employed                      40\n",
       "USPS                               39\n",
       "Walgreens                          38\n",
       "Department of Defense              36\n",
       "Target                             35\n",
       "Self                               35\n",
       "US Navy                            35\n",
       "Northrop Grumman                   34\n",
       "Booz Allen Hamilton                34\n",
       "Verizon                            33\n",
       "Best Buy                           32\n",
       "Comcast                            31\n",
       "Accenture                          30\n",
       "Fidelity Investments               30\n",
       "Home Depot                         27\n",
       "United States Postal Service       26\n",
       "Social Security Administration     26\n",
       "Name: emp_title, dtype: int64"
      ]
     },
     "execution_count": 152,
     "metadata": {},
     "output_type": "execute_result"
    }
   ],
   "source": [
    "df_new1.emp_title.value_counts().head(30)"
   ]
  },
  {
   "cell_type": "code",
   "execution_count": 246,
   "id": "6a734dc2",
   "metadata": {},
   "outputs": [],
   "source": [
    "df_new1.emp_title = df_new1['emp_title'].replace(['USPS','United States Postal Service'],'US Postal Service')"
   ]
  },
  {
   "cell_type": "code",
   "execution_count": 154,
   "id": "74c453e1",
   "metadata": {},
   "outputs": [
    {
     "data": {
      "text/plain": [
       "US Army                           277\n",
       "US Air Force                      148\n",
       "Bank of America                   109\n",
       "US Postal Service                  91\n",
       "United Parcel Service              81\n",
       "JPMorgan Chase                     73\n",
       "IBM                                66\n",
       "AT&T                               59\n",
       "Kaiser Permanente                  56\n",
       "Wells Fargo                        54\n",
       "Walmart                            45\n",
       "Lockheed Martin                    44\n",
       "State of California                42\n",
       "Verizon Wireless                   40\n",
       "Self Employed                      40\n",
       "Walgreens                          38\n",
       "Department of Defense              36\n",
       "US Navy                            35\n",
       "Self                               35\n",
       "Target                             35\n",
       "Northrop Grumman                   34\n",
       "Booz Allen Hamilton                34\n",
       "Verizon                            33\n",
       "Best Buy                           32\n",
       "Comcast                            31\n",
       "Fidelity Investments               30\n",
       "Accenture                          30\n",
       "Home Depot                         27\n",
       "Social Security Administration     26\n",
       "Wells Fargo Bank                   25\n",
       "Name: emp_title, dtype: int64"
      ]
     },
     "execution_count": 154,
     "metadata": {},
     "output_type": "execute_result"
    }
   ],
   "source": [
    "df_new1.emp_title.value_counts().head(30)"
   ]
  },
  {
   "cell_type": "code",
   "execution_count": 247,
   "id": "f1a2aca8",
   "metadata": {},
   "outputs": [],
   "source": [
    "df_new1.emp_title = df_new1['emp_title'].replace(['Wells Fargo Bank'],'Wells Fargo')"
   ]
  },
  {
   "cell_type": "code",
   "execution_count": 248,
   "id": "5b03cf36",
   "metadata": {},
   "outputs": [],
   "source": [
    "df_new1.emp_title = df_new1['emp_title'].replace(['Verizon Wireless'],'Verizon')"
   ]
  },
  {
   "cell_type": "code",
   "execution_count": 75,
   "id": "043082d4",
   "metadata": {},
   "outputs": [
    {
     "data": {
      "text/plain": [
       "US Army                           277\n",
       "US Air Force                      148\n",
       "Bank of America                   109\n",
       "US Postal Service                  91\n",
       "United Parcel Service              81\n",
       "Wells Fargo                        79\n",
       "JPMorgan Chase                     73\n",
       "Verizon                            73\n",
       "IBM                                66\n",
       "AT&T                               59\n",
       "Kaiser Permanente                  56\n",
       "Walmart                            45\n",
       "Lockheed Martin                    44\n",
       "State of California                42\n",
       "Self Employed                      40\n",
       "Walgreens                          38\n",
       "Department of Defense              36\n",
       "Target                             35\n",
       "US Navy                            35\n",
       "Self                               35\n",
       "Northrop Grumman                   34\n",
       "Booz Allen Hamilton                34\n",
       "Best Buy                           32\n",
       "Comcast                            31\n",
       "Fidelity Investments               30\n",
       "Accenture                          30\n",
       "Home Depot                         27\n",
       "Social Security Administration     26\n",
       "walmart                            25\n",
       "self                               24\n",
       "Name: emp_title, dtype: int64"
      ]
     },
     "execution_count": 75,
     "metadata": {},
     "output_type": "execute_result"
    }
   ],
   "source": [
    "df_new1.emp_title.value_counts().head(30)"
   ]
  },
  {
   "cell_type": "code",
   "execution_count": 249,
   "id": "7d642c4b",
   "metadata": {},
   "outputs": [],
   "source": [
    "df_new1.emp_title = df_new1['emp_title'].replace(['walmart'],'Walmart')"
   ]
  },
  {
   "cell_type": "code",
   "execution_count": 250,
   "id": "098b731b",
   "metadata": {},
   "outputs": [],
   "source": [
    "df_new1.emp_title = df_new1['emp_title'].replace(['self','Self'],'Self Employed')"
   ]
  },
  {
   "cell_type": "code",
   "execution_count": 79,
   "id": "6eac7e69",
   "metadata": {},
   "outputs": [
    {
     "data": {
      "text/plain": [
       "US Army                            277\n",
       "US Air Force                       148\n",
       "Bank of America                    109\n",
       "Self Employed                       99\n",
       "US Postal Service                   91\n",
       "United Parcel Service               81\n",
       "Wells Fargo                         79\n",
       "JPMorgan Chase                      73\n",
       "Verizon                             73\n",
       "Walmart                             70\n",
       "IBM                                 66\n",
       "AT&T                                59\n",
       "Kaiser Permanente                   56\n",
       "Lockheed Martin                     44\n",
       "State of California                 42\n",
       "Walgreens                           38\n",
       "Department of Defense               36\n",
       "US Navy                             35\n",
       "Target                              35\n",
       "Booz Allen Hamilton                 34\n",
       "Northrop Grumman                    34\n",
       "Best Buy                            32\n",
       "Comcast                             31\n",
       "Accenture                           30\n",
       "Fidelity Investments                30\n",
       "Home Depot                          27\n",
       "Social Security Administration      26\n",
       "Morgan Stanley                      24\n",
       "Citigroup                           23\n",
       "General Electric                    23\n",
       "Sprint                              22\n",
       "Raytheon                            22\n",
       "Merrill Lynch                       21\n",
       "Columbia University                 21\n",
       "American Express                    21\n",
       "Retired                             21\n",
       "Department of Homeland Security     21\n",
       "PricewaterhouseCoopers              20\n",
       "Department of Veterans Affairs      20\n",
       "SAIC                                19\n",
       "General Dynamics                    19\n",
       "usps                                18\n",
       "The Home Depot                      18\n",
       "Internal Revenue Service            18\n",
       "US Government                       18\n",
       "BAE Systems                         17\n",
       "United States Marine Corps          17\n",
       "ADP                                 17\n",
       "United States Navy                  17\n",
       "The Hartford                        16\n",
       "Name: emp_title, dtype: int64"
      ]
     },
     "execution_count": 79,
     "metadata": {},
     "output_type": "execute_result"
    }
   ],
   "source": [
    "df_new1.emp_title.value_counts().head(50)"
   ]
  },
  {
   "cell_type": "code",
   "execution_count": 251,
   "id": "225ff826",
   "metadata": {},
   "outputs": [],
   "source": [
    "df_new1.emp_title = df_new1['emp_title'].replace(['United States Navy'],'US Navy')"
   ]
  },
  {
   "cell_type": "code",
   "execution_count": 252,
   "id": "67a1bba4",
   "metadata": {},
   "outputs": [],
   "source": [
    "df_new1.emp_title = df_new1['emp_title'].replace(['usps'],'US Postal Service')"
   ]
  },
  {
   "cell_type": "code",
   "execution_count": 161,
   "id": "9cbc3dc6",
   "metadata": {},
   "outputs": [
    {
     "data": {
      "text/plain": [
       "The Houser Group                         1\n",
       "GCE, Inc.                                1\n",
       "Hydra Force Inc.                         1\n",
       "World Security Bureau                    1\n",
       "tri state curb inc                       1\n",
       "Merck and Company Inc.                   1\n",
       "duncan tire co                           1\n",
       "Bright House Networks                    1\n",
       "Florida Power & Light Company            1\n",
       "Telefutura Net                           1\n",
       "adidas                                   1\n",
       "Williamson Eye Center                    1\n",
       "abrams,gorelick,friedman,and jacobson    1\n",
       "Scitor Corporation                       1\n",
       "Aegis Communications Group               1\n",
       "Rialto Unified School District           1\n",
       "La curacao                               1\n",
       "PTS Consulting                           1\n",
       "Northrop Grumman Information Systems     1\n",
       "Union Health Service                     1\n",
       "Yuma UHSD                                1\n",
       "Texas Department of Insurance            1\n",
       "Santa Maria Software                     1\n",
       "Shearers Foods Inc.                      1\n",
       "Parternships To Uplift Communities       1\n",
       "West Virginia Choice                     1\n",
       "BCT PRINTING                             1\n",
       "Hotpads                                  1\n",
       "Sheridan Ford Sales                      1\n",
       "Simon and Schuster, Inc.                 1\n",
       "Law firm                                 1\n",
       "Lumos Consulting Group  Inc.             1\n",
       "vibra hospital of san diego              1\n",
       "Wipro Technologies                       1\n",
       "Semcac Head Start                        1\n",
       "Leam Drilling Systems                    1\n",
       "Hines                                    1\n",
       "Leir Retreat Center                      1\n",
       "ace metal craft                          1\n",
       "Royalty Limousines                       1\n",
       "Quality Nissan                           1\n",
       "ConAgra Fooda                            1\n",
       "Five County Assoc of Governments         1\n",
       "Far Niente Winery Inc                    1\n",
       "Tobyhanna Army Depot                     1\n",
       "Community College of Philadelphia        1\n",
       "AMEC                                     1\n",
       "lee county sheriff                       1\n",
       "Bacon County Board of Education          1\n",
       "Evergreen Center                         1\n",
       "Name: emp_title, dtype: int64"
      ]
     },
     "execution_count": 161,
     "metadata": {},
     "output_type": "execute_result"
    }
   ],
   "source": [
    "df_new1.emp_title.value_counts().tail(50)"
   ]
  },
  {
   "cell_type": "code",
   "execution_count": 253,
   "id": "b44c8691",
   "metadata": {},
   "outputs": [],
   "source": [
    "df_new1.emp_title = df_new1['emp_title'].replace(['JPMorgan Chase Bank','JPMORGAN CHASE','JPMORGAN CHASE BANK & CO.','JPMorgan Chase Bank','JP Morgan Chase St.1','JPM Chase','JP Morgan','jp morgan chase','jpmorgan','JPmorgan','JPMORGAN CHASE'],'JPMorgan Chase')"
   ]
  },
  {
   "cell_type": "code",
   "execution_count": 254,
   "id": "9c62068a",
   "metadata": {},
   "outputs": [],
   "source": [
    "df_new1.emp_title = df_new1['emp_title'].replace(['JPMorgan Chase Bank',\n",
    "'JP Morgan Chase Bank',\n",
    "'Jpmorgan Chase',\n",
    "'JPMORGAN CHASE BANK & CO.',\n",
    "'Jpmorgan Chase',\n",
    "'JP Morgan',\n",
    "'JPM Chase',\n",
    "'JP Morgan Chase St.1',\n",
    "'jp morgan chase',\n",
    "'JPMorgan',\n",
    "'The JPC Group Inc',\n",
    "'JPMorgan Chase Bank',\n",
    "'JPM Chase',\n",
    "'JP Morgan Chase'],'JPMorgan Chase')"
   ]
  },
  {
   "cell_type": "code",
   "execution_count": 164,
   "id": "648a84e3",
   "metadata": {},
   "outputs": [
    {
     "data": {
      "text/plain": [
       "US Army                            277\n",
       "US Air Force                       148\n",
       "US Postal Service                  109\n",
       "Bank of America                    109\n",
       "JPMorgan Chase                     102\n",
       "Self Employed                       99\n",
       "United Parcel Service               81\n",
       "Wells Fargo                         79\n",
       "Verizon                             73\n",
       "Walmart                             70\n",
       "IBM                                 66\n",
       "AT&T                                59\n",
       "Kaiser Permanente                   56\n",
       "US Navy                             52\n",
       "Lockheed Martin                     44\n",
       "State of California                 42\n",
       "Walgreens                           38\n",
       "Department of Defense               36\n",
       "Target                              35\n",
       "Northrop Grumman                    34\n",
       "Booz Allen Hamilton                 34\n",
       "Best Buy                            32\n",
       "Comcast                             31\n",
       "Fidelity Investments                30\n",
       "Accenture                           30\n",
       "Home Depot                          27\n",
       "Social Security Administration      26\n",
       "Morgan Stanley                      24\n",
       "General Electric                    23\n",
       "Citigroup                           23\n",
       "Raytheon                            22\n",
       "Sprint                              22\n",
       "American Express                    21\n",
       "Retired                             21\n",
       "Merrill Lynch                       21\n",
       "Department of Homeland Security     21\n",
       "Columbia University                 21\n",
       "Department of Veterans Affairs      20\n",
       "PricewaterhouseCoopers              20\n",
       "General Dynamics                    19\n",
       "SAIC                                19\n",
       "Internal Revenue Service            18\n",
       "The Home Depot                      18\n",
       "US Government                       18\n",
       "United States Marine Corps          17\n",
       "ADP                                 17\n",
       "BAE Systems                         17\n",
       "Microsoft                           16\n",
       "American Airlines                   16\n",
       "Thomson Reuters                     16\n",
       "Name: emp_title, dtype: int64"
      ]
     },
     "execution_count": 164,
     "metadata": {},
     "output_type": "execute_result"
    }
   ],
   "source": [
    "df_new1.emp_title.value_counts().head(50)"
   ]
  },
  {
   "cell_type": "code",
   "execution_count": 255,
   "id": "19fd0da6",
   "metadata": {},
   "outputs": [],
   "source": [
    "df_new1.emp_title = df_new1['emp_title'].replace(['United states air force'],'US Air Force')"
   ]
  },
  {
   "cell_type": "code",
   "execution_count": 256,
   "id": "948a9fe6",
   "metadata": {},
   "outputs": [],
   "source": [
    "df_new1.emp_title = df_new1['emp_title'].replace(['united health care','united healthcare group','UnitedHealthcare'],'United Healthcare')"
   ]
  },
  {
   "cell_type": "code",
   "execution_count": 257,
   "id": "674ab6cf",
   "metadata": {},
   "outputs": [],
   "source": [
    "df_new1.emp_title = df_new1['emp_title'].replace(['united states army','United Sates Army','United State Army','United States Army '],'US Army')"
   ]
  },
  {
   "cell_type": "code",
   "execution_count": 258,
   "id": "dd1645bf",
   "metadata": {},
   "outputs": [],
   "source": [
    "df_new1.emp_title = df_new1['emp_title'].replace(['UNITED STATES POSTAL SERVICE'],'US Postal Service')"
   ]
  },
  {
   "cell_type": "code",
   "execution_count": 170,
   "id": "9a12fdde",
   "metadata": {},
   "outputs": [
    {
     "data": {
      "text/plain": [
       "US Army                            281\n",
       "US Air Force                       150\n",
       "US Postal Service                  114\n",
       "Bank of America                    109\n",
       "JPMorgan Chase                     102\n",
       "Self Employed                       99\n",
       "United Parcel Service               81\n",
       "Wells Fargo                         79\n",
       "Verizon                             73\n",
       "Walmart                             70\n",
       "IBM                                 66\n",
       "AT&T                                59\n",
       "Kaiser Permanente                   56\n",
       "US Navy                             52\n",
       "Lockheed Martin                     44\n",
       "State of California                 42\n",
       "Walgreens                           38\n",
       "Department of Defense               36\n",
       "Target                              35\n",
       "Booz Allen Hamilton                 34\n",
       "Northrop Grumman                    34\n",
       "Best Buy                            32\n",
       "Comcast                             31\n",
       "Accenture                           30\n",
       "Fidelity Investments                30\n",
       "Home Depot                          27\n",
       "Social Security Administration      26\n",
       "Morgan Stanley                      24\n",
       "Citigroup                           23\n",
       "General Electric                    23\n",
       "Raytheon                            22\n",
       "Sprint                              22\n",
       "American Express                    21\n",
       "Columbia University                 21\n",
       "Retired                             21\n",
       "Department of Homeland Security     21\n",
       "Merrill Lynch                       21\n",
       "Department of Veterans Affairs      20\n",
       "PricewaterhouseCoopers              20\n",
       "SAIC                                19\n",
       "General Dynamics                    19\n",
       "Internal Revenue Service            18\n",
       "US Government                       18\n",
       "The Home Depot                      18\n",
       "BAE Systems                         17\n",
       "ADP                                 17\n",
       "United States Marine Corps          17\n",
       "Thomson Reuters                     16\n",
       "The Hartford                        16\n",
       "Time Warner Cable                   16\n",
       "Name: emp_title, dtype: int64"
      ]
     },
     "execution_count": 170,
     "metadata": {},
     "output_type": "execute_result"
    }
   ],
   "source": [
    "df_new1.emp_title.value_counts().head(50)"
   ]
  },
  {
   "cell_type": "code",
   "execution_count": 259,
   "id": "9c4a759f",
   "metadata": {},
   "outputs": [],
   "source": [
    "df_new1.emp_title = df_new1['emp_title'].replace(['united parcial service'],'United Parcel Service')"
   ]
  },
  {
   "cell_type": "code",
   "execution_count": 260,
   "id": "8a68751a",
   "metadata": {},
   "outputs": [],
   "source": [
    "df_new1.emp_title = df_new1['emp_title'].replace(['UNITED STATES AIR FORCE  DEPT OF DEFENSE'],'US Air Force')"
   ]
  },
  {
   "cell_type": "code",
   "execution_count": 261,
   "id": "d4cd31ca",
   "metadata": {},
   "outputs": [],
   "source": [
    "df_new1.emp_title = df_new1['emp_title'].replace(['united parcel service (UPS)'],'United Parcel Service')"
   ]
  },
  {
   "cell_type": "code",
   "execution_count": 262,
   "id": "2e59327c",
   "metadata": {},
   "outputs": [],
   "source": [
    "df_new1.emp_title = df_new1['emp_title'].replace(['United Parcel Services '],'United Parcel Service')"
   ]
  },
  {
   "cell_type": "code",
   "execution_count": 175,
   "id": "ac131673",
   "metadata": {},
   "outputs": [
    {
     "data": {
      "text/plain": [
       "US Army                            281\n",
       "US Air Force                       151\n",
       "US Postal Service                  114\n",
       "Bank of America                    109\n",
       "JPMorgan Chase                     102\n",
       "Self Employed                       99\n",
       "United Parcel Service               84\n",
       "Wells Fargo                         79\n",
       "Verizon                             73\n",
       "Walmart                             70\n",
       "IBM                                 66\n",
       "AT&T                                59\n",
       "Kaiser Permanente                   56\n",
       "US Navy                             52\n",
       "Lockheed Martin                     44\n",
       "State of California                 42\n",
       "Walgreens                           38\n",
       "Department of Defense               36\n",
       "Target                              35\n",
       "Booz Allen Hamilton                 34\n",
       "Northrop Grumman                    34\n",
       "Best Buy                            32\n",
       "Comcast                             31\n",
       "Accenture                           30\n",
       "Fidelity Investments                30\n",
       "Home Depot                          27\n",
       "Social Security Administration      26\n",
       "Morgan Stanley                      24\n",
       "General Electric                    23\n",
       "Citigroup                           23\n",
       "Raytheon                            22\n",
       "Sprint                              22\n",
       "Department of Homeland Security     21\n",
       "Merrill Lynch                       21\n",
       "Retired                             21\n",
       "Columbia University                 21\n",
       "American Express                    21\n",
       "PricewaterhouseCoopers              20\n",
       "Department of Veterans Affairs      20\n",
       "SAIC                                19\n",
       "General Dynamics                    19\n",
       "The Home Depot                      18\n",
       "US Government                       18\n",
       "Internal Revenue Service            18\n",
       "ADP                                 17\n",
       "BAE Systems                         17\n",
       "United States Marine Corps          17\n",
       "Time Warner Cable                   16\n",
       "Nordstrom                           16\n",
       "American Airlines                   16\n",
       "Name: emp_title, dtype: int64"
      ]
     },
     "execution_count": 175,
     "metadata": {},
     "output_type": "execute_result"
    }
   ],
   "source": [
    "df_new1.emp_title.value_counts().head(50)"
   ]
  },
  {
   "cell_type": "code",
   "execution_count": 263,
   "id": "ee5bda8a",
   "metadata": {},
   "outputs": [],
   "source": [
    "df_new1.emp_title = df_new1['emp_title'].replace(['United States Marine Cops','UNITED STATES MARINE CORPS','U.S. Marine Corps','united states marine corps','US Marine Corps','U.S. MARINE CORPS'],'US Marine Corps')"
   ]
  },
  {
   "cell_type": "code",
   "execution_count": 264,
   "id": "c9f772e2",
   "metadata": {},
   "outputs": [
    {
     "data": {
      "text/plain": [
       "US Army                            281\n",
       "US Air Force                       151\n",
       "US Postal Service                  114\n",
       "Bank of America                    109\n",
       "JPMorgan Chase                     102\n",
       "Self Employed                       99\n",
       "United Parcel Service               84\n",
       "Wells Fargo                         79\n",
       "Verizon                             73\n",
       "Walmart                             70\n",
       "IBM                                 66\n",
       "AT&T                                59\n",
       "Kaiser Permanente                   56\n",
       "US Navy                             52\n",
       "Lockheed Martin                     44\n",
       "State of California                 42\n",
       "Walgreens                           38\n",
       "Department of Defense               36\n",
       "Target                              35\n",
       "Booz Allen Hamilton                 34\n",
       "Northrop Grumman                    34\n",
       "Best Buy                            32\n",
       "Comcast                             31\n",
       "Fidelity Investments                30\n",
       "Accenture                           30\n",
       "Home Depot                          27\n",
       "Social Security Administration      26\n",
       "Morgan Stanley                      24\n",
       "Citigroup                           23\n",
       "General Electric                    23\n",
       "Sprint                              22\n",
       "Raytheon                            22\n",
       "Columbia University                 21\n",
       "Merrill Lynch                       21\n",
       "American Express                    21\n",
       "Retired                             21\n",
       "Department of Homeland Security     21\n",
       "PricewaterhouseCoopers              20\n",
       "Department of Veterans Affairs      20\n",
       "General Dynamics                    19\n",
       "SAIC                                19\n",
       "US Government                       18\n",
       "The Home Depot                      18\n",
       "Internal Revenue Service            18\n",
       "ADP                                 17\n",
       "United States Marine Corps          17\n",
       "BAE Systems                         17\n",
       "The Boeing Company                  16\n",
       "US Bank                             16\n",
       "CSC                                 16\n",
       "Name: emp_title, dtype: int64"
      ]
     },
     "execution_count": 264,
     "metadata": {},
     "output_type": "execute_result"
    }
   ],
   "source": [
    "df_new1.emp_title.value_counts().head(50)"
   ]
  },
  {
   "cell_type": "code",
   "execution_count": 265,
   "id": "6a23835f",
   "metadata": {},
   "outputs": [],
   "source": [
    "df_new1.emp_title = df_new1['emp_title'].replace(['wells fargo bank',\n",
    "'Wells fargo bank ',\n",
    "'Wells Fargo Bank N.A',\n",
    "'Wells Fargo Bank, N.A',\n",
    "'WELLS FARGO BANK, N.A.',\n",
    "'wells fargo bank`',\n",
    "'Wells Faro Bank'],'Wells Fargo')"
   ]
  },
  {
   "cell_type": "code",
   "execution_count": 179,
   "id": "cfa6a7a0",
   "metadata": {},
   "outputs": [
    {
     "data": {
      "text/plain": [
       "US Army                            281\n",
       "US Air Force                       151\n",
       "US Postal Service                  114\n",
       "Bank of America                    109\n",
       "JPMorgan Chase                     102\n",
       "Self Employed                       99\n",
       "Wells Fargo                         94\n",
       "United Parcel Service               84\n",
       "Verizon                             73\n",
       "Walmart                             70\n",
       "IBM                                 66\n",
       "AT&T                                59\n",
       "Kaiser Permanente                   56\n",
       "US Navy                             52\n",
       "Lockheed Martin                     44\n",
       "State of California                 42\n",
       "Walgreens                           38\n",
       "Department of Defense               36\n",
       "Target                              35\n",
       "Northrop Grumman                    34\n",
       "Booz Allen Hamilton                 34\n",
       "Best Buy                            32\n",
       "Comcast                             31\n",
       "Fidelity Investments                30\n",
       "Accenture                           30\n",
       "Home Depot                          27\n",
       "Social Security Administration      26\n",
       "Morgan Stanley                      24\n",
       "Citigroup                           23\n",
       "General Electric                    23\n",
       "Raytheon                            22\n",
       "Sprint                              22\n",
       "Retired                             21\n",
       "Department of Homeland Security     21\n",
       "Merrill Lynch                       21\n",
       "American Express                    21\n",
       "Columbia University                 21\n",
       "Department of Veterans Affairs      20\n",
       "PricewaterhouseCoopers              20\n",
       "SAIC                                19\n",
       "General Dynamics                    19\n",
       "Internal Revenue Service            18\n",
       "The Home Depot                      18\n",
       "US Government                       18\n",
       "BAE Systems                         17\n",
       "United States Marine Corps          17\n",
       "ADP                                 17\n",
       "The Hartford                        16\n",
       "CSC                                 16\n",
       "Time Warner Cable                   16\n",
       "Name: emp_title, dtype: int64"
      ]
     },
     "execution_count": 179,
     "metadata": {},
     "output_type": "execute_result"
    }
   ],
   "source": [
    "df_new1.emp_title.value_counts().head(50)"
   ]
  },
  {
   "cell_type": "code",
   "execution_count": 266,
   "id": "c59a97ca",
   "metadata": {},
   "outputs": [],
   "source": [
    "df_new1.emp_title = df_new1['emp_title'].replace(['JP Morgan Chase Bank',\n",
    "'JPMorgan Chase Bank',\n",
    "'JPMorgan Chase Bank ',\n",
    "'JPMORGAN CHASE BANK & CO.'],'JPMorgan Chase')"
   ]
  },
  {
   "cell_type": "code",
   "execution_count": 181,
   "id": "d1428061",
   "metadata": {},
   "outputs": [
    {
     "data": {
      "text/plain": [
       "US Army                            281\n",
       "US Air Force                       151\n",
       "US Postal Service                  114\n",
       "Bank of America                    109\n",
       "JPMorgan Chase                     103\n",
       "Self Employed                       99\n",
       "Wells Fargo                         94\n",
       "United Parcel Service               84\n",
       "Verizon                             73\n",
       "Walmart                             70\n",
       "IBM                                 66\n",
       "AT&T                                59\n",
       "Kaiser Permanente                   56\n",
       "US Navy                             52\n",
       "Lockheed Martin                     44\n",
       "State of California                 42\n",
       "Walgreens                           38\n",
       "Department of Defense               36\n",
       "Target                              35\n",
       "Northrop Grumman                    34\n",
       "Booz Allen Hamilton                 34\n",
       "Best Buy                            32\n",
       "Comcast                             31\n",
       "Accenture                           30\n",
       "Fidelity Investments                30\n",
       "Home Depot                          27\n",
       "Social Security Administration      26\n",
       "Morgan Stanley                      24\n",
       "Citigroup                           23\n",
       "General Electric                    23\n",
       "Sprint                              22\n",
       "Raytheon                            22\n",
       "Retired                             21\n",
       "Merrill Lynch                       21\n",
       "Columbia University                 21\n",
       "Department of Homeland Security     21\n",
       "American Express                    21\n",
       "Department of Veterans Affairs      20\n",
       "PricewaterhouseCoopers              20\n",
       "SAIC                                19\n",
       "General Dynamics                    19\n",
       "US Government                       18\n",
       "The Home Depot                      18\n",
       "Internal Revenue Service            18\n",
       "United States Marine Corps          17\n",
       "BAE Systems                         17\n",
       "ADP                                 17\n",
       "Thomson Reuters                     16\n",
       "The Hartford                        16\n",
       "The Boeing Company                  16\n",
       "Name: emp_title, dtype: int64"
      ]
     },
     "execution_count": 181,
     "metadata": {},
     "output_type": "execute_result"
    }
   ],
   "source": [
    "df_new1.emp_title.value_counts().head(50)"
   ]
  },
  {
   "cell_type": "code",
   "execution_count": 267,
   "id": "11280002",
   "metadata": {},
   "outputs": [],
   "source": [
    "df_new1.emp_title = df_new1['emp_title'].replace(['Bank Of America ',\n",
    "'Bank of America / Merrill Lynch',\n",
    "'Bank of America Home Loans',\n",
    "'Bank of America Merchant Services',\n",
    "'Bank of America Merrill Lynch',\n",
    "'Bank of America Merrill Lynch ',\n",
    "'BankofAmerica '],'Bank of America')\n",
    "                                                  "
   ]
  },
  {
   "cell_type": "markdown",
   "id": "6dc48e05",
   "metadata": {},
   "source": [
    "## Tried having same titles for the top titles where there was name mismatch"
   ]
  },
  {
   "cell_type": "code",
   "execution_count": 183,
   "id": "1b2d8057",
   "metadata": {},
   "outputs": [
    {
     "data": {
      "text/plain": [
       "US Army                            281\n",
       "US Air Force                       151\n",
       "Bank of America                    117\n",
       "US Postal Service                  114\n",
       "JPMorgan Chase                     103\n",
       "Self Employed                       99\n",
       "Wells Fargo                         94\n",
       "United Parcel Service               84\n",
       "Verizon                             73\n",
       "Walmart                             70\n",
       "IBM                                 66\n",
       "AT&T                                59\n",
       "Kaiser Permanente                   56\n",
       "US Navy                             52\n",
       "Lockheed Martin                     44\n",
       "State of California                 42\n",
       "Walgreens                           38\n",
       "Department of Defense               36\n",
       "Target                              35\n",
       "Booz Allen Hamilton                 34\n",
       "Northrop Grumman                    34\n",
       "Best Buy                            32\n",
       "Comcast                             31\n",
       "Accenture                           30\n",
       "Fidelity Investments                30\n",
       "Home Depot                          27\n",
       "Social Security Administration      26\n",
       "Morgan Stanley                      24\n",
       "General Electric                    23\n",
       "Citigroup                           23\n",
       "Sprint                              22\n",
       "Raytheon                            22\n",
       "American Express                    21\n",
       "Retired                             21\n",
       "Merrill Lynch                       21\n",
       "Columbia University                 21\n",
       "Department of Homeland Security     21\n",
       "PricewaterhouseCoopers              20\n",
       "Department of Veterans Affairs      20\n",
       "SAIC                                19\n",
       "General Dynamics                    19\n",
       "The Home Depot                      18\n",
       "Internal Revenue Service            18\n",
       "US Government                       18\n",
       "ADP                                 17\n",
       "BAE Systems                         17\n",
       "United States Marine Corps          17\n",
       "Time Warner Cable                   16\n",
       "US Bank                             16\n",
       "The Boeing Company                  16\n",
       "Name: emp_title, dtype: int64"
      ]
     },
     "execution_count": 183,
     "metadata": {},
     "output_type": "execute_result"
    }
   ],
   "source": [
    "df_new1.emp_title.value_counts().head(50)"
   ]
  },
  {
   "cell_type": "code",
   "execution_count": 188,
   "id": "ea2232fc",
   "metadata": {},
   "outputs": [
    {
     "data": {
      "text/plain": [
       "id                                0\n",
       "member_id                         0\n",
       "loan_amnt                         0\n",
       "funded_amnt                       0\n",
       "funded_amnt_inv                   0\n",
       "term                              0\n",
       "int_rate                          0\n",
       "installment                       0\n",
       "grade                             0\n",
       "sub_grade                         0\n",
       "emp_title                      2459\n",
       "emp_length                     1075\n",
       "home_ownership                    0\n",
       "annual_inc                        0\n",
       "verification_status               0\n",
       "issue_d                           0\n",
       "loan_status                       0\n",
       "pymnt_plan                        0\n",
       "url                               0\n",
       "desc                          12940\n",
       "purpose                           0\n",
       "zip_code                          0\n",
       "addr_state                        0\n",
       "dti                               0\n",
       "delinq_2yrs                       0\n",
       "earliest_cr_line                  0\n",
       "inq_last_6mths                    0\n",
       "open_acc                          0\n",
       "pub_rec                           0\n",
       "revol_bal                         0\n",
       "revol_util                       50\n",
       "total_acc                         0\n",
       "initial_list_status               0\n",
       "out_prncp                         0\n",
       "out_prncp_inv                     0\n",
       "total_pymnt                       0\n",
       "total_pymnt_inv                   0\n",
       "total_rec_prncp                   0\n",
       "total_rec_int                     0\n",
       "total_rec_late_fee                0\n",
       "recoveries                        0\n",
       "collection_recovery_fee           0\n",
       "last_pymnt_d                     71\n",
       "last_pymnt_amnt                   0\n",
       "last_credit_pull_d                2\n",
       "collections_12_mths_ex_med        0\n",
       "policy_code                       0\n",
       "application_type                  0\n",
       "acc_now_delinq                    0\n",
       "chargeoff_within_12_mths          0\n",
       "delinq_amnt                       0\n",
       "pub_rec_bankruptcies              0\n",
       "tax_liens                         0\n",
       "dtype: int64"
      ]
     },
     "execution_count": 188,
     "metadata": {},
     "output_type": "execute_result"
    }
   ],
   "source": [
    "df_new1.isnull().sum()"
   ]
  },
  {
   "cell_type": "code",
   "execution_count": 492,
   "id": "d25a53db",
   "metadata": {},
   "outputs": [
    {
     "data": {
      "text/plain": [
       "id                                0\n",
       "member_id                         0\n",
       "loan_amnt                         0\n",
       "funded_amnt                       0\n",
       "funded_amnt_inv                   0\n",
       "term                              0\n",
       "int_rate                          0\n",
       "installment                       0\n",
       "grade                             0\n",
       "sub_grade                         0\n",
       "emp_title                      2459\n",
       "emp_length                     1075\n",
       "home_ownership                    0\n",
       "annual_inc                        0\n",
       "verification_status               0\n",
       "issue_d                           0\n",
       "loan_status                       0\n",
       "pymnt_plan                        0\n",
       "url                               0\n",
       "desc                          12940\n",
       "purpose                           0\n",
       "zip_code                          0\n",
       "addr_state                        0\n",
       "dti                               0\n",
       "delinq_2yrs                       0\n",
       "earliest_cr_line                  0\n",
       "inq_last_6mths                    0\n",
       "open_acc                          0\n",
       "pub_rec                           0\n",
       "revol_bal                         0\n",
       "revol_util                       50\n",
       "total_acc                         0\n",
       "initial_list_status               0\n",
       "out_prncp                         0\n",
       "out_prncp_inv                     0\n",
       "total_pymnt                       0\n",
       "total_pymnt_inv                   0\n",
       "total_rec_prncp                   0\n",
       "total_rec_int                     0\n",
       "total_rec_late_fee                0\n",
       "recoveries                        0\n",
       "collection_recovery_fee           0\n",
       "last_pymnt_d                     71\n",
       "last_pymnt_amnt                   0\n",
       "last_credit_pull_d                2\n",
       "collections_12_mths_ex_med        0\n",
       "policy_code                       0\n",
       "application_type                  0\n",
       "acc_now_delinq                    0\n",
       "chargeoff_within_12_mths          0\n",
       "delinq_amnt                       0\n",
       "pub_rec_bankruptcies              0\n",
       "tax_liens                         0\n",
       "dtype: int64"
      ]
     },
     "execution_count": 492,
     "metadata": {},
     "output_type": "execute_result"
    }
   ],
   "source": [
    "df_new1.isnull().sum()"
   ]
  },
  {
   "cell_type": "code",
   "execution_count": 189,
   "id": "d80ae19c",
   "metadata": {},
   "outputs": [
    {
     "data": {
      "text/plain": [
       "0      Borrower added on 12/22/11 > I need to upgra...\n",
       "1      Borrower added on 12/22/11 > I plan to use t...\n",
       "2                                                  NaN\n",
       "3      Borrower added on 12/21/11 > to pay for prop...\n",
       "4      Borrower added on 12/21/11 > I plan on combi...\n",
       "Name: desc, dtype: object"
      ]
     },
     "execution_count": 189,
     "metadata": {},
     "output_type": "execute_result"
    }
   ],
   "source": [
    "df_new1.desc.head()"
   ]
  },
  {
   "cell_type": "code",
   "execution_count": 268,
   "id": "188c2069",
   "metadata": {},
   "outputs": [
    {
     "data": {
      "text/html": [
       "<div>\n",
       "<style scoped>\n",
       "    .dataframe tbody tr th:only-of-type {\n",
       "        vertical-align: middle;\n",
       "    }\n",
       "\n",
       "    .dataframe tbody tr th {\n",
       "        vertical-align: top;\n",
       "    }\n",
       "\n",
       "    .dataframe thead th {\n",
       "        text-align: right;\n",
       "    }\n",
       "</style>\n",
       "<table border=\"1\" class=\"dataframe\">\n",
       "  <thead>\n",
       "    <tr style=\"text-align: right;\">\n",
       "      <th></th>\n",
       "      <th>desc</th>\n",
       "      <th>issue_d</th>\n",
       "    </tr>\n",
       "  </thead>\n",
       "  <tbody>\n",
       "    <tr>\n",
       "      <th>0</th>\n",
       "      <td>Borrower added on 12/22/11 &gt; I need to upgra...</td>\n",
       "      <td>Dec-11</td>\n",
       "    </tr>\n",
       "    <tr>\n",
       "      <th>1</th>\n",
       "      <td>Borrower added on 12/22/11 &gt; I plan to use t...</td>\n",
       "      <td>Dec-11</td>\n",
       "    </tr>\n",
       "    <tr>\n",
       "      <th>2</th>\n",
       "      <td>NaN</td>\n",
       "      <td>Dec-11</td>\n",
       "    </tr>\n",
       "    <tr>\n",
       "      <th>3</th>\n",
       "      <td>Borrower added on 12/21/11 &gt; to pay for prop...</td>\n",
       "      <td>Dec-11</td>\n",
       "    </tr>\n",
       "    <tr>\n",
       "      <th>4</th>\n",
       "      <td>Borrower added on 12/21/11 &gt; I plan on combi...</td>\n",
       "      <td>Dec-11</td>\n",
       "    </tr>\n",
       "  </tbody>\n",
       "</table>\n",
       "</div>"
      ],
      "text/plain": [
       "                                                desc issue_d\n",
       "0    Borrower added on 12/22/11 > I need to upgra...  Dec-11\n",
       "1    Borrower added on 12/22/11 > I plan to use t...  Dec-11\n",
       "2                                                NaN  Dec-11\n",
       "3    Borrower added on 12/21/11 > to pay for prop...  Dec-11\n",
       "4    Borrower added on 12/21/11 > I plan on combi...  Dec-11"
      ]
     },
     "execution_count": 268,
     "metadata": {},
     "output_type": "execute_result"
    }
   ],
   "source": [
    "df_new1[['desc','issue_d']].head()"
   ]
  },
  {
   "cell_type": "code",
   "execution_count": 191,
   "id": "8c0d4d9f",
   "metadata": {},
   "outputs": [
    {
     "data": {
      "text/html": [
       "<div>\n",
       "<style scoped>\n",
       "    .dataframe tbody tr th:only-of-type {\n",
       "        vertical-align: middle;\n",
       "    }\n",
       "\n",
       "    .dataframe tbody tr th {\n",
       "        vertical-align: top;\n",
       "    }\n",
       "\n",
       "    .dataframe thead th {\n",
       "        text-align: right;\n",
       "    }\n",
       "</style>\n",
       "<table border=\"1\" class=\"dataframe\">\n",
       "  <thead>\n",
       "    <tr style=\"text-align: right;\">\n",
       "      <th></th>\n",
       "      <th>desc</th>\n",
       "      <th>issue_d</th>\n",
       "    </tr>\n",
       "  </thead>\n",
       "  <tbody>\n",
       "    <tr>\n",
       "      <th>39712</th>\n",
       "      <td>Our current gutter system on our home is old a...</td>\n",
       "      <td>Jul-07</td>\n",
       "    </tr>\n",
       "    <tr>\n",
       "      <th>39713</th>\n",
       "      <td>The rate of interest and fees incurred by carr...</td>\n",
       "      <td>Jul-07</td>\n",
       "    </tr>\n",
       "    <tr>\n",
       "      <th>39714</th>\n",
       "      <td>NaN</td>\n",
       "      <td>Jul-07</td>\n",
       "    </tr>\n",
       "    <tr>\n",
       "      <th>39715</th>\n",
       "      <td>NaN</td>\n",
       "      <td>Jul-07</td>\n",
       "    </tr>\n",
       "    <tr>\n",
       "      <th>39716</th>\n",
       "      <td>I plan to consolidate over $7,000 of debt: a c...</td>\n",
       "      <td>Jun-07</td>\n",
       "    </tr>\n",
       "  </tbody>\n",
       "</table>\n",
       "</div>"
      ],
      "text/plain": [
       "                                                    desc issue_d\n",
       "39712  Our current gutter system on our home is old a...  Jul-07\n",
       "39713  The rate of interest and fees incurred by carr...  Jul-07\n",
       "39714                                                NaN  Jul-07\n",
       "39715                                                NaN  Jul-07\n",
       "39716  I plan to consolidate over $7,000 of debt: a c...  Jun-07"
      ]
     },
     "execution_count": 191,
     "metadata": {},
     "output_type": "execute_result"
    }
   ],
   "source": [
    "df_new1[['desc','issue_d']].tail()"
   ]
  },
  {
   "cell_type": "code",
   "execution_count": 192,
   "id": "11279931",
   "metadata": {},
   "outputs": [
    {
     "data": {
      "text/plain": [
       "array(['Fully Paid', 'Charged Off', 'Current'], dtype=object)"
      ]
     },
     "execution_count": 192,
     "metadata": {},
     "output_type": "execute_result"
    }
   ],
   "source": [
    "df_new1.loan_status.unique()"
   ]
  },
  {
   "cell_type": "code",
   "execution_count": 193,
   "id": "e11b6ce3",
   "metadata": {},
   "outputs": [
    {
     "data": {
      "text/plain": [
       "Fully Paid     32950\n",
       "Charged Off     5627\n",
       "Current         1140\n",
       "Name: loan_status, dtype: int64"
      ]
     },
     "execution_count": 193,
     "metadata": {},
     "output_type": "execute_result"
    }
   ],
   "source": [
    "df_new1.loan_status.value_counts()"
   ]
  },
  {
   "cell_type": "code",
   "execution_count": 199,
   "id": "92d60f74",
   "metadata": {},
   "outputs": [
    {
     "data": {
      "text/plain": [
       "n    39717\n",
       "Name: pymnt_plan, dtype: int64"
      ]
     },
     "execution_count": 199,
     "metadata": {},
     "output_type": "execute_result"
    }
   ],
   "source": [
    "df_new1.pymnt_plan.value_counts()"
   ]
  },
  {
   "cell_type": "code",
   "execution_count": 200,
   "id": "fdc93188",
   "metadata": {},
   "outputs": [
    {
     "data": {
      "text/plain": [
       "array(['n'], dtype=object)"
      ]
     },
     "execution_count": 200,
     "metadata": {},
     "output_type": "execute_result"
    }
   ],
   "source": [
    "df_new1.pymnt_plan.unique()"
   ]
  },
  {
   "cell_type": "code",
   "execution_count": 202,
   "id": "18b5dc8a",
   "metadata": {},
   "outputs": [
    {
     "name": "stdout",
     "output_type": "stream",
     "text": [
      "id\n",
      "[1077501 1077430 1077175 ...   90395   90376   87023]\n",
      "member_id\n",
      "[1296599 1314167 1313524 ...   90390   89243   86999]\n",
      "loan_amnt\n",
      "[ 5000  2500  2400 10000  3000  7000  5600  5375  6500 12000  9000  1000\n",
      "  3600  6000  9200 20250 21000 15000  4000  8500  4375 31825 12400 10800\n",
      " 12500  9600  4400 14000 11000 25600 16000  7100 13000 17500 17675  8000\n",
      "  3500 16425  8200 20975  6400 14400  7250 18000 35000 11800  4500 10500\n",
      " 15300 20000  6200  7200  9500 18825 24000  2100  5500 26800 25000 19750\n",
      " 13650 28000 10625  8850  6375 11100  4200  8875 13500 21600  8450 13475\n",
      " 22000  7325  7750 13350 22475  8400 13250  7350 11500 29500  2000 11625\n",
      " 15075  5300  8650  7400 24250 26000  1500 19600  4225 16500 15600 14125\n",
      " 13200 12300  1400  3200 11875  1800 23200  4800  7300 10400  6600 30000\n",
      "  4475  6300  8250  9875 21500  7800  9750 15550 17000  7500  5800  8050\n",
      "  5400  4125  9800 15700  9900  6250 10200 23000 25975 21250 33425  8125\n",
      " 18800 19200 12875  2625 11300  4100 18225 18500 16800  2200 14050 16100\n",
      " 10525 19775 14500 11700  4150 12375  1700 22250 11200 22500 15900  3150\n",
      " 18550  8575  7700 24500 22200 21400  9400 22400  5825  7650 20675 27050\n",
      " 20500 12800 27575  7600 29000  9575 14575  7125 10700 10375  3050 27000\n",
      " 28625 14100 20050 24925 13600 26400  7150 32000 15500 17475  2250 17050\n",
      "  3250 22750  1200  5900 12600  6750 17250 19075 17200 13225 11775 16400\n",
      " 10075  9350  8075 15625 20125  8300  2425  6950  5350  5875  9450 19000\n",
      " 20400 21650 20300  2300 24575  5850  4750  5275  9175 34475 10050 19400\n",
      " 18200  8800 34000 19500  5200 11900 29100 25850  3300 12200 22575  7175\n",
      " 18250 16750 12950  6350 14750  6625  6900 18650  9250 22800 27300 12250\n",
      "  4350 21200  2700  6025  3825  5325 14150  1600  2800 18975  2575  5450\n",
      "  3800  2125 14650 11250 31000  6075  8475  3625 31300  4250 12650 27600\n",
      " 13150  4300 10275 23600  7875 14550  9925 15850  1325  6325 29700 15200\n",
      " 28100 15250  6800 11325 13975 13800  3100  3975 25450  3575 33600 23700\n",
      " 28200  6475 27700 17375 15800 17625 16675  5250 22950  1950  4650 10250\n",
      "  6100  8325  4850  9425 12700 25475 14850 14300 33000  5150 21625  3775\n",
      " 21575 16250  8375 18725 11125  3525 19800  9300 19125  5575  1450 12900\n",
      " 10150 20450 23500 16600  1300  6925 14675 11550 17400  1100  3400 12775\n",
      "  5050 12100 26375  6975 26300  3125 23325 11600  5100 10175 18400 30750\n",
      " 16550  5650 16450 18950  3650 33950 10125 16775  5700 20200 10600  3725\n",
      " 19425 25900 23800  4025  2600  8900 10900 17600 14825  7925 14950  6700\n",
      "  8600  1925 30500  4900 15575  3175 14800 32275  5750 14600 25200  6550\n",
      " 30400 22900  6850  4600 11425 16950 29850 10675  6650 10775 17325 27250\n",
      "  3700  6450 20800 13575 29275  4725 24800 15750 17100 15875 10925  4950\n",
      " 10575  2850 32875 21100 11050 20375  9325  9375  7475 22125 27525 25500\n",
      " 17750  8675  7450 24625 17900 12075  6725 24400  5225 14075 17175  9475\n",
      "  9975 20900 12150 17725 15350  4925  4550 18750 15125 10950 12475  2750\n",
      "  4625 12175  7575 23525 12350 17950  9525  8975 11975 12850 19850 21850\n",
      "  4425 32250  2550 11400 21725 23100 13700  9950 21750 13750 12025 23400\n",
      " 14975 19700 27500  3900 14725 17800  5175 15025 29550 23850 31500  9100\n",
      " 27400 23675  9825 16200 11650 18875 29175  3950  2050 19950 12750 24375\n",
      "  2875 25875 16275 10300 17450  3450  1825 13100 23275  8700  3675  8150\n",
      " 23975  3350  7075  8625 31800 26200 34675 11025  7850 14175  9150 19925\n",
      " 14275 25400 17825 16875 21800 14475 14225 10225 10650 12725 31400  1550\n",
      " 31700 31200  1875 16300 12550 11725 22600 26500  6225  4450  3875 13275\n",
      " 34525 31025  6775 19450  2900  2450 27200 21300  4700  7425 19575 31150\n",
      " 19100 30100 24600 32350  1900 29300  2350 15950 13300  2975 28250  8100\n",
      " 28600  6425  4050 23450 32400 13675 21350  9050  2675  5025  5950 12625\n",
      " 29800  1750 10825 24700 13125  6125 26850 28800  7275  6825 14775 10975\n",
      " 20950  3850 28500 31325 11750 15825  7525  3550  7950 13400  3375  1250\n",
      " 29600 22350  1850 17850 17875  7550  6175 30800 21125 30225  3750 10025\n",
      " 14350  7775 33500 18900  8025  5125 13775  3075 29900 11525  5550  5975\n",
      " 32500 22100 25300 14700  3325  5075  5625 27175 11575 16325 24200 15050\n",
      "  5425 17700 12450 19725 19550  3025 22875 23075 15450 10750  4325  3275\n",
      "  8175 20700  1775  4775  8225  4575 15775 19475 14200 21225 17225 12425\n",
      "  7900 14525  2650  8275 13325 30600  6275  4075  1625  1275 13075 23750\n",
      " 24650 14250  8825  5775  8350 19150  9725 18575  8725 16050 26250 16075\n",
      "  6150  8750 11075 10875 16350  2275  3925 11375  4275 18325  9650  2725\n",
      " 10425  6575  2075 13175  9550 12675 15425 18300 18600  5525 10550 22325\n",
      " 15175 12225 12525 28750 15650 11450 23350  1525 31725 13625 32775 20600\n",
      "  8550 15975  9775 13425  1050  2950 12925 29375 12325  9075  1350 21700\n",
      " 15400  4975 11275  7725  9225  2325 13725  8775 19250 14900 34800 17300\n",
      "  9700  2150 10100 10350  2825 17975  1650 15275  7975  2925  2525  2225\n",
      "  5725 23425  4875  2475  3425 16700  2775 13050 34200  5925 26025 16225\n",
      "  9275 11350 21450 10850  7225  1425  5475 19300  7050 24175 12050  1225\n",
      " 13850 32525 17075  1375  1675 18275  9125 33250 16525 11850 22300  2375\n",
      "  7675  8525 31050  4525  7025 14625 13375  4675 25375 24975 12825 18150\n",
      " 18050  9850 14875 17425 16725 13550  9625 15150 19875  1475 22650 17150\n",
      "  6875  7375  5675  7625  6525  3225  6675  1075 15675 17275 11475 12975\n",
      " 15325  1125  8950 11675 12275  3475 21425 18125 23050 11175 10450 21825\n",
      " 10475 20150 24750 13900  4175 24100 17925 24150 19975 19900 13950 12125\n",
      " 11225 23475 19650 13450 10725  1150 20475 17525   500   725 23575   700\n",
      "   950 19275   900   750 17350   800 10325 13025 22550]\n",
      "funded_amnt\n",
      "[ 5000  2500  2400 ...   800 13875 22350]\n",
      "funded_amnt_inv\n",
      "[4975. 2500. 2400. ...  200.   75.  150.]\n",
      "term\n",
      "[' 36 months' ' 60 months']\n",
      "int_rate\n",
      "['10.65%' '15.27%' '15.96%' '13.49%' '12.69%' '7.90%' '18.64%' '21.28%'\n",
      " '14.65%' '9.91%' '16.29%' '6.03%' '11.71%' '12.42%' '14.27%' '16.77%'\n",
      " '7.51%' '8.90%' '18.25%' '6.62%' '19.91%' '17.27%' '17.58%' '21.67%'\n",
      " '19.42%' '22.06%' '20.89%' '20.30%' '23.91%' '19.03%' '23.52%' '23.13%'\n",
      " '22.74%' '22.35%' '24.11%' '6.00%' '22.11%' '7.49%' '11.99%' '5.99%'\n",
      " '10.99%' '9.99%' '18.79%' '11.49%' '8.49%' '15.99%' '16.49%' '6.99%'\n",
      " '12.99%' '15.23%' '14.79%' '5.42%' '10.59%' '17.49%' '15.62%' '21.36%'\n",
      " '19.29%' '13.99%' '18.39%' '16.89%' '17.99%' '20.62%' '20.99%' '22.85%'\n",
      " '19.69%' '20.25%' '23.22%' '21.74%' '22.48%' '23.59%' '12.62%' '18.07%'\n",
      " '11.63%' '7.91%' '7.42%' '11.14%' '20.20%' '12.12%' '19.39%' '16.11%'\n",
      " '17.54%' '22.64%' '13.84%' '16.59%' '17.19%' '12.87%' '20.69%' '9.67%'\n",
      " '21.82%' '19.79%' '18.49%' '22.94%' '24.59%' '24.40%' '21.48%' '14.82%'\n",
      " '14.17%' '7.29%' '17.88%' '20.11%' '16.02%' '17.51%' '13.43%' '14.91%'\n",
      " '13.06%' '15.28%' '15.65%' '17.14%' '11.11%' '10.37%' '16.40%' '7.66%'\n",
      " '10.00%' '18.62%' '10.74%' '5.79%' '6.92%' '9.63%' '14.54%' '12.68%'\n",
      " '19.36%' '13.80%' '18.99%' '21.59%' '20.85%' '21.22%' '19.74%' '20.48%'\n",
      " '6.91%' '12.23%' '12.61%' '10.36%' '6.17%' '6.54%' '9.25%' '16.69%'\n",
      " '15.95%' '8.88%' '13.35%' '9.62%' '16.32%' '12.98%' '14.83%' '13.72%'\n",
      " '14.09%' '14.46%' '20.03%' '17.80%' '15.20%' '15.57%' '18.54%' '19.66%'\n",
      " '17.06%' '18.17%' '17.43%' '20.40%' '20.77%' '18.91%' '21.14%' '17.44%'\n",
      " '13.23%' '7.88%' '11.12%' '13.61%' '10.38%' '17.56%' '17.93%' '15.58%'\n",
      " '13.98%' '14.84%' '15.21%' '6.76%' '6.39%' '11.86%' '7.14%' '14.35%'\n",
      " '16.82%' '10.75%' '14.72%' '16.45%' '18.67%' '20.53%' '19.41%' '20.16%'\n",
      " '21.27%' '18.30%' '19.04%' '20.90%' '21.64%' '12.73%' '10.25%' '13.11%'\n",
      " '10.62%' '13.48%' '14.59%' '16.07%' '15.70%' '9.88%' '11.36%' '15.33%'\n",
      " '13.85%' '14.96%' '14.22%' '7.74%' '13.22%' '13.57%' '8.59%' '17.04%'\n",
      " '14.61%' '8.94%' '12.18%' '11.83%' '11.48%' '16.35%' '13.92%' '15.31%'\n",
      " '14.26%' '19.13%' '12.53%' '16.70%' '16.00%' '17.39%' '18.09%' '7.40%'\n",
      " '18.43%' '17.74%' '7.05%' '20.52%' '20.86%' '19.47%' '18.78%' '21.21%'\n",
      " '19.82%' '20.17%' '13.16%' '8.00%' '13.47%' '12.21%' '16.63%' '9.32%'\n",
      " '12.84%' '11.26%' '15.68%' '15.37%' '10.95%' '11.89%' '14.11%' '13.79%'\n",
      " '7.68%' '11.58%' '7.37%' '16.95%' '15.05%' '18.53%' '14.74%' '14.42%'\n",
      " '18.21%' '17.26%' '18.84%' '17.90%' '19.16%' '13.67%' '9.38%' '12.72%'\n",
      " '13.36%' '11.46%' '10.51%' '9.07%' '13.04%' '11.78%' '12.41%' '10.83%'\n",
      " '12.09%' '17.46%' '14.30%' '17.15%' '15.25%' '10.20%' '15.88%' '14.93%'\n",
      " '16.20%' '18.72%' '14.62%' '8.32%' '14.12%' '10.96%' '10.33%' '10.01%'\n",
      " '12.86%' '11.28%' '11.59%' '8.63%' '12.54%' '12.22%' '11.91%' '15.38%'\n",
      " '16.96%' '13.17%' '9.70%' '16.33%' '14.75%' '15.07%' '16.01%' '10.71%'\n",
      " '10.64%' '9.76%' '11.34%' '10.39%' '13.87%' '11.03%' '11.66%' '13.24%'\n",
      " '10.08%' '9.45%' '13.55%' '12.29%' '11.97%' '12.92%' '15.45%' '14.50%'\n",
      " '14.18%' '15.13%' '16.08%' '15.76%' '17.03%' '17.34%' '16.71%' '9.83%'\n",
      " '13.62%' '10.46%' '9.51%' '9.20%' '13.30%' '10.78%' '7.75%' '8.38%'\n",
      " '12.36%' '12.67%' '11.72%' '13.93%' '8.07%' '7.43%' '12.04%' '14.25%'\n",
      " '14.88%' '11.41%' '11.09%' '10.14%' '16.15%' '15.83%' '7.12%' '18.36%'\n",
      " '9.64%' '9.96%' '11.22%' '9.01%' '9.33%' '11.54%' '12.17%' '12.80%'\n",
      " '14.38%' '13.75%' '14.70%' '12.49%' '14.07%' '10.91%' '13.12%' '10.28%'\n",
      " '8.70%' '14.67%' '15.01%']\n",
      "installment\n",
      "[162.87  59.83  84.33 ...  78.42 275.38 255.43]\n",
      "grade\n",
      "['B' 'C' 'A' 'E' 'F' 'D' 'G']\n",
      "sub_grade\n",
      "['B2' 'C4' 'C5' 'C1' 'B5' 'A4' 'E1' 'F2' 'C3' 'B1' 'D1' 'A1' 'B3' 'B4'\n",
      " 'C2' 'D2' 'A3' 'A5' 'D5' 'A2' 'E4' 'D3' 'D4' 'F3' 'E3' 'F4' 'F1' 'E5'\n",
      " 'G4' 'E2' 'G3' 'G2' 'G1' 'F5' 'G5']\n",
      "emp_title\n",
      "[nan 'Ryder' 'AIR RESOURCES BOARD' ... 'FiSite Research'\n",
      " 'Squarewave Solutions, Ltd.' 'Evergreen Center']\n",
      "emp_length\n",
      "['10+ years' '< 1 year' '1 year' '3 years' '8 years' '9 years' '4 years'\n",
      " '5 years' '6 years' '2 years' '7 years' nan]\n",
      "home_ownership\n",
      "['RENT' 'OWN' 'MORTGAGE' 'OTHER' 'NONE']\n",
      "annual_inc\n",
      "[24000. 30000. 12252. ... 33990. 36153. 27376.]\n",
      "verification_status\n",
      "['Verified' 'Source Verified' 'Not Verified']\n",
      "issue_d\n",
      "['Dec-11' 'Nov-11' 'Oct-11' 'Sep-11' 'Aug-11' 'Jul-11' 'Jun-11' 'May-11'\n",
      " 'Apr-11' 'Mar-11' 'Feb-11' 'Jan-11' 'Dec-10' 'Nov-10' 'Oct-10' 'Sep-10'\n",
      " 'Aug-10' 'Jul-10' 'Jun-10' 'May-10' 'Apr-10' 'Mar-10' 'Feb-10' 'Jan-10'\n",
      " 'Dec-09' 'Nov-09' 'Oct-09' 'Sep-09' 'Aug-09' 'Jul-09' 'Jun-09' 'May-09'\n",
      " 'Apr-09' 'Mar-09' 'Feb-09' 'Jan-09' 'Dec-08' 'Nov-08' 'Oct-08' 'Sep-08'\n",
      " 'Aug-08' 'Jul-08' 'Jun-08' 'May-08' 'Apr-08' 'Mar-08' 'Feb-08' 'Jan-08'\n",
      " 'Dec-07' 'Nov-07' 'Oct-07' 'Sep-07' 'Aug-07' 'Jul-07' 'Jun-07']\n",
      "loan_status\n",
      "['Fully Paid' 'Charged Off' 'Current']\n",
      "pymnt_plan\n",
      "['n']\n",
      "url\n",
      "['https://lendingclub.com/browse/loanDetail.action?loan_id=1077501'\n",
      " 'https://lendingclub.com/browse/loanDetail.action?loan_id=1077430'\n",
      " 'https://lendingclub.com/browse/loanDetail.action?loan_id=1077175' ...\n",
      " 'https://lendingclub.com/browse/loanDetail.action?loan_id=90395'\n",
      " 'https://lendingclub.com/browse/loanDetail.action?loan_id=90376'\n",
      " 'https://lendingclub.com/browse/loanDetail.action?loan_id=87023']\n",
      "desc\n",
      "['  Borrower added on 12/22/11 > I need to upgrade my business technologies.<br>'\n",
      " '  Borrower added on 12/22/11 > I plan to use this money to finance the motorcycle i am looking at. I plan to have it paid off as soon as possible/when i sell my old bike. I only need this money because the deal im looking at is to good to pass up.<br><br>  Borrower added on 12/22/11 > I plan to use this money to finance the motorcycle i am looking at. I plan to have it paid off as soon as possible/when i sell my old bike.I only need this money because the deal im looking at is to good to pass up. I have finished college with an associates degree in business and its takingmeplaces<br>'\n",
      " nan ...\n",
      " 'Our current gutter system on our home is old and in need of repair.    We will be using the borrowed funds to replace the gutter system on our home.'\n",
      " 'The rate of interest and fees incurred by carrying a balance on my credit card are so outrageous at this point that continuing to pay them is patently bad financial thinking.  I wish to redirect my efforts at retiring my debt via another more-reasonable means.    I have sufficient funds to direct to this end on a monthly basis, and have simply gotten tired of their being gobbled up by interest and fees.'\n",
      " 'I plan to consolidate over $7,000 of debt: a combination of credit cards and student loans.']\n",
      "purpose\n",
      "['credit_card' 'car' 'small_business' 'other' 'wedding'\n",
      " 'debt_consolidation' 'home_improvement' 'major_purchase' 'medical'\n",
      " 'moving' 'vacation' 'house' 'renewable_energy' 'educational']\n",
      "zip_code\n",
      "['860xx' '309xx' '606xx' '917xx' '972xx' '852xx' '280xx' '900xx' '958xx'\n",
      " '774xx' '853xx' '913xx' '245xx' '951xx' '641xx' '921xx' '067xx' '890xx'\n",
      " '770xx' '335xx' '799xx' '605xx' '103xx' '150xx' '326xx' '564xx' '141xx'\n",
      " '080xx' '330xx' '974xx' '934xx' '405xx' '946xx' '445xx' '850xx' '604xx'\n",
      " '292xx' '088xx' '180xx' '029xx' '700xx' '010xx' '441xx' '104xx' '061xx'\n",
      " '616xx' '947xx' '914xx' '765xx' '980xx' '017xx' '752xx' '787xx' '077xx'\n",
      " '540xx' '225xx' '440xx' '437xx' '559xx' '912xx' '325xx' '300xx' '923xx'\n",
      " '352xx' '013xx' '146xx' '074xx' '786xx' '937xx' '331xx' '115xx' '191xx'\n",
      " '114xx' '908xx' '902xx' '992xx' '750xx' '950xx' '329xx' '226xx' '614xx'\n",
      " '802xx' '672xx' '083xx' '100xx' '926xx' '931xx' '712xx' '060xx' '707xx'\n",
      " '342xx' '895xx' '430xx' '919xx' '996xx' '891xx' '935xx' '801xx' '928xx'\n",
      " '233xx' '927xx' '970xx' '211xx' '303xx' '070xx' '194xx' '263xx' '403xx'\n",
      " '301xx' '553xx' '993xx' '312xx' '432xx' '602xx' '216xx' '151xx' '971xx'\n",
      " '305xx' '334xx' '050xx' '129xx' '925xx' '483xx' '760xx' '961xx' '200xx'\n",
      " '085xx' '981xx' '601xx' '117xx' '063xx' '920xx' '543xx' '775xx' '570xx'\n",
      " '038xx' '221xx' '985xx' '113xx' '275xx' '236xx' '148xx' '028xx' '450xx'\n",
      " '532xx' '729xx' '321xx' '959xx' '941xx' '955xx' '217xx' '880xx' '660xx'\n",
      " '062xx' '193xx' '761xx' '857xx' '306xx' '271xx' '142xx' '956xx' '983xx'\n",
      " '945xx' '109xx' '112xx' '187xx' '630xx' '435xx' '488xx' '287xx' '705xx'\n",
      " '592xx' '318xx' '549xx' '212xx' '347xx' '274xx' '265xx' '785xx' '027xx'\n",
      " '089xx' '813xx' '069xx' '260xx' '201xx' '349xx' '322xx' '075xx' '124xx'\n",
      " '940xx' '967xx' '111xx' '773xx' '997xx' '076xx' '538xx' '021xx' '304xx'\n",
      " '234xx' '308xx' '809xx' '071xx' '363xx' '296xx' '240xx' '830xx' '011xx'\n",
      " '622xx' '207xx' '140xx' '336xx' '619xx' '208xx' '618xx' '014xx' '644xx'\n",
      " '283xx' '276xx' '631xx' '243xx' '960xx' '181xx' '922xx' '224xx' '975xx'\n",
      " '105xx' '986xx' '218xx' '652xx' '782xx' '410xx' '480xx' '328xx' '719xx'\n",
      " '982xx' '065xx' '081xx' '954xx' '346xx' '442xx' '025xx' '122xx' '173xx'\n",
      " '282xx' '120xx' '082xx' '766xx' '229xx' '840xx' '744xx' '933xx' '451xx'\n",
      " '907xx' '728xx' '159xx' '333xx' '293xx' '701xx' '984xx' '811xx' '597xx'\n",
      " '957xx' '165xx' '720xx' '119xx' '359xx' '195xx' '084xx' '969xx' '924xx'\n",
      " '531xx' '716xx' '337xx' '841xx' '323xx' '740xx' '179xx' '805xx' '285xx'\n",
      " '551xx' '658xx' '944xx' '232xx' '905xx' '600xx' '327xx' '711xx' '906xx'\n",
      " '444xx' '856xx' '777xx' '072xx' '554xx' '145xx' '537xx' '152xx' '847xx'\n",
      " '295xx' '829xx' '320xx' '131xx' '939xx' '572xx' '281xx' '064xx' '550xx'\n",
      " '078xx' '452xx' '778xx' '313xx' '851xx' '784xx' '804xx' '571xx' '210xx'\n",
      " '988xx' '400xx' '995xx' '023xx' '158xx' '657xx' '016xx' '019xx' '290xx'\n",
      " '190xx' '366xx' '066xx' '991xx' '968xx' '721xx' '439xx' '640xx' '546xx'\n",
      " '024xx' '751xx' '431xx' '741xx' '904xx' '156xx' '316xx' '299xx' '087xx'\n",
      " '739xx' '949xx' '261xx' '073xx' '222xx' '244xx' '617xx' '018xx' '286xx'\n",
      " '759xx' '952xx' '930xx' '911xx' '220xx' '731xx' '730xx' '262xx' '338xx'\n",
      " '160xx' '031xx' '054xx' '223xx' '272xx' '882xx' '557xx' '797xx' '725xx'\n",
      " '130xx' '030xx' '206xx' '324xx' '170xx' '291xx' '161xx' '647xx' '916xx'\n",
      " '665xx' '209xx' '915xx' '110xx' '086xx' '484xx' '844xx' '020xx' '354xx'\n",
      " '448xx' '978xx' '757xx' '953xx' '577xx' '315xx' '664xx' '186xx' '182xx'\n",
      " '574xx' '800xx' '197xx' '137xx' '314xx' '755xx' '973xx' '603xx' '481xx'\n",
      " '780xx' '894xx' '341xx' '361xx' '178xx' '068xx' '565xx' '611xx' '288xx'\n",
      " '443xx' '662xx' '874xx' '560xx' '535xx' '499xx' '162xx' '756xx' '168xx'\n",
      " '827xx' '541xx' '615xx' '989xx' '037xx' '863xx' '339xx' '367xx' '273xx'\n",
      " '052xx' '623xx' '416xx' '648xx' '918xx' '436xx' '898xx' '674xx' '496xx'\n",
      " '294xx' '762xx' '128xx' '903xx' '932xx' '650xx' '246xx' '633xx' '666xx'\n",
      " '228xx' '015xx' '302xx' '573xx' '118xx' '998xx' '767xx' '490xx' '350xx'\n",
      " '591xx' '254xx' '566xx' '596xx' '637xx' '032xx' '763xx' '494xx' '402xx'\n",
      " '545xx' '184xx' '239xx' '977xx' '297xx' '284xx' '144xx' '748xx' '310xx'\n",
      " '147xx' '153xx' '544xx' '948xx' '576xx' '976xx' '107xx' '846xx' '344xx'\n",
      " '351xx' '754xx' '910xx' '656xx' '357xx' '791xx' '493xx' '855xx' '278xx'\n",
      " '125xx' '175xx' '530xx' '171xx' '703xx' '620xx' '438xx' '626xx' '307xx'\n",
      " '636xx' '319xx' '116xx' '645xx' '708xx' '816xx' '625xx' '133xx' '612xx'\n",
      " '238xx' '166xx' '231xx' '241xx' '826xx' '783xx' '793xx' '646xx' '188xx'\n",
      " '108xx' '653xx' '871xx' '057xx' '796xx' '990xx' '219xx' '724xx' '456xx'\n",
      " '214xx' '237xx' '737xx' '121xx' '199xx' '548xx' '453xx' '704xx' '368xx'\n",
      " '828xx' '598xx' '136xx' '610xx' '433xx' '722xx' '743xx' '810xx' '706xx'\n",
      " '235xx' '139xx' '613xx' '454xx' '317xx' '746xx' '446xx' '486xx' '033xx'\n",
      " '279xx' '407xx' '803xx' '794xx' '457xx' '189xx' '196xx' '539xx' '424xx'\n",
      " '492xx' '482xx' '667xx' '845xx' '608xx' '401xx' '362xx' '627xx' '717xx'\n",
      " '356xx' '607xx' '963xx' '198xx' '936xx' '713xx' '227xx' '883xx' '563xx'\n",
      " '893xx' '079xx' '806xx' '360xx' '172xx' '422xx' '768xx' '034xx' '735xx'\n",
      " '870xx' '012xx' '594xx' '215xx' '628xx' '749xx' '101xx' '814xx' '255xx'\n",
      " '745xx' '495xx' '132xx' '183xx' '864xx' '106xx' '663xx' '943xx' '094xx'\n",
      " '177xx' '365xx' '897xx' '776xx' '843xx' '458xx' '421xx' '253xx' '795xx'\n",
      " '727xx' '528xx' '270xx' '808xx' '277xx' '447xx' '358xx' '815xx' '250xx'\n",
      " '230xx' '790xx' '884xx' '242xx' '534xx' '404xx' '397xx' '434xx' '671xx'\n",
      " '655xx' '675xx' '053xx' '859xx' '126xx' '102xx' '256xx' '673xx' '489xx'\n",
      " '258xx' '423xx' '497xx' '788xx' '127xx' '176xx' '380xx' '058xx' '635xx'\n",
      " '498xx' '820xx' '599xx' '822xx' '638xx' '723xx' '449xx' '420xx' '157xx'\n",
      " '726xx' '185xx' '527xx' '298xx' '769xx' '257xx' '881xx' '575xx' '624xx'\n",
      " '134xx' '877xx' '781xx' '718xx' '670xx' '138xx' '026xx' '678xx' '398xx'\n",
      " '411xx' '149xx' '247xx' '875xx' '838xx' '651xx' '364xx' '203xx' '427xx'\n",
      " '629xx' '355xx' '174xx' '547xx' '567xx' '558xx' '135xx' '035xx' '999xx'\n",
      " '634xx' '455xx' '143xx' '154xx' '562xx' '779xx' '561xx' '734xx' '789xx'\n",
      " '812xx' '268xx' '051xx' '865xx' '406xx' '661xx' '758xx' '676xx' '491xx'\n",
      " '267xx' '609xx' '595xx' '259xx' '163xx' '264xx' '409xx' '376xx' '471xx'\n",
      " '375xx' '747xx' '123xx' '714xx' '590xx' '639xx' '412xx' '425xx' '022xx'\n",
      " '369xx' '164xx' '825xx' '266xx' '096xx' '487xx' '251xx' '593xx' '169xx'\n",
      " '413xx' '155xx' '764xx' '710xx' '408xx' '668xx' '056xx' '669xx' '167xx'\n",
      " '542xx' '679xx' '462xx' '792xx' '824xx' '249xx' '798xx' '370xx' '485xx'\n",
      " '654xx' '289xx' '807xx' '252xx' '556xx' '353xx' '677xx' '090xx' '371xx'\n",
      " '831xx' '736xx' '007xx' '332xx' '468xx' '461xx' '093xx' '248xx' '463xx'\n",
      " '391xx' '381xx' '415xx' '378xx' '414xx' '396xx' '836xx' '044xx' '392xx'\n",
      " '772xx' '374xx' '823xx' '395xx' '394xx' '965xx' '390xx' '388xx' '386xx'\n",
      " '040xx' '385xx' '379xx' '681xx' '837xx' '373xx' '753xx' '834xx' '383xx'\n",
      " '384xx' '372xx' '833xx' '522xx' '523xx' '474xx' '465xx' '689xx' '473xx'\n",
      " '041xx' '685xx' '479xx' '469xx']\n",
      "addr_state\n",
      "['AZ' 'GA' 'IL' 'CA' 'OR' 'NC' 'TX' 'VA' 'MO' 'CT' 'UT' 'FL' 'NY' 'PA'\n",
      " 'MN' 'NJ' 'KY' 'OH' 'SC' 'RI' 'LA' 'MA' 'WA' 'WI' 'AL' 'CO' 'KS' 'NV'\n",
      " 'AK' 'MD' 'WV' 'VT' 'MI' 'DC' 'SD' 'NH' 'AR' 'NM' 'MT' 'HI' 'WY' 'OK'\n",
      " 'DE' 'MS' 'TN' 'IA' 'NE' 'ID' 'IN' 'ME']\n",
      "dti\n",
      "[27.65  1.    8.72 ...  1.79  0.12 25.43]\n",
      "delinq_2yrs\n",
      "[ 0  2  3  1  4  6  5  8  7  9 11]\n",
      "earliest_cr_line\n",
      "['Jan-85' 'Apr-99' 'Nov-01' 'Feb-96' 'Jan-96' 'Nov-04' 'Jul-05' 'Jan-07'\n",
      " 'Apr-04' 'Sep-04' 'Jan-98' 'Oct-89' 'Jul-03' 'May-91' 'Sep-07' 'Oct-98'\n",
      " 'Aug-93' 'Oct-03' 'Jan-01' 'Nov-97' 'Feb-83' 'Jul-85' 'Apr-03' 'Jun-01'\n",
      " 'Feb-02' 'Aug-84' 'Nov-06' 'Dec-87' 'Nov-81' 'Feb-97' 'Apr-05' 'Oct-07'\n",
      " 'Dec-00' 'Apr-07' 'Dec-01' 'Jan-03' 'Mar-94' 'Sep-98' 'Jun-04' 'Nov-95'\n",
      " 'Jul-99' 'Jun-95' 'Sep-92' 'Jan-02' 'Apr-92' 'Oct-06' 'May-00' 'Dec-98'\n",
      " 'Dec-04' 'Oct-00' 'May-02' 'May-06' 'Jul-02' 'Jul-06' 'May-97' 'Oct-05'\n",
      " 'Apr-95' 'Oct-02' 'Jan-00' 'Apr-00' 'Dec-94' 'Sep-05' 'Dec-84' 'Dec-99'\n",
      " 'Nov-03' 'Jun-89' 'Jun-03' 'Oct-96' 'May-03' 'Jun-02' 'Jun-07' 'Dec-96'\n",
      " 'Feb-84' 'Sep-02' 'Jan-86' 'May-98' 'Jan-97' 'Jun-05' 'Feb-90' 'Mar-04'\n",
      " 'Jul-95' 'Aug-94' 'Jun-92' 'Mar-97' 'Apr-06' 'Apr-90' 'Aug-99' 'Sep-00'\n",
      " 'Feb-01' 'Dec-88' 'Feb-99' 'Dec-91' 'Aug-00' 'Oct-04' 'Aug-04' 'Feb-05'\n",
      " 'Nov-05' 'Nov-00' 'May-07' 'Jan-91' 'Jun-00' 'Aug-06' 'Dec-02' 'Jun-93'\n",
      " 'Jun-06' 'Feb-04' 'Dec-90' 'Mar-00' 'Feb-95' 'Jul-01' 'Apr-02' 'Sep-06'\n",
      " 'May-99' 'Aug-98' 'Dec-05' 'May-04' 'Oct-01' 'Jun-83' 'Mar-86' 'Apr-80'\n",
      " 'Jul-04' 'Jul-08' 'May-96' 'Jan-04' 'Nov-02' 'Aug-02' 'Aug-01' 'Mar-91'\n",
      " 'Sep-89' 'Sep-94' 'Sep-03' 'Sep-99' 'Aug-05' 'Dec-86' 'Nov-98' 'Feb-06'\n",
      " 'May-94' 'Nov-07' 'Feb-93' 'Nov-91' 'May-05' 'Dec-73' 'May-01' 'Mar-90'\n",
      " 'Mar-96' 'Oct-79' 'Jun-81' 'Mar-01' 'Apr-01' 'Jun-99' 'Nov-93' 'Jan-06'\n",
      " 'Dec-97' 'Nov-94' 'Jul-97' 'Oct-91' 'Jun-94' 'Mar-06' 'Sep-96' 'Apr-91'\n",
      " 'Jul-93' 'Jan-95' 'Sep-87' 'Mar-03' 'Oct-99' 'Jul-96' 'Dec-03' 'Aug-88'\n",
      " 'Jan-92' 'Mar-98' 'Feb-07' 'Aug-82' 'Mar-95' 'Dec-92' 'Jul-98' 'Jul-89'\n",
      " 'May-90' 'Jul-94' 'Sep-01' 'Mar-84' 'Aug-03' 'Nov-99' 'Mar-07' 'Mar-08'\n",
      " 'Apr-94' 'Jan-05' 'Jul-86' 'Aug-90' 'May-92' 'Jul-00' 'Mar-88' 'May-83'\n",
      " 'Apr-93' 'Jul-78' 'Feb-00' 'Dec-81' 'Mar-92' 'Jan-81' 'Sep-90' 'Jun-98'\n",
      " 'May-93' 'Nov-96' 'Mar-02' 'Jan-88' 'Aug-97' 'Aug-87' 'Aug-08' 'Oct-94'\n",
      " 'Oct-86' 'Feb-94' 'Jun-96' 'Feb-98' 'Nov-08' 'Apr-98' 'Jul-79' 'Jan-93'\n",
      " 'May-87' 'Jul-71' 'Aug-07' 'Jun-97' 'Mar-80' 'Dec-06' 'Jul-07' 'Oct-95'\n",
      " 'Jul-91' 'Jul-92' 'Dec-72' 'Dec-93' 'Jan-99' 'Feb-03' 'Apr-97' 'Dec-95'\n",
      " 'Apr-96' 'Jul-90' 'Mar-70' 'Nov-84' 'Apr-84' 'Jul-84' 'Aug-95' 'Mar-99'\n",
      " 'Sep-88' 'Mar-89' 'Mar-87' 'Oct-97' 'Dec-80' 'Jan-94' 'Sep-95' 'Mar-05'\n",
      " 'Jan-89' 'Feb-92' 'Jan-90' 'Nov-90' 'Mar-69' 'Jun-75' 'Mar-85' 'Dec-07'\n",
      " 'Oct-93' 'Dec-89' 'Sep-80' 'Jun-88' 'May-78' 'Apr-73' 'Aug-89' 'Oct-90'\n",
      " 'Sep-91' 'Feb-82' 'Feb-87' 'Nov-85' 'Jan-84' 'Jul-88' 'May-08' 'Oct-85'\n",
      " 'Mar-83' 'Aug-91' 'Sep-86' 'Jun-90' 'Feb-86' 'Sep-97' 'Jun-84' 'Sep-81'\n",
      " 'Apr-86' 'Aug-79' 'Aug-80' 'Nov-92' 'Sep-93' 'Jun-87' 'Sep-82' 'Aug-92'\n",
      " 'Aug-85' 'Jul-83' 'Jun-91' 'Dec-83' 'Jan-87' 'Nov-78' 'Oct-84' 'Aug-96'\n",
      " 'Nov-89' 'Sep-76' 'Nov-86' 'Oct-87' 'Sep-08' 'May-77' 'May-86' 'Mar-81'\n",
      " 'Jan-83' 'Nov-76' 'Sep-79' 'Oct-83' 'Sep-62' 'Jun-85' 'May-82' 'Feb-88'\n",
      " 'Oct-92' 'Aug-83' 'Jun-73' 'Apr-85' 'Oct-88' 'Oct-81' 'Sep-68' 'Jul-74'\n",
      " 'Nov-87' 'May-95' 'Feb-91' 'Nov-88' 'Mar-93' 'Jun-08' 'Jul-80' 'Dec-82'\n",
      " 'Mar-75' 'Feb-80' 'Apr-88' 'Dec-79' 'Sep-85' 'Sep-71' 'Mar-78' 'Feb-08'\n",
      " 'Aug-78' 'Nov-70' 'Jun-79' 'Jun-80' 'Apr-89' 'Sep-83' 'Feb-89' 'Nov-83'\n",
      " 'Jun-86' 'Oct-82' 'Aug-86' 'Oct-80' 'May-88' 'Dec-85' 'Jan-82' 'Sep-77'\n",
      " 'Dec-76' 'Apr-82' 'May-84' 'Apr-08' 'Feb-79' 'Jan-08' 'Sep-64' 'Jul-87'\n",
      " 'Jan-78' 'May-89' 'Oct-77' 'Dec-75' 'Feb-85' 'Oct-08' 'Nov-82' 'May-75'\n",
      " 'May-85' 'Feb-71' 'Jun-77' 'Apr-81' 'May-79' 'Jan-72' 'Sep-67' 'Apr-78'\n",
      " 'Feb-65' 'Apr-83' 'Nov-75' 'Jun-67' 'Mar-74' 'Jul-72' 'Aug-67' 'Apr-71'\n",
      " 'Sep-84' 'May-81' 'Dec-70' 'Oct-73' 'Jan-71' 'Dec-63' 'Apr-74' 'Jan-80'\n",
      " 'Aug-69' 'Apr-75' 'Jul-77' 'Mar-77' 'Nov-69' 'Jan-76' 'Mar-82' 'Apr-87'\n",
      " 'Dec-69' 'May-74' 'Aug-74' 'Jun-72' 'Mar-63' 'Nov-79' 'Aug-75' 'Sep-74'\n",
      " 'Aug-81' 'May-73' 'Sep-73' 'Mar-73' 'Dec-77' 'Oct-76' 'Jan-74' 'Jan-70'\n",
      " 'Aug-68' 'Feb-76' 'Jan-75' 'Oct-72' 'Dec-74' 'Feb-73' 'Nov-65' 'Mar-72'\n",
      " 'Jun-82' 'Jun-74' 'May-65' 'Jun-71' 'Oct-70' 'Apr-76' 'Oct-71' 'Apr-77'\n",
      " 'Sep-78' 'Oct-78' 'Oct-54' 'Feb-81' 'Jan-77' 'Aug-77' 'Dec-78' 'Aug-76'\n",
      " 'Jun-68' 'Jun-78' 'Jun-69' 'May-80' 'Jan-79' 'Oct-65' 'Nov-74' 'Apr-66'\n",
      " 'Jun-76' 'Feb-72' 'May-76' 'Mar-68' 'Mar-76' 'Jul-70' 'Mar-79' 'Jul-76'\n",
      " 'Jul-82' 'Sep-65' 'Apr-67' 'Oct-63' 'Feb-70' 'Jul-73' 'Feb-78' 'Nov-71'\n",
      " 'Aug-72' 'Jul-75' 'Sep-70' 'Jul-81' 'Oct-64' 'Sep-72' 'May-70' 'May-63'\n",
      " 'Feb-69' 'Nov-80' 'Jul-67' 'Apr-70' 'Nov-77' 'Nov-66' 'May-71' 'Apr-79'\n",
      " 'May-72' 'Feb-68' 'Jul-64' 'Nov-67' 'Apr-64' 'Feb-75' 'Jun-59' 'Sep-56'\n",
      " 'Jun-66' 'Jan-46' 'Mar-66' 'Jan-63' 'Dec-50' 'Jul-69' 'Jan-68' 'Nov-73'\n",
      " 'Jun-70' 'Feb-77' 'Feb-74' 'Jan-73' 'Feb-66' 'Dec-61' 'Aug-73' 'Aug-70'\n",
      " 'Sep-69' 'Sep-75' 'Dec-68' 'Nov-54' 'Oct-69' 'Dec-65' 'Apr-72' 'Nov-72'\n",
      " 'Sep-63' 'Apr-69' 'Nov-62' 'Oct-67' 'May-67' 'Nov-61' 'Feb-67' 'Nov-68'\n",
      " 'Oct-75' 'Mar-71' 'Aug-71' 'Dec-66' 'Oct-68' 'Oct-74']\n",
      "inq_last_6mths\n",
      "[1 5 2 0 3 4 6 7 8]\n",
      "open_acc\n",
      "[ 3  2 10 15  9  7  4 11 14 12 20  8  6 17  5 13 16 30 21 18 19 27 23 34\n",
      " 25 22 24 26 32 28 29 33 31 39 35 36 38 44 41 42]\n",
      "pub_rec\n",
      "[0 1 2 3 4]\n",
      "revol_bal\n",
      "[13648  1687  2956 ... 27185 66033 85607]\n",
      "revol_util\n",
      "['83.70%' '9.40%' '98.50%' ... '49.63%' '0.04%' '7.28%']\n",
      "total_acc\n",
      "[ 9  4 10 37 38 12 11 13  3 23 34 29 28 42 14 22 21 17  7 31 44 26 16  6\n",
      " 18 27 24 25 40 35  8 20 15 19 36 51 32 30 33 46  5 61 56 50 41 39 79 62\n",
      " 43 47 53 45 60 55 52 58 54 57 49 63 48 59 77 87 75 72 64 67 78 76 74 66\n",
      " 81 90 80 71 69 73 70 68 65  2]\n",
      "initial_list_status\n",
      "['f']\n",
      "out_prncp\n",
      "[   0.    524.06 1849.1  ...   19.12   13.28   79.24]\n",
      "out_prncp_inv\n",
      "[   0.    524.06 1844.43 ...   19.09   13.28   79.24]\n",
      "total_pymnt\n",
      "[5863.155187 1008.71     3005.666844 ... 5272.161128 5174.198551\n",
      " 9195.263334]\n",
      "total_pymnt_inv\n",
      "[5833.84 1008.71 3005.67 ... 1397.12  672.66  980.83]\n",
      "total_rec_prncp\n",
      "[ 5000.     456.46  2400.   ...  2886.21   544.02 16077.42]\n",
      "total_rec_int\n",
      "[ 863.16  435.17  605.67 ... 1413.49  174.2  1695.26]\n",
      "total_rec_late_fee\n",
      "[ 0.         16.97       15.00000003 ...  1.69        1.36\n",
      " 19.89      ]\n",
      "recoveries\n",
      "[  0.   117.08 189.06 ... 304.2   35.7   21.29]\n",
      "collection_recovery_fee\n",
      "[0.0000e+00 1.1100e+00 2.0900e+00 ... 6.6836e+02 4.4425e+02 2.3000e-01]\n",
      "last_pymnt_d\n",
      "['Jan-15' 'Apr-13' 'Jun-14' 'May-16' 'Apr-12' 'Nov-12' 'Jun-13' 'Sep-13'\n",
      " 'Jul-12' 'Oct-13' 'May-13' 'Feb-15' 'Aug-15' 'Oct-12' 'Sep-12' nan\n",
      " 'Dec-12' 'Dec-14' 'Aug-13' 'Nov-13' 'Jan-14' 'Apr-14' 'Aug-14' 'Oct-14'\n",
      " 'Aug-12' 'Jul-14' 'Jul-13' 'Jan-16' 'Feb-16' 'Apr-15' 'Feb-14' 'Sep-14'\n",
      " 'Jun-12' 'Feb-13' 'Mar-13' 'May-14' 'Mar-15' 'Jan-13' 'Dec-13' 'Feb-12'\n",
      " 'Mar-14' 'Sep-15' 'Nov-15' 'Mar-16' 'Jan-12' 'Oct-15' 'Nov-14' 'Mar-12'\n",
      " 'May-12' 'Apr-16' 'Dec-15' 'Jun-15' 'May-15' 'Jul-15' 'Dec-11' 'Nov-11'\n",
      " 'Oct-11' 'Sep-11' 'Aug-11' 'Jul-11' 'Jun-11' 'May-11' 'Apr-11' 'Mar-11'\n",
      " 'Feb-11' 'Jan-11' 'Dec-10' 'Nov-10' 'Oct-10' 'Sep-10' 'Aug-10' 'Jul-10'\n",
      " 'Jun-10' 'May-10' 'Apr-10' 'Mar-10' 'Feb-10' 'Jan-10' 'Dec-09' 'Nov-09'\n",
      " 'Oct-09' 'Sep-09' 'Aug-09' 'Jul-09' 'Jun-09' 'May-09' 'Apr-09' 'Mar-09'\n",
      " 'Feb-09' 'Jan-09' 'Dec-08' 'Oct-08' 'Aug-08' 'Jul-08' 'Sep-08' 'Jun-08'\n",
      " 'May-08' 'Nov-08' 'Apr-08' 'Mar-08' 'Feb-08' 'Jan-08']\n",
      "last_pymnt_amnt\n",
      "[171.62 119.66 649.91 ...  80.9  281.94 256.59]\n",
      "last_credit_pull_d\n",
      "['May-16' 'Sep-13' 'Apr-16' 'Jan-16' 'Dec-14' 'Aug-12' 'Mar-13' 'Dec-15'\n",
      " 'Aug-13' 'Nov-12' 'Mar-14' 'Apr-15' 'May-14' 'Jul-15' 'Feb-16' 'Mar-16'\n",
      " 'Sep-12' 'May-13' 'Jan-15' 'Jun-12' 'Mar-15' 'Dec-12' 'Sep-14' 'Feb-14'\n",
      " 'Jun-15' 'Oct-13' 'Apr-14' 'Oct-14' 'Feb-13' 'Nov-15' 'Jul-14' 'Sep-15'\n",
      " 'Oct-12' 'Nov-13' 'Nov-14' 'Feb-12' 'Oct-15' 'Apr-12' 'Aug-15' 'Jun-14'\n",
      " 'Jan-12' 'Aug-14' 'Jun-13' 'Dec-13' 'May-12' 'Jul-12' 'Jan-14' 'Jul-13'\n",
      " 'Apr-13' 'May-15' 'Feb-15' 'Mar-12' 'Nov-11' 'Dec-11' 'Jan-13' 'Oct-11'\n",
      " 'Sep-11' 'Aug-11' 'Jul-11' 'Jun-11' 'May-11' 'Apr-11' 'Mar-11' 'Feb-11'\n",
      " 'Jan-11' 'Dec-10' 'Nov-10' 'Oct-10' nan 'Sep-10' 'Aug-10' 'Jul-10'\n",
      " 'Jun-10' 'May-10' 'Apr-10' 'Feb-10' 'Mar-10' 'Aug-07' 'Jan-10' 'Dec-09'\n",
      " 'Nov-09' 'Oct-09' 'Sep-09' 'Jul-09' 'Aug-09' 'May-09' 'Jun-09' 'Apr-09'\n",
      " 'Mar-09' 'Feb-09' 'Jan-09' 'Dec-08' 'Jun-08' 'Sep-08' 'May-08' 'Aug-08'\n",
      " 'Mar-08' 'Oct-08' 'Feb-08' 'Jan-08' 'Dec-07' 'Jul-08' 'Oct-07' 'Sep-07'\n",
      " 'Jun-07' 'May-07' 'Jul-07']\n",
      "collections_12_mths_ex_med\n",
      "[ 0. nan]\n",
      "policy_code\n",
      "[1]\n",
      "application_type\n",
      "['INDIVIDUAL']\n",
      "acc_now_delinq\n",
      "[0]\n",
      "chargeoff_within_12_mths\n",
      "[ 0. nan]\n",
      "delinq_amnt\n",
      "[0]\n",
      "pub_rec_bankruptcies\n",
      "[ 0.  1.  2. nan]\n",
      "tax_liens\n",
      "[ 0. nan]\n"
     ]
    }
   ],
   "source": [
    "for i in df_new1.columns:\n",
    "    print(i)\n",
    "    print(df_new[i].unique())"
   ]
  },
  {
   "cell_type": "code",
   "execution_count": 496,
   "id": "172a0ab5",
   "metadata": {},
   "outputs": [
    {
     "data": {
      "text/html": [
       "<div>\n",
       "<style scoped>\n",
       "    .dataframe tbody tr th:only-of-type {\n",
       "        vertical-align: middle;\n",
       "    }\n",
       "\n",
       "    .dataframe tbody tr th {\n",
       "        vertical-align: top;\n",
       "    }\n",
       "\n",
       "    .dataframe thead th {\n",
       "        text-align: right;\n",
       "    }\n",
       "</style>\n",
       "<table border=\"1\" class=\"dataframe\">\n",
       "  <thead>\n",
       "    <tr style=\"text-align: right;\">\n",
       "      <th></th>\n",
       "      <th>desc</th>\n",
       "      <th>revol_util</th>\n",
       "    </tr>\n",
       "  </thead>\n",
       "  <tbody>\n",
       "    <tr>\n",
       "      <th>3565</th>\n",
       "      <td>NaN</td>\n",
       "      <td>NaN</td>\n",
       "    </tr>\n",
       "    <tr>\n",
       "      <th>4714</th>\n",
       "      <td>NaN</td>\n",
       "      <td>NaN</td>\n",
       "    </tr>\n",
       "    <tr>\n",
       "      <th>4943</th>\n",
       "      <td>NaN</td>\n",
       "      <td>NaN</td>\n",
       "    </tr>\n",
       "    <tr>\n",
       "      <th>11282</th>\n",
       "      <td>NaN</td>\n",
       "      <td>NaN</td>\n",
       "    </tr>\n",
       "    <tr>\n",
       "      <th>12042</th>\n",
       "      <td>NaN</td>\n",
       "      <td>NaN</td>\n",
       "    </tr>\n",
       "    <tr>\n",
       "      <th>12147</th>\n",
       "      <td>NaN</td>\n",
       "      <td>NaN</td>\n",
       "    </tr>\n",
       "    <tr>\n",
       "      <th>13891</th>\n",
       "      <td>NaN</td>\n",
       "      <td>NaN</td>\n",
       "    </tr>\n",
       "    <tr>\n",
       "      <th>17985</th>\n",
       "      <td>NaN</td>\n",
       "      <td>NaN</td>\n",
       "    </tr>\n",
       "    <tr>\n",
       "      <th>18184</th>\n",
       "      <td>NaN</td>\n",
       "      <td>NaN</td>\n",
       "    </tr>\n",
       "    <tr>\n",
       "      <th>21604</th>\n",
       "      <td>Borrower added on 12/29/10 &gt; I am consolidat...</td>\n",
       "      <td>NaN</td>\n",
       "    </tr>\n",
       "    <tr>\n",
       "      <th>24663</th>\n",
       "      <td>NaN</td>\n",
       "      <td>NaN</td>\n",
       "    </tr>\n",
       "    <tr>\n",
       "      <th>24738</th>\n",
       "      <td>Borrower added on 10/11/10 &gt; Fix My Truck-Tr...</td>\n",
       "      <td>NaN</td>\n",
       "    </tr>\n",
       "    <tr>\n",
       "      <th>24984</th>\n",
       "      <td>Borrower added on 09/30/10 &gt; I am currently ne...</td>\n",
       "      <td>NaN</td>\n",
       "    </tr>\n",
       "    <tr>\n",
       "      <th>25261</th>\n",
       "      <td>Borrower added on 09/27/10 &gt; I plan on using...</td>\n",
       "      <td>NaN</td>\n",
       "    </tr>\n",
       "    <tr>\n",
       "      <th>25977</th>\n",
       "      <td>NaN</td>\n",
       "      <td>NaN</td>\n",
       "    </tr>\n",
       "    <tr>\n",
       "      <th>26649</th>\n",
       "      <td>Borrower added on 08/17/10 &gt; Temporary and I...</td>\n",
       "      <td>NaN</td>\n",
       "    </tr>\n",
       "    <tr>\n",
       "      <th>26724</th>\n",
       "      <td>NaN</td>\n",
       "      <td>NaN</td>\n",
       "    </tr>\n",
       "    <tr>\n",
       "      <th>26813</th>\n",
       "      <td>NaN</td>\n",
       "      <td>NaN</td>\n",
       "    </tr>\n",
       "    <tr>\n",
       "      <th>28170</th>\n",
       "      <td>Borrower added on 07/06/10 &gt; dental work tha...</td>\n",
       "      <td>NaN</td>\n",
       "    </tr>\n",
       "    <tr>\n",
       "      <th>28685</th>\n",
       "      <td>Borrower added on 06/21/10 &gt; I will be using...</td>\n",
       "      <td>NaN</td>\n",
       "    </tr>\n",
       "    <tr>\n",
       "      <th>28938</th>\n",
       "      <td>Borrower added on 06/11/10 &gt; We're purchasin...</td>\n",
       "      <td>NaN</td>\n",
       "    </tr>\n",
       "    <tr>\n",
       "      <th>28986</th>\n",
       "      <td>NaN</td>\n",
       "      <td>NaN</td>\n",
       "    </tr>\n",
       "    <tr>\n",
       "      <th>29236</th>\n",
       "      <td>NaN</td>\n",
       "      <td>NaN</td>\n",
       "    </tr>\n",
       "    <tr>\n",
       "      <th>29248</th>\n",
       "      <td>Borrower added on 06/03/10 &gt; My son had dent...</td>\n",
       "      <td>NaN</td>\n",
       "    </tr>\n",
       "    <tr>\n",
       "      <th>31862</th>\n",
       "      <td>Borrower added on 03/01/10 &gt; this loan will ...</td>\n",
       "      <td>NaN</td>\n",
       "    </tr>\n",
       "    <tr>\n",
       "      <th>31939</th>\n",
       "      <td>Borrower added on 02/24/10 &gt; I would like to...</td>\n",
       "      <td>NaN</td>\n",
       "    </tr>\n",
       "    <tr>\n",
       "      <th>32715</th>\n",
       "      <td>Borrower added on 01/21/10 &gt; I have a succes...</td>\n",
       "      <td>NaN</td>\n",
       "    </tr>\n",
       "    <tr>\n",
       "      <th>33078</th>\n",
       "      <td>Borrower added on 01/02/10 &gt; pay off owed re...</td>\n",
       "      <td>NaN</td>\n",
       "    </tr>\n",
       "    <tr>\n",
       "      <th>33490</th>\n",
       "      <td>NaN</td>\n",
       "      <td>NaN</td>\n",
       "    </tr>\n",
       "    <tr>\n",
       "      <th>33534</th>\n",
       "      <td></td>\n",
       "      <td>NaN</td>\n",
       "    </tr>\n",
       "    <tr>\n",
       "      <th>34268</th>\n",
       "      <td>562099 added on 10/23/09 &gt; Finishing my last ...</td>\n",
       "      <td>NaN</td>\n",
       "    </tr>\n",
       "    <tr>\n",
       "      <th>34849</th>\n",
       "      <td>I am trying to consolidate/eliminate a Bank of...</td>\n",
       "      <td>NaN</td>\n",
       "    </tr>\n",
       "    <tr>\n",
       "      <th>35851</th>\n",
       "      <td>This is paying for a trip I am taking to Europe</td>\n",
       "      <td>NaN</td>\n",
       "    </tr>\n",
       "    <tr>\n",
       "      <th>36209</th>\n",
       "      <td>To whom it may concern:  I am a 30-year-old n...</td>\n",
       "      <td>NaN</td>\n",
       "    </tr>\n",
       "    <tr>\n",
       "      <th>36473</th>\n",
       "      <td>I would like to borrow this amount to finish s...</td>\n",
       "      <td>NaN</td>\n",
       "    </tr>\n",
       "    <tr>\n",
       "      <th>36859</th>\n",
       "      <td>My historic home needs help. The 2-room \"new a...</td>\n",
       "      <td>NaN</td>\n",
       "    </tr>\n",
       "    <tr>\n",
       "      <th>37042</th>\n",
       "      <td>no note</td>\n",
       "      <td>NaN</td>\n",
       "    </tr>\n",
       "    <tr>\n",
       "      <th>37268</th>\n",
       "      <td>I am a well decorated, disabled Army veteran a...</td>\n",
       "      <td>NaN</td>\n",
       "    </tr>\n",
       "    <tr>\n",
       "      <th>37540</th>\n",
       "      <td>payoff assisted living expense of mother</td>\n",
       "      <td>NaN</td>\n",
       "    </tr>\n",
       "    <tr>\n",
       "      <th>37709</th>\n",
       "      <td>I'm finishing my undergraduate degree at Clark...</td>\n",
       "      <td>NaN</td>\n",
       "    </tr>\n",
       "    <tr>\n",
       "      <th>37757</th>\n",
       "      <td>Thank you for taking the time to read this.  M...</td>\n",
       "      <td>NaN</td>\n",
       "    </tr>\n",
       "    <tr>\n",
       "      <th>37778</th>\n",
       "      <td>I am requesting a loan for a retainer in a cu...</td>\n",
       "      <td>NaN</td>\n",
       "    </tr>\n",
       "    <tr>\n",
       "      <th>37911</th>\n",
       "      <td>$5000 Loan to consolidate debt.</td>\n",
       "      <td>NaN</td>\n",
       "    </tr>\n",
       "    <tr>\n",
       "      <th>38201</th>\n",
       "      <td>I am a Pastor of a small church in Independenc...</td>\n",
       "      <td>NaN</td>\n",
       "    </tr>\n",
       "    <tr>\n",
       "      <th>38457</th>\n",
       "      <td>I painted myself into a corner with post-divor...</td>\n",
       "      <td>NaN</td>\n",
       "    </tr>\n",
       "    <tr>\n",
       "      <th>38524</th>\n",
       "      <td>Want to purchase an older vehichle to use as ...</td>\n",
       "      <td>NaN</td>\n",
       "    </tr>\n",
       "    <tr>\n",
       "      <th>38899</th>\n",
       "      <td>Looking for a nice person to help me with some...</td>\n",
       "      <td>NaN</td>\n",
       "    </tr>\n",
       "    <tr>\n",
       "      <th>38917</th>\n",
       "      <td>My husband and I are looking for a loan to hel...</td>\n",
       "      <td>NaN</td>\n",
       "    </tr>\n",
       "    <tr>\n",
       "      <th>38949</th>\n",
       "      <td>My funding for graduate school does not get in...</td>\n",
       "      <td>NaN</td>\n",
       "    </tr>\n",
       "    <tr>\n",
       "      <th>38970</th>\n",
       "      <td>I would like to get a small loan to purchase a...</td>\n",
       "      <td>NaN</td>\n",
       "    </tr>\n",
       "  </tbody>\n",
       "</table>\n",
       "</div>"
      ],
      "text/plain": [
       "                                                    desc revol_util\n",
       "3565                                                 NaN        NaN\n",
       "4714                                                 NaN        NaN\n",
       "4943                                                 NaN        NaN\n",
       "11282                                                NaN        NaN\n",
       "12042                                                NaN        NaN\n",
       "12147                                                NaN        NaN\n",
       "13891                                                NaN        NaN\n",
       "17985                                                NaN        NaN\n",
       "18184                                                NaN        NaN\n",
       "21604    Borrower added on 12/29/10 > I am consolidat...        NaN\n",
       "24663                                                NaN        NaN\n",
       "24738    Borrower added on 10/11/10 > Fix My Truck-Tr...        NaN\n",
       "24984  Borrower added on 09/30/10 > I am currently ne...        NaN\n",
       "25261    Borrower added on 09/27/10 > I plan on using...        NaN\n",
       "25977                                                NaN        NaN\n",
       "26649    Borrower added on 08/17/10 > Temporary and I...        NaN\n",
       "26724                                                NaN        NaN\n",
       "26813                                                NaN        NaN\n",
       "28170    Borrower added on 07/06/10 > dental work tha...        NaN\n",
       "28685    Borrower added on 06/21/10 > I will be using...        NaN\n",
       "28938    Borrower added on 06/11/10 > We're purchasin...        NaN\n",
       "28986                                                NaN        NaN\n",
       "29236                                                NaN        NaN\n",
       "29248    Borrower added on 06/03/10 > My son had dent...        NaN\n",
       "31862    Borrower added on 03/01/10 > this loan will ...        NaN\n",
       "31939    Borrower added on 02/24/10 > I would like to...        NaN\n",
       "32715    Borrower added on 01/21/10 > I have a succes...        NaN\n",
       "33078    Borrower added on 01/02/10 > pay off owed re...        NaN\n",
       "33490                                                NaN        NaN\n",
       "33534                                                           NaN\n",
       "34268   562099 added on 10/23/09 > Finishing my last ...        NaN\n",
       "34849  I am trying to consolidate/eliminate a Bank of...        NaN\n",
       "35851    This is paying for a trip I am taking to Europe        NaN\n",
       "36209   To whom it may concern:  I am a 30-year-old n...        NaN\n",
       "36473  I would like to borrow this amount to finish s...        NaN\n",
       "36859  My historic home needs help. The 2-room \"new a...        NaN\n",
       "37042                                            no note        NaN\n",
       "37268  I am a well decorated, disabled Army veteran a...        NaN\n",
       "37540           payoff assisted living expense of mother        NaN\n",
       "37709  I'm finishing my undergraduate degree at Clark...        NaN\n",
       "37757  Thank you for taking the time to read this.  M...        NaN\n",
       "37778   I am requesting a loan for a retainer in a cu...        NaN\n",
       "37911                    $5000 Loan to consolidate debt.        NaN\n",
       "38201  I am a Pastor of a small church in Independenc...        NaN\n",
       "38457  I painted myself into a corner with post-divor...        NaN\n",
       "38524   Want to purchase an older vehichle to use as ...        NaN\n",
       "38899  Looking for a nice person to help me with some...        NaN\n",
       "38917  My husband and I are looking for a loan to hel...        NaN\n",
       "38949  My funding for graduate school does not get in...        NaN\n",
       "38970  I would like to get a small loan to purchase a...        NaN"
      ]
     },
     "execution_count": 496,
     "metadata": {},
     "output_type": "execute_result"
    }
   ],
   "source": [
    "\n",
    "df_new1[df_new1.revol_util.isnull()][['desc','revol_util']]"
   ]
  },
  {
   "cell_type": "markdown",
   "id": "02727fc9",
   "metadata": {},
   "source": [
    "# columns that doesnot add any value for analyis removing them"
   ]
  },
  {
   "cell_type": "code",
   "execution_count": 804,
   "id": "34a76ff0",
   "metadata": {},
   "outputs": [],
   "source": [
    "no_value_column = ['tax_liens','delinq_amnt','acc_now_delinq','collections_12_mths_ex_med','policy_code','initial_list_status','pymnt_plan','chargeoff_within_12_mths','desc','application_type']"
   ]
  },
  {
   "cell_type": "code",
   "execution_count": 805,
   "id": "26349951",
   "metadata": {},
   "outputs": [
    {
     "data": {
      "text/plain": [
       "10"
      ]
     },
     "execution_count": 805,
     "metadata": {},
     "output_type": "execute_result"
    }
   ],
   "source": [
    "len(no_value_column)"
   ]
  },
  {
   "cell_type": "code",
   "execution_count": 806,
   "id": "368e46ac",
   "metadata": {},
   "outputs": [],
   "source": [
    "df_new2= df_new1.drop(no_value_column,axis=1)"
   ]
  },
  {
   "cell_type": "code",
   "execution_count": 807,
   "id": "7768d404",
   "metadata": {},
   "outputs": [
    {
     "data": {
      "text/plain": [
       "(39717, 44)"
      ]
     },
     "execution_count": 807,
     "metadata": {},
     "output_type": "execute_result"
    }
   ],
   "source": [
    "df_new2.shape"
   ]
  },
  {
   "cell_type": "code",
   "execution_count": 808,
   "id": "44789670",
   "metadata": {},
   "outputs": [
    {
     "data": {
      "text/plain": [
       "1747548"
      ]
     },
     "execution_count": 808,
     "metadata": {},
     "output_type": "execute_result"
    }
   ],
   "source": [
    "df_new2.size"
   ]
  },
  {
   "cell_type": "code",
   "execution_count": 809,
   "id": "e285a16f",
   "metadata": {},
   "outputs": [
    {
     "data": {
      "text/html": [
       "<div>\n",
       "<style scoped>\n",
       "    .dataframe tbody tr th:only-of-type {\n",
       "        vertical-align: middle;\n",
       "    }\n",
       "\n",
       "    .dataframe tbody tr th {\n",
       "        vertical-align: top;\n",
       "    }\n",
       "\n",
       "    .dataframe thead th {\n",
       "        text-align: right;\n",
       "    }\n",
       "</style>\n",
       "<table border=\"1\" class=\"dataframe\">\n",
       "  <thead>\n",
       "    <tr style=\"text-align: right;\">\n",
       "      <th></th>\n",
       "      <th>id</th>\n",
       "      <th>member_id</th>\n",
       "      <th>loan_amnt</th>\n",
       "      <th>funded_amnt</th>\n",
       "      <th>funded_amnt_inv</th>\n",
       "      <th>term</th>\n",
       "      <th>int_rate</th>\n",
       "      <th>installment</th>\n",
       "      <th>grade</th>\n",
       "      <th>sub_grade</th>\n",
       "      <th>...</th>\n",
       "      <th>total_pymnt_inv</th>\n",
       "      <th>total_rec_prncp</th>\n",
       "      <th>total_rec_int</th>\n",
       "      <th>total_rec_late_fee</th>\n",
       "      <th>recoveries</th>\n",
       "      <th>collection_recovery_fee</th>\n",
       "      <th>last_pymnt_d</th>\n",
       "      <th>last_pymnt_amnt</th>\n",
       "      <th>last_credit_pull_d</th>\n",
       "      <th>pub_rec_bankruptcies</th>\n",
       "    </tr>\n",
       "  </thead>\n",
       "  <tbody>\n",
       "    <tr>\n",
       "      <th>0</th>\n",
       "      <td>1077501</td>\n",
       "      <td>1296599</td>\n",
       "      <td>5000</td>\n",
       "      <td>5000</td>\n",
       "      <td>4975.0</td>\n",
       "      <td>36 months</td>\n",
       "      <td>10.65%</td>\n",
       "      <td>162.87</td>\n",
       "      <td>B</td>\n",
       "      <td>B2</td>\n",
       "      <td>...</td>\n",
       "      <td>5833.84</td>\n",
       "      <td>5000.00</td>\n",
       "      <td>863.16</td>\n",
       "      <td>0.00</td>\n",
       "      <td>0.00</td>\n",
       "      <td>0.00</td>\n",
       "      <td>Jan-15</td>\n",
       "      <td>171.62</td>\n",
       "      <td>May-16</td>\n",
       "      <td>0.0</td>\n",
       "    </tr>\n",
       "    <tr>\n",
       "      <th>1</th>\n",
       "      <td>1077430</td>\n",
       "      <td>1314167</td>\n",
       "      <td>2500</td>\n",
       "      <td>2500</td>\n",
       "      <td>2500.0</td>\n",
       "      <td>60 months</td>\n",
       "      <td>15.27%</td>\n",
       "      <td>59.83</td>\n",
       "      <td>C</td>\n",
       "      <td>C4</td>\n",
       "      <td>...</td>\n",
       "      <td>1008.71</td>\n",
       "      <td>456.46</td>\n",
       "      <td>435.17</td>\n",
       "      <td>0.00</td>\n",
       "      <td>117.08</td>\n",
       "      <td>1.11</td>\n",
       "      <td>Apr-13</td>\n",
       "      <td>119.66</td>\n",
       "      <td>Sep-13</td>\n",
       "      <td>0.0</td>\n",
       "    </tr>\n",
       "    <tr>\n",
       "      <th>2</th>\n",
       "      <td>1077175</td>\n",
       "      <td>1313524</td>\n",
       "      <td>2400</td>\n",
       "      <td>2400</td>\n",
       "      <td>2400.0</td>\n",
       "      <td>36 months</td>\n",
       "      <td>15.96%</td>\n",
       "      <td>84.33</td>\n",
       "      <td>C</td>\n",
       "      <td>C5</td>\n",
       "      <td>...</td>\n",
       "      <td>3005.67</td>\n",
       "      <td>2400.00</td>\n",
       "      <td>605.67</td>\n",
       "      <td>0.00</td>\n",
       "      <td>0.00</td>\n",
       "      <td>0.00</td>\n",
       "      <td>Jun-14</td>\n",
       "      <td>649.91</td>\n",
       "      <td>May-16</td>\n",
       "      <td>0.0</td>\n",
       "    </tr>\n",
       "    <tr>\n",
       "      <th>3</th>\n",
       "      <td>1076863</td>\n",
       "      <td>1277178</td>\n",
       "      <td>10000</td>\n",
       "      <td>10000</td>\n",
       "      <td>10000.0</td>\n",
       "      <td>36 months</td>\n",
       "      <td>13.49%</td>\n",
       "      <td>339.31</td>\n",
       "      <td>C</td>\n",
       "      <td>C1</td>\n",
       "      <td>...</td>\n",
       "      <td>12231.89</td>\n",
       "      <td>10000.00</td>\n",
       "      <td>2214.92</td>\n",
       "      <td>16.97</td>\n",
       "      <td>0.00</td>\n",
       "      <td>0.00</td>\n",
       "      <td>Jan-15</td>\n",
       "      <td>357.48</td>\n",
       "      <td>Apr-16</td>\n",
       "      <td>0.0</td>\n",
       "    </tr>\n",
       "    <tr>\n",
       "      <th>4</th>\n",
       "      <td>1075358</td>\n",
       "      <td>1311748</td>\n",
       "      <td>3000</td>\n",
       "      <td>3000</td>\n",
       "      <td>3000.0</td>\n",
       "      <td>60 months</td>\n",
       "      <td>12.69%</td>\n",
       "      <td>67.79</td>\n",
       "      <td>B</td>\n",
       "      <td>B5</td>\n",
       "      <td>...</td>\n",
       "      <td>3513.33</td>\n",
       "      <td>2475.94</td>\n",
       "      <td>1037.39</td>\n",
       "      <td>0.00</td>\n",
       "      <td>0.00</td>\n",
       "      <td>0.00</td>\n",
       "      <td>May-16</td>\n",
       "      <td>67.79</td>\n",
       "      <td>May-16</td>\n",
       "      <td>0.0</td>\n",
       "    </tr>\n",
       "  </tbody>\n",
       "</table>\n",
       "<p>5 rows × 44 columns</p>\n",
       "</div>"
      ],
      "text/plain": [
       "        id  member_id  loan_amnt  funded_amnt  funded_amnt_inv        term  \\\n",
       "0  1077501    1296599       5000         5000           4975.0   36 months   \n",
       "1  1077430    1314167       2500         2500           2500.0   60 months   \n",
       "2  1077175    1313524       2400         2400           2400.0   36 months   \n",
       "3  1076863    1277178      10000        10000          10000.0   36 months   \n",
       "4  1075358    1311748       3000         3000           3000.0   60 months   \n",
       "\n",
       "  int_rate  installment grade sub_grade  ... total_pymnt_inv total_rec_prncp  \\\n",
       "0   10.65%       162.87     B        B2  ...         5833.84         5000.00   \n",
       "1   15.27%        59.83     C        C4  ...         1008.71          456.46   \n",
       "2   15.96%        84.33     C        C5  ...         3005.67         2400.00   \n",
       "3   13.49%       339.31     C        C1  ...        12231.89        10000.00   \n",
       "4   12.69%        67.79     B        B5  ...         3513.33         2475.94   \n",
       "\n",
       "  total_rec_int  total_rec_late_fee recoveries collection_recovery_fee  \\\n",
       "0        863.16                0.00       0.00                    0.00   \n",
       "1        435.17                0.00     117.08                    1.11   \n",
       "2        605.67                0.00       0.00                    0.00   \n",
       "3       2214.92               16.97       0.00                    0.00   \n",
       "4       1037.39                0.00       0.00                    0.00   \n",
       "\n",
       "  last_pymnt_d last_pymnt_amnt last_credit_pull_d pub_rec_bankruptcies  \n",
       "0       Jan-15          171.62             May-16                  0.0  \n",
       "1       Apr-13          119.66             Sep-13                  0.0  \n",
       "2       Jun-14          649.91             May-16                  0.0  \n",
       "3       Jan-15          357.48             Apr-16                  0.0  \n",
       "4       May-16           67.79             May-16                  0.0  \n",
       "\n",
       "[5 rows x 44 columns]"
      ]
     },
     "execution_count": 809,
     "metadata": {},
     "output_type": "execute_result"
    }
   ],
   "source": [
    "df_new2.head()"
   ]
  },
  {
   "cell_type": "code",
   "execution_count": 539,
   "id": "b77d524b",
   "metadata": {},
   "outputs": [
    {
     "data": {
      "text/plain": [
       "id                            0\n",
       "member_id                     0\n",
       "loan_amnt                     0\n",
       "funded_amnt                   0\n",
       "funded_amnt_inv               0\n",
       "term                          0\n",
       "int_rate                      0\n",
       "installment                   0\n",
       "grade                         0\n",
       "sub_grade                     0\n",
       "emp_title                  2459\n",
       "emp_length                 1075\n",
       "home_ownership                0\n",
       "annual_inc                    0\n",
       "verification_status           0\n",
       "issue_d                       0\n",
       "loan_status                   0\n",
       "url                           0\n",
       "purpose                       0\n",
       "zip_code                      0\n",
       "addr_state                    0\n",
       "dti                           0\n",
       "delinq_2yrs                   0\n",
       "earliest_cr_line              0\n",
       "inq_last_6mths                0\n",
       "open_acc                      0\n",
       "pub_rec                       0\n",
       "revol_bal                     0\n",
       "revol_util                   50\n",
       "total_acc                     0\n",
       "out_prncp                     0\n",
       "out_prncp_inv                 0\n",
       "total_pymnt                   0\n",
       "total_pymnt_inv               0\n",
       "total_rec_prncp               0\n",
       "total_rec_int                 0\n",
       "total_rec_late_fee            0\n",
       "recoveries                    0\n",
       "collection_recovery_fee       0\n",
       "last_pymnt_d                 71\n",
       "last_pymnt_amnt               0\n",
       "last_credit_pull_d            2\n",
       "application_type              0\n",
       "pub_rec_bankruptcies          0\n",
       "compare                    1849\n",
       "dtype: int64"
      ]
     },
     "execution_count": 539,
     "metadata": {},
     "output_type": "execute_result"
    }
   ],
   "source": [
    "df_new2.isnull().sum()"
   ]
  },
  {
   "cell_type": "code",
   "execution_count": 278,
   "id": "69bdb67e",
   "metadata": {},
   "outputs": [
    {
     "data": {
      "text/plain": [
       "id                             0\n",
       "member_id                      0\n",
       "loan_amnt                      0\n",
       "funded_amnt                    0\n",
       "funded_amnt_inv                0\n",
       "term                           0\n",
       "int_rate                       0\n",
       "installment                    0\n",
       "grade                          0\n",
       "sub_grade                      0\n",
       "emp_title                   2459\n",
       "emp_length                  1075\n",
       "home_ownership                 0\n",
       "annual_inc                     0\n",
       "verification_status            0\n",
       "issue_d                        0\n",
       "loan_status                    0\n",
       "url                            0\n",
       "purpose                        0\n",
       "zip_code                       0\n",
       "addr_state                     0\n",
       "dti                            0\n",
       "delinq_2yrs                    0\n",
       "earliest_cr_line               0\n",
       "inq_last_6mths                 0\n",
       "open_acc                       0\n",
       "pub_rec                        0\n",
       "revol_bal                      0\n",
       "revol_util                    50\n",
       "total_acc                      0\n",
       "out_prncp                      0\n",
       "out_prncp_inv                  0\n",
       "total_pymnt                    0\n",
       "total_pymnt_inv                0\n",
       "total_rec_prncp                0\n",
       "total_rec_int                  0\n",
       "total_rec_late_fee             0\n",
       "recoveries                     0\n",
       "collection_recovery_fee        0\n",
       "last_pymnt_d                  71\n",
       "last_pymnt_amnt                0\n",
       "last_credit_pull_d             2\n",
       "application_type               0\n",
       "chargeoff_within_12_mths       0\n",
       "pub_rec_bankruptcies           0\n",
       "dtype: int64"
      ]
     },
     "execution_count": 278,
     "metadata": {},
     "output_type": "execute_result"
    }
   ],
   "source": [
    "df_new2.isnull().sum()"
   ]
  },
  {
   "cell_type": "code",
   "execution_count": 280,
   "id": "37b93ab6",
   "metadata": {},
   "outputs": [
    {
     "data": {
      "text/plain": [
       "<AxesSubplot:>"
      ]
     },
     "execution_count": 280,
     "metadata": {},
     "output_type": "execute_result"
    },
    {
     "data": {
      "image/png": "[encoded data removed]",
      "text/plain": [
       "<Figure size 432x288 with 1 Axes>"
      ]
     },
     "metadata": {
      "needs_background": "light"
     },
     "output_type": "display_data"
    }
   ],
   "source": [
    "df_new2.emp_length.value_counts().plot.bar()"
   ]
  },
  {
   "cell_type": "code",
   "execution_count": 282,
   "id": "e2a2400a",
   "metadata": {},
   "outputs": [
    {
     "data": {
      "text/html": [
       "<div>\n",
       "<style scoped>\n",
       "    .dataframe tbody tr th:only-of-type {\n",
       "        vertical-align: middle;\n",
       "    }\n",
       "\n",
       "    .dataframe tbody tr th {\n",
       "        vertical-align: top;\n",
       "    }\n",
       "\n",
       "    .dataframe thead th {\n",
       "        text-align: right;\n",
       "    }\n",
       "</style>\n",
       "<table border=\"1\" class=\"dataframe\">\n",
       "  <thead>\n",
       "    <tr style=\"text-align: right;\">\n",
       "      <th></th>\n",
       "      <th>emp_title</th>\n",
       "      <th>emp_length</th>\n",
       "      <th>revol_util</th>\n",
       "      <th>last_pymnt_d</th>\n",
       "    </tr>\n",
       "  </thead>\n",
       "  <tbody>\n",
       "    <tr>\n",
       "      <th>0</th>\n",
       "      <td>NaN</td>\n",
       "      <td>10+ years</td>\n",
       "      <td>83.70%</td>\n",
       "      <td>Jan-15</td>\n",
       "    </tr>\n",
       "    <tr>\n",
       "      <th>1</th>\n",
       "      <td>Ryder</td>\n",
       "      <td>&lt; 1 year</td>\n",
       "      <td>9.40%</td>\n",
       "      <td>Apr-13</td>\n",
       "    </tr>\n",
       "    <tr>\n",
       "      <th>2</th>\n",
       "      <td>NaN</td>\n",
       "      <td>10+ years</td>\n",
       "      <td>98.50%</td>\n",
       "      <td>Jun-14</td>\n",
       "    </tr>\n",
       "    <tr>\n",
       "      <th>3</th>\n",
       "      <td>AIR RESOURCES BOARD</td>\n",
       "      <td>10+ years</td>\n",
       "      <td>21%</td>\n",
       "      <td>Jan-15</td>\n",
       "    </tr>\n",
       "    <tr>\n",
       "      <th>4</th>\n",
       "      <td>University Medical Group</td>\n",
       "      <td>1 year</td>\n",
       "      <td>53.90%</td>\n",
       "      <td>May-16</td>\n",
       "    </tr>\n",
       "  </tbody>\n",
       "</table>\n",
       "</div>"
      ],
      "text/plain": [
       "                  emp_title emp_length revol_util last_pymnt_d\n",
       "0                       NaN  10+ years     83.70%       Jan-15\n",
       "1                     Ryder   < 1 year      9.40%       Apr-13\n",
       "2                       NaN  10+ years     98.50%       Jun-14\n",
       "3       AIR RESOURCES BOARD  10+ years        21%       Jan-15\n",
       "4  University Medical Group     1 year     53.90%       May-16"
      ]
     },
     "execution_count": 282,
     "metadata": {},
     "output_type": "execute_result"
    }
   ],
   "source": [
    "df_new2[['emp_title','emp_length','revol_util','last_pymnt_d']].head()"
   ]
  },
  {
   "cell_type": "code",
   "execution_count": 283,
   "id": "c6e63456",
   "metadata": {},
   "outputs": [
    {
     "data": {
      "text/html": [
       "<div>\n",
       "<style scoped>\n",
       "    .dataframe tbody tr th:only-of-type {\n",
       "        vertical-align: middle;\n",
       "    }\n",
       "\n",
       "    .dataframe tbody tr th {\n",
       "        vertical-align: top;\n",
       "    }\n",
       "\n",
       "    .dataframe thead th {\n",
       "        text-align: right;\n",
       "    }\n",
       "</style>\n",
       "<table border=\"1\" class=\"dataframe\">\n",
       "  <thead>\n",
       "    <tr style=\"text-align: right;\">\n",
       "      <th></th>\n",
       "      <th>emp_title</th>\n",
       "      <th>emp_length</th>\n",
       "      <th>revol_util</th>\n",
       "      <th>last_pymnt_d</th>\n",
       "    </tr>\n",
       "  </thead>\n",
       "  <tbody>\n",
       "    <tr>\n",
       "      <th>39712</th>\n",
       "      <td>FiSite Research</td>\n",
       "      <td>4 years</td>\n",
       "      <td>13.10%</td>\n",
       "      <td>Jul-10</td>\n",
       "    </tr>\n",
       "    <tr>\n",
       "      <th>39713</th>\n",
       "      <td>Squarewave Solutions, Ltd.</td>\n",
       "      <td>3 years</td>\n",
       "      <td>26.90%</td>\n",
       "      <td>Jul-10</td>\n",
       "    </tr>\n",
       "    <tr>\n",
       "      <th>39714</th>\n",
       "      <td>NaN</td>\n",
       "      <td>&lt; 1 year</td>\n",
       "      <td>19.40%</td>\n",
       "      <td>Apr-08</td>\n",
       "    </tr>\n",
       "    <tr>\n",
       "      <th>39715</th>\n",
       "      <td>NaN</td>\n",
       "      <td>&lt; 1 year</td>\n",
       "      <td>0.70%</td>\n",
       "      <td>Jan-08</td>\n",
       "    </tr>\n",
       "    <tr>\n",
       "      <th>39716</th>\n",
       "      <td>Evergreen Center</td>\n",
       "      <td>&lt; 1 year</td>\n",
       "      <td>51.50%</td>\n",
       "      <td>Jun-10</td>\n",
       "    </tr>\n",
       "  </tbody>\n",
       "</table>\n",
       "</div>"
      ],
      "text/plain": [
       "                        emp_title emp_length revol_util last_pymnt_d\n",
       "39712             FiSite Research    4 years     13.10%       Jul-10\n",
       "39713  Squarewave Solutions, Ltd.    3 years     26.90%       Jul-10\n",
       "39714                         NaN   < 1 year     19.40%       Apr-08\n",
       "39715                         NaN   < 1 year      0.70%       Jan-08\n",
       "39716            Evergreen Center   < 1 year     51.50%       Jun-10"
      ]
     },
     "execution_count": 283,
     "metadata": {},
     "output_type": "execute_result"
    }
   ],
   "source": [
    "df_new2[['emp_title','emp_length','revol_util','last_pymnt_d']].tail()"
   ]
  },
  {
   "cell_type": "code",
   "execution_count": 289,
   "id": "caa104c4",
   "metadata": {},
   "outputs": [
    {
     "data": {
      "text/plain": [
       "10.99%    956\n",
       "13.49%    826\n",
       "11.49%    825\n",
       "7.51%     787\n",
       "7.88%     725\n",
       "         ... \n",
       "18.36%      1\n",
       "16.96%      1\n",
       "16.15%      1\n",
       "16.01%      1\n",
       "17.44%      1\n",
       "Name: int_rate, Length: 371, dtype: int64"
      ]
     },
     "execution_count": 289,
     "metadata": {},
     "output_type": "execute_result"
    }
   ],
   "source": [
    "df_new2.int_rate.value_counts()"
   ]
  },
  {
   "cell_type": "code",
   "execution_count": 296,
   "id": "27ab63ea",
   "metadata": {},
   "outputs": [],
   "source": [
    "df_new2.int_rate = df_new2['int_rate'].replace(\"%\",'',regex=True)"
   ]
  },
  {
   "cell_type": "code",
   "execution_count": 297,
   "id": "cc062e18",
   "metadata": {},
   "outputs": [
    {
     "data": {
      "text/plain": [
       "10.99    956\n",
       "13.49    826\n",
       "11.49    825\n",
       "7.51     787\n",
       "7.88     725\n",
       "        ... \n",
       "18.36      1\n",
       "16.96      1\n",
       "16.15      1\n",
       "16.01      1\n",
       "17.44      1\n",
       "Name: int_rate, Length: 371, dtype: int64"
      ]
     },
     "execution_count": 297,
     "metadata": {},
     "output_type": "execute_result"
    }
   ],
   "source": [
    "df_new2.int_rate.value_counts()"
   ]
  },
  {
   "cell_type": "code",
   "execution_count": 313,
   "id": "2edb66a1",
   "metadata": {},
   "outputs": [],
   "source": [
    "df_new2.int_rate = df_new2.int_rate.astype('float64')"
   ]
  },
  {
   "cell_type": "code",
   "execution_count": 314,
   "id": "b9004804",
   "metadata": {},
   "outputs": [
    {
     "data": {
      "text/plain": [
       "count    39717.000000\n",
       "mean        12.021177\n",
       "std          3.724825\n",
       "min          5.420000\n",
       "25%          9.250000\n",
       "50%         11.860000\n",
       "75%         14.590000\n",
       "max         24.590000\n",
       "Name: int_rate, dtype: float64"
      ]
     },
     "execution_count": 314,
     "metadata": {},
     "output_type": "execute_result"
    }
   ],
   "source": [
    "df_new2.int_rate.describe()"
   ]
  },
  {
   "cell_type": "code",
   "execution_count": 332,
   "id": "91ff2300",
   "metadata": {},
   "outputs": [
    {
     "data": {
      "text/plain": [
       "<AxesSubplot:xlabel='int_rate', ylabel='Count'>"
      ]
     },
     "execution_count": 332,
     "metadata": {},
     "output_type": "execute_result"
    },
    {
     "data": {
      "image/png": "[encoded data removed]",
      "text/plain": [
       "<Figure size 432x288 with 1 Axes>"
      ]
     },
     "metadata": {
      "needs_background": "light"
     },
     "output_type": "display_data"
    }
   ],
   "source": [
    "sns.histplot(df_new2.int_rate)"
   ]
  },
  {
   "cell_type": "code",
   "execution_count": 336,
   "id": "3242c3fd",
   "metadata": {},
   "outputs": [
    {
     "data": {
      "text/plain": [
       "<AxesSubplot:xlabel='int_rate', ylabel='Density'>"
      ]
     },
     "execution_count": 336,
     "metadata": {},
     "output_type": "execute_result"
    },
    {
     "data": {
      "image/png": "[encoded data removed]",
      "text/plain": [
       "<Figure size 432x288 with 1 Axes>"
      ]
     },
     "metadata": {
      "needs_background": "light"
     },
     "output_type": "display_data"
    }
   ],
   "source": [
    "sns.distplot(df_new2.int_rate)"
   ]
  },
  {
   "cell_type": "code",
   "execution_count": 315,
   "id": "f66c8e4e",
   "metadata": {},
   "outputs": [],
   "source": [
    "df_new2.revol_util= df_new2['revol_util'].replace(\"%\",'',regex=True).astype('float64')"
   ]
  },
  {
   "cell_type": "code",
   "execution_count": 316,
   "id": "cbeefd96",
   "metadata": {},
   "outputs": [
    {
     "data": {
      "text/plain": [
       "count    39667.000000\n",
       "mean        48.832152\n",
       "std         28.332634\n",
       "min          0.000000\n",
       "25%         25.400000\n",
       "50%         49.300000\n",
       "75%         72.400000\n",
       "max         99.900000\n",
       "Name: revol_util, dtype: float64"
      ]
     },
     "execution_count": 316,
     "metadata": {},
     "output_type": "execute_result"
    }
   ],
   "source": [
    "df_new2.revol_util.describe()"
   ]
  },
  {
   "cell_type": "code",
   "execution_count": 325,
   "id": "667834ba",
   "metadata": {},
   "outputs": [
    {
     "data": {
      "text/plain": [
       "0.0     977\n",
       "0.2      63\n",
       "63.0     62\n",
       "40.7     58\n",
       "66.7     58\n",
       "0.1      58\n",
       "31.2     57\n",
       "61.0     57\n",
       "46.4     57\n",
       "66.6     57\n",
       "65.9     56\n",
       "70.4     56\n",
       "25.5     55\n",
       "37.6     55\n",
       "64.8     55\n",
       "48.9     55\n",
       "57.4     55\n",
       "49.8     55\n",
       "76.6     54\n",
       "51.6     54\n",
       "64.6     54\n",
       "75.5     54\n",
       "78.7     54\n",
       "68.6     54\n",
       "32.0     54\n",
       "51.1     54\n",
       "46.6     54\n",
       "35.3     54\n",
       "89.5     54\n",
       "27.2     54\n",
       "Name: revol_util, dtype: int64"
      ]
     },
     "execution_count": 325,
     "metadata": {},
     "output_type": "execute_result"
    }
   ],
   "source": [
    "df_new2.revol_util.value_counts().sort_values(ascending=False).head(30)"
   ]
  },
  {
   "cell_type": "code",
   "execution_count": 330,
   "id": "acfd68ef",
   "metadata": {},
   "outputs": [
    {
     "data": {
      "text/plain": [
       "<AxesSubplot:ylabel='Frequency'>"
      ]
     },
     "execution_count": 330,
     "metadata": {},
     "output_type": "execute_result"
    },
    {
     "data": {
      "image/png": "[encoded data removed]",
      "text/plain": [
       "<Figure size 432x288 with 1 Axes>"
      ]
     },
     "metadata": {
      "needs_background": "light"
     },
     "output_type": "display_data"
    }
   ],
   "source": [
    "df_new2.revol_util.plot.hist(bins=30)"
   ]
  },
  {
   "cell_type": "code",
   "execution_count": 334,
   "id": "5bd1e2df",
   "metadata": {},
   "outputs": [
    {
     "data": {
      "text/plain": [
       "<AxesSubplot:xlabel='revol_util', ylabel='Count'>"
      ]
     },
     "execution_count": 334,
     "metadata": {},
     "output_type": "execute_result"
    },
    {
     "data": {
      "image/png": "[encoded data removed]",
      "text/plain": [
       "<Figure size 432x288 with 1 Axes>"
      ]
     },
     "metadata": {
      "needs_background": "light"
     },
     "output_type": "display_data"
    }
   ],
   "source": [
    "sns.histplot(df_new2.revol_util)"
   ]
  },
  {
   "cell_type": "code",
   "execution_count": 335,
   "id": "82a19719",
   "metadata": {},
   "outputs": [
    {
     "data": {
      "text/plain": [
       "<AxesSubplot:xlabel='revol_util', ylabel='Density'>"
      ]
     },
     "execution_count": 335,
     "metadata": {},
     "output_type": "execute_result"
    },
    {
     "data": {
      "image/png": "[encoded data removed]",
      "text/plain": [
       "<Figure size 432x288 with 1 Axes>"
      ]
     },
     "metadata": {
      "needs_background": "light"
     },
     "output_type": "display_data"
    }
   ],
   "source": [
    "sns.distplot(df_new2.revol_util)"
   ]
  },
  {
   "cell_type": "code",
   "execution_count": 337,
   "id": "7f933d6d",
   "metadata": {},
   "outputs": [
    {
     "data": {
      "text/html": [
       "<div>\n",
       "<style scoped>\n",
       "    .dataframe tbody tr th:only-of-type {\n",
       "        vertical-align: middle;\n",
       "    }\n",
       "\n",
       "    .dataframe tbody tr th {\n",
       "        vertical-align: top;\n",
       "    }\n",
       "\n",
       "    .dataframe thead th {\n",
       "        text-align: right;\n",
       "    }\n",
       "</style>\n",
       "<table border=\"1\" class=\"dataframe\">\n",
       "  <thead>\n",
       "    <tr style=\"text-align: right;\">\n",
       "      <th></th>\n",
       "      <th>id</th>\n",
       "      <th>member_id</th>\n",
       "      <th>loan_amnt</th>\n",
       "      <th>funded_amnt</th>\n",
       "      <th>funded_amnt_inv</th>\n",
       "      <th>term</th>\n",
       "      <th>int_rate</th>\n",
       "      <th>installment</th>\n",
       "      <th>grade</th>\n",
       "      <th>sub_grade</th>\n",
       "      <th>...</th>\n",
       "      <th>total_rec_int</th>\n",
       "      <th>total_rec_late_fee</th>\n",
       "      <th>recoveries</th>\n",
       "      <th>collection_recovery_fee</th>\n",
       "      <th>last_pymnt_d</th>\n",
       "      <th>last_pymnt_amnt</th>\n",
       "      <th>last_credit_pull_d</th>\n",
       "      <th>application_type</th>\n",
       "      <th>chargeoff_within_12_mths</th>\n",
       "      <th>pub_rec_bankruptcies</th>\n",
       "    </tr>\n",
       "  </thead>\n",
       "  <tbody>\n",
       "    <tr>\n",
       "      <th>0</th>\n",
       "      <td>1077501</td>\n",
       "      <td>1296599</td>\n",
       "      <td>5000</td>\n",
       "      <td>5000</td>\n",
       "      <td>4975.0</td>\n",
       "      <td>36 months</td>\n",
       "      <td>10.65</td>\n",
       "      <td>162.87</td>\n",
       "      <td>B</td>\n",
       "      <td>B2</td>\n",
       "      <td>...</td>\n",
       "      <td>863.16</td>\n",
       "      <td>0.00</td>\n",
       "      <td>0.00</td>\n",
       "      <td>0.00</td>\n",
       "      <td>Jan-15</td>\n",
       "      <td>171.62</td>\n",
       "      <td>May-16</td>\n",
       "      <td>INDIVIDUAL</td>\n",
       "      <td>0.0</td>\n",
       "      <td>0.0</td>\n",
       "    </tr>\n",
       "    <tr>\n",
       "      <th>1</th>\n",
       "      <td>1077430</td>\n",
       "      <td>1314167</td>\n",
       "      <td>2500</td>\n",
       "      <td>2500</td>\n",
       "      <td>2500.0</td>\n",
       "      <td>60 months</td>\n",
       "      <td>15.27</td>\n",
       "      <td>59.83</td>\n",
       "      <td>C</td>\n",
       "      <td>C4</td>\n",
       "      <td>...</td>\n",
       "      <td>435.17</td>\n",
       "      <td>0.00</td>\n",
       "      <td>117.08</td>\n",
       "      <td>1.11</td>\n",
       "      <td>Apr-13</td>\n",
       "      <td>119.66</td>\n",
       "      <td>Sep-13</td>\n",
       "      <td>INDIVIDUAL</td>\n",
       "      <td>0.0</td>\n",
       "      <td>0.0</td>\n",
       "    </tr>\n",
       "    <tr>\n",
       "      <th>2</th>\n",
       "      <td>1077175</td>\n",
       "      <td>1313524</td>\n",
       "      <td>2400</td>\n",
       "      <td>2400</td>\n",
       "      <td>2400.0</td>\n",
       "      <td>36 months</td>\n",
       "      <td>15.96</td>\n",
       "      <td>84.33</td>\n",
       "      <td>C</td>\n",
       "      <td>C5</td>\n",
       "      <td>...</td>\n",
       "      <td>605.67</td>\n",
       "      <td>0.00</td>\n",
       "      <td>0.00</td>\n",
       "      <td>0.00</td>\n",
       "      <td>Jun-14</td>\n",
       "      <td>649.91</td>\n",
       "      <td>May-16</td>\n",
       "      <td>INDIVIDUAL</td>\n",
       "      <td>0.0</td>\n",
       "      <td>0.0</td>\n",
       "    </tr>\n",
       "    <tr>\n",
       "      <th>3</th>\n",
       "      <td>1076863</td>\n",
       "      <td>1277178</td>\n",
       "      <td>10000</td>\n",
       "      <td>10000</td>\n",
       "      <td>10000.0</td>\n",
       "      <td>36 months</td>\n",
       "      <td>13.49</td>\n",
       "      <td>339.31</td>\n",
       "      <td>C</td>\n",
       "      <td>C1</td>\n",
       "      <td>...</td>\n",
       "      <td>2214.92</td>\n",
       "      <td>16.97</td>\n",
       "      <td>0.00</td>\n",
       "      <td>0.00</td>\n",
       "      <td>Jan-15</td>\n",
       "      <td>357.48</td>\n",
       "      <td>Apr-16</td>\n",
       "      <td>INDIVIDUAL</td>\n",
       "      <td>0.0</td>\n",
       "      <td>0.0</td>\n",
       "    </tr>\n",
       "    <tr>\n",
       "      <th>4</th>\n",
       "      <td>1075358</td>\n",
       "      <td>1311748</td>\n",
       "      <td>3000</td>\n",
       "      <td>3000</td>\n",
       "      <td>3000.0</td>\n",
       "      <td>60 months</td>\n",
       "      <td>12.69</td>\n",
       "      <td>67.79</td>\n",
       "      <td>B</td>\n",
       "      <td>B5</td>\n",
       "      <td>...</td>\n",
       "      <td>1037.39</td>\n",
       "      <td>0.00</td>\n",
       "      <td>0.00</td>\n",
       "      <td>0.00</td>\n",
       "      <td>May-16</td>\n",
       "      <td>67.79</td>\n",
       "      <td>May-16</td>\n",
       "      <td>INDIVIDUAL</td>\n",
       "      <td>0.0</td>\n",
       "      <td>0.0</td>\n",
       "    </tr>\n",
       "  </tbody>\n",
       "</table>\n",
       "<p>5 rows × 45 columns</p>\n",
       "</div>"
      ],
      "text/plain": [
       "        id  member_id  loan_amnt  funded_amnt  funded_amnt_inv        term  \\\n",
       "0  1077501    1296599       5000         5000           4975.0   36 months   \n",
       "1  1077430    1314167       2500         2500           2500.0   60 months   \n",
       "2  1077175    1313524       2400         2400           2400.0   36 months   \n",
       "3  1076863    1277178      10000        10000          10000.0   36 months   \n",
       "4  1075358    1311748       3000         3000           3000.0   60 months   \n",
       "\n",
       "   int_rate  installment grade sub_grade  ... total_rec_int  \\\n",
       "0     10.65       162.87     B        B2  ...        863.16   \n",
       "1     15.27        59.83     C        C4  ...        435.17   \n",
       "2     15.96        84.33     C        C5  ...        605.67   \n",
       "3     13.49       339.31     C        C1  ...       2214.92   \n",
       "4     12.69        67.79     B        B5  ...       1037.39   \n",
       "\n",
       "  total_rec_late_fee recoveries  collection_recovery_fee last_pymnt_d  \\\n",
       "0               0.00       0.00                     0.00       Jan-15   \n",
       "1               0.00     117.08                     1.11       Apr-13   \n",
       "2               0.00       0.00                     0.00       Jun-14   \n",
       "3              16.97       0.00                     0.00       Jan-15   \n",
       "4               0.00       0.00                     0.00       May-16   \n",
       "\n",
       "  last_pymnt_amnt last_credit_pull_d application_type  \\\n",
       "0          171.62             May-16       INDIVIDUAL   \n",
       "1          119.66             Sep-13       INDIVIDUAL   \n",
       "2          649.91             May-16       INDIVIDUAL   \n",
       "3          357.48             Apr-16       INDIVIDUAL   \n",
       "4           67.79             May-16       INDIVIDUAL   \n",
       "\n",
       "  chargeoff_within_12_mths pub_rec_bankruptcies  \n",
       "0                      0.0                  0.0  \n",
       "1                      0.0                  0.0  \n",
       "2                      0.0                  0.0  \n",
       "3                      0.0                  0.0  \n",
       "4                      0.0                  0.0  \n",
       "\n",
       "[5 rows x 45 columns]"
      ]
     },
     "execution_count": 337,
     "metadata": {},
     "output_type": "execute_result"
    }
   ],
   "source": [
    "df_new2.head()"
   ]
  },
  {
   "cell_type": "code",
   "execution_count": 355,
   "id": "98bf60f2",
   "metadata": {},
   "outputs": [
    {
     "data": {
      "text/plain": [
       "int_rate\n",
       "10.99    956\n",
       "13.49    826\n",
       "11.49    825\n",
       "7.51     787\n",
       "7.88     725\n",
       "7.49     656\n",
       "11.71    607\n",
       "9.99     603\n",
       "7.90     582\n",
       "5.42     573\n",
       "11.99    532\n",
       "12.69    491\n",
       "10.37    468\n",
       "6.03     447\n",
       "12.99    446\n",
       "8.49     445\n",
       "12.42    442\n",
       "10.65    435\n",
       "5.79     410\n",
       "8.90     402\n",
       "7.29     397\n",
       "6.62     396\n",
       "11.86    391\n",
       "14.27    390\n",
       "10.59    380\n",
       "9.63     378\n",
       "9.91     377\n",
       "5.99     347\n",
       "7.14     341\n",
       "6.99     336\n",
       "Name: member_id, dtype: int64"
      ]
     },
     "execution_count": 355,
     "metadata": {},
     "output_type": "execute_result"
    }
   ],
   "source": [
    "df_new2.groupby('int_rate')['member_id'].count().sort_values(ascending=False).head(30)"
   ]
  },
  {
   "cell_type": "code",
   "execution_count": 356,
   "id": "7a6a4d65",
   "metadata": {},
   "outputs": [
    {
     "data": {
      "text/plain": [
       "int_rate\n",
       "14.62    2\n",
       "14.70    2\n",
       "21.82    2\n",
       "14.88    2\n",
       "15.01    2\n",
       "15.07    2\n",
       "15.38    2\n",
       "15.83    2\n",
       "20.20    2\n",
       "16.33    2\n",
       "17.90    2\n",
       "17.03    2\n",
       "17.15    2\n",
       "17.44    1\n",
       "24.40    1\n",
       "18.72    1\n",
       "18.36    1\n",
       "17.54    1\n",
       "20.52    1\n",
       "17.46    1\n",
       "22.64    1\n",
       "17.34    1\n",
       "21.48    1\n",
       "14.67    1\n",
       "16.96    1\n",
       "16.71    1\n",
       "16.20    1\n",
       "16.15    1\n",
       "16.01    1\n",
       "24.59    1\n",
       "Name: member_id, dtype: int64"
      ]
     },
     "execution_count": 356,
     "metadata": {},
     "output_type": "execute_result"
    }
   ],
   "source": [
    "df_new2.groupby('int_rate')['member_id'].count().sort_values(ascending=False).tail(30)"
   ]
  },
  {
   "cell_type": "code",
   "execution_count": 370,
   "id": "8c71c567",
   "metadata": {},
   "outputs": [
    {
     "data": {
      "text/plain": [
       "False"
      ]
     },
     "execution_count": 370,
     "metadata": {},
     "output_type": "execute_result"
    }
   ],
   "source": [
    "\n",
    "\n",
    "df_new2['loan_amnt'].equals(df_new2['funded_amnt']) "
   ]
  },
  {
   "cell_type": "code",
   "execution_count": 373,
   "id": "eb69bd97",
   "metadata": {},
   "outputs": [
    {
     "data": {
      "text/html": [
       "<div>\n",
       "<style scoped>\n",
       "    .dataframe tbody tr th:only-of-type {\n",
       "        vertical-align: middle;\n",
       "    }\n",
       "\n",
       "    .dataframe tbody tr th {\n",
       "        vertical-align: top;\n",
       "    }\n",
       "\n",
       "    .dataframe thead th {\n",
       "        text-align: right;\n",
       "    }\n",
       "</style>\n",
       "<table border=\"1\" class=\"dataframe\">\n",
       "  <thead>\n",
       "    <tr style=\"text-align: right;\">\n",
       "      <th></th>\n",
       "      <th>loan_amnt</th>\n",
       "      <th>funded_amnt</th>\n",
       "    </tr>\n",
       "  </thead>\n",
       "  <tbody>\n",
       "    <tr>\n",
       "      <th>0</th>\n",
       "      <td>5000</td>\n",
       "      <td>5000</td>\n",
       "    </tr>\n",
       "    <tr>\n",
       "      <th>1</th>\n",
       "      <td>2500</td>\n",
       "      <td>2500</td>\n",
       "    </tr>\n",
       "    <tr>\n",
       "      <th>2</th>\n",
       "      <td>2400</td>\n",
       "      <td>2400</td>\n",
       "    </tr>\n",
       "    <tr>\n",
       "      <th>3</th>\n",
       "      <td>10000</td>\n",
       "      <td>10000</td>\n",
       "    </tr>\n",
       "    <tr>\n",
       "      <th>4</th>\n",
       "      <td>3000</td>\n",
       "      <td>3000</td>\n",
       "    </tr>\n",
       "    <tr>\n",
       "      <th>...</th>\n",
       "      <td>...</td>\n",
       "      <td>...</td>\n",
       "    </tr>\n",
       "    <tr>\n",
       "      <th>39712</th>\n",
       "      <td>2500</td>\n",
       "      <td>2500</td>\n",
       "    </tr>\n",
       "    <tr>\n",
       "      <th>39713</th>\n",
       "      <td>8500</td>\n",
       "      <td>8500</td>\n",
       "    </tr>\n",
       "    <tr>\n",
       "      <th>39714</th>\n",
       "      <td>5000</td>\n",
       "      <td>5000</td>\n",
       "    </tr>\n",
       "    <tr>\n",
       "      <th>39715</th>\n",
       "      <td>5000</td>\n",
       "      <td>5000</td>\n",
       "    </tr>\n",
       "    <tr>\n",
       "      <th>39716</th>\n",
       "      <td>7500</td>\n",
       "      <td>7500</td>\n",
       "    </tr>\n",
       "  </tbody>\n",
       "</table>\n",
       "<p>39717 rows × 2 columns</p>\n",
       "</div>"
      ],
      "text/plain": [
       "       loan_amnt  funded_amnt\n",
       "0           5000         5000\n",
       "1           2500         2500\n",
       "2           2400         2400\n",
       "3          10000        10000\n",
       "4           3000         3000\n",
       "...          ...          ...\n",
       "39712       2500         2500\n",
       "39713       8500         8500\n",
       "39714       5000         5000\n",
       "39715       5000         5000\n",
       "39716       7500         7500\n",
       "\n",
       "[39717 rows x 2 columns]"
      ]
     },
     "execution_count": 373,
     "metadata": {},
     "output_type": "execute_result"
    }
   ],
   "source": [
    "df_new2[['loan_amnt','funded_amnt']]"
   ]
  },
  {
   "cell_type": "code",
   "execution_count": 374,
   "id": "ad205aa6",
   "metadata": {},
   "outputs": [],
   "source": [
    "df_new2['compare'] =df_new2.apply(lambda x: x['loan_amnt'] if x['loan_amnt'] == x['funded_amnt'] else np.nan, axis=1)\n",
    " "
   ]
  },
  {
   "cell_type": "code",
   "execution_count": 378,
   "id": "89b2995c",
   "metadata": {},
   "outputs": [
    {
     "data": {
      "text/plain": [
       "1849"
      ]
     },
     "execution_count": 378,
     "metadata": {},
     "output_type": "execute_result"
    }
   ],
   "source": [
    "df_new2['compare'].isnull().sum()"
   ]
  },
  {
   "cell_type": "code",
   "execution_count": 379,
   "id": "fd85ac99",
   "metadata": {},
   "outputs": [
    {
     "data": {
      "text/html": [
       "<div>\n",
       "<style scoped>\n",
       "    .dataframe tbody tr th:only-of-type {\n",
       "        vertical-align: middle;\n",
       "    }\n",
       "\n",
       "    .dataframe tbody tr th {\n",
       "        vertical-align: top;\n",
       "    }\n",
       "\n",
       "    .dataframe thead th {\n",
       "        text-align: right;\n",
       "    }\n",
       "</style>\n",
       "<table border=\"1\" class=\"dataframe\">\n",
       "  <thead>\n",
       "    <tr style=\"text-align: right;\">\n",
       "      <th></th>\n",
       "      <th>loan_amnt</th>\n",
       "      <th>funded_amnt</th>\n",
       "    </tr>\n",
       "  </thead>\n",
       "  <tbody>\n",
       "    <tr>\n",
       "      <th>61</th>\n",
       "      <td>17500</td>\n",
       "      <td>8950</td>\n",
       "    </tr>\n",
       "    <tr>\n",
       "      <th>66</th>\n",
       "      <td>12500</td>\n",
       "      <td>8925</td>\n",
       "    </tr>\n",
       "    <tr>\n",
       "      <th>70</th>\n",
       "      <td>20975</td>\n",
       "      <td>13575</td>\n",
       "    </tr>\n",
       "    <tr>\n",
       "      <th>77</th>\n",
       "      <td>7250</td>\n",
       "      <td>7200</td>\n",
       "    </tr>\n",
       "    <tr>\n",
       "      <th>80</th>\n",
       "      <td>35000</td>\n",
       "      <td>22075</td>\n",
       "    </tr>\n",
       "    <tr>\n",
       "      <th>...</th>\n",
       "      <td>...</td>\n",
       "      <td>...</td>\n",
       "    </tr>\n",
       "    <tr>\n",
       "      <th>39533</th>\n",
       "      <td>10000</td>\n",
       "      <td>6000</td>\n",
       "    </tr>\n",
       "    <tr>\n",
       "      <th>39593</th>\n",
       "      <td>20000</td>\n",
       "      <td>4800</td>\n",
       "    </tr>\n",
       "    <tr>\n",
       "      <th>39600</th>\n",
       "      <td>4000</td>\n",
       "      <td>1000</td>\n",
       "    </tr>\n",
       "    <tr>\n",
       "      <th>39601</th>\n",
       "      <td>12000</td>\n",
       "      <td>5000</td>\n",
       "    </tr>\n",
       "    <tr>\n",
       "      <th>39611</th>\n",
       "      <td>25000</td>\n",
       "      <td>5650</td>\n",
       "    </tr>\n",
       "  </tbody>\n",
       "</table>\n",
       "<p>1849 rows × 2 columns</p>\n",
       "</div>"
      ],
      "text/plain": [
       "       loan_amnt  funded_amnt\n",
       "61         17500         8950\n",
       "66         12500         8925\n",
       "70         20975        13575\n",
       "77          7250         7200\n",
       "80         35000        22075\n",
       "...          ...          ...\n",
       "39533      10000         6000\n",
       "39593      20000         4800\n",
       "39600       4000         1000\n",
       "39601      12000         5000\n",
       "39611      25000         5650\n",
       "\n",
       "[1849 rows x 2 columns]"
      ]
     },
     "execution_count": 379,
     "metadata": {},
     "output_type": "execute_result"
    }
   ],
   "source": [
    "df_new2[df_new2['compare'].isnull()][['loan_amnt','funded_amnt']]"
   ]
  },
  {
   "cell_type": "code",
   "execution_count": null,
   "id": "ad777112",
   "metadata": {},
   "outputs": [],
   "source": [
    "# from the above we come to know that the loan requested amount is not equal to loan dispursed amount"
   ]
  },
  {
   "cell_type": "code",
   "execution_count": 535,
   "id": "66cbba7d",
   "metadata": {},
   "outputs": [
    {
     "data": {
      "text/plain": [
       "Index(['id', 'member_id', 'loan_amnt', 'funded_amnt', 'funded_amnt_inv',\n",
       "       'term', 'int_rate', 'installment', 'grade', 'sub_grade', 'emp_title',\n",
       "       'emp_length', 'home_ownership', 'annual_inc', 'verification_status',\n",
       "       'issue_d', 'loan_status', 'url', 'purpose', 'zip_code', 'addr_state',\n",
       "       'dti', 'delinq_2yrs', 'earliest_cr_line', 'inq_last_6mths', 'open_acc',\n",
       "       'pub_rec', 'revol_bal', 'revol_util', 'total_acc', 'out_prncp',\n",
       "       'out_prncp_inv', 'total_pymnt', 'total_pymnt_inv', 'total_rec_prncp',\n",
       "       'total_rec_int', 'total_rec_late_fee', 'recoveries',\n",
       "       'collection_recovery_fee', 'last_pymnt_d', 'last_pymnt_amnt',\n",
       "       'last_credit_pull_d', 'application_type', 'pub_rec_bankruptcies',\n",
       "       'compare'],\n",
       "      dtype='object')"
      ]
     },
     "execution_count": 535,
     "metadata": {},
     "output_type": "execute_result"
    }
   ],
   "source": [
    "df_new2.columns"
   ]
  },
  {
   "cell_type": "code",
   "execution_count": 397,
   "id": "3d9c1aa5",
   "metadata": {},
   "outputs": [
    {
     "data": {
      "text/plain": [
       "grade\n",
       "A     5.42\n",
       "B     6.00\n",
       "C     6.00\n",
       "D     6.00\n",
       "E     6.00\n",
       "F    15.01\n",
       "G    17.34\n",
       "Name: int_rate, dtype: float64"
      ]
     },
     "execution_count": 397,
     "metadata": {},
     "output_type": "execute_result"
    }
   ],
   "source": [
    "df_new2.groupby(['grade'])['int_rate'].min()"
   ]
  },
  {
   "cell_type": "code",
   "execution_count": 398,
   "id": "f7f432a5",
   "metadata": {},
   "outputs": [
    {
     "data": {
      "text/plain": [
       "grade\n",
       "A     9.63\n",
       "B    12.69\n",
       "C    16.11\n",
       "D    18.49\n",
       "E    20.99\n",
       "F    22.94\n",
       "G    24.59\n",
       "Name: int_rate, dtype: float64"
      ]
     },
     "execution_count": 398,
     "metadata": {},
     "output_type": "execute_result"
    }
   ],
   "source": [
    "df_new2.groupby(['grade'])['int_rate'].max()"
   ]
  },
  {
   "cell_type": "code",
   "execution_count": 389,
   "id": "8d7b5315",
   "metadata": {},
   "outputs": [
    {
     "data": {
      "text/plain": [
       "grade  sub_grade\n",
       "A      A1            6\n",
       "       A2            7\n",
       "       A3            9\n",
       "       A4           12\n",
       "       A5           10\n",
       "B      B1           15\n",
       "       B2           15\n",
       "       B3           15\n",
       "       B4           13\n",
       "       B5           15\n",
       "C      C1           13\n",
       "       C2           15\n",
       "       C3           14\n",
       "       C4           15\n",
       "       C5           15\n",
       "D      D1           15\n",
       "       D2           14\n",
       "       D3           14\n",
       "       D4           13\n",
       "       D5           15\n",
       "E      E1           12\n",
       "       E2           13\n",
       "       E3           13\n",
       "       E4           14\n",
       "       E5           16\n",
       "F      F1           11\n",
       "       F2           12\n",
       "       F3           11\n",
       "       F4           12\n",
       "       F5            9\n",
       "G      G1            8\n",
       "       G2            7\n",
       "       G3            7\n",
       "       G4            9\n",
       "       G5            9\n",
       "Name: int_rate, dtype: int64"
      ]
     },
     "execution_count": 389,
     "metadata": {},
     "output_type": "execute_result"
    }
   ],
   "source": [
    "df_new2.groupby(['grade','sub_grade'])['int_rate'].nunique()"
   ]
  },
  {
   "cell_type": "code",
   "execution_count": 392,
   "id": "51309ed9",
   "metadata": {},
   "outputs": [
    {
     "data": {
      "text/plain": [
       "grade  sub_grade\n",
       "A      A1                        [6.03, 5.42, 6.39, 7.05, 7.37, 7.12]\n",
       "       A2                   [6.62, 5.99, 5.79, 6.76, 7.4, 7.68, 7.43]\n",
       "       A3           [7.51, 6.99, 7.42, 6.92, 6.17, 7.14, 7.74, 8.0...\n",
       "       A4           [7.9, 7.49, 7.91, 7.29, 6.54, 7.51, 8.59, 9.32...\n",
       "       A5           [8.9, 8.49, 7.66, 6.91, 7.88, 8.94, 9.63, 9.38...\n",
       "B      B1           [9.91, 9.99, 9.67, 9.63, 6.0, 8.88, 10.38, 9.8...\n",
       "       B2           [10.65, 10.59, 11.14, 6.0, 10.0, 9.25, 10.75, ...\n",
       "       B3           [11.71, 10.99, 11.63, 10.37, 9.62, 11.12, 10.6...\n",
       "       B4           [12.42, 11.49, 12.12, 10.74, 9.99, 10.99, 12.1...\n",
       "       B5           [12.69, 6.0, 11.99, 12.62, 11.11, 10.36, 11.86...\n",
       "C      C1           [13.49, 12.99, 12.87, 12.68, 12.23, 13.23, 12....\n",
       "       C2           [14.27, 6.0, 13.49, 13.84, 13.06, 12.61, 13.61...\n",
       "       C3           [14.65, 13.99, 14.82, 13.43, 12.98, 13.98, 13....\n",
       "       C4           [15.27, 14.79, 15.62, 13.8, 13.35, 14.35, 13.8...\n",
       "       C5           [15.96, 15.23, 16.11, 14.17, 13.72, 14.72, 14....\n",
       "D      D1           [16.29, 15.62, 16.59, 14.54, 14.09, 14.84, 14....\n",
       "       D2           [16.77, 15.99, 17.19, 14.91, 14.46, 15.21, 6.0...\n",
       "       D3           [17.27, 16.49, 17.54, 15.28, 14.83, 15.58, 15....\n",
       "       D4           [17.58, 16.89, 18.07, 15.65, 15.2, 15.95, 15.7...\n",
       "       D5           [18.25, 17.49, 18.49, 16.02, 6.0, 15.57, 16.32...\n",
       "E      E1           [18.64, 17.99, 19.39, 16.4, 15.95, 16.45, 16.3...\n",
       "       E2           [19.03, 18.39, 19.79, 16.77, 16.32, 16.82, 16....\n",
       "       E3           [19.42, 18.79, 20.2, 17.14, 6.0, 16.69, 17.19,...\n",
       "       E4           [19.91, 19.29, 20.69, 17.51, 17.06, 17.56, 6.0...\n",
       "       E5           [20.3, 19.69, 20.99, 17.88, 17.43, 6.0, 17.44,...\n",
       "F      F1           [20.89, 20.25, 21.48, 18.25, 17.8, 18.3, 18.09...\n",
       "       F2           [21.28, 20.62, 21.82, 18.62, 18.17, 18.67, 18....\n",
       "       F3           [21.67, 20.99, 18.99, 18.54, 19.04, 18.78, 17....\n",
       "       F4           [22.06, 21.36, 22.64, 19.36, 18.91, 19.41, 19....\n",
       "       F5           [22.35, 21.74, 22.94, 19.74, 19.29, 19.79, 19....\n",
       "G      G1           [22.74, 22.11, 20.11, 19.66, 20.16, 19.82, 18....\n",
       "       G2           [23.13, 22.48, 20.48, 20.03, 20.53, 20.17, 19.16]\n",
       "       G3             [23.52, 22.85, 20.85, 20.4, 20.9, 20.52, 18.72]\n",
       "       G4           [23.91, 23.22, 24.4, 21.22, 20.77, 21.27, 20.8...\n",
       "       G5           [24.11, 23.59, 24.59, 21.59, 21.14, 21.64, 21....\n",
       "Name: int_rate, dtype: object"
      ]
     },
     "execution_count": 392,
     "metadata": {},
     "output_type": "execute_result"
    }
   ],
   "source": [
    "df_new2.groupby(['grade','sub_grade'])['int_rate'].unique()"
   ]
  },
  {
   "cell_type": "code",
   "execution_count": 393,
   "id": "a1aae245",
   "metadata": {},
   "outputs": [
    {
     "data": {
      "text/plain": [
       "grade  sub_grade\n",
       "A      A1            5.42\n",
       "       A2            5.79\n",
       "       A3            6.17\n",
       "       A4            6.00\n",
       "       A5            6.91\n",
       "B      B1            6.00\n",
       "       B2            6.00\n",
       "       B3            6.00\n",
       "       B4            9.64\n",
       "       B5            6.00\n",
       "C      C1           10.28\n",
       "       C2            6.00\n",
       "       C3           10.91\n",
       "       C4            6.00\n",
       "       C5            6.00\n",
       "D      D1            6.00\n",
       "       D2            6.00\n",
       "       D3           12.49\n",
       "       D4           12.80\n",
       "       D5            6.00\n",
       "E      E1           13.43\n",
       "       E2           13.75\n",
       "       E3            6.00\n",
       "       E4            6.00\n",
       "       E5            6.00\n",
       "F      F1           15.01\n",
       "       F2           15.33\n",
       "       F3           15.65\n",
       "       F4           15.96\n",
       "       F5           17.03\n",
       "G      G1           17.34\n",
       "       G2           19.16\n",
       "       G3           18.72\n",
       "       G4           19.04\n",
       "       G5           18.36\n",
       "Name: int_rate, dtype: float64"
      ]
     },
     "execution_count": 393,
     "metadata": {},
     "output_type": "execute_result"
    }
   ],
   "source": [
    "df_new2.groupby(['grade','sub_grade'])['int_rate'].min()"
   ]
  },
  {
   "cell_type": "code",
   "execution_count": 394,
   "id": "4d1ca427",
   "metadata": {},
   "outputs": [
    {
     "data": {
      "text/plain": [
       "grade  sub_grade\n",
       "A      A1            7.37\n",
       "       A2            7.68\n",
       "       A3            8.00\n",
       "       A4            9.32\n",
       "       A5            9.63\n",
       "B      B1           11.14\n",
       "       B2           11.48\n",
       "       B3           11.83\n",
       "       B4           12.42\n",
       "       B5           12.69\n",
       "C      C1           13.49\n",
       "       C2           14.27\n",
       "       C3           14.82\n",
       "       C4           15.62\n",
       "       C5           16.11\n",
       "D      D1           16.59\n",
       "       D2           17.19\n",
       "       D3           17.54\n",
       "       D4           18.07\n",
       "       D5           18.49\n",
       "E      E1           19.39\n",
       "       E2           19.79\n",
       "       E3           20.20\n",
       "       E4           20.69\n",
       "       E5           20.99\n",
       "F      F1           21.48\n",
       "       F2           21.82\n",
       "       F3           21.67\n",
       "       F4           22.64\n",
       "       F5           22.94\n",
       "G      G1           22.74\n",
       "       G2           23.13\n",
       "       G3           23.52\n",
       "       G4           24.40\n",
       "       G5           24.59\n",
       "Name: int_rate, dtype: float64"
      ]
     },
     "execution_count": 394,
     "metadata": {},
     "output_type": "execute_result"
    }
   ],
   "source": [
    "df_new2.groupby(['grade','sub_grade'])['int_rate'].max()"
   ]
  },
  {
   "cell_type": "code",
   "execution_count": 395,
   "id": "579cfdac",
   "metadata": {},
   "outputs": [
    {
     "data": {
      "text/plain": [
       "grade  sub_grade\n",
       "A      A1            5.805224\n",
       "       A2            6.378733\n",
       "       A3            7.164552\n",
       "       A4            7.660797\n",
       "       A5            8.266937\n",
       "B      B1           10.003781\n",
       "       B2           10.489285\n",
       "       B3           10.992979\n",
       "       B4           11.409598\n",
       "       B5           11.784135\n",
       "C      C1           12.851985\n",
       "       C2           13.352551\n",
       "       C3           13.658653\n",
       "       C4           14.050453\n",
       "       C5           14.500514\n",
       "D      D1           14.853169\n",
       "       D2           15.349421\n",
       "       D3           15.775209\n",
       "       D4           16.163955\n",
       "       D5           16.641911\n",
       "E      E1           17.017339\n",
       "       E2           17.444497\n",
       "       E3           17.776582\n",
       "       E4           18.270749\n",
       "       E5           18.710337\n",
       "F      F1           19.201793\n",
       "       F2           19.383173\n",
       "       F3           20.025892\n",
       "       F4           20.364762\n",
       "       F5           20.738729\n",
       "G      G1           21.101538\n",
       "       G2           21.066026\n",
       "       G3           21.616042\n",
       "       G4           21.974107\n",
       "       G5           21.896667\n",
       "Name: int_rate, dtype: float64"
      ]
     },
     "execution_count": 395,
     "metadata": {},
     "output_type": "execute_result"
    }
   ],
   "source": [
    "df_new2.groupby(['grade','sub_grade'])['int_rate'].mean()"
   ]
  },
  {
   "cell_type": "code",
   "execution_count": 405,
   "id": "05607cb0",
   "metadata": {},
   "outputs": [
    {
     "data": {
      "text/plain": [
       "grade  sub_grade\n",
       "A      A1            5.42\n",
       "       A2            5.99\n",
       "       A3            7.14\n",
       "       A4            7.51\n",
       "       A5            8.49\n",
       "B      B1            9.91\n",
       "       B2           10.59\n",
       "       B3           10.99\n",
       "       B4           11.49\n",
       "       B5           11.99\n",
       "C      C1           12.99\n",
       "       C2           13.49\n",
       "       C3           13.57\n",
       "       C4           13.92\n",
       "       C5           14.26\n",
       "D      D1           14.61\n",
       "       D2           15.21\n",
       "       D3           15.58\n",
       "       D4           15.95\n",
       "       D5           16.32\n",
       "E      E1           16.45\n",
       "       E2           16.82\n",
       "       E3           17.19\n",
       "       E4           17.56\n",
       "       E5           17.93\n",
       "F      F1           18.30\n",
       "       F2           18.67\n",
       "       F3           20.99\n",
       "       F4           19.41\n",
       "       F5           19.79\n",
       "G      G1           20.16\n",
       "       G2           20.48\n",
       "       G3           20.90\n",
       "       G4           21.27\n",
       "       G5           21.59\n",
       "Name: int_rate, dtype: float64"
      ]
     },
     "execution_count": 405,
     "metadata": {},
     "output_type": "execute_result"
    }
   ],
   "source": [
    "df_new2.groupby(['grade','sub_grade'])['int_rate'].median()"
   ]
  },
  {
   "cell_type": "code",
   "execution_count": 406,
   "id": "f99a522d",
   "metadata": {},
   "outputs": [
    {
     "data": {
      "text/plain": [
       "grade  sub_grade  purpose           \n",
       "A      A1         car                   5.42\n",
       "                  credit_card           5.42\n",
       "                  debt_consolidation    6.03\n",
       "                  home_improvement      5.42\n",
       "                  house                 6.03\n",
       "                  major_purchase        5.42\n",
       "                  medical               6.03\n",
       "                  moving                6.03\n",
       "                  other                 6.03\n",
       "                  renewable_energy      6.03\n",
       "                  small_business        6.03\n",
       "                  vacation              6.03\n",
       "                  wedding               5.42\n",
       "       A2         car                   5.99\n",
       "                  credit_card           5.99\n",
       "                  debt_consolidation    5.99\n",
       "                  educational           7.40\n",
       "                  home_improvement      5.99\n",
       "                  house                 6.62\n",
       "                  major_purchase        5.99\n",
       "                  medical               6.62\n",
       "                  moving                6.76\n",
       "                  other                 6.62\n",
       "                  renewable_energy      6.62\n",
       "                  small_business        6.62\n",
       "                  vacation              5.99\n",
       "                  wedding               6.62\n",
       "       A3         car                   7.14\n",
       "                  credit_card           7.14\n",
       "                  debt_consolidation    7.14\n",
       "Name: int_rate, dtype: float64"
      ]
     },
     "execution_count": 406,
     "metadata": {},
     "output_type": "execute_result"
    }
   ],
   "source": [
    "df_new2.groupby(['grade','sub_grade','purpose'])['int_rate'].median().head(30)"
   ]
  },
  {
   "cell_type": "code",
   "execution_count": 407,
   "id": "441c1b35",
   "metadata": {},
   "outputs": [
    {
     "data": {
      "text/plain": [
       "grade  sub_grade  purpose           \n",
       "G      G2         major_purchase        21.255\n",
       "                  other                 22.480\n",
       "                  small_business        20.325\n",
       "                  vacation              22.480\n",
       "                  wedding               20.480\n",
       "       G3         car                   22.850\n",
       "                  credit_card           20.850\n",
       "                  debt_consolidation    20.900\n",
       "                  home_improvement      20.850\n",
       "                  medical               20.875\n",
       "                  other                 22.850\n",
       "                  small_business        20.850\n",
       "                  wedding               20.850\n",
       "       G4         credit_card           21.270\n",
       "                  debt_consolidation    22.245\n",
       "                  educational           21.270\n",
       "                  home_improvement      21.995\n",
       "                  house                 21.065\n",
       "                  moving                21.220\n",
       "                  other                 21.995\n",
       "                  renewable_energy      24.400\n",
       "                  small_business        21.220\n",
       "       G5         credit_card           24.110\n",
       "                  debt_consolidation    21.590\n",
       "                  major_purchase        22.590\n",
       "                  moving                21.590\n",
       "                  other                 21.590\n",
       "                  renewable_energy      21.640\n",
       "                  small_business        21.210\n",
       "                  wedding               23.590\n",
       "Name: int_rate, dtype: float64"
      ]
     },
     "execution_count": 407,
     "metadata": {},
     "output_type": "execute_result"
    }
   ],
   "source": [
    "df_new2.groupby(['grade','sub_grade','purpose'])['int_rate'].median().tail(30)"
   ]
  },
  {
   "cell_type": "code",
   "execution_count": 409,
   "id": "5c58110d",
   "metadata": {},
   "outputs": [
    {
     "data": {
      "text/plain": [
       "grade  sub_grade  purpose             term      \n",
       "A      A1         car                  36 months    5.420\n",
       "                  credit_card          36 months    5.420\n",
       "                  debt_consolidation   36 months    6.030\n",
       "                  home_improvement     36 months    5.420\n",
       "                  house                36 months    6.030\n",
       "                  major_purchase       36 months    5.420\n",
       "                  medical              36 months    6.030\n",
       "                  moving               36 months    6.030\n",
       "                  other                36 months    6.030\n",
       "                  renewable_energy     36 months    6.030\n",
       "                  small_business       36 months    6.030\n",
       "                  vacation             36 months    6.030\n",
       "                  wedding              36 months    5.420\n",
       "       A2         car                  36 months    5.990\n",
       "                                       60 months    5.790\n",
       "                  credit_card          36 months    5.990\n",
       "                                       60 months    5.790\n",
       "                  debt_consolidation   36 months    5.990\n",
       "                                       60 months    5.790\n",
       "                  educational          36 months    7.400\n",
       "                  home_improvement     36 months    5.990\n",
       "                  house                36 months    6.620\n",
       "                  major_purchase       36 months    5.990\n",
       "                                       60 months    6.275\n",
       "                  medical              36 months    6.620\n",
       "                                       60 months    5.790\n",
       "                  moving               36 months    6.760\n",
       "                  other                36 months    6.620\n",
       "                                       60 months    6.760\n",
       "                  renewable_energy     36 months    6.620\n",
       "Name: int_rate, dtype: float64"
      ]
     },
     "execution_count": 409,
     "metadata": {},
     "output_type": "execute_result"
    }
   ],
   "source": [
    "df_new2.groupby(['grade','sub_grade','purpose','term'])['int_rate'].median().head(30)"
   ]
  },
  {
   "cell_type": "code",
   "execution_count": 410,
   "id": "89c28b5a",
   "metadata": {},
   "outputs": [
    {
     "data": {
      "text/plain": [
       "grade  sub_grade  purpose             term      \n",
       "G      G3         debt_consolidation   60 months    20.900\n",
       "                  home_improvement     60 months    20.850\n",
       "                  medical              60 months    20.875\n",
       "                  other                60 months    22.850\n",
       "                  small_business       36 months    20.520\n",
       "                                       60 months    20.850\n",
       "                  wedding              60 months    20.850\n",
       "       G4         credit_card          36 months    21.065\n",
       "                                       60 months    21.270\n",
       "                  debt_consolidation   36 months    21.270\n",
       "                                       60 months    23.220\n",
       "                  educational          60 months    21.270\n",
       "                  home_improvement     60 months    21.995\n",
       "                  house                36 months    21.065\n",
       "                  moving               60 months    21.220\n",
       "                  other                36 months    19.040\n",
       "                                       60 months    23.220\n",
       "                  renewable_energy     60 months    24.400\n",
       "                  small_business       36 months    19.790\n",
       "                                       60 months    21.220\n",
       "       G5         credit_card          60 months    24.110\n",
       "                  debt_consolidation   36 months    21.210\n",
       "                                       60 months    21.615\n",
       "                  major_purchase       60 months    22.590\n",
       "                  moving               60 months    21.590\n",
       "                  other                60 months    21.590\n",
       "                  renewable_energy     36 months    21.640\n",
       "                  small_business       36 months    20.660\n",
       "                                       60 months    21.590\n",
       "                  wedding              60 months    23.590\n",
       "Name: int_rate, dtype: float64"
      ]
     },
     "execution_count": 410,
     "metadata": {},
     "output_type": "execute_result"
    }
   ],
   "source": [
    "df_new2.groupby(['grade','sub_grade','purpose','term'])['int_rate'].median().tail(30)"
   ]
  },
  {
   "cell_type": "code",
   "execution_count": 415,
   "id": "db2fbcb6",
   "metadata": {},
   "outputs": [
    {
     "data": {
      "text/plain": [
       "grade  sub_grade  emp_length\n",
       "A      A1         1 year        6.030\n",
       "                  10+ years     5.420\n",
       "                  2 years       6.030\n",
       "                  3 years       5.420\n",
       "                  4 years       6.030\n",
       "                  5 years       6.030\n",
       "                  6 years       5.420\n",
       "                  7 years       6.030\n",
       "                  8 years       6.030\n",
       "                  9 years       6.030\n",
       "                  < 1 year      6.030\n",
       "       A2         1 year        6.620\n",
       "                  10+ years     6.620\n",
       "                  2 years       6.620\n",
       "                  3 years       5.990\n",
       "                  4 years       6.620\n",
       "                  5 years       5.990\n",
       "                  6 years       5.990\n",
       "                  7 years       6.620\n",
       "                  8 years       6.620\n",
       "                  9 years       5.990\n",
       "                  < 1 year      6.620\n",
       "       A3         1 year        7.325\n",
       "                  10+ years     7.140\n",
       "                  2 years       7.140\n",
       "                  3 years       7.140\n",
       "                  4 years       7.140\n",
       "                  5 years       7.140\n",
       "                  6 years       7.140\n",
       "                  7 years       7.140\n",
       "                  8 years       7.140\n",
       "                  9 years       7.140\n",
       "                  < 1 year      7.140\n",
       "       A4         1 year        7.510\n",
       "                  10+ years     7.510\n",
       "                  2 years       7.510\n",
       "                  3 years       7.510\n",
       "                  4 years       7.510\n",
       "                  5 years       7.510\n",
       "                  6 years       7.510\n",
       "                  7 years       7.490\n",
       "                  8 years       7.490\n",
       "                  9 years       7.510\n",
       "                  < 1 year      7.510\n",
       "       A5         1 year        8.490\n",
       "                  10+ years     7.880\n",
       "                  2 years       8.435\n",
       "                  3 years       7.880\n",
       "                  4 years       8.380\n",
       "                  5 years       7.880\n",
       "Name: int_rate, dtype: float64"
      ]
     },
     "execution_count": 415,
     "metadata": {},
     "output_type": "execute_result"
    }
   ],
   "source": [
    "df_new2.groupby(['grade','sub_grade','emp_length'])['int_rate'].median().head(50)"
   ]
  },
  {
   "cell_type": "code",
   "execution_count": 416,
   "id": "d23d6377",
   "metadata": {},
   "outputs": [
    {
     "data": {
      "text/plain": [
       "grade  sub_grade  emp_length\n",
       "G      G1         4 years       22.110\n",
       "                  5 years       22.110\n",
       "                  6 years       22.110\n",
       "                  7 years       20.135\n",
       "                  8 years       20.790\n",
       "                  9 years       22.110\n",
       "                  < 1 year      21.135\n",
       "       G2         1 year        20.480\n",
       "                  10+ years     20.505\n",
       "                  2 years       20.480\n",
       "                  3 years       20.530\n",
       "                  4 years       20.170\n",
       "                  5 years       22.480\n",
       "                  6 years       20.030\n",
       "                  7 years       20.505\n",
       "                  8 years       22.480\n",
       "                  9 years       20.530\n",
       "                  < 1 year      20.480\n",
       "       G3         1 year        22.210\n",
       "                  10+ years     20.850\n",
       "                  2 years       21.850\n",
       "                  3 years       22.850\n",
       "                  4 years       20.850\n",
       "                  5 years       20.900\n",
       "                  6 years       23.520\n",
       "                  7 years       22.210\n",
       "                  8 years       19.785\n",
       "                  9 years       20.875\n",
       "                  < 1 year      21.875\n",
       "       G4         1 year        23.220\n",
       "                  10+ years     21.220\n",
       "                  2 years       21.220\n",
       "                  3 years       20.770\n",
       "                  4 years       21.270\n",
       "                  5 years       21.270\n",
       "                  6 years       21.995\n",
       "                  7 years       23.910\n",
       "                  8 years       21.270\n",
       "                  < 1 year      22.245\n",
       "       G5         1 year        24.110\n",
       "                  10+ years     21.140\n",
       "                  2 years       21.590\n",
       "                  3 years       23.590\n",
       "                  4 years       22.590\n",
       "                  5 years       23.850\n",
       "                  6 years       24.590\n",
       "                  7 years       21.640\n",
       "                  8 years       21.210\n",
       "                  9 years       21.590\n",
       "                  < 1 year      21.210\n",
       "Name: int_rate, dtype: float64"
      ]
     },
     "execution_count": 416,
     "metadata": {},
     "output_type": "execute_result"
    }
   ],
   "source": [
    "df_new2.groupby(['grade','sub_grade','emp_length'])['int_rate'].median().tail(50)"
   ]
  },
  {
   "cell_type": "code",
   "execution_count": 423,
   "id": "44d77d04",
   "metadata": {},
   "outputs": [
    {
     "data": {
      "text/plain": [
       "grade  sub_grade  installment\n",
       "G      G4         559.27         23.22\n",
       "                  570.73         21.22\n",
       "                  574.32         23.91\n",
       "                  619.55         23.91\n",
       "                  625.73         21.27\n",
       "                  640.69         21.27\n",
       "                  652.94         21.27\n",
       "                  673.11         20.77\n",
       "                  680.14         21.27\n",
       "                  715.75         23.91\n",
       "                  717.90         23.91\n",
       "                  815.32         21.22\n",
       "                  827.33         20.86\n",
       "                  835.63         23.91\n",
       "                  852.86         23.91\n",
       "                  863.85         23.22\n",
       "                  902.54         20.86\n",
       "                  945.35         21.27\n",
       "                  951.21         21.22\n",
       "                  991.10         23.22\n",
       "                  1005.06        23.91\n",
       "       G5         128.72         21.59\n",
       "                  235.47         21.59\n",
       "                  238.77         21.14\n",
       "                  377.47         21.14\n",
       "                  389.45         23.59\n",
       "                  399.85         21.59\n",
       "                  412.41         21.14\n",
       "                  413.70         23.59\n",
       "                  456.49         23.59\n",
       "                  491.20         21.21\n",
       "                  504.13         18.36\n",
       "                  523.77         21.59\n",
       "                  547.73         21.59\n",
       "                  548.30         21.64\n",
       "                  556.03         24.59\n",
       "                  603.13         21.64\n",
       "                  612.68         24.11\n",
       "                  623.40         20.11\n",
       "                  651.18         21.14\n",
       "                  684.66         21.59\n",
       "                  699.18         24.11\n",
       "                  720.80         24.11\n",
       "                  746.24         21.21\n",
       "                  755.69         21.21\n",
       "                  816.14         21.21\n",
       "                  821.59         21.59\n",
       "                  851.64         23.59\n",
       "                  876.37         21.59\n",
       "                  950.12         21.64\n",
       "Name: int_rate, dtype: float64"
      ]
     },
     "execution_count": 423,
     "metadata": {},
     "output_type": "execute_result"
    }
   ],
   "source": [
    "df_new2.groupby(['grade','sub_grade','installment'])['int_rate'].median().tail(50)"
   ]
  },
  {
   "cell_type": "code",
   "execution_count": 433,
   "id": "9b84c258",
   "metadata": {},
   "outputs": [
    {
     "data": {
      "text/plain": [
       "grade  sub_grade  installment\n",
       "A      A1         22.51          7.37\n",
       "                  24.84          7.37\n",
       "                  30.16          5.42\n",
       "                  30.44          6.03\n",
       "                  30.60          6.39\n",
       "                  30.94          7.12\n",
       "                  31.05          7.37\n",
       "                  36.20          5.42\n",
       "                  36.48          7.37\n",
       "                  36.53          6.03\n",
       "                  37.70          5.42\n",
       "                  39.21          5.42\n",
       "                  39.57          6.03\n",
       "                  39.78          6.39\n",
       "                  40.72          5.42\n",
       "                  42.23          5.42\n",
       "                  42.61          6.03\n",
       "                  45.24          5.42\n",
       "                  45.66          6.03\n",
       "                  45.91          6.39\n",
       "                  46.00          5.42\n",
       "                  46.35          7.05\n",
       "                  46.57          7.37\n",
       "                  46.75          5.42\n",
       "                  48.26          5.42\n",
       "                  48.96          6.39\n",
       "                  54.29          5.42\n",
       "                  55.89          7.37\n",
       "                  57.23          7.12\n",
       "                  58.59          6.03\n",
       "                  60.32          5.42\n",
       "                  60.54          7.37\n",
       "                  60.88          6.03\n",
       "                  61.20          6.39\n",
       "                  61.21          6.39\n",
       "                  61.80          7.05\n",
       "                  61.87          7.12\n",
       "                  62.10          7.37\n",
       "                  63.34          5.42\n",
       "                  63.92          6.03\n",
       "                  64.27          6.39\n",
       "                  64.96          7.12\n",
       "                  66.36          5.42\n",
       "                  67.86          5.42\n",
       "                  69.86          7.37\n",
       "                  71.15          6.39\n",
       "                  72.39          5.42\n",
       "                  73.05          6.03\n",
       "                  73.14          5.42\n",
       "                  73.45          6.39\n",
       "Name: int_rate, dtype: float64"
      ]
     },
     "execution_count": 433,
     "metadata": {},
     "output_type": "execute_result"
    }
   ],
   "source": [
    "df_new2.groupby(['grade','sub_grade','installment'])['int_rate'].median().head(50)"
   ]
  },
  {
   "cell_type": "code",
   "execution_count": 421,
   "id": "ef1032df",
   "metadata": {},
   "outputs": [
    {
     "data": {
      "text/plain": [
       "8530"
      ]
     },
     "execution_count": 421,
     "metadata": {},
     "output_type": "execute_result"
    }
   ],
   "source": [
    "df_new2[df_new2['int_rate']>15].int_rate.count()"
   ]
  },
  {
   "cell_type": "code",
   "execution_count": 422,
   "id": "80ec63f4",
   "metadata": {},
   "outputs": [
    {
     "data": {
      "text/html": [
       "<div>\n",
       "<style scoped>\n",
       "    .dataframe tbody tr th:only-of-type {\n",
       "        vertical-align: middle;\n",
       "    }\n",
       "\n",
       "    .dataframe tbody tr th {\n",
       "        vertical-align: top;\n",
       "    }\n",
       "\n",
       "    .dataframe thead th {\n",
       "        text-align: right;\n",
       "    }\n",
       "</style>\n",
       "<table border=\"1\" class=\"dataframe\">\n",
       "  <thead>\n",
       "    <tr style=\"text-align: right;\">\n",
       "      <th></th>\n",
       "      <th>id</th>\n",
       "      <th>member_id</th>\n",
       "      <th>loan_amnt</th>\n",
       "      <th>funded_amnt</th>\n",
       "      <th>funded_amnt_inv</th>\n",
       "      <th>term</th>\n",
       "      <th>int_rate</th>\n",
       "      <th>installment</th>\n",
       "      <th>grade</th>\n",
       "      <th>sub_grade</th>\n",
       "      <th>...</th>\n",
       "      <th>total_rec_late_fee</th>\n",
       "      <th>recoveries</th>\n",
       "      <th>collection_recovery_fee</th>\n",
       "      <th>last_pymnt_d</th>\n",
       "      <th>last_pymnt_amnt</th>\n",
       "      <th>last_credit_pull_d</th>\n",
       "      <th>application_type</th>\n",
       "      <th>chargeoff_within_12_mths</th>\n",
       "      <th>pub_rec_bankruptcies</th>\n",
       "      <th>compare</th>\n",
       "    </tr>\n",
       "  </thead>\n",
       "  <tbody>\n",
       "    <tr>\n",
       "      <th>1</th>\n",
       "      <td>1077430</td>\n",
       "      <td>1314167</td>\n",
       "      <td>2500</td>\n",
       "      <td>2500</td>\n",
       "      <td>2500.0</td>\n",
       "      <td>60 months</td>\n",
       "      <td>15.27</td>\n",
       "      <td>59.83</td>\n",
       "      <td>C</td>\n",
       "      <td>C4</td>\n",
       "      <td>...</td>\n",
       "      <td>0.0</td>\n",
       "      <td>117.08</td>\n",
       "      <td>1.11</td>\n",
       "      <td>Apr-13</td>\n",
       "      <td>119.66</td>\n",
       "      <td>Sep-13</td>\n",
       "      <td>INDIVIDUAL</td>\n",
       "      <td>0.0</td>\n",
       "      <td>0.0</td>\n",
       "      <td>2500.0</td>\n",
       "    </tr>\n",
       "    <tr>\n",
       "      <th>2</th>\n",
       "      <td>1077175</td>\n",
       "      <td>1313524</td>\n",
       "      <td>2400</td>\n",
       "      <td>2400</td>\n",
       "      <td>2400.0</td>\n",
       "      <td>36 months</td>\n",
       "      <td>15.96</td>\n",
       "      <td>84.33</td>\n",
       "      <td>C</td>\n",
       "      <td>C5</td>\n",
       "      <td>...</td>\n",
       "      <td>0.0</td>\n",
       "      <td>0.00</td>\n",
       "      <td>0.00</td>\n",
       "      <td>Jun-14</td>\n",
       "      <td>649.91</td>\n",
       "      <td>May-16</td>\n",
       "      <td>INDIVIDUAL</td>\n",
       "      <td>0.0</td>\n",
       "      <td>0.0</td>\n",
       "      <td>2400.0</td>\n",
       "    </tr>\n",
       "    <tr>\n",
       "      <th>6</th>\n",
       "      <td>1069639</td>\n",
       "      <td>1304742</td>\n",
       "      <td>7000</td>\n",
       "      <td>7000</td>\n",
       "      <td>7000.0</td>\n",
       "      <td>60 months</td>\n",
       "      <td>15.96</td>\n",
       "      <td>170.08</td>\n",
       "      <td>C</td>\n",
       "      <td>C5</td>\n",
       "      <td>...</td>\n",
       "      <td>0.0</td>\n",
       "      <td>0.00</td>\n",
       "      <td>0.00</td>\n",
       "      <td>May-16</td>\n",
       "      <td>1313.76</td>\n",
       "      <td>May-16</td>\n",
       "      <td>INDIVIDUAL</td>\n",
       "      <td>0.0</td>\n",
       "      <td>0.0</td>\n",
       "      <td>7000.0</td>\n",
       "    </tr>\n",
       "    <tr>\n",
       "      <th>7</th>\n",
       "      <td>1072053</td>\n",
       "      <td>1288686</td>\n",
       "      <td>3000</td>\n",
       "      <td>3000</td>\n",
       "      <td>3000.0</td>\n",
       "      <td>36 months</td>\n",
       "      <td>18.64</td>\n",
       "      <td>109.43</td>\n",
       "      <td>E</td>\n",
       "      <td>E1</td>\n",
       "      <td>...</td>\n",
       "      <td>0.0</td>\n",
       "      <td>0.00</td>\n",
       "      <td>0.00</td>\n",
       "      <td>Jan-15</td>\n",
       "      <td>111.34</td>\n",
       "      <td>Dec-14</td>\n",
       "      <td>INDIVIDUAL</td>\n",
       "      <td>0.0</td>\n",
       "      <td>0.0</td>\n",
       "      <td>3000.0</td>\n",
       "    </tr>\n",
       "    <tr>\n",
       "      <th>8</th>\n",
       "      <td>1071795</td>\n",
       "      <td>1306957</td>\n",
       "      <td>5600</td>\n",
       "      <td>5600</td>\n",
       "      <td>5600.0</td>\n",
       "      <td>60 months</td>\n",
       "      <td>21.28</td>\n",
       "      <td>152.39</td>\n",
       "      <td>F</td>\n",
       "      <td>F2</td>\n",
       "      <td>...</td>\n",
       "      <td>0.0</td>\n",
       "      <td>189.06</td>\n",
       "      <td>2.09</td>\n",
       "      <td>Apr-12</td>\n",
       "      <td>152.39</td>\n",
       "      <td>Aug-12</td>\n",
       "      <td>INDIVIDUAL</td>\n",
       "      <td>0.0</td>\n",
       "      <td>0.0</td>\n",
       "      <td>5600.0</td>\n",
       "    </tr>\n",
       "  </tbody>\n",
       "</table>\n",
       "<p>5 rows × 46 columns</p>\n",
       "</div>"
      ],
      "text/plain": [
       "        id  member_id  loan_amnt  funded_amnt  funded_amnt_inv        term  \\\n",
       "1  1077430    1314167       2500         2500           2500.0   60 months   \n",
       "2  1077175    1313524       2400         2400           2400.0   36 months   \n",
       "6  1069639    1304742       7000         7000           7000.0   60 months   \n",
       "7  1072053    1288686       3000         3000           3000.0   36 months   \n",
       "8  1071795    1306957       5600         5600           5600.0   60 months   \n",
       "\n",
       "   int_rate  installment grade sub_grade  ... total_rec_late_fee recoveries  \\\n",
       "1     15.27        59.83     C        C4  ...                0.0     117.08   \n",
       "2     15.96        84.33     C        C5  ...                0.0       0.00   \n",
       "6     15.96       170.08     C        C5  ...                0.0       0.00   \n",
       "7     18.64       109.43     E        E1  ...                0.0       0.00   \n",
       "8     21.28       152.39     F        F2  ...                0.0     189.06   \n",
       "\n",
       "  collection_recovery_fee  last_pymnt_d last_pymnt_amnt last_credit_pull_d  \\\n",
       "1                    1.11        Apr-13          119.66             Sep-13   \n",
       "2                    0.00        Jun-14          649.91             May-16   \n",
       "6                    0.00        May-16         1313.76             May-16   \n",
       "7                    0.00        Jan-15          111.34             Dec-14   \n",
       "8                    2.09        Apr-12          152.39             Aug-12   \n",
       "\n",
       "  application_type chargeoff_within_12_mths pub_rec_bankruptcies compare  \n",
       "1       INDIVIDUAL                      0.0                  0.0  2500.0  \n",
       "2       INDIVIDUAL                      0.0                  0.0  2400.0  \n",
       "6       INDIVIDUAL                      0.0                  0.0  7000.0  \n",
       "7       INDIVIDUAL                      0.0                  0.0  3000.0  \n",
       "8       INDIVIDUAL                      0.0                  0.0  5600.0  \n",
       "\n",
       "[5 rows x 46 columns]"
      ]
     },
     "execution_count": 422,
     "metadata": {},
     "output_type": "execute_result"
    }
   ],
   "source": [
    "df_new2[df_new2['int_rate']>15].head()"
   ]
  },
  {
   "cell_type": "code",
   "execution_count": 425,
   "id": "d6c10d81",
   "metadata": {},
   "outputs": [
    {
     "data": {
      "text/plain": [
       "count    39717.000000\n",
       "mean       324.561922\n",
       "std        208.874874\n",
       "min         15.690000\n",
       "25%        167.020000\n",
       "50%        280.220000\n",
       "75%        430.780000\n",
       "max       1305.190000\n",
       "Name: installment, dtype: float64"
      ]
     },
     "execution_count": 425,
     "metadata": {},
     "output_type": "execute_result"
    }
   ],
   "source": [
    "df_new2.installment.describe()"
   ]
  },
  {
   "cell_type": "code",
   "execution_count": 428,
   "id": "a7cbddc8",
   "metadata": {},
   "outputs": [
    {
     "data": {
      "text/plain": [
       "1305.19    1\n",
       "1302.69    1\n",
       "1295.21    1\n",
       "1288.10    2\n",
       "1283.50    1\n",
       "          ..\n",
       "16.47      1\n",
       "16.31      1\n",
       "16.25      1\n",
       "16.08      1\n",
       "15.69      1\n",
       "Name: installment, Length: 15383, dtype: int64"
      ]
     },
     "execution_count": 428,
     "metadata": {},
     "output_type": "execute_result"
    }
   ],
   "source": [
    "df_new2.installment.value_counts().sort_index(ascending=False)"
   ]
  },
  {
   "cell_type": "code",
   "execution_count": 429,
   "id": "8ea82809",
   "metadata": {},
   "outputs": [
    {
     "data": {
      "text/plain": [
       "311.11    68\n",
       "180.96    59\n",
       "311.02    54\n",
       "150.80    48\n",
       "368.45    46\n",
       "          ..\n",
       "400.76     1\n",
       "827.33     1\n",
       "313.95     1\n",
       "41.38      1\n",
       "255.43     1\n",
       "Name: installment, Length: 15383, dtype: int64"
      ]
     },
     "execution_count": 429,
     "metadata": {},
     "output_type": "execute_result"
    }
   ],
   "source": [
    "df_new2.installment.value_counts().sort_values(ascending=False)"
   ]
  },
  {
   "cell_type": "code",
   "execution_count": 432,
   "id": "68a91419",
   "metadata": {},
   "outputs": [
    {
     "data": {
      "text/html": [
       "<div>\n",
       "<style scoped>\n",
       "    .dataframe tbody tr th:only-of-type {\n",
       "        vertical-align: middle;\n",
       "    }\n",
       "\n",
       "    .dataframe tbody tr th {\n",
       "        vertical-align: top;\n",
       "    }\n",
       "\n",
       "    .dataframe thead th {\n",
       "        text-align: right;\n",
       "    }\n",
       "</style>\n",
       "<table border=\"1\" class=\"dataframe\">\n",
       "  <thead>\n",
       "    <tr style=\"text-align: right;\">\n",
       "      <th></th>\n",
       "      <th>id</th>\n",
       "      <th>member_id</th>\n",
       "      <th>loan_amnt</th>\n",
       "      <th>funded_amnt</th>\n",
       "      <th>funded_amnt_inv</th>\n",
       "      <th>term</th>\n",
       "      <th>int_rate</th>\n",
       "      <th>installment</th>\n",
       "      <th>grade</th>\n",
       "      <th>sub_grade</th>\n",
       "      <th>...</th>\n",
       "      <th>total_rec_late_fee</th>\n",
       "      <th>recoveries</th>\n",
       "      <th>collection_recovery_fee</th>\n",
       "      <th>last_pymnt_d</th>\n",
       "      <th>last_pymnt_amnt</th>\n",
       "      <th>last_credit_pull_d</th>\n",
       "      <th>application_type</th>\n",
       "      <th>chargeoff_within_12_mths</th>\n",
       "      <th>pub_rec_bankruptcies</th>\n",
       "      <th>compare</th>\n",
       "    </tr>\n",
       "  </thead>\n",
       "  <tbody>\n",
       "    <tr>\n",
       "      <th>128</th>\n",
       "      <td>1068159</td>\n",
       "      <td>1302729</td>\n",
       "      <td>35000</td>\n",
       "      <td>35000</td>\n",
       "      <td>35000.00000</td>\n",
       "      <td>36 months</td>\n",
       "      <td>8.90</td>\n",
       "      <td>1111.37</td>\n",
       "      <td>A</td>\n",
       "      <td>A5</td>\n",
       "      <td>...</td>\n",
       "      <td>0.0</td>\n",
       "      <td>0.0</td>\n",
       "      <td>0.0</td>\n",
       "      <td>Jan-15</td>\n",
       "      <td>1123.85</td>\n",
       "      <td>Mar-16</td>\n",
       "      <td>INDIVIDUAL</td>\n",
       "      <td>0.0</td>\n",
       "      <td>0.0</td>\n",
       "      <td>35000.0</td>\n",
       "    </tr>\n",
       "    <tr>\n",
       "      <th>185</th>\n",
       "      <td>1067084</td>\n",
       "      <td>1301459</td>\n",
       "      <td>35000</td>\n",
       "      <td>35000</td>\n",
       "      <td>35000.00000</td>\n",
       "      <td>36 months</td>\n",
       "      <td>10.65</td>\n",
       "      <td>1140.07</td>\n",
       "      <td>B</td>\n",
       "      <td>B2</td>\n",
       "      <td>...</td>\n",
       "      <td>0.0</td>\n",
       "      <td>0.0</td>\n",
       "      <td>0.0</td>\n",
       "      <td>Oct-13</td>\n",
       "      <td>272.59</td>\n",
       "      <td>Sep-13</td>\n",
       "      <td>INDIVIDUAL</td>\n",
       "      <td>0.0</td>\n",
       "      <td>0.0</td>\n",
       "      <td>35000.0</td>\n",
       "    </tr>\n",
       "    <tr>\n",
       "      <th>276</th>\n",
       "      <td>1065896</td>\n",
       "      <td>1300036</td>\n",
       "      <td>35000</td>\n",
       "      <td>35000</td>\n",
       "      <td>35000.00000</td>\n",
       "      <td>36 months</td>\n",
       "      <td>8.90</td>\n",
       "      <td>1111.37</td>\n",
       "      <td>A</td>\n",
       "      <td>A5</td>\n",
       "      <td>...</td>\n",
       "      <td>0.0</td>\n",
       "      <td>0.0</td>\n",
       "      <td>0.0</td>\n",
       "      <td>Oct-12</td>\n",
       "      <td>27308.49</td>\n",
       "      <td>Oct-12</td>\n",
       "      <td>INDIVIDUAL</td>\n",
       "      <td>0.0</td>\n",
       "      <td>0.0</td>\n",
       "      <td>35000.0</td>\n",
       "    </tr>\n",
       "    <tr>\n",
       "      <th>507</th>\n",
       "      <td>1053188</td>\n",
       "      <td>1284748</td>\n",
       "      <td>30000</td>\n",
       "      <td>30000</td>\n",
       "      <td>30000.00000</td>\n",
       "      <td>36 months</td>\n",
       "      <td>12.42</td>\n",
       "      <td>1002.46</td>\n",
       "      <td>B</td>\n",
       "      <td>B4</td>\n",
       "      <td>...</td>\n",
       "      <td>0.0</td>\n",
       "      <td>0.0</td>\n",
       "      <td>0.0</td>\n",
       "      <td>Dec-14</td>\n",
       "      <td>1013.44</td>\n",
       "      <td>Apr-16</td>\n",
       "      <td>INDIVIDUAL</td>\n",
       "      <td>0.0</td>\n",
       "      <td>0.0</td>\n",
       "      <td>30000.0</td>\n",
       "    </tr>\n",
       "    <tr>\n",
       "      <th>609</th>\n",
       "      <td>1056174</td>\n",
       "      <td>1287750</td>\n",
       "      <td>35000</td>\n",
       "      <td>35000</td>\n",
       "      <td>35000.00000</td>\n",
       "      <td>36 months</td>\n",
       "      <td>8.90</td>\n",
       "      <td>1111.37</td>\n",
       "      <td>A</td>\n",
       "      <td>A5</td>\n",
       "      <td>...</td>\n",
       "      <td>0.0</td>\n",
       "      <td>0.0</td>\n",
       "      <td>0.0</td>\n",
       "      <td>Dec-14</td>\n",
       "      <td>1120.69</td>\n",
       "      <td>Apr-16</td>\n",
       "      <td>INDIVIDUAL</td>\n",
       "      <td>0.0</td>\n",
       "      <td>0.0</td>\n",
       "      <td>35000.0</td>\n",
       "    </tr>\n",
       "    <tr>\n",
       "      <th>...</th>\n",
       "      <td>...</td>\n",
       "      <td>...</td>\n",
       "      <td>...</td>\n",
       "      <td>...</td>\n",
       "      <td>...</td>\n",
       "      <td>...</td>\n",
       "      <td>...</td>\n",
       "      <td>...</td>\n",
       "      <td>...</td>\n",
       "      <td>...</td>\n",
       "      <td>...</td>\n",
       "      <td>...</td>\n",
       "      <td>...</td>\n",
       "      <td>...</td>\n",
       "      <td>...</td>\n",
       "      <td>...</td>\n",
       "      <td>...</td>\n",
       "      <td>...</td>\n",
       "      <td>...</td>\n",
       "      <td>...</td>\n",
       "      <td>...</td>\n",
       "    </tr>\n",
       "    <tr>\n",
       "      <th>19249</th>\n",
       "      <td>677937</td>\n",
       "      <td>866167</td>\n",
       "      <td>30000</td>\n",
       "      <td>30000</td>\n",
       "      <td>30000.00000</td>\n",
       "      <td>36 months</td>\n",
       "      <td>18.62</td>\n",
       "      <td>1093.93</td>\n",
       "      <td>F</td>\n",
       "      <td>F2</td>\n",
       "      <td>...</td>\n",
       "      <td>0.0</td>\n",
       "      <td>0.0</td>\n",
       "      <td>0.0</td>\n",
       "      <td>Jan-13</td>\n",
       "      <td>14774.66</td>\n",
       "      <td>May-16</td>\n",
       "      <td>INDIVIDUAL</td>\n",
       "      <td>0.0</td>\n",
       "      <td>0.0</td>\n",
       "      <td>30000.0</td>\n",
       "    </tr>\n",
       "    <tr>\n",
       "      <th>19319</th>\n",
       "      <td>677569</td>\n",
       "      <td>865685</td>\n",
       "      <td>31050</td>\n",
       "      <td>31050</td>\n",
       "      <td>31050.00000</td>\n",
       "      <td>36 months</td>\n",
       "      <td>14.17</td>\n",
       "      <td>1063.79</td>\n",
       "      <td>C</td>\n",
       "      <td>C5</td>\n",
       "      <td>...</td>\n",
       "      <td>0.0</td>\n",
       "      <td>0.0</td>\n",
       "      <td>0.0</td>\n",
       "      <td>Nov-12</td>\n",
       "      <td>16512.91</td>\n",
       "      <td>May-16</td>\n",
       "      <td>INDIVIDUAL</td>\n",
       "      <td>0.0</td>\n",
       "      <td>0.0</td>\n",
       "      <td>31050.0</td>\n",
       "    </tr>\n",
       "    <tr>\n",
       "      <th>19356</th>\n",
       "      <td>674846</td>\n",
       "      <td>862525</td>\n",
       "      <td>35000</td>\n",
       "      <td>35000</td>\n",
       "      <td>34930.28146</td>\n",
       "      <td>36 months</td>\n",
       "      <td>13.80</td>\n",
       "      <td>1192.83</td>\n",
       "      <td>C</td>\n",
       "      <td>C4</td>\n",
       "      <td>...</td>\n",
       "      <td>0.0</td>\n",
       "      <td>0.0</td>\n",
       "      <td>0.0</td>\n",
       "      <td>Mar-13</td>\n",
       "      <td>4913.77</td>\n",
       "      <td>Mar-13</td>\n",
       "      <td>INDIVIDUAL</td>\n",
       "      <td>0.0</td>\n",
       "      <td>0.0</td>\n",
       "      <td>35000.0</td>\n",
       "    </tr>\n",
       "    <tr>\n",
       "      <th>19369</th>\n",
       "      <td>676202</td>\n",
       "      <td>864156</td>\n",
       "      <td>30000</td>\n",
       "      <td>30000</td>\n",
       "      <td>29856.31064</td>\n",
       "      <td>36 months</td>\n",
       "      <td>14.91</td>\n",
       "      <td>1038.64</td>\n",
       "      <td>D</td>\n",
       "      <td>D2</td>\n",
       "      <td>...</td>\n",
       "      <td>0.0</td>\n",
       "      <td>0.0</td>\n",
       "      <td>0.0</td>\n",
       "      <td>Mar-14</td>\n",
       "      <td>1102.12</td>\n",
       "      <td>Mar-14</td>\n",
       "      <td>INDIVIDUAL</td>\n",
       "      <td>0.0</td>\n",
       "      <td>0.0</td>\n",
       "      <td>30000.0</td>\n",
       "    </tr>\n",
       "    <tr>\n",
       "      <th>19395</th>\n",
       "      <td>676268</td>\n",
       "      <td>864230</td>\n",
       "      <td>35000</td>\n",
       "      <td>35000</td>\n",
       "      <td>35000.00000</td>\n",
       "      <td>36 months</td>\n",
       "      <td>12.68</td>\n",
       "      <td>1173.91</td>\n",
       "      <td>C</td>\n",
       "      <td>C1</td>\n",
       "      <td>...</td>\n",
       "      <td>0.0</td>\n",
       "      <td>0.0</td>\n",
       "      <td>0.0</td>\n",
       "      <td>Mar-13</td>\n",
       "      <td>14397.65</td>\n",
       "      <td>Mar-13</td>\n",
       "      <td>INDIVIDUAL</td>\n",
       "      <td>0.0</td>\n",
       "      <td>0.0</td>\n",
       "      <td>35000.0</td>\n",
       "    </tr>\n",
       "  </tbody>\n",
       "</table>\n",
       "<p>235 rows × 46 columns</p>\n",
       "</div>"
      ],
      "text/plain": [
       "            id  member_id  loan_amnt  funded_amnt  funded_amnt_inv  \\\n",
       "128    1068159    1302729      35000        35000      35000.00000   \n",
       "185    1067084    1301459      35000        35000      35000.00000   \n",
       "276    1065896    1300036      35000        35000      35000.00000   \n",
       "507    1053188    1284748      30000        30000      30000.00000   \n",
       "609    1056174    1287750      35000        35000      35000.00000   \n",
       "...        ...        ...        ...          ...              ...   \n",
       "19249   677937     866167      30000        30000      30000.00000   \n",
       "19319   677569     865685      31050        31050      31050.00000   \n",
       "19356   674846     862525      35000        35000      34930.28146   \n",
       "19369   676202     864156      30000        30000      29856.31064   \n",
       "19395   676268     864230      35000        35000      35000.00000   \n",
       "\n",
       "             term  int_rate  installment grade sub_grade  ...  \\\n",
       "128     36 months      8.90      1111.37     A        A5  ...   \n",
       "185     36 months     10.65      1140.07     B        B2  ...   \n",
       "276     36 months      8.90      1111.37     A        A5  ...   \n",
       "507     36 months     12.42      1002.46     B        B4  ...   \n",
       "609     36 months      8.90      1111.37     A        A5  ...   \n",
       "...           ...       ...          ...   ...       ...  ...   \n",
       "19249   36 months     18.62      1093.93     F        F2  ...   \n",
       "19319   36 months     14.17      1063.79     C        C5  ...   \n",
       "19356   36 months     13.80      1192.83     C        C4  ...   \n",
       "19369   36 months     14.91      1038.64     D        D2  ...   \n",
       "19395   36 months     12.68      1173.91     C        C1  ...   \n",
       "\n",
       "      total_rec_late_fee recoveries collection_recovery_fee  last_pymnt_d  \\\n",
       "128                  0.0        0.0                     0.0        Jan-15   \n",
       "185                  0.0        0.0                     0.0        Oct-13   \n",
       "276                  0.0        0.0                     0.0        Oct-12   \n",
       "507                  0.0        0.0                     0.0        Dec-14   \n",
       "609                  0.0        0.0                     0.0        Dec-14   \n",
       "...                  ...        ...                     ...           ...   \n",
       "19249                0.0        0.0                     0.0        Jan-13   \n",
       "19319                0.0        0.0                     0.0        Nov-12   \n",
       "19356                0.0        0.0                     0.0        Mar-13   \n",
       "19369                0.0        0.0                     0.0        Mar-14   \n",
       "19395                0.0        0.0                     0.0        Mar-13   \n",
       "\n",
       "      last_pymnt_amnt last_credit_pull_d application_type  \\\n",
       "128           1123.85             Mar-16       INDIVIDUAL   \n",
       "185            272.59             Sep-13       INDIVIDUAL   \n",
       "276          27308.49             Oct-12       INDIVIDUAL   \n",
       "507           1013.44             Apr-16       INDIVIDUAL   \n",
       "609           1120.69             Apr-16       INDIVIDUAL   \n",
       "...               ...                ...              ...   \n",
       "19249        14774.66             May-16       INDIVIDUAL   \n",
       "19319        16512.91             May-16       INDIVIDUAL   \n",
       "19356         4913.77             Mar-13       INDIVIDUAL   \n",
       "19369         1102.12             Mar-14       INDIVIDUAL   \n",
       "19395        14397.65             Mar-13       INDIVIDUAL   \n",
       "\n",
       "      chargeoff_within_12_mths pub_rec_bankruptcies  compare  \n",
       "128                        0.0                  0.0  35000.0  \n",
       "185                        0.0                  0.0  35000.0  \n",
       "276                        0.0                  0.0  35000.0  \n",
       "507                        0.0                  0.0  30000.0  \n",
       "609                        0.0                  0.0  35000.0  \n",
       "...                        ...                  ...      ...  \n",
       "19249                      0.0                  0.0  30000.0  \n",
       "19319                      0.0                  0.0  31050.0  \n",
       "19356                      0.0                  0.0  35000.0  \n",
       "19369                      0.0                  0.0  30000.0  \n",
       "19395                      0.0                  0.0  35000.0  \n",
       "\n",
       "[235 rows x 46 columns]"
      ]
     },
     "execution_count": 432,
     "metadata": {},
     "output_type": "execute_result"
    }
   ],
   "source": [
    "df_new2[df_new2.installment>1000]"
   ]
  },
  {
   "cell_type": "code",
   "execution_count": 439,
   "id": "336cb1cf",
   "metadata": {},
   "outputs": [
    {
     "data": {
      "text/plain": [
       "grade\n",
       "A    10085\n",
       "B    12020\n",
       "C     8098\n",
       "D     5307\n",
       "E     2842\n",
       "F     1049\n",
       "G      316\n",
       "Name: member_id, dtype: int64"
      ]
     },
     "execution_count": 439,
     "metadata": {},
     "output_type": "execute_result"
    }
   ],
   "source": [
    "df_new2.groupby(['grade'])['member_id'].count()"
   ]
  },
  {
   "cell_type": "code",
   "execution_count": 446,
   "id": "f0cecf2d",
   "metadata": {},
   "outputs": [
    {
     "data": {
      "text/plain": [
       "<AxesSubplot:xlabel='grade'>"
      ]
     },
     "execution_count": 446,
     "metadata": {},
     "output_type": "execute_result"
    },
    {
     "data": {
      "image/png": "[encoded data removed]",
      "text/plain": [
       "<Figure size 432x288 with 1 Axes>"
      ]
     },
     "metadata": {
      "needs_background": "light"
     },
     "output_type": "display_data"
    }
   ],
   "source": [
    "df_new2.groupby(['grade'])['member_id'].count().plot.bar()"
   ]
  },
  {
   "cell_type": "code",
   "execution_count": 444,
   "id": "6c008b06",
   "metadata": {},
   "outputs": [
    {
     "data": {
      "text/plain": [
       "grade  sub_grade\n",
       "A      A1           1139\n",
       "       A2           1508\n",
       "       A3           1810\n",
       "       A4           2886\n",
       "       A5           2742\n",
       "B      B1           1830\n",
       "       B2           2057\n",
       "       B3           2917\n",
       "       B4           2512\n",
       "       B5           2704\n",
       "C      C1           2136\n",
       "       C2           2011\n",
       "       C3           1529\n",
       "       C4           1236\n",
       "       C5           1186\n",
       "D      D1            931\n",
       "       D2           1348\n",
       "       D3           1173\n",
       "       D4            981\n",
       "       D5            874\n",
       "E      E1            763\n",
       "       E2            656\n",
       "       E3            553\n",
       "       E4            454\n",
       "       E5            416\n",
       "F      F1            329\n",
       "       F2            249\n",
       "       F3            185\n",
       "       F4            168\n",
       "       F5            118\n",
       "G      G1            104\n",
       "       G2             78\n",
       "       G3             48\n",
       "       G4             56\n",
       "       G5             30\n",
       "Name: member_id, dtype: int64"
      ]
     },
     "execution_count": 444,
     "metadata": {},
     "output_type": "execute_result"
    }
   ],
   "source": [
    "df_new2.groupby(['grade','sub_grade'])['member_id'].count()"
   ]
  },
  {
   "cell_type": "code",
   "execution_count": 447,
   "id": "89cd2a21",
   "metadata": {},
   "outputs": [
    {
     "data": {
      "text/plain": [
       "<AxesSubplot:xlabel='grade,sub_grade'>"
      ]
     },
     "execution_count": 447,
     "metadata": {},
     "output_type": "execute_result"
    },
    {
     "data": {
      "image/png": "[encoded data removed]",
      "text/plain": [
       "<Figure size 432x288 with 1 Axes>"
      ]
     },
     "metadata": {
      "needs_background": "light"
     },
     "output_type": "display_data"
    }
   ],
   "source": [
    "df_new2.groupby(['grade','sub_grade'])['member_id'].count().plot.bar()"
   ]
  },
  {
   "cell_type": "code",
   "execution_count": 587,
   "id": "b92c9232",
   "metadata": {},
   "outputs": [],
   "source": [
    "ax = df_new2.groupby(['grade','sub_grade'])['member_id'].count().reset_index()"
   ]
  },
  {
   "cell_type": "code",
   "execution_count": 588,
   "id": "8953a119",
   "metadata": {},
   "outputs": [
    {
     "data": {
      "text/html": [
       "<div>\n",
       "<style scoped>\n",
       "    .dataframe tbody tr th:only-of-type {\n",
       "        vertical-align: middle;\n",
       "    }\n",
       "\n",
       "    .dataframe tbody tr th {\n",
       "        vertical-align: top;\n",
       "    }\n",
       "\n",
       "    .dataframe thead th {\n",
       "        text-align: right;\n",
       "    }\n",
       "</style>\n",
       "<table border=\"1\" class=\"dataframe\">\n",
       "  <thead>\n",
       "    <tr style=\"text-align: right;\">\n",
       "      <th></th>\n",
       "      <th>grade</th>\n",
       "      <th>sub_grade</th>\n",
       "      <th>member_id</th>\n",
       "    </tr>\n",
       "  </thead>\n",
       "  <tbody>\n",
       "    <tr>\n",
       "      <th>0</th>\n",
       "      <td>A</td>\n",
       "      <td>A1</td>\n",
       "      <td>1139</td>\n",
       "    </tr>\n",
       "    <tr>\n",
       "      <th>1</th>\n",
       "      <td>A</td>\n",
       "      <td>A2</td>\n",
       "      <td>1508</td>\n",
       "    </tr>\n",
       "    <tr>\n",
       "      <th>2</th>\n",
       "      <td>A</td>\n",
       "      <td>A3</td>\n",
       "      <td>1810</td>\n",
       "    </tr>\n",
       "    <tr>\n",
       "      <th>3</th>\n",
       "      <td>A</td>\n",
       "      <td>A4</td>\n",
       "      <td>2886</td>\n",
       "    </tr>\n",
       "    <tr>\n",
       "      <th>4</th>\n",
       "      <td>A</td>\n",
       "      <td>A5</td>\n",
       "      <td>2742</td>\n",
       "    </tr>\n",
       "    <tr>\n",
       "      <th>5</th>\n",
       "      <td>B</td>\n",
       "      <td>B1</td>\n",
       "      <td>1830</td>\n",
       "    </tr>\n",
       "    <tr>\n",
       "      <th>6</th>\n",
       "      <td>B</td>\n",
       "      <td>B2</td>\n",
       "      <td>2057</td>\n",
       "    </tr>\n",
       "    <tr>\n",
       "      <th>7</th>\n",
       "      <td>B</td>\n",
       "      <td>B3</td>\n",
       "      <td>2917</td>\n",
       "    </tr>\n",
       "    <tr>\n",
       "      <th>8</th>\n",
       "      <td>B</td>\n",
       "      <td>B4</td>\n",
       "      <td>2512</td>\n",
       "    </tr>\n",
       "    <tr>\n",
       "      <th>9</th>\n",
       "      <td>B</td>\n",
       "      <td>B5</td>\n",
       "      <td>2704</td>\n",
       "    </tr>\n",
       "    <tr>\n",
       "      <th>10</th>\n",
       "      <td>C</td>\n",
       "      <td>C1</td>\n",
       "      <td>2136</td>\n",
       "    </tr>\n",
       "    <tr>\n",
       "      <th>11</th>\n",
       "      <td>C</td>\n",
       "      <td>C2</td>\n",
       "      <td>2011</td>\n",
       "    </tr>\n",
       "    <tr>\n",
       "      <th>12</th>\n",
       "      <td>C</td>\n",
       "      <td>C3</td>\n",
       "      <td>1529</td>\n",
       "    </tr>\n",
       "    <tr>\n",
       "      <th>13</th>\n",
       "      <td>C</td>\n",
       "      <td>C4</td>\n",
       "      <td>1236</td>\n",
       "    </tr>\n",
       "    <tr>\n",
       "      <th>14</th>\n",
       "      <td>C</td>\n",
       "      <td>C5</td>\n",
       "      <td>1186</td>\n",
       "    </tr>\n",
       "    <tr>\n",
       "      <th>15</th>\n",
       "      <td>D</td>\n",
       "      <td>D1</td>\n",
       "      <td>931</td>\n",
       "    </tr>\n",
       "    <tr>\n",
       "      <th>16</th>\n",
       "      <td>D</td>\n",
       "      <td>D2</td>\n",
       "      <td>1348</td>\n",
       "    </tr>\n",
       "    <tr>\n",
       "      <th>17</th>\n",
       "      <td>D</td>\n",
       "      <td>D3</td>\n",
       "      <td>1173</td>\n",
       "    </tr>\n",
       "    <tr>\n",
       "      <th>18</th>\n",
       "      <td>D</td>\n",
       "      <td>D4</td>\n",
       "      <td>981</td>\n",
       "    </tr>\n",
       "    <tr>\n",
       "      <th>19</th>\n",
       "      <td>D</td>\n",
       "      <td>D5</td>\n",
       "      <td>874</td>\n",
       "    </tr>\n",
       "    <tr>\n",
       "      <th>20</th>\n",
       "      <td>E</td>\n",
       "      <td>E1</td>\n",
       "      <td>763</td>\n",
       "    </tr>\n",
       "    <tr>\n",
       "      <th>21</th>\n",
       "      <td>E</td>\n",
       "      <td>E2</td>\n",
       "      <td>656</td>\n",
       "    </tr>\n",
       "    <tr>\n",
       "      <th>22</th>\n",
       "      <td>E</td>\n",
       "      <td>E3</td>\n",
       "      <td>553</td>\n",
       "    </tr>\n",
       "    <tr>\n",
       "      <th>23</th>\n",
       "      <td>E</td>\n",
       "      <td>E4</td>\n",
       "      <td>454</td>\n",
       "    </tr>\n",
       "    <tr>\n",
       "      <th>24</th>\n",
       "      <td>E</td>\n",
       "      <td>E5</td>\n",
       "      <td>416</td>\n",
       "    </tr>\n",
       "    <tr>\n",
       "      <th>25</th>\n",
       "      <td>F</td>\n",
       "      <td>F1</td>\n",
       "      <td>329</td>\n",
       "    </tr>\n",
       "    <tr>\n",
       "      <th>26</th>\n",
       "      <td>F</td>\n",
       "      <td>F2</td>\n",
       "      <td>249</td>\n",
       "    </tr>\n",
       "    <tr>\n",
       "      <th>27</th>\n",
       "      <td>F</td>\n",
       "      <td>F3</td>\n",
       "      <td>185</td>\n",
       "    </tr>\n",
       "    <tr>\n",
       "      <th>28</th>\n",
       "      <td>F</td>\n",
       "      <td>F4</td>\n",
       "      <td>168</td>\n",
       "    </tr>\n",
       "    <tr>\n",
       "      <th>29</th>\n",
       "      <td>F</td>\n",
       "      <td>F5</td>\n",
       "      <td>118</td>\n",
       "    </tr>\n",
       "    <tr>\n",
       "      <th>30</th>\n",
       "      <td>G</td>\n",
       "      <td>G1</td>\n",
       "      <td>104</td>\n",
       "    </tr>\n",
       "    <tr>\n",
       "      <th>31</th>\n",
       "      <td>G</td>\n",
       "      <td>G2</td>\n",
       "      <td>78</td>\n",
       "    </tr>\n",
       "    <tr>\n",
       "      <th>32</th>\n",
       "      <td>G</td>\n",
       "      <td>G3</td>\n",
       "      <td>48</td>\n",
       "    </tr>\n",
       "    <tr>\n",
       "      <th>33</th>\n",
       "      <td>G</td>\n",
       "      <td>G4</td>\n",
       "      <td>56</td>\n",
       "    </tr>\n",
       "    <tr>\n",
       "      <th>34</th>\n",
       "      <td>G</td>\n",
       "      <td>G5</td>\n",
       "      <td>30</td>\n",
       "    </tr>\n",
       "  </tbody>\n",
       "</table>\n",
       "</div>"
      ],
      "text/plain": [
       "   grade sub_grade  member_id\n",
       "0      A        A1       1139\n",
       "1      A        A2       1508\n",
       "2      A        A3       1810\n",
       "3      A        A4       2886\n",
       "4      A        A5       2742\n",
       "5      B        B1       1830\n",
       "6      B        B2       2057\n",
       "7      B        B3       2917\n",
       "8      B        B4       2512\n",
       "9      B        B5       2704\n",
       "10     C        C1       2136\n",
       "11     C        C2       2011\n",
       "12     C        C3       1529\n",
       "13     C        C4       1236\n",
       "14     C        C5       1186\n",
       "15     D        D1        931\n",
       "16     D        D2       1348\n",
       "17     D        D3       1173\n",
       "18     D        D4        981\n",
       "19     D        D5        874\n",
       "20     E        E1        763\n",
       "21     E        E2        656\n",
       "22     E        E3        553\n",
       "23     E        E4        454\n",
       "24     E        E5        416\n",
       "25     F        F1        329\n",
       "26     F        F2        249\n",
       "27     F        F3        185\n",
       "28     F        F4        168\n",
       "29     F        F5        118\n",
       "30     G        G1        104\n",
       "31     G        G2         78\n",
       "32     G        G3         48\n",
       "33     G        G4         56\n",
       "34     G        G5         30"
      ]
     },
     "execution_count": 588,
     "metadata": {},
     "output_type": "execute_result"
    }
   ],
   "source": [
    "ax"
   ]
  },
  {
   "cell_type": "code",
   "execution_count": 592,
   "id": "336eb612",
   "metadata": {},
   "outputs": [
    {
     "data": {
      "text/plain": [
       "Text(0, 0.5, 'no of members')"
      ]
     },
     "execution_count": 592,
     "metadata": {},
     "output_type": "execute_result"
    },
    {
     "data": {
      "image/png": "[encoded data removed]",
      "text/plain": [
       "<Figure size 1080x720 with 1 Axes>"
      ]
     },
     "metadata": {
      "needs_background": "light"
     },
     "output_type": "display_data"
    }
   ],
   "source": [
    "plt.figure(figsize=(15,10))\n",
    "sns.barplot(x=ax.sub_grade,y=ax.member_id)\n",
    "plt.xlabel(\"subgrades\")\n",
    "plt.ylabel(\"no of members\")"
   ]
  },
  {
   "cell_type": "code",
   "execution_count": 540,
   "id": "baacf4a1",
   "metadata": {},
   "outputs": [
    {
     "data": {
      "text/plain": [
       "0     36 months\n",
       "1     60 months\n",
       "2     36 months\n",
       "3     36 months\n",
       "4     60 months\n",
       "Name: term, dtype: object"
      ]
     },
     "execution_count": 540,
     "metadata": {},
     "output_type": "execute_result"
    }
   ],
   "source": [
    "df_new2.term.head()"
   ]
  },
  {
   "cell_type": "code",
   "execution_count": 546,
   "id": "c56d23e7",
   "metadata": {},
   "outputs": [],
   "source": [
    "df_new2['term_months'] = df_new2['term'].str.split(\" \",expand=True)[1]"
   ]
  },
  {
   "cell_type": "code",
   "execution_count": 547,
   "id": "0089b4b0",
   "metadata": {},
   "outputs": [
    {
     "data": {
      "text/plain": [
       "array(['36', '60'], dtype=object)"
      ]
     },
     "execution_count": 547,
     "metadata": {},
     "output_type": "execute_result"
    }
   ],
   "source": [
    "df_new2.term_months.unique()"
   ]
  },
  {
   "cell_type": "code",
   "execution_count": 548,
   "id": "fe4ae28b",
   "metadata": {},
   "outputs": [
    {
     "data": {
      "text/plain": [
       "36    29096\n",
       "60    10621\n",
       "Name: term_months, dtype: int64"
      ]
     },
     "execution_count": 548,
     "metadata": {},
     "output_type": "execute_result"
    }
   ],
   "source": [
    "df_new2.term_months.value_counts()"
   ]
  },
  {
   "cell_type": "code",
   "execution_count": 549,
   "id": "f638a2bc",
   "metadata": {},
   "outputs": [
    {
     "data": {
      "text/plain": [
       " 36 months    29096\n",
       " 60 months    10621\n",
       "Name: term, dtype: int64"
      ]
     },
     "execution_count": 549,
     "metadata": {},
     "output_type": "execute_result"
    }
   ],
   "source": [
    "df_new2.term.value_counts()"
   ]
  },
  {
   "cell_type": "code",
   "execution_count": 557,
   "id": "b7d9772c",
   "metadata": {},
   "outputs": [],
   "source": [
    "df_new2.drop('term_months',axis=1,inplace=True)"
   ]
  },
  {
   "cell_type": "code",
   "execution_count": 651,
   "id": "16707571",
   "metadata": {},
   "outputs": [
    {
     "data": {
      "text/plain": [
       "Index(['id', 'member_id', 'loan_amnt', 'funded_amnt', 'funded_amnt_inv',\n",
       "       'term', 'int_rate', 'installment', 'grade', 'sub_grade', 'emp_title',\n",
       "       'emp_length', 'home_ownership', 'annual_inc', 'verification_status',\n",
       "       'issue_d', 'loan_status', 'url', 'purpose', 'zip_code', 'addr_state',\n",
       "       'dti', 'delinq_2yrs', 'earliest_cr_line', 'inq_last_6mths', 'open_acc',\n",
       "       'pub_rec', 'revol_bal', 'revol_util', 'total_acc', 'out_prncp',\n",
       "       'out_prncp_inv', 'total_pymnt', 'total_pymnt_inv', 'total_rec_prncp',\n",
       "       'total_rec_int', 'total_rec_late_fee', 'recoveries',\n",
       "       'collection_recovery_fee', 'last_pymnt_d', 'last_pymnt_amnt',\n",
       "       'last_credit_pull_d', 'application_type', 'pub_rec_bankruptcies',\n",
       "       'compare'],\n",
       "      dtype='object')"
      ]
     },
     "execution_count": 651,
     "metadata": {},
     "output_type": "execute_result"
    }
   ],
   "source": [
    "df_new2.columns"
   ]
  },
  {
   "cell_type": "code",
   "execution_count": 650,
   "id": "ee1b5d02",
   "metadata": {},
   "outputs": [
    {
     "data": {
      "text/plain": [
       "Index(['id', 'member_id', 'loan_amnt', 'funded_amnt', 'funded_amnt_inv',\n",
       "       'term', 'int_rate', 'installment', 'grade', 'sub_grade', 'emp_title',\n",
       "       'emp_length', 'home_ownership', 'annual_inc', 'verification_status',\n",
       "       'issue_d', 'loan_status', 'url', 'purpose', 'zip_code', 'addr_state',\n",
       "       'dti', 'delinq_2yrs', 'earliest_cr_line', 'inq_last_6mths', 'open_acc',\n",
       "       'pub_rec', 'revol_bal', 'revol_util', 'total_acc', 'out_prncp',\n",
       "       'out_prncp_inv', 'total_pymnt', 'total_pymnt_inv', 'total_rec_prncp',\n",
       "       'total_rec_int', 'total_rec_late_fee', 'recoveries',\n",
       "       'collection_recovery_fee', 'last_pymnt_d', 'last_pymnt_amnt',\n",
       "       'last_credit_pull_d', 'application_type', 'pub_rec_bankruptcies',\n",
       "       'compare'],\n",
       "      dtype='object')"
      ]
     },
     "execution_count": 650,
     "metadata": {},
     "output_type": "execute_result"
    }
   ],
   "source": [
    "df_new2.columns"
   ]
  },
  {
   "cell_type": "code",
   "execution_count": 562,
   "id": "0d4dd832",
   "metadata": {},
   "outputs": [
    {
     "data": {
      "text/plain": [
       "0    Dec-11\n",
       "1    Dec-11\n",
       "2    Dec-11\n",
       "3    Dec-11\n",
       "4    Dec-11\n",
       "Name: issue_d, dtype: object"
      ]
     },
     "execution_count": 562,
     "metadata": {},
     "output_type": "execute_result"
    }
   ],
   "source": [
    "df_new2.issue_d.head()"
   ]
  },
  {
   "cell_type": "code",
   "execution_count": 655,
   "id": "a9212abc",
   "metadata": {},
   "outputs": [],
   "source": [
    "df_new2['issue_d_year']=pd.DatetimeIndex(pd.to_datetime(df_new2[\"issue_d\"], format=\"%b-%y\")).year"
   ]
  },
  {
   "cell_type": "code",
   "execution_count": 654,
   "id": "c01d6941",
   "metadata": {},
   "outputs": [],
   "source": [
    "df_new2['issue_d_month']=pd.DatetimeIndex(pd.to_datetime(df_new2[\"issue_d\"], format=\"%b-%y\")).month"
   ]
  },
  {
   "cell_type": "code",
   "execution_count": 656,
   "id": "778494ce",
   "metadata": {},
   "outputs": [
    {
     "data": {
      "text/html": [
       "<div>\n",
       "<style scoped>\n",
       "    .dataframe tbody tr th:only-of-type {\n",
       "        vertical-align: middle;\n",
       "    }\n",
       "\n",
       "    .dataframe tbody tr th {\n",
       "        vertical-align: top;\n",
       "    }\n",
       "\n",
       "    .dataframe thead th {\n",
       "        text-align: right;\n",
       "    }\n",
       "</style>\n",
       "<table border=\"1\" class=\"dataframe\">\n",
       "  <thead>\n",
       "    <tr style=\"text-align: right;\">\n",
       "      <th></th>\n",
       "      <th>id</th>\n",
       "      <th>member_id</th>\n",
       "      <th>loan_amnt</th>\n",
       "      <th>funded_amnt</th>\n",
       "      <th>funded_amnt_inv</th>\n",
       "      <th>term</th>\n",
       "      <th>int_rate</th>\n",
       "      <th>installment</th>\n",
       "      <th>grade</th>\n",
       "      <th>sub_grade</th>\n",
       "      <th>...</th>\n",
       "      <th>recoveries</th>\n",
       "      <th>collection_recovery_fee</th>\n",
       "      <th>last_pymnt_d</th>\n",
       "      <th>last_pymnt_amnt</th>\n",
       "      <th>last_credit_pull_d</th>\n",
       "      <th>application_type</th>\n",
       "      <th>pub_rec_bankruptcies</th>\n",
       "      <th>compare</th>\n",
       "      <th>issue_d_year</th>\n",
       "      <th>issue_d_month</th>\n",
       "    </tr>\n",
       "  </thead>\n",
       "  <tbody>\n",
       "    <tr>\n",
       "      <th>0</th>\n",
       "      <td>1077501</td>\n",
       "      <td>1296599</td>\n",
       "      <td>5000</td>\n",
       "      <td>5000</td>\n",
       "      <td>4975.0</td>\n",
       "      <td>36 months</td>\n",
       "      <td>10.65</td>\n",
       "      <td>162.87</td>\n",
       "      <td>B</td>\n",
       "      <td>B2</td>\n",
       "      <td>...</td>\n",
       "      <td>0.00</td>\n",
       "      <td>0.00</td>\n",
       "      <td>Jan-15</td>\n",
       "      <td>171.62</td>\n",
       "      <td>May-16</td>\n",
       "      <td>INDIVIDUAL</td>\n",
       "      <td>0.0</td>\n",
       "      <td>5000.0</td>\n",
       "      <td>2011</td>\n",
       "      <td>12</td>\n",
       "    </tr>\n",
       "    <tr>\n",
       "      <th>1</th>\n",
       "      <td>1077430</td>\n",
       "      <td>1314167</td>\n",
       "      <td>2500</td>\n",
       "      <td>2500</td>\n",
       "      <td>2500.0</td>\n",
       "      <td>60 months</td>\n",
       "      <td>15.27</td>\n",
       "      <td>59.83</td>\n",
       "      <td>C</td>\n",
       "      <td>C4</td>\n",
       "      <td>...</td>\n",
       "      <td>117.08</td>\n",
       "      <td>1.11</td>\n",
       "      <td>Apr-13</td>\n",
       "      <td>119.66</td>\n",
       "      <td>Sep-13</td>\n",
       "      <td>INDIVIDUAL</td>\n",
       "      <td>0.0</td>\n",
       "      <td>2500.0</td>\n",
       "      <td>2011</td>\n",
       "      <td>12</td>\n",
       "    </tr>\n",
       "    <tr>\n",
       "      <th>2</th>\n",
       "      <td>1077175</td>\n",
       "      <td>1313524</td>\n",
       "      <td>2400</td>\n",
       "      <td>2400</td>\n",
       "      <td>2400.0</td>\n",
       "      <td>36 months</td>\n",
       "      <td>15.96</td>\n",
       "      <td>84.33</td>\n",
       "      <td>C</td>\n",
       "      <td>C5</td>\n",
       "      <td>...</td>\n",
       "      <td>0.00</td>\n",
       "      <td>0.00</td>\n",
       "      <td>Jun-14</td>\n",
       "      <td>649.91</td>\n",
       "      <td>May-16</td>\n",
       "      <td>INDIVIDUAL</td>\n",
       "      <td>0.0</td>\n",
       "      <td>2400.0</td>\n",
       "      <td>2011</td>\n",
       "      <td>12</td>\n",
       "    </tr>\n",
       "    <tr>\n",
       "      <th>3</th>\n",
       "      <td>1076863</td>\n",
       "      <td>1277178</td>\n",
       "      <td>10000</td>\n",
       "      <td>10000</td>\n",
       "      <td>10000.0</td>\n",
       "      <td>36 months</td>\n",
       "      <td>13.49</td>\n",
       "      <td>339.31</td>\n",
       "      <td>C</td>\n",
       "      <td>C1</td>\n",
       "      <td>...</td>\n",
       "      <td>0.00</td>\n",
       "      <td>0.00</td>\n",
       "      <td>Jan-15</td>\n",
       "      <td>357.48</td>\n",
       "      <td>Apr-16</td>\n",
       "      <td>INDIVIDUAL</td>\n",
       "      <td>0.0</td>\n",
       "      <td>10000.0</td>\n",
       "      <td>2011</td>\n",
       "      <td>12</td>\n",
       "    </tr>\n",
       "    <tr>\n",
       "      <th>4</th>\n",
       "      <td>1075358</td>\n",
       "      <td>1311748</td>\n",
       "      <td>3000</td>\n",
       "      <td>3000</td>\n",
       "      <td>3000.0</td>\n",
       "      <td>60 months</td>\n",
       "      <td>12.69</td>\n",
       "      <td>67.79</td>\n",
       "      <td>B</td>\n",
       "      <td>B5</td>\n",
       "      <td>...</td>\n",
       "      <td>0.00</td>\n",
       "      <td>0.00</td>\n",
       "      <td>May-16</td>\n",
       "      <td>67.79</td>\n",
       "      <td>May-16</td>\n",
       "      <td>INDIVIDUAL</td>\n",
       "      <td>0.0</td>\n",
       "      <td>3000.0</td>\n",
       "      <td>2011</td>\n",
       "      <td>12</td>\n",
       "    </tr>\n",
       "  </tbody>\n",
       "</table>\n",
       "<p>5 rows × 47 columns</p>\n",
       "</div>"
      ],
      "text/plain": [
       "        id  member_id  loan_amnt  funded_amnt  funded_amnt_inv        term  \\\n",
       "0  1077501    1296599       5000         5000           4975.0   36 months   \n",
       "1  1077430    1314167       2500         2500           2500.0   60 months   \n",
       "2  1077175    1313524       2400         2400           2400.0   36 months   \n",
       "3  1076863    1277178      10000        10000          10000.0   36 months   \n",
       "4  1075358    1311748       3000         3000           3000.0   60 months   \n",
       "\n",
       "   int_rate  installment grade sub_grade  ... recoveries  \\\n",
       "0     10.65       162.87     B        B2  ...       0.00   \n",
       "1     15.27        59.83     C        C4  ...     117.08   \n",
       "2     15.96        84.33     C        C5  ...       0.00   \n",
       "3     13.49       339.31     C        C1  ...       0.00   \n",
       "4     12.69        67.79     B        B5  ...       0.00   \n",
       "\n",
       "  collection_recovery_fee last_pymnt_d  last_pymnt_amnt last_credit_pull_d  \\\n",
       "0                    0.00       Jan-15           171.62             May-16   \n",
       "1                    1.11       Apr-13           119.66             Sep-13   \n",
       "2                    0.00       Jun-14           649.91             May-16   \n",
       "3                    0.00       Jan-15           357.48             Apr-16   \n",
       "4                    0.00       May-16            67.79             May-16   \n",
       "\n",
       "  application_type pub_rec_bankruptcies  compare issue_d_year issue_d_month  \n",
       "0       INDIVIDUAL                  0.0   5000.0         2011            12  \n",
       "1       INDIVIDUAL                  0.0   2500.0         2011            12  \n",
       "2       INDIVIDUAL                  0.0   2400.0         2011            12  \n",
       "3       INDIVIDUAL                  0.0  10000.0         2011            12  \n",
       "4       INDIVIDUAL                  0.0   3000.0         2011            12  \n",
       "\n",
       "[5 rows x 47 columns]"
      ]
     },
     "execution_count": 656,
     "metadata": {},
     "output_type": "execute_result"
    }
   ],
   "source": [
    "df_new2.head()"
   ]
  },
  {
   "cell_type": "code",
   "execution_count": 660,
   "id": "b93fdffa",
   "metadata": {},
   "outputs": [
    {
     "data": {
      "text/plain": [
       "dtype('int64')"
      ]
     },
     "execution_count": 660,
     "metadata": {},
     "output_type": "execute_result"
    }
   ],
   "source": [
    "df_new2['issue_d_year'].dtype"
   ]
  },
  {
   "cell_type": "code",
   "execution_count": 657,
   "id": "d80d9c3f",
   "metadata": {},
   "outputs": [
    {
     "data": {
      "text/plain": [
       "issue_d\n",
       "Apr-08     155\n",
       "Apr-09     290\n",
       "Apr-10     827\n",
       "Apr-11    1562\n",
       "Aug-07      33\n",
       "Aug-08      71\n",
       "Aug-09     408\n",
       "Aug-10    1078\n",
       "Aug-11    1928\n",
       "Dec-07      85\n",
       "Dec-08     223\n",
       "Dec-09     598\n",
       "Dec-10    1267\n",
       "Dec-11    2260\n",
       "Feb-08     174\n",
       "Feb-09     260\n",
       "Feb-10     627\n",
       "Feb-11    1297\n",
       "Jan-08     171\n",
       "Jan-09     239\n",
       "Jan-10     589\n",
       "Jan-11    1380\n",
       "Jul-07      30\n",
       "Jul-08      83\n",
       "Jul-09     374\n",
       "Jul-10    1119\n",
       "Jul-11    1870\n",
       "Jun-07       1\n",
       "Jun-08      66\n",
       "Jun-09     356\n",
       "Jun-10    1029\n",
       "Jun-11    1827\n",
       "Mar-08     236\n",
       "Mar-09     276\n",
       "Mar-10     737\n",
       "Mar-11    1443\n",
       "May-08      71\n",
       "May-09     319\n",
       "May-10     920\n",
       "May-11    1689\n",
       "Nov-07      37\n",
       "Nov-08     184\n",
       "Nov-09     602\n",
       "Nov-10    1121\n",
       "Nov-11    2223\n",
       "Oct-07      47\n",
       "Oct-08      96\n",
       "Oct-09     545\n",
       "Oct-10    1132\n",
       "Oct-11    2114\n",
       "Sep-07      18\n",
       "Sep-08      32\n",
       "Sep-09     449\n",
       "Sep-10    1086\n",
       "Sep-11    2063\n",
       "Name: member_id, dtype: int64"
      ]
     },
     "execution_count": 657,
     "metadata": {},
     "output_type": "execute_result"
    }
   ],
   "source": [
    "df_new2.groupby('issue_d')['member_id'].count()"
   ]
  },
  {
   "cell_type": "code",
   "execution_count": 658,
   "id": "e28ff832",
   "metadata": {},
   "outputs": [
    {
     "data": {
      "text/plain": [
       "issue_d_month  issue_d_year\n",
       "1              2008             171\n",
       "               2009             239\n",
       "               2010             589\n",
       "               2011            1380\n",
       "2              2008             174\n",
       "               2009             260\n",
       "               2010             627\n",
       "               2011            1297\n",
       "3              2008             236\n",
       "               2009             276\n",
       "               2010             737\n",
       "               2011            1443\n",
       "4              2008             155\n",
       "               2009             290\n",
       "               2010             827\n",
       "               2011            1562\n",
       "5              2008              71\n",
       "               2009             319\n",
       "               2010             920\n",
       "               2011            1689\n",
       "6              2007               1\n",
       "               2008              66\n",
       "               2009             356\n",
       "               2010            1029\n",
       "               2011            1827\n",
       "7              2007              30\n",
       "               2008              83\n",
       "               2009             374\n",
       "               2010            1119\n",
       "               2011            1870\n",
       "8              2007              33\n",
       "               2008              71\n",
       "               2009             408\n",
       "               2010            1078\n",
       "               2011            1928\n",
       "9              2007              18\n",
       "               2008              32\n",
       "               2009             449\n",
       "               2010            1086\n",
       "               2011            2063\n",
       "10             2007              47\n",
       "               2008              96\n",
       "               2009             545\n",
       "               2010            1132\n",
       "               2011            2114\n",
       "11             2007              37\n",
       "               2008             184\n",
       "               2009             602\n",
       "               2010            1121\n",
       "               2011            2223\n",
       "12             2007              85\n",
       "               2008             223\n",
       "               2009             598\n",
       "               2010            1267\n",
       "               2011            2260\n",
       "Name: member_id, dtype: int64"
      ]
     },
     "execution_count": 658,
     "metadata": {},
     "output_type": "execute_result"
    }
   ],
   "source": [
    "df_new2.groupby(['issue_d_month','issue_d_year'])['member_id'].count()"
   ]
  },
  {
   "cell_type": "code",
   "execution_count": 573,
   "id": "9f85ddf1",
   "metadata": {},
   "outputs": [
    {
     "data": {
      "text/plain": [
       "issue_d_year\n",
       "07      251\n",
       "08     1562\n",
       "09     4716\n",
       "10    11532\n",
       "11    21656\n",
       "Name: member_id, dtype: int64"
      ]
     },
     "execution_count": 573,
     "metadata": {},
     "output_type": "execute_result"
    }
   ],
   "source": [
    "df_new2.groupby('issue_d_year')['member_id'].count()"
   ]
  },
  {
   "cell_type": "code",
   "execution_count": 575,
   "id": "cbda02f2",
   "metadata": {},
   "outputs": [
    {
     "data": {
      "text/plain": [
       "0    Jan-15\n",
       "1    Apr-13\n",
       "2    Jun-14\n",
       "3    Jan-15\n",
       "4    May-16\n",
       "Name: last_pymnt_d, dtype: object"
      ]
     },
     "execution_count": 575,
     "metadata": {},
     "output_type": "execute_result"
    }
   ],
   "source": [
    "df_new2.last_pymnt_d.head()"
   ]
  },
  {
   "cell_type": "code",
   "execution_count": 578,
   "id": "7b1837b9",
   "metadata": {},
   "outputs": [
    {
     "data": {
      "text/plain": [
       "last_pymnt_d\n",
       "Apr-08     12\n",
       "Apr-09     43\n",
       "Apr-10    114\n",
       "Apr-11    420\n",
       "Apr-12    734\n",
       "         ... \n",
       "Sep-11    450\n",
       "Sep-12    761\n",
       "Sep-13    684\n",
       "Sep-14    693\n",
       "Sep-15    202\n",
       "Name: member_id, Length: 101, dtype: int64"
      ]
     },
     "execution_count": 578,
     "metadata": {},
     "output_type": "execute_result"
    }
   ],
   "source": [
    "df_new2.groupby('last_pymnt_d')['member_id'].count()"
   ]
  },
  {
   "cell_type": "code",
   "execution_count": 677,
   "id": "b7942cb4",
   "metadata": {},
   "outputs": [
    {
     "data": {
      "text/plain": [
       "71"
      ]
     },
     "execution_count": 677,
     "metadata": {},
     "output_type": "execute_result"
    }
   ],
   "source": [
    "df_new2.last_pymnt_d.isnull().sum()"
   ]
  },
  {
   "cell_type": "code",
   "execution_count": 688,
   "id": "ac5f06cb",
   "metadata": {},
   "outputs": [],
   "source": [
    "df_new3 = df_new2.dropna(subset=['last_pymnt_d'])"
   ]
  },
  {
   "cell_type": "code",
   "execution_count": 689,
   "id": "927e8cd9",
   "metadata": {},
   "outputs": [
    {
     "data": {
      "text/plain": [
       "0"
      ]
     },
     "execution_count": 689,
     "metadata": {},
     "output_type": "execute_result"
    }
   ],
   "source": [
    "df_new3.last_pymnt_d.isnull().sum()"
   ]
  },
  {
   "cell_type": "code",
   "execution_count": 691,
   "id": "62dbba47",
   "metadata": {},
   "outputs": [
    {
     "data": {
      "text/html": [
       "<div>\n",
       "<style scoped>\n",
       "    .dataframe tbody tr th:only-of-type {\n",
       "        vertical-align: middle;\n",
       "    }\n",
       "\n",
       "    .dataframe tbody tr th {\n",
       "        vertical-align: top;\n",
       "    }\n",
       "\n",
       "    .dataframe thead th {\n",
       "        text-align: right;\n",
       "    }\n",
       "</style>\n",
       "<table border=\"1\" class=\"dataframe\">\n",
       "  <thead>\n",
       "    <tr style=\"text-align: right;\">\n",
       "      <th></th>\n",
       "      <th>id</th>\n",
       "      <th>member_id</th>\n",
       "      <th>loan_amnt</th>\n",
       "      <th>funded_amnt</th>\n",
       "      <th>funded_amnt_inv</th>\n",
       "      <th>term</th>\n",
       "      <th>int_rate</th>\n",
       "      <th>installment</th>\n",
       "      <th>grade</th>\n",
       "      <th>sub_grade</th>\n",
       "      <th>...</th>\n",
       "      <th>recoveries</th>\n",
       "      <th>collection_recovery_fee</th>\n",
       "      <th>last_pymnt_d</th>\n",
       "      <th>last_pymnt_amnt</th>\n",
       "      <th>last_credit_pull_d</th>\n",
       "      <th>application_type</th>\n",
       "      <th>pub_rec_bankruptcies</th>\n",
       "      <th>compare</th>\n",
       "      <th>issue_d_year</th>\n",
       "      <th>issue_d_month</th>\n",
       "    </tr>\n",
       "  </thead>\n",
       "  <tbody>\n",
       "    <tr>\n",
       "      <th>26025</th>\n",
       "      <td>575712</td>\n",
       "      <td>740467</td>\n",
       "      <td>5000</td>\n",
       "      <td>5000</td>\n",
       "      <td>5000.0</td>\n",
       "      <td>36 months</td>\n",
       "      <td>11.12</td>\n",
       "      <td>163.98</td>\n",
       "      <td>B</td>\n",
       "      <td>B3</td>\n",
       "      <td>...</td>\n",
       "      <td>106.96</td>\n",
       "      <td>1.34</td>\n",
       "      <td>Jun-12</td>\n",
       "      <td>163.98</td>\n",
       "      <td>NaN</td>\n",
       "      <td>INDIVIDUAL</td>\n",
       "      <td>0.0</td>\n",
       "      <td>5000.0</td>\n",
       "      <td>2010</td>\n",
       "      <td>9</td>\n",
       "    </tr>\n",
       "    <tr>\n",
       "      <th>39476</th>\n",
       "      <td>186499</td>\n",
       "      <td>186347</td>\n",
       "      <td>1000</td>\n",
       "      <td>1000</td>\n",
       "      <td>875.0</td>\n",
       "      <td>36 months</td>\n",
       "      <td>7.12</td>\n",
       "      <td>30.94</td>\n",
       "      <td>A</td>\n",
       "      <td>A1</td>\n",
       "      <td>...</td>\n",
       "      <td>0.00</td>\n",
       "      <td>0.00</td>\n",
       "      <td>Aug-10</td>\n",
       "      <td>185.80</td>\n",
       "      <td>NaN</td>\n",
       "      <td>INDIVIDUAL</td>\n",
       "      <td>0.0</td>\n",
       "      <td>1000.0</td>\n",
       "      <td>2007</td>\n",
       "      <td>12</td>\n",
       "    </tr>\n",
       "  </tbody>\n",
       "</table>\n",
       "<p>2 rows × 47 columns</p>\n",
       "</div>"
      ],
      "text/plain": [
       "           id  member_id  loan_amnt  funded_amnt  funded_amnt_inv        term  \\\n",
       "26025  575712     740467       5000         5000           5000.0   36 months   \n",
       "39476  186499     186347       1000         1000            875.0   36 months   \n",
       "\n",
       "       int_rate  installment grade sub_grade  ... recoveries  \\\n",
       "26025     11.12       163.98     B        B3  ...     106.96   \n",
       "39476      7.12        30.94     A        A1  ...       0.00   \n",
       "\n",
       "      collection_recovery_fee last_pymnt_d  last_pymnt_amnt  \\\n",
       "26025                    1.34       Jun-12           163.98   \n",
       "39476                    0.00       Aug-10           185.80   \n",
       "\n",
       "      last_credit_pull_d application_type pub_rec_bankruptcies compare  \\\n",
       "26025                NaN       INDIVIDUAL                  0.0  5000.0   \n",
       "39476                NaN       INDIVIDUAL                  0.0  1000.0   \n",
       "\n",
       "      issue_d_year issue_d_month  \n",
       "26025         2010             9  \n",
       "39476         2007            12  \n",
       "\n",
       "[2 rows x 47 columns]"
      ]
     },
     "execution_count": 691,
     "metadata": {},
     "output_type": "execute_result"
    }
   ],
   "source": [
    "df_new3[df_new3.last_credit_pull_d.isnull()]"
   ]
  },
  {
   "cell_type": "code",
   "execution_count": 692,
   "id": "86d1267e",
   "metadata": {},
   "outputs": [],
   "source": [
    "df_new3 = df_new3.dropna(subset=['last_credit_pull_d'])"
   ]
  },
  {
   "cell_type": "code",
   "execution_count": 693,
   "id": "f002cd2c",
   "metadata": {},
   "outputs": [
    {
     "data": {
      "text/plain": [
       "id                            0\n",
       "member_id                     0\n",
       "loan_amnt                     0\n",
       "funded_amnt                   0\n",
       "funded_amnt_inv               0\n",
       "term                          0\n",
       "int_rate                      0\n",
       "installment                   0\n",
       "grade                         0\n",
       "sub_grade                     0\n",
       "emp_title                  2450\n",
       "emp_length                 1070\n",
       "home_ownership                0\n",
       "annual_inc                    0\n",
       "verification_status           0\n",
       "issue_d                       0\n",
       "loan_status                   0\n",
       "url                           0\n",
       "purpose                       0\n",
       "zip_code                      0\n",
       "addr_state                    0\n",
       "dti                           0\n",
       "delinq_2yrs                   0\n",
       "earliest_cr_line              0\n",
       "inq_last_6mths                0\n",
       "open_acc                      0\n",
       "pub_rec                       0\n",
       "revol_bal                     0\n",
       "revol_util                   46\n",
       "total_acc                     0\n",
       "out_prncp                     0\n",
       "out_prncp_inv                 0\n",
       "total_pymnt                   0\n",
       "total_pymnt_inv               0\n",
       "total_rec_prncp               0\n",
       "total_rec_int                 0\n",
       "total_rec_late_fee            0\n",
       "recoveries                    0\n",
       "collection_recovery_fee       0\n",
       "last_pymnt_d                  0\n",
       "last_pymnt_amnt               0\n",
       "last_credit_pull_d            0\n",
       "application_type              0\n",
       "pub_rec_bankruptcies          0\n",
       "compare                    1849\n",
       "issue_d_year                  0\n",
       "issue_d_month                 0\n",
       "dtype: int64"
      ]
     },
     "execution_count": 693,
     "metadata": {},
     "output_type": "execute_result"
    }
   ],
   "source": [
    "df_new3.isnull().sum()"
   ]
  },
  {
   "cell_type": "code",
   "execution_count": 695,
   "id": "fbe8f317",
   "metadata": {},
   "outputs": [],
   "source": [
    "df_new3['last_pymnt_d_month']=pd.DatetimeIndex(pd.to_datetime(df_new3[\"last_pymnt_d\"],format=\"%b-%y\")).month\n",
    "df_new3['last_pymnt_d_year']=pd.DatetimeIndex(pd.to_datetime(df_new3[\"last_pymnt_d\"],format=\"%b-%y\")).year"
   ]
  },
  {
   "cell_type": "code",
   "execution_count": 696,
   "id": "c7872f11",
   "metadata": {},
   "outputs": [
    {
     "data": {
      "text/html": [
       "<div>\n",
       "<style scoped>\n",
       "    .dataframe tbody tr th:only-of-type {\n",
       "        vertical-align: middle;\n",
       "    }\n",
       "\n",
       "    .dataframe tbody tr th {\n",
       "        vertical-align: top;\n",
       "    }\n",
       "\n",
       "    .dataframe thead th {\n",
       "        text-align: right;\n",
       "    }\n",
       "</style>\n",
       "<table border=\"1\" class=\"dataframe\">\n",
       "  <thead>\n",
       "    <tr style=\"text-align: right;\">\n",
       "      <th></th>\n",
       "      <th>id</th>\n",
       "      <th>member_id</th>\n",
       "      <th>loan_amnt</th>\n",
       "      <th>funded_amnt</th>\n",
       "      <th>funded_amnt_inv</th>\n",
       "      <th>term</th>\n",
       "      <th>int_rate</th>\n",
       "      <th>installment</th>\n",
       "      <th>grade</th>\n",
       "      <th>sub_grade</th>\n",
       "      <th>...</th>\n",
       "      <th>last_pymnt_d</th>\n",
       "      <th>last_pymnt_amnt</th>\n",
       "      <th>last_credit_pull_d</th>\n",
       "      <th>application_type</th>\n",
       "      <th>pub_rec_bankruptcies</th>\n",
       "      <th>compare</th>\n",
       "      <th>issue_d_year</th>\n",
       "      <th>issue_d_month</th>\n",
       "      <th>last_pymnt_d_month</th>\n",
       "      <th>last_pymnt_d_year</th>\n",
       "    </tr>\n",
       "  </thead>\n",
       "  <tbody>\n",
       "    <tr>\n",
       "      <th>0</th>\n",
       "      <td>1077501</td>\n",
       "      <td>1296599</td>\n",
       "      <td>5000</td>\n",
       "      <td>5000</td>\n",
       "      <td>4975.0</td>\n",
       "      <td>36 months</td>\n",
       "      <td>10.65</td>\n",
       "      <td>162.87</td>\n",
       "      <td>B</td>\n",
       "      <td>B2</td>\n",
       "      <td>...</td>\n",
       "      <td>Jan-15</td>\n",
       "      <td>171.62</td>\n",
       "      <td>May-16</td>\n",
       "      <td>INDIVIDUAL</td>\n",
       "      <td>0.0</td>\n",
       "      <td>5000.0</td>\n",
       "      <td>2011</td>\n",
       "      <td>12</td>\n",
       "      <td>1</td>\n",
       "      <td>2015</td>\n",
       "    </tr>\n",
       "    <tr>\n",
       "      <th>1</th>\n",
       "      <td>1077430</td>\n",
       "      <td>1314167</td>\n",
       "      <td>2500</td>\n",
       "      <td>2500</td>\n",
       "      <td>2500.0</td>\n",
       "      <td>60 months</td>\n",
       "      <td>15.27</td>\n",
       "      <td>59.83</td>\n",
       "      <td>C</td>\n",
       "      <td>C4</td>\n",
       "      <td>...</td>\n",
       "      <td>Apr-13</td>\n",
       "      <td>119.66</td>\n",
       "      <td>Sep-13</td>\n",
       "      <td>INDIVIDUAL</td>\n",
       "      <td>0.0</td>\n",
       "      <td>2500.0</td>\n",
       "      <td>2011</td>\n",
       "      <td>12</td>\n",
       "      <td>4</td>\n",
       "      <td>2013</td>\n",
       "    </tr>\n",
       "    <tr>\n",
       "      <th>2</th>\n",
       "      <td>1077175</td>\n",
       "      <td>1313524</td>\n",
       "      <td>2400</td>\n",
       "      <td>2400</td>\n",
       "      <td>2400.0</td>\n",
       "      <td>36 months</td>\n",
       "      <td>15.96</td>\n",
       "      <td>84.33</td>\n",
       "      <td>C</td>\n",
       "      <td>C5</td>\n",
       "      <td>...</td>\n",
       "      <td>Jun-14</td>\n",
       "      <td>649.91</td>\n",
       "      <td>May-16</td>\n",
       "      <td>INDIVIDUAL</td>\n",
       "      <td>0.0</td>\n",
       "      <td>2400.0</td>\n",
       "      <td>2011</td>\n",
       "      <td>12</td>\n",
       "      <td>6</td>\n",
       "      <td>2014</td>\n",
       "    </tr>\n",
       "    <tr>\n",
       "      <th>3</th>\n",
       "      <td>1076863</td>\n",
       "      <td>1277178</td>\n",
       "      <td>10000</td>\n",
       "      <td>10000</td>\n",
       "      <td>10000.0</td>\n",
       "      <td>36 months</td>\n",
       "      <td>13.49</td>\n",
       "      <td>339.31</td>\n",
       "      <td>C</td>\n",
       "      <td>C1</td>\n",
       "      <td>...</td>\n",
       "      <td>Jan-15</td>\n",
       "      <td>357.48</td>\n",
       "      <td>Apr-16</td>\n",
       "      <td>INDIVIDUAL</td>\n",
       "      <td>0.0</td>\n",
       "      <td>10000.0</td>\n",
       "      <td>2011</td>\n",
       "      <td>12</td>\n",
       "      <td>1</td>\n",
       "      <td>2015</td>\n",
       "    </tr>\n",
       "    <tr>\n",
       "      <th>4</th>\n",
       "      <td>1075358</td>\n",
       "      <td>1311748</td>\n",
       "      <td>3000</td>\n",
       "      <td>3000</td>\n",
       "      <td>3000.0</td>\n",
       "      <td>60 months</td>\n",
       "      <td>12.69</td>\n",
       "      <td>67.79</td>\n",
       "      <td>B</td>\n",
       "      <td>B5</td>\n",
       "      <td>...</td>\n",
       "      <td>May-16</td>\n",
       "      <td>67.79</td>\n",
       "      <td>May-16</td>\n",
       "      <td>INDIVIDUAL</td>\n",
       "      <td>0.0</td>\n",
       "      <td>3000.0</td>\n",
       "      <td>2011</td>\n",
       "      <td>12</td>\n",
       "      <td>5</td>\n",
       "      <td>2016</td>\n",
       "    </tr>\n",
       "  </tbody>\n",
       "</table>\n",
       "<p>5 rows × 49 columns</p>\n",
       "</div>"
      ],
      "text/plain": [
       "        id  member_id  loan_amnt  funded_amnt  funded_amnt_inv        term  \\\n",
       "0  1077501    1296599       5000         5000           4975.0   36 months   \n",
       "1  1077430    1314167       2500         2500           2500.0   60 months   \n",
       "2  1077175    1313524       2400         2400           2400.0   36 months   \n",
       "3  1076863    1277178      10000        10000          10000.0   36 months   \n",
       "4  1075358    1311748       3000         3000           3000.0   60 months   \n",
       "\n",
       "   int_rate  installment grade sub_grade  ... last_pymnt_d last_pymnt_amnt  \\\n",
       "0     10.65       162.87     B        B2  ...       Jan-15          171.62   \n",
       "1     15.27        59.83     C        C4  ...       Apr-13          119.66   \n",
       "2     15.96        84.33     C        C5  ...       Jun-14          649.91   \n",
       "3     13.49       339.31     C        C1  ...       Jan-15          357.48   \n",
       "4     12.69        67.79     B        B5  ...       May-16           67.79   \n",
       "\n",
       "  last_credit_pull_d  application_type pub_rec_bankruptcies  compare  \\\n",
       "0             May-16        INDIVIDUAL                  0.0   5000.0   \n",
       "1             Sep-13        INDIVIDUAL                  0.0   2500.0   \n",
       "2             May-16        INDIVIDUAL                  0.0   2400.0   \n",
       "3             Apr-16        INDIVIDUAL                  0.0  10000.0   \n",
       "4             May-16        INDIVIDUAL                  0.0   3000.0   \n",
       "\n",
       "  issue_d_year issue_d_month last_pymnt_d_month last_pymnt_d_year  \n",
       "0         2011            12                  1              2015  \n",
       "1         2011            12                  4              2013  \n",
       "2         2011            12                  6              2014  \n",
       "3         2011            12                  1              2015  \n",
       "4         2011            12                  5              2016  \n",
       "\n",
       "[5 rows x 49 columns]"
      ]
     },
     "execution_count": 696,
     "metadata": {},
     "output_type": "execute_result"
    }
   ],
   "source": [
    "df_new3.head()"
   ]
  },
  {
   "cell_type": "code",
   "execution_count": 700,
   "id": "3ccf8a44",
   "metadata": {},
   "outputs": [
    {
     "data": {
      "text/html": [
       "<div>\n",
       "<style scoped>\n",
       "    .dataframe tbody tr th:only-of-type {\n",
       "        vertical-align: middle;\n",
       "    }\n",
       "\n",
       "    .dataframe tbody tr th {\n",
       "        vertical-align: top;\n",
       "    }\n",
       "\n",
       "    .dataframe thead th {\n",
       "        text-align: right;\n",
       "    }\n",
       "</style>\n",
       "<table border=\"1\" class=\"dataframe\">\n",
       "  <thead>\n",
       "    <tr style=\"text-align: right;\">\n",
       "      <th></th>\n",
       "      <th>last_pymnt_d_year</th>\n",
       "      <th>member_id</th>\n",
       "    </tr>\n",
       "  </thead>\n",
       "  <tbody>\n",
       "    <tr>\n",
       "      <th>0</th>\n",
       "      <td>2008</td>\n",
       "      <td>137</td>\n",
       "    </tr>\n",
       "    <tr>\n",
       "      <th>1</th>\n",
       "      <td>2009</td>\n",
       "      <td>559</td>\n",
       "    </tr>\n",
       "    <tr>\n",
       "      <th>2</th>\n",
       "      <td>2010</td>\n",
       "      <td>1847</td>\n",
       "    </tr>\n",
       "    <tr>\n",
       "      <th>3</th>\n",
       "      <td>2011</td>\n",
       "      <td>4996</td>\n",
       "    </tr>\n",
       "    <tr>\n",
       "      <th>4</th>\n",
       "      <td>2012</td>\n",
       "      <td>8903</td>\n",
       "    </tr>\n",
       "    <tr>\n",
       "      <th>5</th>\n",
       "      <td>2013</td>\n",
       "      <td>9458</td>\n",
       "    </tr>\n",
       "    <tr>\n",
       "      <th>6</th>\n",
       "      <td>2014</td>\n",
       "      <td>9269</td>\n",
       "    </tr>\n",
       "    <tr>\n",
       "      <th>7</th>\n",
       "      <td>2015</td>\n",
       "      <td>2431</td>\n",
       "    </tr>\n",
       "    <tr>\n",
       "      <th>8</th>\n",
       "      <td>2016</td>\n",
       "      <td>2044</td>\n",
       "    </tr>\n",
       "  </tbody>\n",
       "</table>\n",
       "</div>"
      ],
      "text/plain": [
       "   last_pymnt_d_year  member_id\n",
       "0               2008        137\n",
       "1               2009        559\n",
       "2               2010       1847\n",
       "3               2011       4996\n",
       "4               2012       8903\n",
       "5               2013       9458\n",
       "6               2014       9269\n",
       "7               2015       2431\n",
       "8               2016       2044"
      ]
     },
     "execution_count": 700,
     "metadata": {},
     "output_type": "execute_result"
    }
   ],
   "source": [
    "ax1 = df_new3.groupby('last_pymnt_d_year')['member_id'].count().reset_index()\n",
    "ax1"
   ]
  },
  {
   "cell_type": "code",
   "execution_count": 701,
   "id": "7097aa42",
   "metadata": {},
   "outputs": [
    {
     "data": {
      "text/plain": [
       "Text(0, 0.5, 'No of members')"
      ]
     },
     "execution_count": 701,
     "metadata": {},
     "output_type": "execute_result"
    },
    {
     "data": {
      "image/png": "[encoded data removed]",
      "text/plain": [
       "<Figure size 432x288 with 1 Axes>"
      ]
     },
     "metadata": {
      "needs_background": "light"
     },
     "output_type": "display_data"
    }
   ],
   "source": [
    "sns.barplot(x = ax1.last_pymnt_d_year,y=ax1.member_id)\n",
    "plt.xlabel(\"Last Payment year\")\n",
    "plt.ylabel(\"No of members\")"
   ]
  },
  {
   "cell_type": "code",
   "execution_count": 702,
   "id": "c082f3f5",
   "metadata": {},
   "outputs": [
    {
     "data": {
      "text/plain": [
       "Index(['id', 'member_id', 'loan_amnt', 'funded_amnt', 'funded_amnt_inv',\n",
       "       'term', 'int_rate', 'installment', 'grade', 'sub_grade', 'emp_title',\n",
       "       'emp_length', 'home_ownership', 'annual_inc', 'verification_status',\n",
       "       'issue_d', 'loan_status', 'url', 'purpose', 'zip_code', 'addr_state',\n",
       "       'dti', 'delinq_2yrs', 'earliest_cr_line', 'inq_last_6mths', 'open_acc',\n",
       "       'pub_rec', 'revol_bal', 'revol_util', 'total_acc', 'out_prncp',\n",
       "       'out_prncp_inv', 'total_pymnt', 'total_pymnt_inv', 'total_rec_prncp',\n",
       "       'total_rec_int', 'total_rec_late_fee', 'recoveries',\n",
       "       'collection_recovery_fee', 'last_pymnt_d', 'last_pymnt_amnt',\n",
       "       'last_credit_pull_d', 'application_type', 'pub_rec_bankruptcies',\n",
       "       'compare', 'issue_d_year', 'issue_d_month', 'last_pymnt_d_month',\n",
       "       'last_pymnt_d_year'],\n",
       "      dtype='object')"
      ]
     },
     "execution_count": 702,
     "metadata": {},
     "output_type": "execute_result"
    }
   ],
   "source": [
    "df_new3.columns"
   ]
  },
  {
   "cell_type": "code",
   "execution_count": 703,
   "id": "ca48ccd0",
   "metadata": {},
   "outputs": [
    {
     "data": {
      "text/plain": [
       "0    May-16\n",
       "1    Sep-13\n",
       "2    May-16\n",
       "3    Apr-16\n",
       "4    May-16\n",
       "Name: last_credit_pull_d, dtype: object"
      ]
     },
     "execution_count": 703,
     "metadata": {},
     "output_type": "execute_result"
    }
   ],
   "source": [
    "df_new3.last_credit_pull_d.head()"
   ]
  },
  {
   "cell_type": "code",
   "execution_count": null,
   "id": "8c33b075",
   "metadata": {},
   "outputs": [],
   "source": [
    "df_new3['last_credit_pull_d_month']=pd.DatetimeIndex(pd.to_datetime(df_new3[\"last_credit_pull_d\"],format=\"%b-%y\")).month\n",
    "\n",
    "df_new3['last_credit_pull_d_year']=pd.DatetimeIndex(pd.to_datetime(df_new3[\"last_credit_pull_d\"],format=\"%b-%y\")).year"
   ]
  },
  {
   "cell_type": "code",
   "execution_count": 705,
   "id": "32e27a30",
   "metadata": {},
   "outputs": [
    {
     "data": {
      "text/html": [
       "<div>\n",
       "<style scoped>\n",
       "    .dataframe tbody tr th:only-of-type {\n",
       "        vertical-align: middle;\n",
       "    }\n",
       "\n",
       "    .dataframe tbody tr th {\n",
       "        vertical-align: top;\n",
       "    }\n",
       "\n",
       "    .dataframe thead th {\n",
       "        text-align: right;\n",
       "    }\n",
       "</style>\n",
       "<table border=\"1\" class=\"dataframe\">\n",
       "  <thead>\n",
       "    <tr style=\"text-align: right;\">\n",
       "      <th></th>\n",
       "      <th>id</th>\n",
       "      <th>member_id</th>\n",
       "      <th>loan_amnt</th>\n",
       "      <th>funded_amnt</th>\n",
       "      <th>funded_amnt_inv</th>\n",
       "      <th>term</th>\n",
       "      <th>int_rate</th>\n",
       "      <th>installment</th>\n",
       "      <th>grade</th>\n",
       "      <th>sub_grade</th>\n",
       "      <th>...</th>\n",
       "      <th>last_credit_pull_d</th>\n",
       "      <th>application_type</th>\n",
       "      <th>pub_rec_bankruptcies</th>\n",
       "      <th>compare</th>\n",
       "      <th>issue_d_year</th>\n",
       "      <th>issue_d_month</th>\n",
       "      <th>last_pymnt_d_month</th>\n",
       "      <th>last_pymnt_d_year</th>\n",
       "      <th>last_credit_pull_d_month</th>\n",
       "      <th>last_credit_pull_d_year</th>\n",
       "    </tr>\n",
       "  </thead>\n",
       "  <tbody>\n",
       "    <tr>\n",
       "      <th>0</th>\n",
       "      <td>1077501</td>\n",
       "      <td>1296599</td>\n",
       "      <td>5000</td>\n",
       "      <td>5000</td>\n",
       "      <td>4975.0</td>\n",
       "      <td>36 months</td>\n",
       "      <td>10.65</td>\n",
       "      <td>162.87</td>\n",
       "      <td>B</td>\n",
       "      <td>B2</td>\n",
       "      <td>...</td>\n",
       "      <td>May-16</td>\n",
       "      <td>INDIVIDUAL</td>\n",
       "      <td>0.0</td>\n",
       "      <td>5000.0</td>\n",
       "      <td>2011</td>\n",
       "      <td>12</td>\n",
       "      <td>1</td>\n",
       "      <td>2015</td>\n",
       "      <td>5</td>\n",
       "      <td>2016</td>\n",
       "    </tr>\n",
       "    <tr>\n",
       "      <th>1</th>\n",
       "      <td>1077430</td>\n",
       "      <td>1314167</td>\n",
       "      <td>2500</td>\n",
       "      <td>2500</td>\n",
       "      <td>2500.0</td>\n",
       "      <td>60 months</td>\n",
       "      <td>15.27</td>\n",
       "      <td>59.83</td>\n",
       "      <td>C</td>\n",
       "      <td>C4</td>\n",
       "      <td>...</td>\n",
       "      <td>Sep-13</td>\n",
       "      <td>INDIVIDUAL</td>\n",
       "      <td>0.0</td>\n",
       "      <td>2500.0</td>\n",
       "      <td>2011</td>\n",
       "      <td>12</td>\n",
       "      <td>4</td>\n",
       "      <td>2013</td>\n",
       "      <td>9</td>\n",
       "      <td>2013</td>\n",
       "    </tr>\n",
       "    <tr>\n",
       "      <th>2</th>\n",
       "      <td>1077175</td>\n",
       "      <td>1313524</td>\n",
       "      <td>2400</td>\n",
       "      <td>2400</td>\n",
       "      <td>2400.0</td>\n",
       "      <td>36 months</td>\n",
       "      <td>15.96</td>\n",
       "      <td>84.33</td>\n",
       "      <td>C</td>\n",
       "      <td>C5</td>\n",
       "      <td>...</td>\n",
       "      <td>May-16</td>\n",
       "      <td>INDIVIDUAL</td>\n",
       "      <td>0.0</td>\n",
       "      <td>2400.0</td>\n",
       "      <td>2011</td>\n",
       "      <td>12</td>\n",
       "      <td>6</td>\n",
       "      <td>2014</td>\n",
       "      <td>5</td>\n",
       "      <td>2016</td>\n",
       "    </tr>\n",
       "    <tr>\n",
       "      <th>3</th>\n",
       "      <td>1076863</td>\n",
       "      <td>1277178</td>\n",
       "      <td>10000</td>\n",
       "      <td>10000</td>\n",
       "      <td>10000.0</td>\n",
       "      <td>36 months</td>\n",
       "      <td>13.49</td>\n",
       "      <td>339.31</td>\n",
       "      <td>C</td>\n",
       "      <td>C1</td>\n",
       "      <td>...</td>\n",
       "      <td>Apr-16</td>\n",
       "      <td>INDIVIDUAL</td>\n",
       "      <td>0.0</td>\n",
       "      <td>10000.0</td>\n",
       "      <td>2011</td>\n",
       "      <td>12</td>\n",
       "      <td>1</td>\n",
       "      <td>2015</td>\n",
       "      <td>4</td>\n",
       "      <td>2016</td>\n",
       "    </tr>\n",
       "    <tr>\n",
       "      <th>4</th>\n",
       "      <td>1075358</td>\n",
       "      <td>1311748</td>\n",
       "      <td>3000</td>\n",
       "      <td>3000</td>\n",
       "      <td>3000.0</td>\n",
       "      <td>60 months</td>\n",
       "      <td>12.69</td>\n",
       "      <td>67.79</td>\n",
       "      <td>B</td>\n",
       "      <td>B5</td>\n",
       "      <td>...</td>\n",
       "      <td>May-16</td>\n",
       "      <td>INDIVIDUAL</td>\n",
       "      <td>0.0</td>\n",
       "      <td>3000.0</td>\n",
       "      <td>2011</td>\n",
       "      <td>12</td>\n",
       "      <td>5</td>\n",
       "      <td>2016</td>\n",
       "      <td>5</td>\n",
       "      <td>2016</td>\n",
       "    </tr>\n",
       "  </tbody>\n",
       "</table>\n",
       "<p>5 rows × 51 columns</p>\n",
       "</div>"
      ],
      "text/plain": [
       "        id  member_id  loan_amnt  funded_amnt  funded_amnt_inv        term  \\\n",
       "0  1077501    1296599       5000         5000           4975.0   36 months   \n",
       "1  1077430    1314167       2500         2500           2500.0   60 months   \n",
       "2  1077175    1313524       2400         2400           2400.0   36 months   \n",
       "3  1076863    1277178      10000        10000          10000.0   36 months   \n",
       "4  1075358    1311748       3000         3000           3000.0   60 months   \n",
       "\n",
       "   int_rate  installment grade sub_grade  ... last_credit_pull_d  \\\n",
       "0     10.65       162.87     B        B2  ...             May-16   \n",
       "1     15.27        59.83     C        C4  ...             Sep-13   \n",
       "2     15.96        84.33     C        C5  ...             May-16   \n",
       "3     13.49       339.31     C        C1  ...             Apr-16   \n",
       "4     12.69        67.79     B        B5  ...             May-16   \n",
       "\n",
       "  application_type pub_rec_bankruptcies  compare issue_d_year issue_d_month  \\\n",
       "0       INDIVIDUAL                  0.0   5000.0         2011            12   \n",
       "1       INDIVIDUAL                  0.0   2500.0         2011            12   \n",
       "2       INDIVIDUAL                  0.0   2400.0         2011            12   \n",
       "3       INDIVIDUAL                  0.0  10000.0         2011            12   \n",
       "4       INDIVIDUAL                  0.0   3000.0         2011            12   \n",
       "\n",
       "  last_pymnt_d_month last_pymnt_d_year last_credit_pull_d_month  \\\n",
       "0                  1              2015                        5   \n",
       "1                  4              2013                        9   \n",
       "2                  6              2014                        5   \n",
       "3                  1              2015                        4   \n",
       "4                  5              2016                        5   \n",
       "\n",
       "  last_credit_pull_d_year  \n",
       "0                    2016  \n",
       "1                    2013  \n",
       "2                    2016  \n",
       "3                    2016  \n",
       "4                    2016  \n",
       "\n",
       "[5 rows x 51 columns]"
      ]
     },
     "execution_count": 705,
     "metadata": {},
     "output_type": "execute_result"
    }
   ],
   "source": [
    "df_new3.head()"
   ]
  },
  {
   "cell_type": "code",
   "execution_count": 706,
   "id": "b0ca2ce6",
   "metadata": {},
   "outputs": [
    {
     "data": {
      "text/html": [
       "<div>\n",
       "<style scoped>\n",
       "    .dataframe tbody tr th:only-of-type {\n",
       "        vertical-align: middle;\n",
       "    }\n",
       "\n",
       "    .dataframe tbody tr th {\n",
       "        vertical-align: top;\n",
       "    }\n",
       "\n",
       "    .dataframe thead th {\n",
       "        text-align: right;\n",
       "    }\n",
       "</style>\n",
       "<table border=\"1\" class=\"dataframe\">\n",
       "  <thead>\n",
       "    <tr style=\"text-align: right;\">\n",
       "      <th></th>\n",
       "      <th>last_credit_pull_d_year</th>\n",
       "      <th>member_id</th>\n",
       "    </tr>\n",
       "  </thead>\n",
       "  <tbody>\n",
       "    <tr>\n",
       "      <th>0</th>\n",
       "      <td>2007</td>\n",
       "      <td>36</td>\n",
       "    </tr>\n",
       "    <tr>\n",
       "      <th>1</th>\n",
       "      <td>2008</td>\n",
       "      <td>41</td>\n",
       "    </tr>\n",
       "    <tr>\n",
       "      <th>2</th>\n",
       "      <td>2009</td>\n",
       "      <td>224</td>\n",
       "    </tr>\n",
       "    <tr>\n",
       "      <th>3</th>\n",
       "      <td>2010</td>\n",
       "      <td>835</td>\n",
       "    </tr>\n",
       "    <tr>\n",
       "      <th>4</th>\n",
       "      <td>2011</td>\n",
       "      <td>2174</td>\n",
       "    </tr>\n",
       "    <tr>\n",
       "      <th>5</th>\n",
       "      <td>2012</td>\n",
       "      <td>4071</td>\n",
       "    </tr>\n",
       "    <tr>\n",
       "      <th>6</th>\n",
       "      <td>2013</td>\n",
       "      <td>5164</td>\n",
       "    </tr>\n",
       "    <tr>\n",
       "      <th>7</th>\n",
       "      <td>2014</td>\n",
       "      <td>6253</td>\n",
       "    </tr>\n",
       "    <tr>\n",
       "      <th>8</th>\n",
       "      <td>2015</td>\n",
       "      <td>5499</td>\n",
       "    </tr>\n",
       "    <tr>\n",
       "      <th>9</th>\n",
       "      <td>2016</td>\n",
       "      <td>15347</td>\n",
       "    </tr>\n",
       "  </tbody>\n",
       "</table>\n",
       "</div>"
      ],
      "text/plain": [
       "   last_credit_pull_d_year  member_id\n",
       "0                     2007         36\n",
       "1                     2008         41\n",
       "2                     2009        224\n",
       "3                     2010        835\n",
       "4                     2011       2174\n",
       "5                     2012       4071\n",
       "6                     2013       5164\n",
       "7                     2014       6253\n",
       "8                     2015       5499\n",
       "9                     2016      15347"
      ]
     },
     "execution_count": 706,
     "metadata": {},
     "output_type": "execute_result"
    }
   ],
   "source": [
    "ax2 = df_new3.groupby('last_credit_pull_d_year')['member_id'].count().reset_index()\n",
    "ax2"
   ]
  },
  {
   "cell_type": "code",
   "execution_count": 707,
   "id": "917ea238",
   "metadata": {},
   "outputs": [
    {
     "data": {
      "text/plain": [
       "Text(0, 0.5, 'No of members')"
      ]
     },
     "execution_count": 707,
     "metadata": {},
     "output_type": "execute_result"
    },
    {
     "data": {
      "image/png": "[encoded data removed]",
      "text/plain": [
       "<Figure size 432x288 with 1 Axes>"
      ]
     },
     "metadata": {
      "needs_background": "light"
     },
     "output_type": "display_data"
    }
   ],
   "source": [
    "sns.barplot(x = ax2.last_credit_pull_d_year,y=ax2.member_id)\n",
    "plt.xlabel(\"Last Credit Payment year\")\n",
    "plt.ylabel(\"No of members\")"
   ]
  },
  {
   "cell_type": "code",
   "execution_count": 718,
   "id": "e4d06908",
   "metadata": {},
   "outputs": [
    {
     "data": {
      "text/plain": [
       "Index(['id', 'member_id', 'loan_amnt', 'funded_amnt', 'funded_amnt_inv',\n",
       "       'term', 'int_rate', 'installment', 'grade', 'sub_grade', 'emp_title',\n",
       "       'emp_length', 'home_ownership', 'annual_inc', 'verification_status',\n",
       "       'issue_d', 'loan_status', 'url', 'purpose', 'zip_code', 'addr_state',\n",
       "       'dti', 'delinq_2yrs', 'earliest_cr_line', 'inq_last_6mths', 'open_acc',\n",
       "       'pub_rec', 'revol_bal', 'revol_util', 'total_acc', 'out_prncp',\n",
       "       'out_prncp_inv', 'total_pymnt', 'total_pymnt_inv', 'total_rec_prncp',\n",
       "       'total_rec_int', 'total_rec_late_fee', 'recoveries',\n",
       "       'collection_recovery_fee', 'last_pymnt_d', 'last_pymnt_amnt',\n",
       "       'last_credit_pull_d', 'application_type', 'pub_rec_bankruptcies',\n",
       "       'compare', 'issue_d_year', 'issue_d_month', 'last_pymnt_d_month',\n",
       "       'last_pymnt_d_year', 'last_credit_pull_d_month',\n",
       "       'last_credit_pull_d_year'],\n",
       "      dtype='object')"
      ]
     },
     "execution_count": 718,
     "metadata": {},
     "output_type": "execute_result"
    }
   ],
   "source": [
    "df_new3.columns"
   ]
  },
  {
   "cell_type": "code",
   "execution_count": 708,
   "id": "745ac6af",
   "metadata": {},
   "outputs": [
    {
     "data": {
      "text/html": [
       "<div>\n",
       "<style scoped>\n",
       "    .dataframe tbody tr th:only-of-type {\n",
       "        vertical-align: middle;\n",
       "    }\n",
       "\n",
       "    .dataframe tbody tr th {\n",
       "        vertical-align: top;\n",
       "    }\n",
       "\n",
       "    .dataframe thead th {\n",
       "        text-align: right;\n",
       "    }\n",
       "</style>\n",
       "<table border=\"1\" class=\"dataframe\">\n",
       "  <thead>\n",
       "    <tr style=\"text-align: right;\">\n",
       "      <th></th>\n",
       "      <th>id</th>\n",
       "      <th>member_id</th>\n",
       "      <th>loan_amnt</th>\n",
       "      <th>funded_amnt</th>\n",
       "      <th>funded_amnt_inv</th>\n",
       "      <th>int_rate</th>\n",
       "      <th>installment</th>\n",
       "      <th>annual_inc</th>\n",
       "      <th>dti</th>\n",
       "      <th>delinq_2yrs</th>\n",
       "      <th>...</th>\n",
       "      <th>collection_recovery_fee</th>\n",
       "      <th>last_pymnt_amnt</th>\n",
       "      <th>pub_rec_bankruptcies</th>\n",
       "      <th>compare</th>\n",
       "      <th>issue_d_year</th>\n",
       "      <th>issue_d_month</th>\n",
       "      <th>last_pymnt_d_month</th>\n",
       "      <th>last_pymnt_d_year</th>\n",
       "      <th>last_credit_pull_d_month</th>\n",
       "      <th>last_credit_pull_d_year</th>\n",
       "    </tr>\n",
       "  </thead>\n",
       "  <tbody>\n",
       "    <tr>\n",
       "      <th>count</th>\n",
       "      <td>3.964400e+04</td>\n",
       "      <td>3.964400e+04</td>\n",
       "      <td>39644.000000</td>\n",
       "      <td>39644.00000</td>\n",
       "      <td>39644.000000</td>\n",
       "      <td>39644.000000</td>\n",
       "      <td>39644.000000</td>\n",
       "      <td>3.964400e+04</td>\n",
       "      <td>39644.000000</td>\n",
       "      <td>39644.000000</td>\n",
       "      <td>...</td>\n",
       "      <td>39644.000000</td>\n",
       "      <td>39644.000000</td>\n",
       "      <td>39644.000000</td>\n",
       "      <td>37795.000000</td>\n",
       "      <td>39644.000000</td>\n",
       "      <td>39644.000000</td>\n",
       "      <td>39644.000000</td>\n",
       "      <td>39644.000000</td>\n",
       "      <td>39644.000000</td>\n",
       "      <td>39644.000000</td>\n",
       "    </tr>\n",
       "    <tr>\n",
       "      <th>mean</th>\n",
       "      <td>6.831571e+05</td>\n",
       "      <td>8.504905e+05</td>\n",
       "      <td>11225.073151</td>\n",
       "      <td>10952.84217</td>\n",
       "      <td>10403.925605</td>\n",
       "      <td>12.017719</td>\n",
       "      <td>324.699200</td>\n",
       "      <td>6.900832e+04</td>\n",
       "      <td>13.317752</td>\n",
       "      <td>0.146277</td>\n",
       "      <td>...</td>\n",
       "      <td>12.296210</td>\n",
       "      <td>2683.750099</td>\n",
       "      <td>0.042428</td>\n",
       "      <td>10849.588570</td>\n",
       "      <td>2010.328978</td>\n",
       "      <td>7.172258</td>\n",
       "      <td>6.444178</td>\n",
       "      <td>2012.821057</td>\n",
       "      <td>5.817249</td>\n",
       "      <td>2014.287736</td>\n",
       "    </tr>\n",
       "    <tr>\n",
       "      <th>std</th>\n",
       "      <td>2.107102e+05</td>\n",
       "      <td>2.657028e+05</td>\n",
       "      <td>7455.197984</td>\n",
       "      <td>7185.40898</td>\n",
       "      <td>7128.300533</td>\n",
       "      <td>3.724719</td>\n",
       "      <td>208.818933</td>\n",
       "      <td>6.383481e+04</td>\n",
       "      <td>6.677311</td>\n",
       "      <td>0.491143</td>\n",
       "      <td>...</td>\n",
       "      <td>148.332033</td>\n",
       "      <td>4449.746502</td>\n",
       "      <td>0.202439</td>\n",
       "      <td>7227.694598</td>\n",
       "      <td>0.877502</td>\n",
       "      <td>3.397438</td>\n",
       "      <td>3.429454</td>\n",
       "      <td>1.539846</td>\n",
       "      <td>3.026837</td>\n",
       "      <td>1.788581</td>\n",
       "    </tr>\n",
       "    <tr>\n",
       "      <th>min</th>\n",
       "      <td>5.473400e+04</td>\n",
       "      <td>7.069900e+04</td>\n",
       "      <td>500.000000</td>\n",
       "      <td>500.00000</td>\n",
       "      <td>0.000000</td>\n",
       "      <td>5.420000</td>\n",
       "      <td>15.690000</td>\n",
       "      <td>4.000000e+03</td>\n",
       "      <td>0.000000</td>\n",
       "      <td>0.000000</td>\n",
       "      <td>...</td>\n",
       "      <td>0.000000</td>\n",
       "      <td>0.000000</td>\n",
       "      <td>0.000000</td>\n",
       "      <td>500.000000</td>\n",
       "      <td>2007.000000</td>\n",
       "      <td>1.000000</td>\n",
       "      <td>1.000000</td>\n",
       "      <td>2008.000000</td>\n",
       "      <td>1.000000</td>\n",
       "      <td>2007.000000</td>\n",
       "    </tr>\n",
       "    <tr>\n",
       "      <th>25%</th>\n",
       "      <td>5.162455e+05</td>\n",
       "      <td>6.668655e+05</td>\n",
       "      <td>5500.000000</td>\n",
       "      <td>5400.00000</td>\n",
       "      <td>5000.000000</td>\n",
       "      <td>9.250000</td>\n",
       "      <td>167.080000</td>\n",
       "      <td>4.050000e+04</td>\n",
       "      <td>8.180000</td>\n",
       "      <td>0.000000</td>\n",
       "      <td>...</td>\n",
       "      <td>0.000000</td>\n",
       "      <td>219.847500</td>\n",
       "      <td>0.000000</td>\n",
       "      <td>5000.000000</td>\n",
       "      <td>2010.000000</td>\n",
       "      <td>4.000000</td>\n",
       "      <td>3.000000</td>\n",
       "      <td>2012.000000</td>\n",
       "      <td>4.000000</td>\n",
       "      <td>2013.000000</td>\n",
       "    </tr>\n",
       "    <tr>\n",
       "      <th>50%</th>\n",
       "      <td>6.656255e+05</td>\n",
       "      <td>8.508075e+05</td>\n",
       "      <td>10000.000000</td>\n",
       "      <td>9600.00000</td>\n",
       "      <td>8975.000000</td>\n",
       "      <td>11.830000</td>\n",
       "      <td>280.500000</td>\n",
       "      <td>5.900000e+04</td>\n",
       "      <td>13.410000</td>\n",
       "      <td>0.000000</td>\n",
       "      <td>...</td>\n",
       "      <td>0.000000</td>\n",
       "      <td>548.550000</td>\n",
       "      <td>0.000000</td>\n",
       "      <td>9500.000000</td>\n",
       "      <td>2011.000000</td>\n",
       "      <td>7.000000</td>\n",
       "      <td>6.000000</td>\n",
       "      <td>2013.000000</td>\n",
       "      <td>5.000000</td>\n",
       "      <td>2015.000000</td>\n",
       "    </tr>\n",
       "    <tr>\n",
       "      <th>75%</th>\n",
       "      <td>8.377930e+05</td>\n",
       "      <td>1.047358e+06</td>\n",
       "      <td>15000.000000</td>\n",
       "      <td>15000.00000</td>\n",
       "      <td>14400.000000</td>\n",
       "      <td>14.590000</td>\n",
       "      <td>430.780000</td>\n",
       "      <td>8.240400e+04</td>\n",
       "      <td>18.600000</td>\n",
       "      <td>0.000000</td>\n",
       "      <td>...</td>\n",
       "      <td>0.000000</td>\n",
       "      <td>3304.707500</td>\n",
       "      <td>0.000000</td>\n",
       "      <td>15000.000000</td>\n",
       "      <td>2011.000000</td>\n",
       "      <td>10.000000</td>\n",
       "      <td>9.000000</td>\n",
       "      <td>2014.000000</td>\n",
       "      <td>8.000000</td>\n",
       "      <td>2016.000000</td>\n",
       "    </tr>\n",
       "    <tr>\n",
       "      <th>max</th>\n",
       "      <td>1.077501e+06</td>\n",
       "      <td>1.314167e+06</td>\n",
       "      <td>35000.000000</td>\n",
       "      <td>35000.00000</td>\n",
       "      <td>35000.000000</td>\n",
       "      <td>24.590000</td>\n",
       "      <td>1305.190000</td>\n",
       "      <td>6.000000e+06</td>\n",
       "      <td>29.990000</td>\n",
       "      <td>11.000000</td>\n",
       "      <td>...</td>\n",
       "      <td>7002.190000</td>\n",
       "      <td>36115.200000</td>\n",
       "      <td>2.000000</td>\n",
       "      <td>35000.000000</td>\n",
       "      <td>2011.000000</td>\n",
       "      <td>12.000000</td>\n",
       "      <td>12.000000</td>\n",
       "      <td>2016.000000</td>\n",
       "      <td>12.000000</td>\n",
       "      <td>2016.000000</td>\n",
       "    </tr>\n",
       "  </tbody>\n",
       "</table>\n",
       "<p>8 rows × 34 columns</p>\n",
       "</div>"
      ],
      "text/plain": [
       "                 id     member_id     loan_amnt  funded_amnt  funded_amnt_inv  \\\n",
       "count  3.964400e+04  3.964400e+04  39644.000000  39644.00000     39644.000000   \n",
       "mean   6.831571e+05  8.504905e+05  11225.073151  10952.84217     10403.925605   \n",
       "std    2.107102e+05  2.657028e+05   7455.197984   7185.40898      7128.300533   \n",
       "min    5.473400e+04  7.069900e+04    500.000000    500.00000         0.000000   \n",
       "25%    5.162455e+05  6.668655e+05   5500.000000   5400.00000      5000.000000   \n",
       "50%    6.656255e+05  8.508075e+05  10000.000000   9600.00000      8975.000000   \n",
       "75%    8.377930e+05  1.047358e+06  15000.000000  15000.00000     14400.000000   \n",
       "max    1.077501e+06  1.314167e+06  35000.000000  35000.00000     35000.000000   \n",
       "\n",
       "           int_rate   installment    annual_inc           dti   delinq_2yrs  \\\n",
       "count  39644.000000  39644.000000  3.964400e+04  39644.000000  39644.000000   \n",
       "mean      12.017719    324.699200  6.900832e+04     13.317752      0.146277   \n",
       "std        3.724719    208.818933  6.383481e+04      6.677311      0.491143   \n",
       "min        5.420000     15.690000  4.000000e+03      0.000000      0.000000   \n",
       "25%        9.250000    167.080000  4.050000e+04      8.180000      0.000000   \n",
       "50%       11.830000    280.500000  5.900000e+04     13.410000      0.000000   \n",
       "75%       14.590000    430.780000  8.240400e+04     18.600000      0.000000   \n",
       "max       24.590000   1305.190000  6.000000e+06     29.990000     11.000000   \n",
       "\n",
       "       ...  collection_recovery_fee  last_pymnt_amnt  pub_rec_bankruptcies  \\\n",
       "count  ...             39644.000000     39644.000000          39644.000000   \n",
       "mean   ...                12.296210      2683.750099              0.042428   \n",
       "std    ...               148.332033      4449.746502              0.202439   \n",
       "min    ...                 0.000000         0.000000              0.000000   \n",
       "25%    ...                 0.000000       219.847500              0.000000   \n",
       "50%    ...                 0.000000       548.550000              0.000000   \n",
       "75%    ...                 0.000000      3304.707500              0.000000   \n",
       "max    ...              7002.190000     36115.200000              2.000000   \n",
       "\n",
       "            compare  issue_d_year  issue_d_month  last_pymnt_d_month  \\\n",
       "count  37795.000000  39644.000000   39644.000000        39644.000000   \n",
       "mean   10849.588570   2010.328978       7.172258            6.444178   \n",
       "std     7227.694598      0.877502       3.397438            3.429454   \n",
       "min      500.000000   2007.000000       1.000000            1.000000   \n",
       "25%     5000.000000   2010.000000       4.000000            3.000000   \n",
       "50%     9500.000000   2011.000000       7.000000            6.000000   \n",
       "75%    15000.000000   2011.000000      10.000000            9.000000   \n",
       "max    35000.000000   2011.000000      12.000000           12.000000   \n",
       "\n",
       "       last_pymnt_d_year  last_credit_pull_d_month  last_credit_pull_d_year  \n",
       "count       39644.000000              39644.000000             39644.000000  \n",
       "mean         2012.821057                  5.817249              2014.287736  \n",
       "std             1.539846                  3.026837                 1.788581  \n",
       "min          2008.000000                  1.000000              2007.000000  \n",
       "25%          2012.000000                  4.000000              2013.000000  \n",
       "50%          2013.000000                  5.000000              2015.000000  \n",
       "75%          2014.000000                  8.000000              2016.000000  \n",
       "max          2016.000000                 12.000000              2016.000000  \n",
       "\n",
       "[8 rows x 34 columns]"
      ]
     },
     "execution_count": 708,
     "metadata": {},
     "output_type": "execute_result"
    }
   ],
   "source": [
    "df_new3.describe()"
   ]
  },
  {
   "cell_type": "markdown",
   "id": "8dce5c72",
   "metadata": {},
   "source": [
    "# 3. Since the Case study is to analyze for the new applicants if they will be able to pay the loan or not if approved.  We will not be able to derive insights with the loan member who are currently repaying the loan as we dont have much visibility to their behaviour and there is always 50% chance for a person able to repay all the loan or they can default."
   ]
  },
  {
   "cell_type": "code",
   "execution_count": 899,
   "id": "6e7d6567",
   "metadata": {},
   "outputs": [
    {
     "data": {
      "text/plain": [
       "Index(['id', 'member_id', 'loan_amnt', 'funded_amnt', 'funded_amnt_inv',\n",
       "       'term', 'int_rate', 'installment', 'grade', 'sub_grade', 'emp_title',\n",
       "       'emp_length', 'home_ownership', 'annual_inc', 'verification_status',\n",
       "       'issue_d', 'loan_status', 'url', 'purpose', 'zip_code', 'addr_state',\n",
       "       'dti', 'delinq_2yrs', 'earliest_cr_line', 'inq_last_6mths', 'open_acc',\n",
       "       'pub_rec', 'revol_bal', 'revol_util', 'total_acc', 'out_prncp',\n",
       "       'out_prncp_inv', 'total_pymnt', 'total_pymnt_inv', 'total_rec_prncp',\n",
       "       'total_rec_int', 'total_rec_late_fee', 'recoveries',\n",
       "       'collection_recovery_fee', 'last_pymnt_d', 'last_pymnt_amnt',\n",
       "       'last_credit_pull_d', 'application_type', 'pub_rec_bankruptcies',\n",
       "       'compare', 'issue_d_year', 'issue_d_month', 'last_pymnt_d_month',\n",
       "       'last_pymnt_d_year', 'last_credit_pull_d_month',\n",
       "       'last_credit_pull_d_year'],\n",
       "      dtype='object')"
      ]
     },
     "execution_count": 899,
     "metadata": {},
     "output_type": "execute_result"
    }
   ],
   "source": [
    "df_new3.columns"
   ]
  },
  {
   "cell_type": "code",
   "execution_count": 900,
   "id": "cbc53495",
   "metadata": {},
   "outputs": [
    {
     "data": {
      "text/plain": [
       "Fully Paid     32949\n",
       "Charged Off     5555\n",
       "Current         1140\n",
       "Name: loan_status, dtype: int64"
      ]
     },
     "execution_count": 900,
     "metadata": {},
     "output_type": "execute_result"
    }
   ],
   "source": [
    "df_new3.loan_status.value_counts()"
   ]
  },
  {
   "cell_type": "code",
   "execution_count": 901,
   "id": "bcf40caf",
   "metadata": {},
   "outputs": [],
   "source": [
    "# creating a new dataframe containing all rows except current loan status"
   ]
  },
  {
   "cell_type": "code",
   "execution_count": 1042,
   "id": "6eabadd8",
   "metadata": {},
   "outputs": [],
   "source": [
    "df_new4= df_new3[df_new3['loan_status']!='Current']"
   ]
  },
  {
   "cell_type": "code",
   "execution_count": 1043,
   "id": "12659c99",
   "metadata": {},
   "outputs": [
    {
     "data": {
      "text/plain": [
       "Fully Paid     32949\n",
       "Charged Off     5555\n",
       "Name: loan_status, dtype: int64"
      ]
     },
     "execution_count": 1043,
     "metadata": {},
     "output_type": "execute_result"
    }
   ],
   "source": [
    "df_new4.loan_status.value_counts()"
   ]
  },
  {
   "cell_type": "code",
   "execution_count": 1044,
   "id": "af95f177",
   "metadata": {},
   "outputs": [
    {
     "data": {
      "text/plain": [
       "id                             0\n",
       "member_id                      0\n",
       "loan_amnt                      0\n",
       "funded_amnt                    0\n",
       "funded_amnt_inv                0\n",
       "term                           0\n",
       "int_rate                       0\n",
       "installment                    0\n",
       "grade                          0\n",
       "sub_grade                      0\n",
       "emp_title                   2377\n",
       "emp_length                  1028\n",
       "home_ownership                 0\n",
       "annual_inc                     0\n",
       "verification_status            0\n",
       "issue_d                        0\n",
       "loan_status                    0\n",
       "url                            0\n",
       "purpose                        0\n",
       "zip_code                       0\n",
       "addr_state                     0\n",
       "dti                            0\n",
       "delinq_2yrs                    0\n",
       "earliest_cr_line               0\n",
       "inq_last_6mths                 0\n",
       "open_acc                       0\n",
       "pub_rec                        0\n",
       "revol_bal                      0\n",
       "revol_util                    46\n",
       "total_acc                      0\n",
       "out_prncp                      0\n",
       "out_prncp_inv                  0\n",
       "total_pymnt                    0\n",
       "total_pymnt_inv                0\n",
       "total_rec_prncp                0\n",
       "total_rec_int                  0\n",
       "total_rec_late_fee             0\n",
       "recoveries                     0\n",
       "collection_recovery_fee        0\n",
       "last_pymnt_d                   0\n",
       "last_pymnt_amnt                0\n",
       "last_credit_pull_d             0\n",
       "application_type               0\n",
       "pub_rec_bankruptcies           0\n",
       "compare                     1757\n",
       "issue_d_year                   0\n",
       "issue_d_month                  0\n",
       "last_pymnt_d_month             0\n",
       "last_pymnt_d_year              0\n",
       "last_credit_pull_d_month       0\n",
       "last_credit_pull_d_year        0\n",
       "dtype: int64"
      ]
     },
     "execution_count": 1044,
     "metadata": {},
     "output_type": "execute_result"
    }
   ],
   "source": [
    "df_new4.isnull().sum()"
   ]
  },
  {
   "cell_type": "code",
   "execution_count": 1045,
   "id": "c8561f45",
   "metadata": {},
   "outputs": [
    {
     "data": {
      "text/plain": [
       "<AxesSubplot:>"
      ]
     },
     "execution_count": 1045,
     "metadata": {},
     "output_type": "execute_result"
    },
    {
     "data": {
      "image/png": "[encoded data removed]",
      "text/plain": [
       "<Figure size 432x288 with 1 Axes>"
      ]
     },
     "metadata": {
      "needs_background": "light"
     },
     "output_type": "display_data"
    }
   ],
   "source": [
    "df_new4.loan_status.value_counts().plot.bar()"
   ]
  },
  {
   "cell_type": "code",
   "execution_count": 1046,
   "id": "0988404f",
   "metadata": {},
   "outputs": [],
   "source": [
    "\n",
    "Full_paid_total = (df_new4.loan_status=='Fully Paid').sum()"
   ]
  },
  {
   "cell_type": "code",
   "execution_count": 1047,
   "id": "acc202a6",
   "metadata": {},
   "outputs": [],
   "source": [
    "Charged_off_total = (df_new4.loan_status=='Charged Off').sum()"
   ]
  },
  {
   "cell_type": "code",
   "execution_count": 1048,
   "id": "c347bbe0",
   "metadata": {},
   "outputs": [
    {
     "data": {
      "text/plain": [
       "14"
      ]
     },
     "execution_count": 1048,
     "metadata": {},
     "output_type": "execute_result"
    }
   ],
   "source": [
    "Percentage_charged_off= round(Charged_off_total/(Full_paid_total+Charged_off_total)*100)\n",
    "Percentage_charged_off"
   ]
  },
  {
   "cell_type": "code",
   "execution_count": 1049,
   "id": "6c929400",
   "metadata": {},
   "outputs": [
    {
     "data": {
      "text/plain": [
       "86"
      ]
     },
     "execution_count": 1049,
     "metadata": {},
     "output_type": "execute_result"
    }
   ],
   "source": [
    "Percentage_full_paid = round(Full_paid_total/(Full_paid_total+Charged_off_total)*100)\n",
    "Percentage_full_paid"
   ]
  },
  {
   "cell_type": "code",
   "execution_count": 958,
   "id": "fc5b7dad",
   "metadata": {
    "scrolled": true
   },
   "outputs": [],
   "source": [
    "#looks like around 14% of the population have the status of charged off/there are around 14% loan applications that have defaulted."
   ]
  },
  {
   "cell_type": "code",
   "execution_count": 1050,
   "id": "9bbb2796",
   "metadata": {},
   "outputs": [],
   "source": [
    "loan_vs_purpose = df_new4.groupby('purpose')['loan_status'].value_counts().unstack(level=1)"
   ]
  },
  {
   "cell_type": "code",
   "execution_count": 1051,
   "id": "77cfdf38",
   "metadata": {},
   "outputs": [
    {
     "data": {
      "text/plain": [
       "<AxesSubplot:xlabel='purpose'>"
      ]
     },
     "execution_count": 1051,
     "metadata": {},
     "output_type": "execute_result"
    },
    {
     "data": {
      "image/png": "[encoded data removed]",
      "text/plain": [
       "<Figure size 432x288 with 1 Axes>"
      ]
     },
     "metadata": {
      "needs_background": "light"
     },
     "output_type": "display_data"
    }
   ],
   "source": [
    "loan_vs_purpose.plot.bar()"
   ]
  },
  {
   "cell_type": "markdown",
   "id": "f4e37826",
   "metadata": {},
   "source": [
    "# Observation:  \n",
    "\n",
    "### It is observed that mostly people have taken loan for debt consolidation. The most loan paid and the most defaults are found for debt consolidation category."
   ]
  },
  {
   "cell_type": "code",
   "execution_count": 1066,
   "id": "575ebe62",
   "metadata": {},
   "outputs": [
    {
     "data": {
      "text/html": [
       "<div>\n",
       "<style scoped>\n",
       "    .dataframe tbody tr th:only-of-type {\n",
       "        vertical-align: middle;\n",
       "    }\n",
       "\n",
       "    .dataframe tbody tr th {\n",
       "        vertical-align: top;\n",
       "    }\n",
       "\n",
       "    .dataframe thead th {\n",
       "        text-align: right;\n",
       "    }\n",
       "</style>\n",
       "<table border=\"1\" class=\"dataframe\">\n",
       "  <thead>\n",
       "    <tr style=\"text-align: right;\">\n",
       "      <th>loan_status</th>\n",
       "      <th>Charged Off</th>\n",
       "      <th>Fully Paid</th>\n",
       "    </tr>\n",
       "    <tr>\n",
       "      <th>addr_state</th>\n",
       "      <th></th>\n",
       "      <th></th>\n",
       "    </tr>\n",
       "  </thead>\n",
       "  <tbody>\n",
       "    <tr>\n",
       "      <th>CA</th>\n",
       "      <td>1105.0</td>\n",
       "      <td>5823.0</td>\n",
       "    </tr>\n",
       "    <tr>\n",
       "      <th>NY</th>\n",
       "      <td>487.0</td>\n",
       "      <td>3203.0</td>\n",
       "    </tr>\n",
       "    <tr>\n",
       "      <th>TX</th>\n",
       "      <td>308.0</td>\n",
       "      <td>2343.0</td>\n",
       "    </tr>\n",
       "    <tr>\n",
       "      <th>FL</th>\n",
       "      <td>501.0</td>\n",
       "      <td>2277.0</td>\n",
       "    </tr>\n",
       "    <tr>\n",
       "      <th>NJ</th>\n",
       "      <td>275.0</td>\n",
       "      <td>1512.0</td>\n",
       "    </tr>\n",
       "    <tr>\n",
       "      <th>PA</th>\n",
       "      <td>178.0</td>\n",
       "      <td>1288.0</td>\n",
       "    </tr>\n",
       "    <tr>\n",
       "      <th>IL</th>\n",
       "      <td>195.0</td>\n",
       "      <td>1281.0</td>\n",
       "    </tr>\n",
       "    <tr>\n",
       "      <th>VA</th>\n",
       "      <td>174.0</td>\n",
       "      <td>1192.0</td>\n",
       "    </tr>\n",
       "    <tr>\n",
       "      <th>GA</th>\n",
       "      <td>213.0</td>\n",
       "      <td>1144.0</td>\n",
       "    </tr>\n",
       "    <tr>\n",
       "      <th>MA</th>\n",
       "      <td>159.0</td>\n",
       "      <td>1138.0</td>\n",
       "    </tr>\n",
       "    <tr>\n",
       "      <th>OH</th>\n",
       "      <td>153.0</td>\n",
       "      <td>1023.0</td>\n",
       "    </tr>\n",
       "    <tr>\n",
       "      <th>MD</th>\n",
       "      <td>159.0</td>\n",
       "      <td>861.0</td>\n",
       "    </tr>\n",
       "    <tr>\n",
       "      <th>AZ</th>\n",
       "      <td>122.0</td>\n",
       "      <td>726.0</td>\n",
       "    </tr>\n",
       "    <tr>\n",
       "      <th>WA</th>\n",
       "      <td>127.0</td>\n",
       "      <td>691.0</td>\n",
       "    </tr>\n",
       "    <tr>\n",
       "      <th>CO</th>\n",
       "      <td>97.0</td>\n",
       "      <td>668.0</td>\n",
       "    </tr>\n",
       "    <tr>\n",
       "      <th>NC</th>\n",
       "      <td>112.0</td>\n",
       "      <td>636.0</td>\n",
       "    </tr>\n",
       "    <tr>\n",
       "      <th>CT</th>\n",
       "      <td>93.0</td>\n",
       "      <td>632.0</td>\n",
       "    </tr>\n",
       "    <tr>\n",
       "      <th>MI</th>\n",
       "      <td>102.0</td>\n",
       "      <td>601.0</td>\n",
       "    </tr>\n",
       "    <tr>\n",
       "      <th>MO</th>\n",
       "      <td>112.0</td>\n",
       "      <td>556.0</td>\n",
       "    </tr>\n",
       "    <tr>\n",
       "      <th>MN</th>\n",
       "      <td>80.0</td>\n",
       "      <td>524.0</td>\n",
       "    </tr>\n",
       "    <tr>\n",
       "      <th>SC</th>\n",
       "      <td>66.0</td>\n",
       "      <td>393.0</td>\n",
       "    </tr>\n",
       "    <tr>\n",
       "      <th>AL</th>\n",
       "      <td>52.0</td>\n",
       "      <td>381.0</td>\n",
       "    </tr>\n",
       "    <tr>\n",
       "      <th>WI</th>\n",
       "      <td>62.0</td>\n",
       "      <td>377.0</td>\n",
       "    </tr>\n",
       "    <tr>\n",
       "      <th>LA</th>\n",
       "      <td>53.0</td>\n",
       "      <td>374.0</td>\n",
       "    </tr>\n",
       "    <tr>\n",
       "      <th>NV</th>\n",
       "      <td>108.0</td>\n",
       "      <td>371.0</td>\n",
       "    </tr>\n",
       "    <tr>\n",
       "      <th>OR</th>\n",
       "      <td>70.0</td>\n",
       "      <td>364.0</td>\n",
       "    </tr>\n",
       "    <tr>\n",
       "      <th>KY</th>\n",
       "      <td>44.0</td>\n",
       "      <td>266.0</td>\n",
       "    </tr>\n",
       "    <tr>\n",
       "      <th>OK</th>\n",
       "      <td>40.0</td>\n",
       "      <td>247.0</td>\n",
       "    </tr>\n",
       "    <tr>\n",
       "      <th>KS</th>\n",
       "      <td>31.0</td>\n",
       "      <td>224.0</td>\n",
       "    </tr>\n",
       "    <tr>\n",
       "      <th>UT</th>\n",
       "      <td>40.0</td>\n",
       "      <td>212.0</td>\n",
       "    </tr>\n",
       "    <tr>\n",
       "      <th>AR</th>\n",
       "      <td>27.0</td>\n",
       "      <td>208.0</td>\n",
       "    </tr>\n",
       "    <tr>\n",
       "      <th>DC</th>\n",
       "      <td>15.0</td>\n",
       "      <td>196.0</td>\n",
       "    </tr>\n",
       "    <tr>\n",
       "      <th>RI</th>\n",
       "      <td>25.0</td>\n",
       "      <td>169.0</td>\n",
       "    </tr>\n",
       "    <tr>\n",
       "      <th>NM</th>\n",
       "      <td>30.0</td>\n",
       "      <td>153.0</td>\n",
       "    </tr>\n",
       "    <tr>\n",
       "      <th>WV</th>\n",
       "      <td>20.0</td>\n",
       "      <td>151.0</td>\n",
       "    </tr>\n",
       "    <tr>\n",
       "      <th>NH</th>\n",
       "      <td>25.0</td>\n",
       "      <td>141.0</td>\n",
       "    </tr>\n",
       "    <tr>\n",
       "      <th>HI</th>\n",
       "      <td>28.0</td>\n",
       "      <td>138.0</td>\n",
       "    </tr>\n",
       "    <tr>\n",
       "      <th>DE</th>\n",
       "      <td>11.0</td>\n",
       "      <td>101.0</td>\n",
       "    </tr>\n",
       "    <tr>\n",
       "      <th>WY</th>\n",
       "      <td>4.0</td>\n",
       "      <td>76.0</td>\n",
       "    </tr>\n",
       "    <tr>\n",
       "      <th>MT</th>\n",
       "      <td>11.0</td>\n",
       "      <td>72.0</td>\n",
       "    </tr>\n",
       "    <tr>\n",
       "      <th>AK</th>\n",
       "      <td>15.0</td>\n",
       "      <td>63.0</td>\n",
       "    </tr>\n",
       "    <tr>\n",
       "      <th>SD</th>\n",
       "      <td>12.0</td>\n",
       "      <td>50.0</td>\n",
       "    </tr>\n",
       "    <tr>\n",
       "      <th>VT</th>\n",
       "      <td>6.0</td>\n",
       "      <td>47.0</td>\n",
       "    </tr>\n",
       "    <tr>\n",
       "      <th>MS</th>\n",
       "      <td>2.0</td>\n",
       "      <td>17.0</td>\n",
       "    </tr>\n",
       "    <tr>\n",
       "      <th>TN</th>\n",
       "      <td>2.0</td>\n",
       "      <td>15.0</td>\n",
       "    </tr>\n",
       "    <tr>\n",
       "      <th>IN</th>\n",
       "      <td>NaN</td>\n",
       "      <td>9.0</td>\n",
       "    </tr>\n",
       "    <tr>\n",
       "      <th>ID</th>\n",
       "      <td>1.0</td>\n",
       "      <td>5.0</td>\n",
       "    </tr>\n",
       "    <tr>\n",
       "      <th>IA</th>\n",
       "      <td>NaN</td>\n",
       "      <td>5.0</td>\n",
       "    </tr>\n",
       "    <tr>\n",
       "      <th>ME</th>\n",
       "      <td>NaN</td>\n",
       "      <td>3.0</td>\n",
       "    </tr>\n",
       "    <tr>\n",
       "      <th>NE</th>\n",
       "      <td>3.0</td>\n",
       "      <td>2.0</td>\n",
       "    </tr>\n",
       "  </tbody>\n",
       "</table>\n",
       "</div>"
      ],
      "text/plain": [
       "loan_status  Charged Off  Fully Paid\n",
       "addr_state                          \n",
       "CA                1105.0      5823.0\n",
       "NY                 487.0      3203.0\n",
       "TX                 308.0      2343.0\n",
       "FL                 501.0      2277.0\n",
       "NJ                 275.0      1512.0\n",
       "PA                 178.0      1288.0\n",
       "IL                 195.0      1281.0\n",
       "VA                 174.0      1192.0\n",
       "GA                 213.0      1144.0\n",
       "MA                 159.0      1138.0\n",
       "OH                 153.0      1023.0\n",
       "MD                 159.0       861.0\n",
       "AZ                 122.0       726.0\n",
       "WA                 127.0       691.0\n",
       "CO                  97.0       668.0\n",
       "NC                 112.0       636.0\n",
       "CT                  93.0       632.0\n",
       "MI                 102.0       601.0\n",
       "MO                 112.0       556.0\n",
       "MN                  80.0       524.0\n",
       "SC                  66.0       393.0\n",
       "AL                  52.0       381.0\n",
       "WI                  62.0       377.0\n",
       "LA                  53.0       374.0\n",
       "NV                 108.0       371.0\n",
       "OR                  70.0       364.0\n",
       "KY                  44.0       266.0\n",
       "OK                  40.0       247.0\n",
       "KS                  31.0       224.0\n",
       "UT                  40.0       212.0\n",
       "AR                  27.0       208.0\n",
       "DC                  15.0       196.0\n",
       "RI                  25.0       169.0\n",
       "NM                  30.0       153.0\n",
       "WV                  20.0       151.0\n",
       "NH                  25.0       141.0\n",
       "HI                  28.0       138.0\n",
       "DE                  11.0       101.0\n",
       "WY                   4.0        76.0\n",
       "MT                  11.0        72.0\n",
       "AK                  15.0        63.0\n",
       "SD                  12.0        50.0\n",
       "VT                   6.0        47.0\n",
       "MS                   2.0        17.0\n",
       "TN                   2.0        15.0\n",
       "IN                   NaN         9.0\n",
       "ID                   1.0         5.0\n",
       "IA                   NaN         5.0\n",
       "ME                   NaN         3.0\n",
       "NE                   3.0         2.0"
      ]
     },
     "execution_count": 1066,
     "metadata": {},
     "output_type": "execute_result"
    }
   ],
   "source": [
    "add_state_vs_loan_status = df_new4.groupby('addr_state')['loan_status'].value_counts().unstack(level=1)\n",
    "add_state_vs_loan_status.sort_values(by='Fully Paid',ascending=False)"
   ]
  },
  {
   "cell_type": "code",
   "execution_count": 1069,
   "id": "abd4848d",
   "metadata": {},
   "outputs": [
    {
     "data": {
      "text/plain": [
       "Index(['Charged Off', 'Fully Paid'], dtype='object', name='loan_status')"
      ]
     },
     "execution_count": 1069,
     "metadata": {},
     "output_type": "execute_result"
    }
   ],
   "source": [
    "add_state_vs_loan_status.columns"
   ]
  },
  {
   "cell_type": "code",
   "execution_count": 1067,
   "id": "68f16934",
   "metadata": {},
   "outputs": [
    {
     "data": {
      "text/plain": [
       "<Figure size 720x1440 with 0 Axes>"
      ]
     },
     "metadata": {},
     "output_type": "display_data"
    },
    {
     "data": {
      "image/png": "[encoded data removed]",
      "text/plain": [
       "<Figure size 432x288 with 1 Axes>"
      ]
     },
     "metadata": {
      "needs_background": "light"
     },
     "output_type": "display_data"
    }
   ],
   "source": [
    "plt.figure(figsize=[10,20])\n",
    "add_state_vs_loan_status.plot.bar()\n",
    "plt.show()"
   ]
  },
  {
   "cell_type": "code",
   "execution_count": 1005,
   "id": "4ec5def7",
   "metadata": {},
   "outputs": [
    {
     "data": {
      "text/plain": [
       "id                          38504\n",
       "member_id                   38504\n",
       "loan_amnt                     870\n",
       "funded_amnt                  1019\n",
       "funded_amnt_inv              8050\n",
       "term                            2\n",
       "int_rate                      370\n",
       "installment                 15004\n",
       "grade                           7\n",
       "sub_grade                      35\n",
       "emp_title                   27914\n",
       "emp_length                     11\n",
       "home_ownership                  5\n",
       "annual_inc                   5206\n",
       "verification_status             3\n",
       "issue_d                        55\n",
       "loan_status                     2\n",
       "url                         38504\n",
       "purpose                        14\n",
       "zip_code                      822\n",
       "addr_state                     50\n",
       "dti                          2853\n",
       "delinq_2yrs                    11\n",
       "earliest_cr_line              524\n",
       "inq_last_6mths                  9\n",
       "open_acc                       40\n",
       "pub_rec                         5\n",
       "revol_bal                   21262\n",
       "revol_util                   1088\n",
       "total_acc                      82\n",
       "out_prncp                       1\n",
       "out_prncp_inv                   1\n",
       "total_pymnt                 36657\n",
       "total_pymnt_inv             36331\n",
       "total_rec_prncp              6840\n",
       "total_rec_int               34022\n",
       "total_rec_late_fee           1320\n",
       "recoveries                   3987\n",
       "collection_recovery_fee      2597\n",
       "last_pymnt_d                  101\n",
       "last_pymnt_amnt             34417\n",
       "last_credit_pull_d            106\n",
       "application_type                1\n",
       "pub_rec_bankruptcies            3\n",
       "compare                       856\n",
       "issue_d_year                    5\n",
       "issue_d_month                  12\n",
       "last_pymnt_d_month             12\n",
       "last_pymnt_d_year               9\n",
       "last_credit_pull_d_month       12\n",
       "last_credit_pull_d_year        10\n",
       "dtype: int64"
      ]
     },
     "execution_count": 1005,
     "metadata": {},
     "output_type": "execute_result"
    }
   ],
   "source": [
    "df_new4.nunique()"
   ]
  },
  {
   "cell_type": "code",
   "execution_count": 1068,
   "id": "ad6d2dd1",
   "metadata": {},
   "outputs": [],
   "source": [
    "behavioural_variables= ['delinq_2yrs','earliest_cr_line','inq_last_6mths','open_acc','pub_rec','revol_bal','revol_util','total_acc','out_prncp','out_prncp_inv','total_pymnt','total_pymnt_inv','total_rec_prncp','total_rec_int','total_rec_late_fee','recoveries','collection_recovery_fee','last_pymnt_d','last_pymnt_amnt','last_credit_pull_d','application_type','compare']\n"
   ]
  },
  {
   "cell_type": "code",
   "execution_count": 1070,
   "id": "99210723",
   "metadata": {},
   "outputs": [
    {
     "data": {
      "text/plain": [
       "22"
      ]
     },
     "execution_count": 1070,
     "metadata": {},
     "output_type": "execute_result"
    }
   ],
   "source": [
    "len(behavioural_variables)"
   ]
  },
  {
   "cell_type": "code",
   "execution_count": 1071,
   "id": "7bb3c34a",
   "metadata": {},
   "outputs": [
    {
     "data": {
      "text/html": [
       "<div>\n",
       "<style scoped>\n",
       "    .dataframe tbody tr th:only-of-type {\n",
       "        vertical-align: middle;\n",
       "    }\n",
       "\n",
       "    .dataframe tbody tr th {\n",
       "        vertical-align: top;\n",
       "    }\n",
       "\n",
       "    .dataframe thead th {\n",
       "        text-align: right;\n",
       "    }\n",
       "</style>\n",
       "<table border=\"1\" class=\"dataframe\">\n",
       "  <thead>\n",
       "    <tr style=\"text-align: right;\">\n",
       "      <th></th>\n",
       "      <th>delinq_2yrs</th>\n",
       "      <th>earliest_cr_line</th>\n",
       "      <th>inq_last_6mths</th>\n",
       "      <th>open_acc</th>\n",
       "      <th>pub_rec</th>\n",
       "      <th>revol_bal</th>\n",
       "      <th>revol_util</th>\n",
       "      <th>total_acc</th>\n",
       "      <th>out_prncp</th>\n",
       "      <th>out_prncp_inv</th>\n",
       "      <th>...</th>\n",
       "      <th>total_rec_prncp</th>\n",
       "      <th>total_rec_int</th>\n",
       "      <th>total_rec_late_fee</th>\n",
       "      <th>recoveries</th>\n",
       "      <th>collection_recovery_fee</th>\n",
       "      <th>last_pymnt_d</th>\n",
       "      <th>last_pymnt_amnt</th>\n",
       "      <th>last_credit_pull_d</th>\n",
       "      <th>application_type</th>\n",
       "      <th>compare</th>\n",
       "    </tr>\n",
       "  </thead>\n",
       "  <tbody>\n",
       "    <tr>\n",
       "      <th>0</th>\n",
       "      <td>0</td>\n",
       "      <td>Jan-85</td>\n",
       "      <td>1</td>\n",
       "      <td>3</td>\n",
       "      <td>0</td>\n",
       "      <td>13648</td>\n",
       "      <td>83.7</td>\n",
       "      <td>9</td>\n",
       "      <td>0.0</td>\n",
       "      <td>0.0</td>\n",
       "      <td>...</td>\n",
       "      <td>5000.00</td>\n",
       "      <td>863.16</td>\n",
       "      <td>0.00</td>\n",
       "      <td>0.00</td>\n",
       "      <td>0.00</td>\n",
       "      <td>Jan-15</td>\n",
       "      <td>171.62</td>\n",
       "      <td>May-16</td>\n",
       "      <td>INDIVIDUAL</td>\n",
       "      <td>5000.0</td>\n",
       "    </tr>\n",
       "    <tr>\n",
       "      <th>1</th>\n",
       "      <td>0</td>\n",
       "      <td>Apr-99</td>\n",
       "      <td>5</td>\n",
       "      <td>3</td>\n",
       "      <td>0</td>\n",
       "      <td>1687</td>\n",
       "      <td>9.4</td>\n",
       "      <td>4</td>\n",
       "      <td>0.0</td>\n",
       "      <td>0.0</td>\n",
       "      <td>...</td>\n",
       "      <td>456.46</td>\n",
       "      <td>435.17</td>\n",
       "      <td>0.00</td>\n",
       "      <td>117.08</td>\n",
       "      <td>1.11</td>\n",
       "      <td>Apr-13</td>\n",
       "      <td>119.66</td>\n",
       "      <td>Sep-13</td>\n",
       "      <td>INDIVIDUAL</td>\n",
       "      <td>2500.0</td>\n",
       "    </tr>\n",
       "    <tr>\n",
       "      <th>2</th>\n",
       "      <td>0</td>\n",
       "      <td>Nov-01</td>\n",
       "      <td>2</td>\n",
       "      <td>2</td>\n",
       "      <td>0</td>\n",
       "      <td>2956</td>\n",
       "      <td>98.5</td>\n",
       "      <td>10</td>\n",
       "      <td>0.0</td>\n",
       "      <td>0.0</td>\n",
       "      <td>...</td>\n",
       "      <td>2400.00</td>\n",
       "      <td>605.67</td>\n",
       "      <td>0.00</td>\n",
       "      <td>0.00</td>\n",
       "      <td>0.00</td>\n",
       "      <td>Jun-14</td>\n",
       "      <td>649.91</td>\n",
       "      <td>May-16</td>\n",
       "      <td>INDIVIDUAL</td>\n",
       "      <td>2400.0</td>\n",
       "    </tr>\n",
       "    <tr>\n",
       "      <th>3</th>\n",
       "      <td>0</td>\n",
       "      <td>Feb-96</td>\n",
       "      <td>1</td>\n",
       "      <td>10</td>\n",
       "      <td>0</td>\n",
       "      <td>5598</td>\n",
       "      <td>21.0</td>\n",
       "      <td>37</td>\n",
       "      <td>0.0</td>\n",
       "      <td>0.0</td>\n",
       "      <td>...</td>\n",
       "      <td>10000.00</td>\n",
       "      <td>2214.92</td>\n",
       "      <td>16.97</td>\n",
       "      <td>0.00</td>\n",
       "      <td>0.00</td>\n",
       "      <td>Jan-15</td>\n",
       "      <td>357.48</td>\n",
       "      <td>Apr-16</td>\n",
       "      <td>INDIVIDUAL</td>\n",
       "      <td>10000.0</td>\n",
       "    </tr>\n",
       "    <tr>\n",
       "      <th>5</th>\n",
       "      <td>0</td>\n",
       "      <td>Nov-04</td>\n",
       "      <td>3</td>\n",
       "      <td>9</td>\n",
       "      <td>0</td>\n",
       "      <td>7963</td>\n",
       "      <td>28.3</td>\n",
       "      <td>12</td>\n",
       "      <td>0.0</td>\n",
       "      <td>0.0</td>\n",
       "      <td>...</td>\n",
       "      <td>5000.00</td>\n",
       "      <td>632.21</td>\n",
       "      <td>0.00</td>\n",
       "      <td>0.00</td>\n",
       "      <td>0.00</td>\n",
       "      <td>Jan-15</td>\n",
       "      <td>161.03</td>\n",
       "      <td>Jan-16</td>\n",
       "      <td>INDIVIDUAL</td>\n",
       "      <td>5000.0</td>\n",
       "    </tr>\n",
       "    <tr>\n",
       "      <th>...</th>\n",
       "      <td>...</td>\n",
       "      <td>...</td>\n",
       "      <td>...</td>\n",
       "      <td>...</td>\n",
       "      <td>...</td>\n",
       "      <td>...</td>\n",
       "      <td>...</td>\n",
       "      <td>...</td>\n",
       "      <td>...</td>\n",
       "      <td>...</td>\n",
       "      <td>...</td>\n",
       "      <td>...</td>\n",
       "      <td>...</td>\n",
       "      <td>...</td>\n",
       "      <td>...</td>\n",
       "      <td>...</td>\n",
       "      <td>...</td>\n",
       "      <td>...</td>\n",
       "      <td>...</td>\n",
       "      <td>...</td>\n",
       "      <td>...</td>\n",
       "    </tr>\n",
       "    <tr>\n",
       "      <th>39712</th>\n",
       "      <td>0</td>\n",
       "      <td>Nov-90</td>\n",
       "      <td>0</td>\n",
       "      <td>13</td>\n",
       "      <td>0</td>\n",
       "      <td>7274</td>\n",
       "      <td>13.1</td>\n",
       "      <td>40</td>\n",
       "      <td>0.0</td>\n",
       "      <td>0.0</td>\n",
       "      <td>...</td>\n",
       "      <td>2500.00</td>\n",
       "      <td>322.97</td>\n",
       "      <td>0.00</td>\n",
       "      <td>0.00</td>\n",
       "      <td>0.00</td>\n",
       "      <td>Jul-10</td>\n",
       "      <td>80.90</td>\n",
       "      <td>Jun-10</td>\n",
       "      <td>INDIVIDUAL</td>\n",
       "      <td>2500.0</td>\n",
       "    </tr>\n",
       "    <tr>\n",
       "      <th>39713</th>\n",
       "      <td>1</td>\n",
       "      <td>Dec-86</td>\n",
       "      <td>1</td>\n",
       "      <td>6</td>\n",
       "      <td>0</td>\n",
       "      <td>8847</td>\n",
       "      <td>26.9</td>\n",
       "      <td>9</td>\n",
       "      <td>0.0</td>\n",
       "      <td>0.0</td>\n",
       "      <td>...</td>\n",
       "      <td>8500.00</td>\n",
       "      <td>1413.49</td>\n",
       "      <td>0.00</td>\n",
       "      <td>0.00</td>\n",
       "      <td>0.00</td>\n",
       "      <td>Jul-10</td>\n",
       "      <td>281.94</td>\n",
       "      <td>Jul-10</td>\n",
       "      <td>INDIVIDUAL</td>\n",
       "      <td>8500.0</td>\n",
       "    </tr>\n",
       "    <tr>\n",
       "      <th>39714</th>\n",
       "      <td>0</td>\n",
       "      <td>Oct-98</td>\n",
       "      <td>0</td>\n",
       "      <td>11</td>\n",
       "      <td>0</td>\n",
       "      <td>9698</td>\n",
       "      <td>19.4</td>\n",
       "      <td>20</td>\n",
       "      <td>0.0</td>\n",
       "      <td>0.0</td>\n",
       "      <td>...</td>\n",
       "      <td>5000.00</td>\n",
       "      <td>272.16</td>\n",
       "      <td>0.00</td>\n",
       "      <td>0.00</td>\n",
       "      <td>0.00</td>\n",
       "      <td>Apr-08</td>\n",
       "      <td>0.00</td>\n",
       "      <td>Jun-07</td>\n",
       "      <td>INDIVIDUAL</td>\n",
       "      <td>5000.0</td>\n",
       "    </tr>\n",
       "    <tr>\n",
       "      <th>39715</th>\n",
       "      <td>0</td>\n",
       "      <td>Nov-88</td>\n",
       "      <td>0</td>\n",
       "      <td>17</td>\n",
       "      <td>0</td>\n",
       "      <td>85607</td>\n",
       "      <td>0.7</td>\n",
       "      <td>26</td>\n",
       "      <td>0.0</td>\n",
       "      <td>0.0</td>\n",
       "      <td>...</td>\n",
       "      <td>5000.00</td>\n",
       "      <td>174.20</td>\n",
       "      <td>0.00</td>\n",
       "      <td>0.00</td>\n",
       "      <td>0.00</td>\n",
       "      <td>Jan-08</td>\n",
       "      <td>0.00</td>\n",
       "      <td>Jun-07</td>\n",
       "      <td>INDIVIDUAL</td>\n",
       "      <td>5000.0</td>\n",
       "    </tr>\n",
       "    <tr>\n",
       "      <th>39716</th>\n",
       "      <td>1</td>\n",
       "      <td>Oct-03</td>\n",
       "      <td>0</td>\n",
       "      <td>7</td>\n",
       "      <td>0</td>\n",
       "      <td>4175</td>\n",
       "      <td>51.5</td>\n",
       "      <td>8</td>\n",
       "      <td>0.0</td>\n",
       "      <td>0.0</td>\n",
       "      <td>...</td>\n",
       "      <td>7500.00</td>\n",
       "      <td>1695.26</td>\n",
       "      <td>0.00</td>\n",
       "      <td>0.00</td>\n",
       "      <td>0.00</td>\n",
       "      <td>Jun-10</td>\n",
       "      <td>256.59</td>\n",
       "      <td>Jun-10</td>\n",
       "      <td>INDIVIDUAL</td>\n",
       "      <td>7500.0</td>\n",
       "    </tr>\n",
       "  </tbody>\n",
       "</table>\n",
       "<p>38504 rows × 22 columns</p>\n",
       "</div>"
      ],
      "text/plain": [
       "       delinq_2yrs earliest_cr_line  inq_last_6mths  open_acc  pub_rec  \\\n",
       "0                0           Jan-85               1         3        0   \n",
       "1                0           Apr-99               5         3        0   \n",
       "2                0           Nov-01               2         2        0   \n",
       "3                0           Feb-96               1        10        0   \n",
       "5                0           Nov-04               3         9        0   \n",
       "...            ...              ...             ...       ...      ...   \n",
       "39712            0           Nov-90               0        13        0   \n",
       "39713            1           Dec-86               1         6        0   \n",
       "39714            0           Oct-98               0        11        0   \n",
       "39715            0           Nov-88               0        17        0   \n",
       "39716            1           Oct-03               0         7        0   \n",
       "\n",
       "       revol_bal  revol_util  total_acc  out_prncp  out_prncp_inv  ...  \\\n",
       "0          13648        83.7          9        0.0            0.0  ...   \n",
       "1           1687         9.4          4        0.0            0.0  ...   \n",
       "2           2956        98.5         10        0.0            0.0  ...   \n",
       "3           5598        21.0         37        0.0            0.0  ...   \n",
       "5           7963        28.3         12        0.0            0.0  ...   \n",
       "...          ...         ...        ...        ...            ...  ...   \n",
       "39712       7274        13.1         40        0.0            0.0  ...   \n",
       "39713       8847        26.9          9        0.0            0.0  ...   \n",
       "39714       9698        19.4         20        0.0            0.0  ...   \n",
       "39715      85607         0.7         26        0.0            0.0  ...   \n",
       "39716       4175        51.5          8        0.0            0.0  ...   \n",
       "\n",
       "       total_rec_prncp  total_rec_int  total_rec_late_fee  recoveries  \\\n",
       "0              5000.00         863.16                0.00        0.00   \n",
       "1               456.46         435.17                0.00      117.08   \n",
       "2              2400.00         605.67                0.00        0.00   \n",
       "3             10000.00        2214.92               16.97        0.00   \n",
       "5              5000.00         632.21                0.00        0.00   \n",
       "...                ...            ...                 ...         ...   \n",
       "39712          2500.00         322.97                0.00        0.00   \n",
       "39713          8500.00        1413.49                0.00        0.00   \n",
       "39714          5000.00         272.16                0.00        0.00   \n",
       "39715          5000.00         174.20                0.00        0.00   \n",
       "39716          7500.00        1695.26                0.00        0.00   \n",
       "\n",
       "       collection_recovery_fee  last_pymnt_d  last_pymnt_amnt  \\\n",
       "0                         0.00        Jan-15           171.62   \n",
       "1                         1.11        Apr-13           119.66   \n",
       "2                         0.00        Jun-14           649.91   \n",
       "3                         0.00        Jan-15           357.48   \n",
       "5                         0.00        Jan-15           161.03   \n",
       "...                        ...           ...              ...   \n",
       "39712                     0.00        Jul-10            80.90   \n",
       "39713                     0.00        Jul-10           281.94   \n",
       "39714                     0.00        Apr-08             0.00   \n",
       "39715                     0.00        Jan-08             0.00   \n",
       "39716                     0.00        Jun-10           256.59   \n",
       "\n",
       "      last_credit_pull_d  application_type  compare  \n",
       "0                 May-16        INDIVIDUAL   5000.0  \n",
       "1                 Sep-13        INDIVIDUAL   2500.0  \n",
       "2                 May-16        INDIVIDUAL   2400.0  \n",
       "3                 Apr-16        INDIVIDUAL  10000.0  \n",
       "5                 Jan-16        INDIVIDUAL   5000.0  \n",
       "...                  ...               ...      ...  \n",
       "39712             Jun-10        INDIVIDUAL   2500.0  \n",
       "39713             Jul-10        INDIVIDUAL   8500.0  \n",
       "39714             Jun-07        INDIVIDUAL   5000.0  \n",
       "39715             Jun-07        INDIVIDUAL   5000.0  \n",
       "39716             Jun-10        INDIVIDUAL   7500.0  \n",
       "\n",
       "[38504 rows x 22 columns]"
      ]
     },
     "execution_count": 1071,
     "metadata": {},
     "output_type": "execute_result"
    }
   ],
   "source": [
    "df_new4[behavioural_variables]"
   ]
  },
  {
   "cell_type": "code",
   "execution_count": 1072,
   "id": "66bb8c9c",
   "metadata": {},
   "outputs": [],
   "source": [
    "df_new4.drop(behavioural_variables,axis=1,inplace=True)"
   ]
  },
  {
   "cell_type": "code",
   "execution_count": 1073,
   "id": "8d5754ef",
   "metadata": {},
   "outputs": [
    {
     "data": {
      "text/plain": [
       "(38504, 29)"
      ]
     },
     "execution_count": 1073,
     "metadata": {},
     "output_type": "execute_result"
    }
   ],
   "source": [
    "df_new4.shape"
   ]
  },
  {
   "cell_type": "code",
   "execution_count": 1074,
   "id": "0f1e70a1",
   "metadata": {},
   "outputs": [
    {
     "data": {
      "text/plain": [
       "Index(['id', 'member_id', 'loan_amnt', 'funded_amnt', 'funded_amnt_inv',\n",
       "       'term', 'int_rate', 'installment', 'grade', 'sub_grade', 'emp_title',\n",
       "       'emp_length', 'home_ownership', 'annual_inc', 'verification_status',\n",
       "       'issue_d', 'loan_status', 'url', 'purpose', 'zip_code', 'addr_state',\n",
       "       'dti', 'pub_rec_bankruptcies', 'issue_d_year', 'issue_d_month',\n",
       "       'last_pymnt_d_month', 'last_pymnt_d_year', 'last_credit_pull_d_month',\n",
       "       'last_credit_pull_d_year'],\n",
       "      dtype='object')"
      ]
     },
     "execution_count": 1074,
     "metadata": {},
     "output_type": "execute_result"
    }
   ],
   "source": [
    "df_new4.columns"
   ]
  },
  {
   "cell_type": "code",
   "execution_count": 1075,
   "id": "81f45b16",
   "metadata": {},
   "outputs": [
    {
     "data": {
      "text/plain": [
       "id                             0\n",
       "member_id                      0\n",
       "loan_amnt                      0\n",
       "funded_amnt                    0\n",
       "funded_amnt_inv                0\n",
       "term                           0\n",
       "int_rate                       0\n",
       "installment                    0\n",
       "grade                          0\n",
       "sub_grade                      0\n",
       "emp_title                   2377\n",
       "emp_length                  1028\n",
       "home_ownership                 0\n",
       "annual_inc                     0\n",
       "verification_status            0\n",
       "issue_d                        0\n",
       "loan_status                    0\n",
       "url                            0\n",
       "purpose                        0\n",
       "zip_code                       0\n",
       "addr_state                     0\n",
       "dti                            0\n",
       "pub_rec_bankruptcies           0\n",
       "issue_d_year                   0\n",
       "issue_d_month                  0\n",
       "last_pymnt_d_month             0\n",
       "last_pymnt_d_year              0\n",
       "last_credit_pull_d_month       0\n",
       "last_credit_pull_d_year        0\n",
       "dtype: int64"
      ]
     },
     "execution_count": 1075,
     "metadata": {},
     "output_type": "execute_result"
    }
   ],
   "source": [
    "df_new4.isnull().sum()"
   ]
  },
  {
   "cell_type": "code",
   "execution_count": 1018,
   "id": "c18759c2",
   "metadata": {},
   "outputs": [
    {
     "data": {
      "text/plain": [
       "0    860xx\n",
       "1    309xx\n",
       "2    606xx\n",
       "3    917xx\n",
       "5    852xx\n",
       "Name: zip_code, dtype: object"
      ]
     },
     "execution_count": 1018,
     "metadata": {},
     "output_type": "execute_result"
    }
   ],
   "source": [
    "df_new4.zip_code.head()"
   ]
  },
  {
   "cell_type": "code",
   "execution_count": 1019,
   "id": "96edc32d",
   "metadata": {},
   "outputs": [
    {
     "data": {
      "text/plain": [
       "100xx    582\n",
       "945xx    530\n",
       "112xx    500\n",
       "606xx    493\n",
       "070xx    453\n",
       "        ... \n",
       "463xx      1\n",
       "381xx      1\n",
       "592xx      1\n",
       "378xx      1\n",
       "469xx      1\n",
       "Name: zip_code, Length: 822, dtype: int64"
      ]
     },
     "execution_count": 1019,
     "metadata": {},
     "output_type": "execute_result"
    }
   ],
   "source": [
    "df_new4.zip_code.value_counts()"
   ]
  },
  {
   "cell_type": "code",
   "execution_count": 1021,
   "id": "96e3e10e",
   "metadata": {},
   "outputs": [
    {
     "data": {
      "text/plain": [
       "US Army                   275\n",
       "US Air Force              148\n",
       "Bank of America           115\n",
       "US Postal Service         111\n",
       "Self Employed              99\n",
       "                         ... \n",
       "Valir Health                1\n",
       "ESAB                        1\n",
       "Whole Health Dentistry      1\n",
       "ASU                         1\n",
       "Evergreen Center            1\n",
       "Name: emp_title, Length: 27914, dtype: int64"
      ]
     },
     "execution_count": 1021,
     "metadata": {},
     "output_type": "execute_result"
    }
   ],
   "source": [
    "df_new4.emp_title.value_counts()"
   ]
  },
  {
   "cell_type": "code",
   "execution_count": 1023,
   "id": "76c8e68c",
   "metadata": {},
   "outputs": [
    {
     "data": {
      "text/html": [
       "<div>\n",
       "<style scoped>\n",
       "    .dataframe tbody tr th:only-of-type {\n",
       "        vertical-align: middle;\n",
       "    }\n",
       "\n",
       "    .dataframe tbody tr th {\n",
       "        vertical-align: top;\n",
       "    }\n",
       "\n",
       "    .dataframe thead th {\n",
       "        text-align: right;\n",
       "    }\n",
       "</style>\n",
       "<table border=\"1\" class=\"dataframe\">\n",
       "  <thead>\n",
       "    <tr style=\"text-align: right;\">\n",
       "      <th>loan_status</th>\n",
       "      <th>Charged Off</th>\n",
       "      <th>Fully Paid</th>\n",
       "    </tr>\n",
       "    <tr>\n",
       "      <th>emp_title</th>\n",
       "      <th></th>\n",
       "      <th></th>\n",
       "    </tr>\n",
       "  </thead>\n",
       "  <tbody>\n",
       "    <tr>\n",
       "      <th>old palm inc</th>\n",
       "      <td>NaN</td>\n",
       "      <td>1.0</td>\n",
       "    </tr>\n",
       "    <tr>\n",
       "      <th>Brocade Communications</th>\n",
       "      <td>NaN</td>\n",
       "      <td>1.0</td>\n",
       "    </tr>\n",
       "    <tr>\n",
       "      <th>CenturyLink</th>\n",
       "      <td>NaN</td>\n",
       "      <td>1.0</td>\n",
       "    </tr>\n",
       "    <tr>\n",
       "      <th>Department of Homeland Security</th>\n",
       "      <td>NaN</td>\n",
       "      <td>1.0</td>\n",
       "    </tr>\n",
       "    <tr>\n",
       "      <th>Down To Earth Distributors, Inc.</th>\n",
       "      <td>NaN</td>\n",
       "      <td>1.0</td>\n",
       "    </tr>\n",
       "    <tr>\n",
       "      <th>...</th>\n",
       "      <td>...</td>\n",
       "      <td>...</td>\n",
       "    </tr>\n",
       "    <tr>\n",
       "      <th>zashko inc.</th>\n",
       "      <td>NaN</td>\n",
       "      <td>1.0</td>\n",
       "    </tr>\n",
       "    <tr>\n",
       "      <th>zeno office solutions</th>\n",
       "      <td>NaN</td>\n",
       "      <td>1.0</td>\n",
       "    </tr>\n",
       "    <tr>\n",
       "      <th>zion lutheran school</th>\n",
       "      <td>NaN</td>\n",
       "      <td>1.0</td>\n",
       "    </tr>\n",
       "    <tr>\n",
       "      <th>zoll medical corp</th>\n",
       "      <td>NaN</td>\n",
       "      <td>1.0</td>\n",
       "    </tr>\n",
       "    <tr>\n",
       "      <th>zozaya officiating</th>\n",
       "      <td>1.0</td>\n",
       "      <td>NaN</td>\n",
       "    </tr>\n",
       "  </tbody>\n",
       "</table>\n",
       "<p>27914 rows × 2 columns</p>\n",
       "</div>"
      ],
      "text/plain": [
       "loan_status                        Charged Off  Fully Paid\n",
       "emp_title                                                 \n",
       "  old palm inc                             NaN         1.0\n",
       " Brocade Communications                    NaN         1.0\n",
       " CenturyLink                               NaN         1.0\n",
       " Department of Homeland Security           NaN         1.0\n",
       " Down To Earth Distributors, Inc.          NaN         1.0\n",
       "...                                        ...         ...\n",
       "zashko inc.                                NaN         1.0\n",
       "zeno office solutions                      NaN         1.0\n",
       "zion lutheran school                       NaN         1.0\n",
       "zoll medical corp                          NaN         1.0\n",
       "zozaya officiating                         1.0         NaN\n",
       "\n",
       "[27914 rows x 2 columns]"
      ]
     },
     "execution_count": 1023,
     "metadata": {},
     "output_type": "execute_result"
    }
   ],
   "source": [
    "df_new4.groupby('emp_title')['loan_status'].value_counts().unstack(level=1)"
   ]
  },
  {
   "cell_type": "code",
   "execution_count": 1024,
   "id": "59230810",
   "metadata": {},
   "outputs": [
    {
     "data": {
      "text/html": [
       "<div>\n",
       "<style scoped>\n",
       "    .dataframe tbody tr th:only-of-type {\n",
       "        vertical-align: middle;\n",
       "    }\n",
       "\n",
       "    .dataframe tbody tr th {\n",
       "        vertical-align: top;\n",
       "    }\n",
       "\n",
       "    .dataframe thead th {\n",
       "        text-align: right;\n",
       "    }\n",
       "</style>\n",
       "<table border=\"1\" class=\"dataframe\">\n",
       "  <thead>\n",
       "    <tr style=\"text-align: right;\">\n",
       "      <th>loan_status</th>\n",
       "      <th>Charged Off</th>\n",
       "      <th>Fully Paid</th>\n",
       "    </tr>\n",
       "    <tr>\n",
       "      <th>zip_code</th>\n",
       "      <th></th>\n",
       "      <th></th>\n",
       "    </tr>\n",
       "  </thead>\n",
       "  <tbody>\n",
       "    <tr>\n",
       "      <th>007xx</th>\n",
       "      <td>NaN</td>\n",
       "      <td>1.0</td>\n",
       "    </tr>\n",
       "    <tr>\n",
       "      <th>010xx</th>\n",
       "      <td>14.0</td>\n",
       "      <td>84.0</td>\n",
       "    </tr>\n",
       "    <tr>\n",
       "      <th>011xx</th>\n",
       "      <td>1.0</td>\n",
       "      <td>13.0</td>\n",
       "    </tr>\n",
       "    <tr>\n",
       "      <th>012xx</th>\n",
       "      <td>1.0</td>\n",
       "      <td>12.0</td>\n",
       "    </tr>\n",
       "    <tr>\n",
       "      <th>013xx</th>\n",
       "      <td>3.0</td>\n",
       "      <td>10.0</td>\n",
       "    </tr>\n",
       "    <tr>\n",
       "      <th>...</th>\n",
       "      <td>...</td>\n",
       "      <td>...</td>\n",
       "    </tr>\n",
       "    <tr>\n",
       "      <th>995xx</th>\n",
       "      <td>5.0</td>\n",
       "      <td>28.0</td>\n",
       "    </tr>\n",
       "    <tr>\n",
       "      <th>996xx</th>\n",
       "      <td>2.0</td>\n",
       "      <td>10.0</td>\n",
       "    </tr>\n",
       "    <tr>\n",
       "      <th>997xx</th>\n",
       "      <td>6.0</td>\n",
       "      <td>14.0</td>\n",
       "    </tr>\n",
       "    <tr>\n",
       "      <th>998xx</th>\n",
       "      <td>NaN</td>\n",
       "      <td>10.0</td>\n",
       "    </tr>\n",
       "    <tr>\n",
       "      <th>999xx</th>\n",
       "      <td>1.0</td>\n",
       "      <td>NaN</td>\n",
       "    </tr>\n",
       "  </tbody>\n",
       "</table>\n",
       "<p>822 rows × 2 columns</p>\n",
       "</div>"
      ],
      "text/plain": [
       "loan_status  Charged Off  Fully Paid\n",
       "zip_code                            \n",
       "007xx                NaN         1.0\n",
       "010xx               14.0        84.0\n",
       "011xx                1.0        13.0\n",
       "012xx                1.0        12.0\n",
       "013xx                3.0        10.0\n",
       "...                  ...         ...\n",
       "995xx                5.0        28.0\n",
       "996xx                2.0        10.0\n",
       "997xx                6.0        14.0\n",
       "998xx                NaN        10.0\n",
       "999xx                1.0         NaN\n",
       "\n",
       "[822 rows x 2 columns]"
      ]
     },
     "execution_count": 1024,
     "metadata": {},
     "output_type": "execute_result"
    }
   ],
   "source": [
    "df_new4.groupby('zip_code')['loan_status'].value_counts().unstack(level=1)"
   ]
  },
  {
   "cell_type": "code",
   "execution_count": 1076,
   "id": "64567b3d",
   "metadata": {},
   "outputs": [],
   "source": [
    "#since we are not able to use emp_tile,url and zip_code to derive meaning full insights removing these 3 columns"
   ]
  },
  {
   "cell_type": "code",
   "execution_count": 1077,
   "id": "428388ef",
   "metadata": {},
   "outputs": [],
   "source": [
    "df_new4.drop(['emp_title','zip_code','url'],axis=1,inplace=True)"
   ]
  },
  {
   "cell_type": "code",
   "execution_count": 1078,
   "id": "e1d66ed4",
   "metadata": {},
   "outputs": [
    {
     "data": {
      "text/plain": [
       "id                          38504\n",
       "member_id                   38504\n",
       "loan_amnt                     870\n",
       "funded_amnt                  1019\n",
       "funded_amnt_inv              8050\n",
       "term                            2\n",
       "int_rate                      370\n",
       "installment                 15004\n",
       "grade                           7\n",
       "sub_grade                      35\n",
       "emp_length                     11\n",
       "home_ownership                  5\n",
       "annual_inc                   5206\n",
       "verification_status             3\n",
       "issue_d                        55\n",
       "loan_status                     2\n",
       "purpose                        14\n",
       "addr_state                     50\n",
       "dti                          2853\n",
       "pub_rec_bankruptcies            3\n",
       "issue_d_year                    5\n",
       "issue_d_month                  12\n",
       "last_pymnt_d_month             12\n",
       "last_pymnt_d_year               9\n",
       "last_credit_pull_d_month       12\n",
       "last_credit_pull_d_year        10\n",
       "dtype: int64"
      ]
     },
     "execution_count": 1078,
     "metadata": {},
     "output_type": "execute_result"
    }
   ],
   "source": [
    "df_new4.nunique()"
   ]
  },
  {
   "cell_type": "code",
   "execution_count": 1079,
   "id": "caa190cf",
   "metadata": {},
   "outputs": [],
   "source": [
    "# identify and remove the outliers "
   ]
  },
  {
   "cell_type": "code",
   "execution_count": 1106,
   "id": "69d6ff03",
   "metadata": {},
   "outputs": [
    {
     "data": {
      "text/html": [
       "<div>\n",
       "<style scoped>\n",
       "    .dataframe tbody tr th:only-of-type {\n",
       "        vertical-align: middle;\n",
       "    }\n",
       "\n",
       "    .dataframe tbody tr th {\n",
       "        vertical-align: top;\n",
       "    }\n",
       "\n",
       "    .dataframe thead th {\n",
       "        text-align: right;\n",
       "    }\n",
       "</style>\n",
       "<table border=\"1\" class=\"dataframe\">\n",
       "  <thead>\n",
       "    <tr style=\"text-align: right;\">\n",
       "      <th></th>\n",
       "      <th>id</th>\n",
       "      <th>member_id</th>\n",
       "      <th>loan_amnt</th>\n",
       "      <th>funded_amnt</th>\n",
       "      <th>funded_amnt_inv</th>\n",
       "      <th>int_rate</th>\n",
       "      <th>installment</th>\n",
       "      <th>annual_inc</th>\n",
       "      <th>dti</th>\n",
       "      <th>pub_rec_bankruptcies</th>\n",
       "      <th>issue_d_year</th>\n",
       "      <th>issue_d_month</th>\n",
       "      <th>last_pymnt_d_month</th>\n",
       "      <th>last_pymnt_d_year</th>\n",
       "      <th>last_credit_pull_d_month</th>\n",
       "      <th>last_credit_pull_d_year</th>\n",
       "    </tr>\n",
       "  </thead>\n",
       "  <tbody>\n",
       "    <tr>\n",
       "      <th>count</th>\n",
       "      <td>3.850400e+04</td>\n",
       "      <td>3.850400e+04</td>\n",
       "      <td>38504.000000</td>\n",
       "      <td>38504.000000</td>\n",
       "      <td>38504.000000</td>\n",
       "      <td>38504.000000</td>\n",
       "      <td>38504.000000</td>\n",
       "      <td>3.850400e+04</td>\n",
       "      <td>38504.000000</td>\n",
       "      <td>38504.000000</td>\n",
       "      <td>38504.000000</td>\n",
       "      <td>38504.000000</td>\n",
       "      <td>38504.000000</td>\n",
       "      <td>38504.000000</td>\n",
       "      <td>38504.000000</td>\n",
       "      <td>38504.000000</td>\n",
       "    </tr>\n",
       "    <tr>\n",
       "      <th>mean</th>\n",
       "      <td>6.763918e+05</td>\n",
       "      <td>8.422966e+05</td>\n",
       "      <td>11052.494546</td>\n",
       "      <td>10789.029062</td>\n",
       "      <td>10228.817897</td>\n",
       "      <td>11.928490</td>\n",
       "      <td>322.603687</td>\n",
       "      <td>6.881818e+04</td>\n",
       "      <td>13.275347</td>\n",
       "      <td>0.042619</td>\n",
       "      <td>2010.309111</td>\n",
       "      <td>7.114741</td>\n",
       "      <td>6.488157</td>\n",
       "      <td>2012.726937</td>\n",
       "      <td>5.846172</td>\n",
       "      <td>2014.237300</td>\n",
       "    </tr>\n",
       "    <tr>\n",
       "      <th>std</th>\n",
       "      <td>2.092784e+05</td>\n",
       "      <td>2.644756e+05</td>\n",
       "      <td>7346.828612</td>\n",
       "      <td>7088.329819</td>\n",
       "      <td>7022.524237</td>\n",
       "      <td>3.691065</td>\n",
       "      <td>208.582507</td>\n",
       "      <td>6.426158e+04</td>\n",
       "      <td>6.671730</td>\n",
       "      <td>0.202641</td>\n",
       "      <td>0.882656</td>\n",
       "      <td>3.409087</td>\n",
       "      <td>3.470007</td>\n",
       "      <td>1.460569</td>\n",
       "      <td>3.065627</td>\n",
       "      <td>1.790198</td>\n",
       "    </tr>\n",
       "    <tr>\n",
       "      <th>min</th>\n",
       "      <td>5.473400e+04</td>\n",
       "      <td>7.069900e+04</td>\n",
       "      <td>500.000000</td>\n",
       "      <td>500.000000</td>\n",
       "      <td>0.000000</td>\n",
       "      <td>5.420000</td>\n",
       "      <td>15.690000</td>\n",
       "      <td>4.000000e+03</td>\n",
       "      <td>0.000000</td>\n",
       "      <td>0.000000</td>\n",
       "      <td>2007.000000</td>\n",
       "      <td>1.000000</td>\n",
       "      <td>1.000000</td>\n",
       "      <td>2008.000000</td>\n",
       "      <td>1.000000</td>\n",
       "      <td>2007.000000</td>\n",
       "    </tr>\n",
       "    <tr>\n",
       "      <th>25%</th>\n",
       "      <td>5.121308e+05</td>\n",
       "      <td>6.611868e+05</td>\n",
       "      <td>5318.750000</td>\n",
       "      <td>5200.000000</td>\n",
       "      <td>5000.000000</td>\n",
       "      <td>8.940000</td>\n",
       "      <td>165.747500</td>\n",
       "      <td>4.000000e+04</td>\n",
       "      <td>8.140000</td>\n",
       "      <td>0.000000</td>\n",
       "      <td>2010.000000</td>\n",
       "      <td>4.000000</td>\n",
       "      <td>3.000000</td>\n",
       "      <td>2012.000000</td>\n",
       "      <td>4.000000</td>\n",
       "      <td>2013.000000</td>\n",
       "    </tr>\n",
       "    <tr>\n",
       "      <th>50%</th>\n",
       "      <td>6.563940e+05</td>\n",
       "      <td>8.392470e+05</td>\n",
       "      <td>9600.000000</td>\n",
       "      <td>9600.000000</td>\n",
       "      <td>8750.000000</td>\n",
       "      <td>11.710000</td>\n",
       "      <td>278.130000</td>\n",
       "      <td>5.900000e+04</td>\n",
       "      <td>13.370000</td>\n",
       "      <td>0.000000</td>\n",
       "      <td>2011.000000</td>\n",
       "      <td>7.000000</td>\n",
       "      <td>6.000000</td>\n",
       "      <td>2013.000000</td>\n",
       "      <td>5.000000</td>\n",
       "      <td>2015.000000</td>\n",
       "    </tr>\n",
       "    <tr>\n",
       "      <th>75%</th>\n",
       "      <td>8.291518e+05</td>\n",
       "      <td>1.037365e+06</td>\n",
       "      <td>15000.000000</td>\n",
       "      <td>15000.000000</td>\n",
       "      <td>14000.000000</td>\n",
       "      <td>14.350000</td>\n",
       "      <td>425.550000</td>\n",
       "      <td>8.200000e+04</td>\n",
       "      <td>18.560000</td>\n",
       "      <td>0.000000</td>\n",
       "      <td>2011.000000</td>\n",
       "      <td>10.000000</td>\n",
       "      <td>10.000000</td>\n",
       "      <td>2014.000000</td>\n",
       "      <td>8.000000</td>\n",
       "      <td>2016.000000</td>\n",
       "    </tr>\n",
       "    <tr>\n",
       "      <th>max</th>\n",
       "      <td>1.077501e+06</td>\n",
       "      <td>1.314167e+06</td>\n",
       "      <td>35000.000000</td>\n",
       "      <td>35000.000000</td>\n",
       "      <td>35000.000000</td>\n",
       "      <td>24.400000</td>\n",
       "      <td>1305.190000</td>\n",
       "      <td>6.000000e+06</td>\n",
       "      <td>29.990000</td>\n",
       "      <td>2.000000</td>\n",
       "      <td>2011.000000</td>\n",
       "      <td>12.000000</td>\n",
       "      <td>12.000000</td>\n",
       "      <td>2016.000000</td>\n",
       "      <td>12.000000</td>\n",
       "      <td>2016.000000</td>\n",
       "    </tr>\n",
       "  </tbody>\n",
       "</table>\n",
       "</div>"
      ],
      "text/plain": [
       "                 id     member_id     loan_amnt   funded_amnt  \\\n",
       "count  3.850400e+04  3.850400e+04  38504.000000  38504.000000   \n",
       "mean   6.763918e+05  8.422966e+05  11052.494546  10789.029062   \n",
       "std    2.092784e+05  2.644756e+05   7346.828612   7088.329819   \n",
       "min    5.473400e+04  7.069900e+04    500.000000    500.000000   \n",
       "25%    5.121308e+05  6.611868e+05   5318.750000   5200.000000   \n",
       "50%    6.563940e+05  8.392470e+05   9600.000000   9600.000000   \n",
       "75%    8.291518e+05  1.037365e+06  15000.000000  15000.000000   \n",
       "max    1.077501e+06  1.314167e+06  35000.000000  35000.000000   \n",
       "\n",
       "       funded_amnt_inv      int_rate   installment    annual_inc  \\\n",
       "count     38504.000000  38504.000000  38504.000000  3.850400e+04   \n",
       "mean      10228.817897     11.928490    322.603687  6.881818e+04   \n",
       "std        7022.524237      3.691065    208.582507  6.426158e+04   \n",
       "min           0.000000      5.420000     15.690000  4.000000e+03   \n",
       "25%        5000.000000      8.940000    165.747500  4.000000e+04   \n",
       "50%        8750.000000     11.710000    278.130000  5.900000e+04   \n",
       "75%       14000.000000     14.350000    425.550000  8.200000e+04   \n",
       "max       35000.000000     24.400000   1305.190000  6.000000e+06   \n",
       "\n",
       "                dti  pub_rec_bankruptcies  issue_d_year  issue_d_month  \\\n",
       "count  38504.000000          38504.000000  38504.000000   38504.000000   \n",
       "mean      13.275347              0.042619   2010.309111       7.114741   \n",
       "std        6.671730              0.202641      0.882656       3.409087   \n",
       "min        0.000000              0.000000   2007.000000       1.000000   \n",
       "25%        8.140000              0.000000   2010.000000       4.000000   \n",
       "50%       13.370000              0.000000   2011.000000       7.000000   \n",
       "75%       18.560000              0.000000   2011.000000      10.000000   \n",
       "max       29.990000              2.000000   2011.000000      12.000000   \n",
       "\n",
       "       last_pymnt_d_month  last_pymnt_d_year  last_credit_pull_d_month  \\\n",
       "count        38504.000000       38504.000000              38504.000000   \n",
       "mean             6.488157        2012.726937                  5.846172   \n",
       "std              3.470007           1.460569                  3.065627   \n",
       "min              1.000000        2008.000000                  1.000000   \n",
       "25%              3.000000        2012.000000                  4.000000   \n",
       "50%              6.000000        2013.000000                  5.000000   \n",
       "75%             10.000000        2014.000000                  8.000000   \n",
       "max             12.000000        2016.000000                 12.000000   \n",
       "\n",
       "       last_credit_pull_d_year  \n",
       "count             38504.000000  \n",
       "mean               2014.237300  \n",
       "std                   1.790198  \n",
       "min                2007.000000  \n",
       "25%                2013.000000  \n",
       "50%                2015.000000  \n",
       "75%                2016.000000  \n",
       "max                2016.000000  "
      ]
     },
     "execution_count": 1106,
     "metadata": {},
     "output_type": "execute_result"
    }
   ],
   "source": [
    "df_new4.describe()"
   ]
  },
  {
   "cell_type": "code",
   "execution_count": 1080,
   "id": "4b2877fb",
   "metadata": {
    "scrolled": true
   },
   "outputs": [
    {
     "data": {
      "text/plain": [
       "<AxesSubplot:xlabel='loan_amnt'>"
      ]
     },
     "execution_count": 1080,
     "metadata": {},
     "output_type": "execute_result"
    },
    {
     "data": {
      "image/png": "[encoded data removed]",
      "text/plain": [
       "<Figure size 432x288 with 1 Axes>"
      ]
     },
     "metadata": {
      "needs_background": "light"
     },
     "output_type": "display_data"
    }
   ],
   "source": [
    "sns.boxplot(df_new4.loan_amnt)"
   ]
  },
  {
   "cell_type": "code",
   "execution_count": 1084,
   "id": "07ca2f10",
   "metadata": {
    "scrolled": true
   },
   "outputs": [
    {
     "data": {
      "text/plain": [
       "25000.0"
      ]
     },
     "execution_count": 1084,
     "metadata": {},
     "output_type": "execute_result"
    }
   ],
   "source": [
    "np.percentile(df_new4.loan_amnt,95)\n"
   ]
  },
  {
   "cell_type": "code",
   "execution_count": 1085,
   "id": "250a2a8b",
   "metadata": {},
   "outputs": [
    {
     "name": "stdout",
     "output_type": "stream",
     "text": [
      "9681.25\n"
     ]
    }
   ],
   "source": [
    "Q1 = df_new4.loan_amnt.quantile(0.25)\n",
    "Q3 = df_new4.loan_amnt.quantile(0.75)\n",
    "IQR = Q3 - Q1\n",
    "print(IQR)"
   ]
  },
  {
   "cell_type": "code",
   "execution_count": 1086,
   "id": "869ca78d",
   "metadata": {},
   "outputs": [
    {
     "name": "stdout",
     "output_type": "stream",
     "text": [
      "id                          317021.0000\n",
      "member_id                   376178.2500\n",
      "loan_amnt                     9681.2500\n",
      "funded_amnt                   9800.0000\n",
      "funded_amnt_inv               9000.0000\n",
      "int_rate                         5.4100\n",
      "installment                    259.8025\n",
      "annual_inc                   42000.0000\n",
      "dti                             10.4200\n",
      "pub_rec_bankruptcies             0.0000\n",
      "issue_d_year                     1.0000\n",
      "issue_d_month                    6.0000\n",
      "last_pymnt_d_month               7.0000\n",
      "last_pymnt_d_year                2.0000\n",
      "last_credit_pull_d_month         4.0000\n",
      "last_credit_pull_d_year          3.0000\n",
      "dtype: float64\n"
     ]
    }
   ],
   "source": [
    "Q1_df_new4 = df_new4.quantile(0.25)\n",
    "Q3_df_new4 = df_new4.quantile(0.75)\n",
    "IQR_df_new4 = Q3_df_new4 - Q1_df_new4\n",
    "print(IQR_df_new4)"
   ]
  },
  {
   "cell_type": "code",
   "execution_count": 1087,
   "id": "daa1ae49",
   "metadata": {},
   "outputs": [
    {
     "data": {
      "text/plain": [
       "1.077999627811089"
      ]
     },
     "execution_count": 1087,
     "metadata": {},
     "output_type": "execute_result"
    }
   ],
   "source": [
    "df_new4.loan_amnt.skew()"
   ]
  },
  {
   "cell_type": "code",
   "execution_count": 1089,
   "id": "5f3fd1e9",
   "metadata": {},
   "outputs": [
    {
     "data": {
      "text/plain": [
       "<AxesSubplot:title={'center':'loan_amnt'}, xlabel='verification_status'>"
      ]
     },
     "execution_count": 1089,
     "metadata": {},
     "output_type": "execute_result"
    },
    {
     "data": {
      "image/png": "[encoded data removed]",
      "text/plain": [
       "<Figure size 432x288 with 1 Axes>"
      ]
     },
     "metadata": {
      "needs_background": "light"
     },
     "output_type": "display_data"
    }
   ],
   "source": [
    "df_new4.boxplot(column='loan_amnt', by='verification_status')"
   ]
  },
  {
   "cell_type": "code",
   "execution_count": 1091,
   "id": "518a3b5e",
   "metadata": {},
   "outputs": [
    {
     "data": {
      "text/plain": [
       "<AxesSubplot:title={'center':'loan_amnt'}, xlabel='term'>"
      ]
     },
     "execution_count": 1091,
     "metadata": {},
     "output_type": "execute_result"
    },
    {
     "data": {
      "image/png": "[encoded data removed]",
      "text/plain": [
       "<Figure size 432x288 with 1 Axes>"
      ]
     },
     "metadata": {
      "needs_background": "light"
     },
     "output_type": "display_data"
    }
   ],
   "source": [
    "df_new4.boxplot(column='loan_amnt', by='term')"
   ]
  },
  {
   "cell_type": "code",
   "execution_count": 1092,
   "id": "00adafa0",
   "metadata": {},
   "outputs": [
    {
     "data": {
      "text/plain": [
       "<AxesSubplot:title={'center':'loan_amnt'}, xlabel='grade'>"
      ]
     },
     "execution_count": 1092,
     "metadata": {},
     "output_type": "execute_result"
    },
    {
     "data": {
      "image/png": "[encoded data removed]",
      "text/plain": [
       "<Figure size 432x288 with 1 Axes>"
      ]
     },
     "metadata": {
      "needs_background": "light"
     },
     "output_type": "display_data"
    }
   ],
   "source": [
    "df_new4.boxplot(column='loan_amnt', by='grade')"
   ]
  },
  {
   "cell_type": "code",
   "execution_count": 1096,
   "id": "50ee0f66",
   "metadata": {},
   "outputs": [
    {
     "data": {
      "text/plain": [
       "28000.0"
      ]
     },
     "execution_count": 1096,
     "metadata": {},
     "output_type": "execute_result"
    }
   ],
   "source": [
    "df_new4.loan_amnt.quantile(.97)"
   ]
  },
  {
   "cell_type": "code",
   "execution_count": 1094,
   "id": "4dd11e97",
   "metadata": {},
   "outputs": [
    {
     "data": {
      "text/plain": [
       "<AxesSubplot:title={'center':'funded_amnt'}, xlabel='issue_d_year'>"
      ]
     },
     "execution_count": 1094,
     "metadata": {},
     "output_type": "execute_result"
    },
    {
     "data": {
      "image/png": "[encoded data removed]",
      "text/plain": [
       "<Figure size 432x288 with 1 Axes>"
      ]
     },
     "metadata": {
      "needs_background": "light"
     },
     "output_type": "display_data"
    }
   ],
   "source": [
    "\n",
    "df_new4.boxplot(column='funded_amnt', by='issue_d_year')"
   ]
  },
  {
   "cell_type": "code",
   "execution_count": 1098,
   "id": "fc30c5bc",
   "metadata": {},
   "outputs": [
    {
     "data": {
      "text/plain": [
       "<AxesSubplot:xlabel='funded_amnt'>"
      ]
     },
     "execution_count": 1098,
     "metadata": {},
     "output_type": "execute_result"
    },
    {
     "data": {
      "image/png": "[encoded data removed]",
      "text/plain": [
       "<Figure size 432x288 with 1 Axes>"
      ]
     },
     "metadata": {
      "needs_background": "light"
     },
     "output_type": "display_data"
    }
   ],
   "source": [
    "sns.boxplot(df_new4.funded_amnt)"
   ]
  },
  {
   "cell_type": "code",
   "execution_count": 1101,
   "id": "ebc7dace",
   "metadata": {},
   "outputs": [
    {
     "name": "stdout",
     "output_type": "stream",
     "text": [
      "25000.0\n",
      "27000.0\n",
      "25816.094683199724\n"
     ]
    }
   ],
   "source": [
    "print(np.percentile(df_new4.funded_amnt,95))\n",
    "print(np.percentile(df_new4.funded_amnt,97))\n",
    "print(np.percentile(df_new4.funded_amnt_inv,97))"
   ]
  },
  {
   "cell_type": "code",
   "execution_count": 1102,
   "id": "2233751e",
   "metadata": {},
   "outputs": [
    {
     "data": {
      "text/plain": [
       "<AxesSubplot:xlabel='funded_amnt_inv'>"
      ]
     },
     "execution_count": 1102,
     "metadata": {},
     "output_type": "execute_result"
    },
    {
     "data": {
      "image/png": "[encoded data removed]",
      "text/plain": [
       "<Figure size 432x288 with 1 Axes>"
      ]
     },
     "metadata": {
      "needs_background": "light"
     },
     "output_type": "display_data"
    }
   ],
   "source": [
    "sns.boxplot(df_new4.funded_amnt_inv)\n",
    "\n"
   ]
  },
  {
   "cell_type": "code",
   "execution_count": 1103,
   "id": "035c1a53",
   "metadata": {},
   "outputs": [
    {
     "data": {
      "text/plain": [
       "<AxesSubplot:xlabel='int_rate'>"
      ]
     },
     "execution_count": 1103,
     "metadata": {},
     "output_type": "execute_result"
    },
    {
     "data": {
      "image/png": "[encoded data removed]",
      "text/plain": [
       "<Figure size 432x288 with 1 Axes>"
      ]
     },
     "metadata": {
      "needs_background": "light"
     },
     "output_type": "display_data"
    }
   ],
   "source": [
    "sns.boxplot(df_new4.int_rate)\n"
   ]
  },
  {
   "cell_type": "code",
   "execution_count": 1110,
   "id": "d4ee8122",
   "metadata": {},
   "outputs": [
    {
     "name": "stdout",
     "output_type": "stream",
     "text": [
      "18.3\n"
     ]
    }
   ],
   "source": [
    "print(np.percentile(df_new4.int_rate,95))"
   ]
  },
  {
   "cell_type": "code",
   "execution_count": 1104,
   "id": "538e0a57",
   "metadata": {},
   "outputs": [
    {
     "data": {
      "text/plain": [
       "<AxesSubplot:xlabel='installment'>"
      ]
     },
     "execution_count": 1104,
     "metadata": {},
     "output_type": "execute_result"
    },
    {
     "data": {
      "image/png": "[encoded data removed]",
      "text/plain": [
       "<Figure size 432x288 with 1 Axes>"
      ]
     },
     "metadata": {
      "needs_background": "light"
     },
     "output_type": "display_data"
    }
   ],
   "source": [
    "sns.boxplot(df_new4.installment)\n"
   ]
  },
  {
   "cell_type": "code",
   "execution_count": 1107,
   "id": "929032ad",
   "metadata": {},
   "outputs": [
    {
     "name": "stdout",
     "output_type": "stream",
     "text": [
      "760.82\n"
     ]
    }
   ],
   "source": [
    "print(np.percentile(df_new4.installment,95))"
   ]
  },
  {
   "cell_type": "code",
   "execution_count": 1105,
   "id": "347fbf0f",
   "metadata": {},
   "outputs": [
    {
     "data": {
      "text/plain": [
       "<AxesSubplot:xlabel='dti'>"
      ]
     },
     "execution_count": 1105,
     "metadata": {},
     "output_type": "execute_result"
    },
    {
     "data": {
      "image/png": "[encoded data removed]",
      "text/plain": [
       "<Figure size 432x288 with 1 Axes>"
      ]
     },
     "metadata": {
      "needs_background": "light"
     },
     "output_type": "display_data"
    }
   ],
   "source": [
    "sns.boxplot(df_new4.dti)"
   ]
  },
  {
   "cell_type": "code",
   "execution_count": 1116,
   "id": "7e6459ea",
   "metadata": {},
   "outputs": [],
   "source": [
    "y= df_new4.installment\n"
   ]
  },
  {
   "cell_type": "code",
   "execution_count": 1126,
   "id": "98233a4e",
   "metadata": {},
   "outputs": [
    {
     "data": {
      "text/plain": [
       "True     34659\n",
       "False     3845\n",
       "Name: installment, dtype: int64"
      ]
     },
     "execution_count": 1126,
     "metadata": {},
     "output_type": "execute_result"
    }
   ],
   "source": [
    "y.between(y.quantile(.05), y.quantile(.95)).value_counts()"
   ]
  },
  {
   "cell_type": "code",
   "execution_count": 1127,
   "id": "65c3804b",
   "metadata": {},
   "outputs": [
    {
     "data": {
      "text/plain": [
       "True     34792\n",
       "False     3712\n",
       "Name: int_rate, dtype: int64"
      ]
     },
     "execution_count": 1127,
     "metadata": {},
     "output_type": "execute_result"
    }
   ],
   "source": [
    "df_new4.int_rate.between(df_new4.int_rate.quantile(.05), df_new4.int_rate.quantile(.95)).value_counts()"
   ]
  },
  {
   "cell_type": "code",
   "execution_count": 1128,
   "id": "96b7d133",
   "metadata": {},
   "outputs": [
    {
     "data": {
      "text/plain": [
       "True     35202\n",
       "False     3302\n",
       "Name: loan_amnt, dtype: int64"
      ]
     },
     "execution_count": 1128,
     "metadata": {},
     "output_type": "execute_result"
    }
   ],
   "source": [
    "df_new4.loan_amnt.between(df_new4.loan_amnt.quantile(.05), df_new4.loan_amnt.quantile(.95)).value_counts()"
   ]
  },
  {
   "cell_type": "code",
   "execution_count": 1129,
   "id": "cbbfb716",
   "metadata": {},
   "outputs": [
    {
     "data": {
      "text/plain": [
       "True     35341\n",
       "False     3163\n",
       "Name: funded_amnt, dtype: int64"
      ]
     },
     "execution_count": 1129,
     "metadata": {},
     "output_type": "execute_result"
    }
   ],
   "source": [
    "df_new4.funded_amnt.between(df_new4.funded_amnt.quantile(.05), df_new4.loan_amnt.quantile(.95)).value_counts()"
   ]
  },
  {
   "cell_type": "code",
   "execution_count": 1130,
   "id": "48e9dfca",
   "metadata": {},
   "outputs": [
    {
     "data": {
      "text/plain": [
       "True     34739\n",
       "False     3765\n",
       "Name: funded_amnt_inv, dtype: int64"
      ]
     },
     "execution_count": 1130,
     "metadata": {},
     "output_type": "execute_result"
    }
   ],
   "source": [
    "\n",
    "df_new4.funded_amnt_inv.between(df_new4.funded_amnt_inv.quantile(.05), df_new4.funded_amnt_inv.quantile(.95)).value_counts()"
   ]
  },
  {
   "cell_type": "code",
   "execution_count": 1135,
   "id": "14b83c15",
   "metadata": {},
   "outputs": [],
   "source": [
    "# we will not be treating outliers for now as there is significant difference in the percentage of outliers across different columns and removing them might impact the overall analysis for different categories."
   ]
  },
  {
   "cell_type": "code",
   "execution_count": 1138,
   "id": "75237794",
   "metadata": {},
   "outputs": [
    {
     "data": {
      "text/plain": [
       "array([10.65, 15.27, 15.96, 13.49,  7.9 , 18.64, 21.28, 12.69, 14.65,\n",
       "        9.91, 16.29,  6.03, 11.71, 12.42, 16.77,  7.51,  8.9 , 18.25,\n",
       "        6.62, 19.91, 17.27, 14.27, 17.58, 21.67, 19.42, 20.89, 20.3 ,\n",
       "       23.91, 19.03, 23.13, 22.74, 22.35, 22.06, 24.11,  6.  , 23.52,\n",
       "       22.11,  7.49, 11.99,  5.99, 10.99,  9.99, 18.79, 11.49,  8.49,\n",
       "       15.99, 16.49,  6.99, 12.99, 15.23, 14.79,  5.42, 10.59, 17.49,\n",
       "       15.62, 19.29, 13.99, 18.39, 16.89, 17.99, 20.99, 22.85, 19.69,\n",
       "       20.62, 20.25, 21.36, 23.22, 21.74, 22.48, 23.59, 12.62, 18.07,\n",
       "       11.63,  7.91,  7.42, 11.14, 20.2 , 12.12, 19.39, 16.11, 17.54,\n",
       "       22.64, 13.84, 16.59, 17.19, 12.87, 20.69,  9.67, 21.82, 19.79,\n",
       "       18.49, 22.94, 24.4 , 21.48, 14.82, 14.17,  7.29, 17.88, 20.11,\n",
       "       16.02, 13.43, 14.91, 13.06, 15.28, 15.65, 17.14, 11.11, 10.37,\n",
       "       16.4 , 17.51,  7.66, 18.62, 10.74,  5.79,  6.92, 10.  ,  9.63,\n",
       "       14.54, 12.68, 19.36, 13.8 , 18.99, 21.59, 20.85, 21.22, 19.74,\n",
       "       20.48,  6.91, 12.23, 12.61, 10.36,  6.17,  6.54,  9.25, 16.69,\n",
       "       15.95,  8.88, 13.35,  9.62, 16.32, 12.98, 14.83, 13.72, 14.09,\n",
       "       14.46, 20.03, 17.8 , 15.2 , 15.57, 18.54, 19.66, 17.06, 18.17,\n",
       "       17.43, 20.4 , 20.77, 18.91, 21.14, 17.44, 13.23,  7.88, 11.12,\n",
       "       13.61, 10.38, 17.56, 17.93, 15.58, 13.98, 14.84, 15.21,  6.76,\n",
       "        6.39, 11.86,  7.14, 14.35, 16.82, 10.75, 14.72, 16.45, 18.67,\n",
       "       20.53, 19.41, 20.16, 21.27, 18.3 , 19.04, 20.9 , 21.64, 12.73,\n",
       "       10.25, 13.11, 10.62, 13.48, 14.59, 16.07, 15.7 ,  9.88, 11.36,\n",
       "       15.33, 13.85, 14.96, 14.22,  7.74, 13.22, 13.57,  8.59, 17.04,\n",
       "       14.61,  8.94, 12.18, 11.83, 11.48, 16.35, 13.92, 15.31, 14.26,\n",
       "       19.13, 12.53, 16.7 , 16.  , 17.39, 18.09,  7.4 , 18.43, 17.74,\n",
       "        7.05, 20.52, 20.86, 19.47, 18.78, 21.21, 19.82, 20.17, 13.16,\n",
       "        8.  , 13.47, 12.21, 16.63,  9.32, 12.84, 11.26, 15.68, 15.37,\n",
       "       10.95, 11.89, 14.11, 13.79,  7.68, 11.58,  7.37, 16.95, 15.05,\n",
       "       18.53, 14.74, 14.42, 18.21, 17.26, 18.84, 17.9 , 19.16, 13.67,\n",
       "        9.38, 12.72, 13.36, 11.46, 10.51,  9.07, 13.04, 11.78, 12.41,\n",
       "       10.83, 12.09, 17.46, 14.3 , 17.15, 15.25, 10.2 , 15.88, 14.93,\n",
       "       16.2 , 18.72, 14.62,  8.32, 14.12, 10.96, 10.33, 10.01, 12.86,\n",
       "       11.28, 11.59,  8.63, 12.54, 12.22, 11.91, 15.38, 16.96, 13.17,\n",
       "        9.7 , 16.33, 14.75, 15.07, 16.01, 10.71, 10.64,  9.76, 11.34,\n",
       "       10.39, 13.87, 11.03, 11.66, 13.24, 10.08,  9.45, 13.55, 12.29,\n",
       "       11.97, 12.92, 15.45, 14.5 , 14.18, 15.13, 16.08, 15.76, 17.03,\n",
       "       17.34, 16.71,  9.83, 13.62, 10.46,  9.51,  9.2 , 13.3 , 10.78,\n",
       "        7.75,  8.38, 12.36, 12.67, 11.72, 13.93,  8.07,  7.43, 12.04,\n",
       "       14.25, 14.88, 11.41, 11.09, 10.14, 16.15, 15.83,  7.12, 18.36,\n",
       "        9.64,  9.96, 11.22,  9.01,  9.33, 11.54, 12.17, 12.8 , 14.38,\n",
       "       13.75, 14.7 , 12.49, 14.07, 10.91, 13.12, 10.28,  8.7 , 14.67,\n",
       "       15.01])"
      ]
     },
     "execution_count": 1138,
     "metadata": {},
     "output_type": "execute_result"
    }
   ],
   "source": [
    "df_new4.int_rate.unique()"
   ]
  },
  {
   "cell_type": "code",
   "execution_count": 1145,
   "id": "e141b78c",
   "metadata": {},
   "outputs": [
    {
     "data": {
      "text/plain": [
       "10.99    913\n",
       "11.49    786\n",
       "7.51     786\n",
       "13.49    747\n",
       "7.88     725\n",
       "7.49     651\n",
       "9.99     590\n",
       "7.90     574\n",
       "5.42     573\n",
       "11.71    559\n",
       "11.99    482\n",
       "10.37    467\n",
       "12.69    451\n",
       "6.03     447\n",
       "8.49     433\n",
       "5.79     410\n",
       "12.99    408\n",
       "12.42    403\n",
       "10.65    403\n",
       "7.29     397\n",
       "6.62     396\n",
       "11.86    391\n",
       "8.90     384\n",
       "9.63     378\n",
       "10.59    358\n",
       "9.91     357\n",
       "5.99     346\n",
       "14.27    342\n",
       "7.14     341\n",
       "6.99     336\n",
       "Name: int_rate, dtype: int64"
      ]
     },
     "execution_count": 1145,
     "metadata": {},
     "output_type": "execute_result"
    }
   ],
   "source": [
    "df_new4.int_rate.value_counts().sort_index().sort_values(ascending=False).head(30)"
   ]
  },
  {
   "cell_type": "code",
   "execution_count": 1146,
   "id": "627a0c41",
   "metadata": {},
   "outputs": [
    {
     "data": {
      "text/plain": [
       "14.62    2\n",
       "14.88    2\n",
       "15.01    2\n",
       "17.90    2\n",
       "15.07    2\n",
       "14.25    2\n",
       "15.38    2\n",
       "16.33    2\n",
       "10.64    2\n",
       "14.07    2\n",
       "17.15    2\n",
       "17.03    2\n",
       "15.83    2\n",
       "22.94    1\n",
       "22.64    1\n",
       "16.15    1\n",
       "16.01    1\n",
       "20.52    1\n",
       "16.20    1\n",
       "16.71    1\n",
       "16.96    1\n",
       "21.48    1\n",
       "17.34    1\n",
       "17.44    1\n",
       "17.46    1\n",
       "17.54    1\n",
       "14.67    1\n",
       "18.36    1\n",
       "18.72    1\n",
       "24.40    1\n",
       "Name: int_rate, dtype: int64"
      ]
     },
     "execution_count": 1146,
     "metadata": {},
     "output_type": "execute_result"
    }
   ],
   "source": [
    "df_new4.int_rate.value_counts().sort_index().sort_values(ascending=False).tail(30)"
   ]
  },
  {
   "cell_type": "code",
   "execution_count": 1147,
   "id": "319ab91d",
   "metadata": {},
   "outputs": [
    {
     "data": {
      "text/plain": [
       "count    38504.000000\n",
       "mean        11.928490\n",
       "std          3.691065\n",
       "min          5.420000\n",
       "25%          8.940000\n",
       "50%         11.710000\n",
       "75%         14.350000\n",
       "max         24.400000\n",
       "Name: int_rate, dtype: float64"
      ]
     },
     "execution_count": 1147,
     "metadata": {},
     "output_type": "execute_result"
    }
   ],
   "source": [
    "df_new4.int_rate.describe()"
   ]
  }
 ],
 "metadata": {
  "kernelspec": {
   "display_name": "Python 3 (ipykernel)",
   "language": "python",
   "name": "python3"
  },
  "language_info": {
   "codemirror_mode": {
    "name": "ipython",
    "version": 3
   },
   "file_extension": ".py",
   "mimetype": "text/x-python",
   "name": "python",
   "nbconvert_exporter": "python",
   "pygments_lexer": "ipython3",
   "version": "3.7.13"
  }
 },
 "nbformat": 4,
 "nbformat_minor": 5
}
